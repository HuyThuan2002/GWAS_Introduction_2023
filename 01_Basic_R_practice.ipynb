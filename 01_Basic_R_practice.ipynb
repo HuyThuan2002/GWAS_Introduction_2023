{
  "nbformat": 4,
  "nbformat_minor": 0,
  "metadata": {
    "colab": {
      "provenance": [],
      "authorship_tag": "ABX9TyN+Rm/HagAHQKsqFP0HYU4p",
      "include_colab_link": true
    },
    "kernelspec": {
      "name": "ir",
      "display_name": "R"
    },
    "language_info": {
      "name": "R"
    }
  },
  "cells": [
    {
      "cell_type": "markdown",
      "metadata": {
        "id": "view-in-github",
        "colab_type": "text"
      },
      "source": [
        "<a href=\"https://colab.research.google.com/github/luuloi/GWAS_Introduction_2023/blob/main/01_Basic_R_practice.ipynb\" target=\"_parent\"><img src=\"https://colab.research.google.com/assets/colab-badge.svg\" alt=\"Open In Colab\"/></a>"
      ]
    },
    {
      "cell_type": "markdown",
      "source": [
        "# Data assignment and data type checking"
      ],
      "metadata": {
        "id": "ZycaPL9LP4MH"
      }
    },
    {
      "cell_type": "markdown",
      "source": [
        "1. Check the data type of these variables below"
      ],
      "metadata": {
        "id": "WDDjJ4ZoQB3P"
      }
    },
    {
      "cell_type": "code",
      "execution_count": null,
      "metadata": {
        "id": "4l78R7btOsfl"
      },
      "outputs": [],
      "source": [
        "x <- 10\n"
      ]
    },
    {
      "cell_type": "code",
      "source": [
        "y <- 10.5\n"
      ],
      "metadata": {
        "id": "0gF_iO1GQAFS"
      },
      "execution_count": null,
      "outputs": []
    },
    {
      "cell_type": "code",
      "source": [
        "z <- \"Bioinformatics\"\n"
      ],
      "metadata": {
        "id": "Fo2LSFPMQMk6"
      },
      "execution_count": null,
      "outputs": []
    },
    {
      "cell_type": "code",
      "source": [
        "a <- TRUE\n"
      ],
      "metadata": {
        "id": "JIStDQ7XQOG6"
      },
      "execution_count": null,
      "outputs": []
    },
    {
      "cell_type": "code",
      "source": [
        "# Create a vector of 1 to 10\n",
        "\n",
        "x <- c()\n"
      ],
      "metadata": {
        "id": "hHq3GJbNQWP6"
      },
      "execution_count": null,
      "outputs": []
    },
    {
      "cell_type": "code",
      "source": [
        "# Print out the vector and its data type\n",
        "\n",
        "print()\n",
        "\n",
        "print()"
      ],
      "metadata": {
        "id": "hVXNpVU7Qi1j"
      },
      "execution_count": null,
      "outputs": []
    },
    {
      "cell_type": "code",
      "source": [
        "# Multiply the vector by 2 and assign it to a new variable\n",
        "\n",
        "y <- x\n"
      ],
      "metadata": {
        "id": "pKbYMOqFQoDZ"
      },
      "execution_count": null,
      "outputs": []
    },
    {
      "cell_type": "code",
      "source": [
        "# Divide the third element of the vector `y` by 3 and assign it to a new variable\n",
        "\n",
        "z <- y[] /"
      ],
      "metadata": {
        "id": "b-fGm0IRRaH_"
      },
      "execution_count": null,
      "outputs": []
    },
    {
      "cell_type": "markdown",
      "source": [
        "# Descriptive statistics"
      ],
      "metadata": {
        "id": "6KqkgD1PSHcg"
      }
    },
    {
      "cell_type": "code",
      "source": [
        "# Get the mean and median of z\n",
        "\n",
        "mean()\n",
        "\n",
        "max()"
      ],
      "metadata": {
        "id": "0KKlJkFbY6Bl"
      },
      "execution_count": null,
      "outputs": []
    },
    {
      "cell_type": "code",
      "source": [
        "# Get the min and max of z\n",
        "\n",
        "min()\n",
        "\n",
        "max()"
      ],
      "metadata": {
        "id": "wdOvaxZEY8i5"
      },
      "execution_count": null,
      "outputs": []
    }
  ]
}