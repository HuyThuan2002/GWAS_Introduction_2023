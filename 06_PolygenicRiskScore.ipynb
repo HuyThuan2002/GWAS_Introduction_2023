{
  "nbformat": 4,
  "nbformat_minor": 0,
  "metadata": {
    "colab": {
      "provenance": [],
      "include_colab_link": true
    },
    "kernelspec": {
      "name": "python3",
      "display_name": "Python 3"
    },
    "language_info": {
      "name": "python"
    }
  },
  "cells": [
    {
      "cell_type": "markdown",
      "metadata": {
        "id": "view-in-github",
        "colab_type": "text"
      },
      "source": [
        "<a href=\"https://colab.research.google.com/github/luuloi/GWAS_Introduction_2023/blob/main/06_PolygenicRiskScore.ipynb\" target=\"_parent\"><img src=\"https://colab.research.google.com/assets/colab-badge.svg\" alt=\"Open In Colab\"/></a>"
      ]
    },
    {
      "cell_type": "markdown",
      "source": [
        "# 0. SETUP WORKING ENVIRONMENT"
      ],
      "metadata": {
        "id": "mK0jGtKj_0O8"
      }
    },
    {
      "cell_type": "markdown",
      "source": [
        "## Download Necessary Pakage"
      ],
      "metadata": {
        "id": "imiGhruJmepZ"
      }
    },
    {
      "cell_type": "code",
      "source": [
        "# Install using pip\n",
        "\n",
        "!pip install rpy2==3.5.1\n",
        "!pip install -q condacolab\n",
        "!pip install gdown"
      ],
      "metadata": {
        "id": "RnUE94KmGSYG"
      },
      "execution_count": null,
      "outputs": []
    },
    {
      "cell_type": "code",
      "source": [
        "# Ignore rpy2's warnings\n",
        "\n",
        "import rpy2\n",
        "import warnings\n",
        "from rpy2.rinterface import RRuntimeWarning\n",
        "\n",
        "warnings.filterwarnings(\"ignore\", category=RRuntimeWarning)"
      ],
      "metadata": {
        "id": "rqsVRlvZbepp"
      },
      "execution_count": 13,
      "outputs": []
    },
    {
      "cell_type": "code",
      "source": [
        "# Initialize conda\n",
        "\n",
        "import condacolab\n",
        "condacolab.install()"
      ],
      "metadata": {
        "id": "nplSoFdMbgXY",
        "outputId": "7d3eb834-04b4-4a44-885f-df20d1768084",
        "colab": {
          "base_uri": "https://localhost:8080/"
        }
      },
      "execution_count": 14,
      "outputs": [
        {
          "output_type": "stream",
          "name": "stdout",
          "text": [
            "✨🍰✨ Everything looks OK!\n"
          ]
        }
      ]
    },
    {
      "cell_type": "markdown",
      "source": [
        "## Set up R environment by installing required packages"
      ],
      "metadata": {
        "id": "Ai4uzAHTFjIl"
      }
    },
    {
      "cell_type": "code",
      "source": [
        "# activate R magic\n",
        "%load_ext rpy2.ipython"
      ],
      "metadata": {
        "id": "ZwFsLbTocdMR",
        "colab": {
          "base_uri": "https://localhost:8080/"
        },
        "outputId": "6ec9528d-0165-4a47-e0e2-75293130c6d2"
      },
      "execution_count": 15,
      "outputs": [
        {
          "output_type": "stream",
          "name": "stdout",
          "text": [
            "The rpy2.ipython extension is already loaded. To reload it, use:\n",
            "  %reload_ext rpy2.ipython\n"
          ]
        }
      ]
    },
    {
      "cell_type": "markdown",
      "source": [
        "## Install Plink Package"
      ],
      "metadata": {
        "id": "vW6Q6afzAXal"
      }
    },
    {
      "cell_type": "code",
      "source": [
        "# Install plink\n",
        "\n",
        "!conda install -c bioconda plink"
      ],
      "metadata": {
        "id": "xW-im8EObz-R"
      },
      "execution_count": null,
      "outputs": []
    },
    {
      "cell_type": "markdown",
      "source": [
        "## Prepare Data"
      ],
      "metadata": {
        "id": "G1NqaIXpBq1D"
      }
    },
    {
      "cell_type": "code",
      "source": [
        "%%bash\n",
        "\n",
        "# Create folder to store neccesary data\n",
        "mkdir data\n",
        "mkdir -p data/base\n",
        "mkdir -p data/target"
      ],
      "metadata": {
        "colab": {
          "base_uri": "https://localhost:8080/"
        },
        "id": "pMecyXnWcKlE",
        "outputId": "051ef028-8c05-4258-8ce3-92ca3829ff9e"
      },
      "execution_count": 17,
      "outputs": [
        {
          "output_type": "stream",
          "name": "stderr",
          "text": [
            "mkdir: cannot create directory ‘data’: File exists\n"
          ]
        }
      ]
    },
    {
      "cell_type": "code",
      "source": [
        "%%bash\n",
        "wget -O data/base/Height.gwas.txt.gz https://raw.githubusercontent.com/luuloi/GWAS_Introduction_2023/main/data/Height.gwas.txt.gz\n",
        "gdown -O data/target/EUR.zip https://drive.google.com/uc?id=1uhJR_3sn7RA8U5iYQbcmTp6vFdQiF4F2&export=download"
      ],
      "metadata": {
        "id": "CZ7Du0HNcImi"
      },
      "execution_count": null,
      "outputs": []
    },
    {
      "cell_type": "code",
      "source": [
        "!unzip data/target/EUR.zip -d data/target"
      ],
      "metadata": {
        "colab": {
          "base_uri": "https://localhost:8080/"
        },
        "id": "xtcohBHokP8i",
        "outputId": "56cab837-6c6b-4371-fae7-02a073d2aa93"
      },
      "execution_count": 24,
      "outputs": [
        {
          "output_type": "stream",
          "name": "stdout",
          "text": [
            "Archive:  data/target/EUR.zip\n",
            "  inflating: data/target/EUR.bed     \n",
            "  inflating: data/target/EUR.bim     \n",
            "  inflating: data/target/EUR.cov     \n",
            "  inflating: data/target/EUR.fam     \n",
            "  inflating: data/target/EUR.height  \n"
          ]
        }
      ]
    },
    {
      "cell_type": "markdown",
      "source": [
        "## Have a look into our data"
      ],
      "metadata": {
        "id": "4hZVuIK0nJX-"
      }
    },
    {
      "cell_type": "code",
      "source": [
        "!zcat data/base/Height.gwas.txt.gz | head"
      ],
      "metadata": {
        "colab": {
          "base_uri": "https://localhost:8080/"
        },
        "id": "zuNUPWlJZ9Np",
        "outputId": "2f224aea-411b-43d5-e8d7-04d51dd3b46a"
      },
      "execution_count": 19,
      "outputs": [
        {
          "output_type": "stream",
          "name": "stdout",
          "text": [
            "CHR\tBP\tSNP\tA1\tA2\tN\tSE\tP\tOR\tINFO\tMAF\n",
            "1\t756604\trs3131962\tA\tG\t388028\t0.00301666\t0.483171\t0.997886915712657\t0.890557941364774\t0.369389592764921\n",
            "1\t768448\trs12562034\tA\tG\t388028\t0.00329472\t0.834808\t1.00068731609353\t0.895893511351165\t0.336845754096289\n",
            "1\t779322\trs4040617\tG\tA\t388028\t0.00303344\t0.42897\t0.997603556067569\t0.897508290615237\t0.377368010940814\n",
            "1\t801536\trs79373928\tG\tT\t388028\t0.00841324\t0.808999\t1.00203569922793\t0.908962856432993\t0.483212245374095\n",
            "1\t808631\trs11240779\tG\tA\t388028\t0.00242821\t0.590265\t1.00130832511154\t0.893212523690488\t0.450409558999587\n",
            "1\t809876\trs57181708\tG\tA\t388028\t0.00336785\t0.71475\t1.00123165786833\t0.923557624081969\t0.499743932656759\n",
            "1\t835499\trs4422948\tG\tA\t388028\t0.0023758\t0.710884\t0.999119752645202\t0.906437735120596\t0.481016005816168\n",
            "1\t838555\trs4970383\tA\tC\t388028\t0.00235773\t0.150993\t0.996619945289758\t0.907716506801574\t0.327164029672754\n",
            "1\t840753\trs4970382\tC\tT\t388028\t0.00207377\t0.199967\t0.99734567895614\t0.914602590137255\t0.498936220426316\n"
          ]
        }
      ]
    },
    {
      "cell_type": "code",
      "source": [
        "!cat data/target/EUR.height | head"
      ],
      "metadata": {
        "colab": {
          "base_uri": "https://localhost:8080/"
        },
        "id": "tQZv0r4gnF0e",
        "outputId": "76c51df6-58f7-4185-81f2-de3540b4cb63"
      },
      "execution_count": 26,
      "outputs": [
        {
          "output_type": "stream",
          "name": "stdout",
          "text": [
            "FID\tIID\tHeight\n",
            "HG00096\tHG00096\t169.132168767547\n",
            "HG00097\tHG00097\t171.256258630279\n",
            "HG00099\tHG00099\t171.534379938588\n",
            "HG00101\tHG00101\t169.850176470551\n",
            "HG00102\tHG00102\t172.788360878389\n",
            "HG00103\tHG00103\t169.862973824923\n",
            "HG00105\tHG00105\t168.939248611414\n",
            "HG00107\tHG00107\t168.972346393861\n",
            "HG00108\tHG00108\t171.311736719186\n"
          ]
        }
      ]
    },
    {
      "cell_type": "markdown",
      "source": [
        "# 1. QUALITY CONTROL"
      ],
      "metadata": {
        "id": "67uKGcS7o-SY"
      }
    },
    {
      "cell_type": "markdown",
      "source": [
        "## A. QC of Base Data"
      ],
      "metadata": {
        "id": "ST8IqLYhpU51"
      }
    },
    {
      "cell_type": "markdown",
      "source": [
        "**Reading the base data file**"
      ],
      "metadata": {
        "id": "O6d0ivyUps2b"
      }
    },
    {
      "cell_type": "code",
      "source": [
        "!zcat data/base/Height.gwas.txt.gz | head"
      ],
      "metadata": {
        "colab": {
          "base_uri": "https://localhost:8080/"
        },
        "id": "jfRboyJzpCck",
        "outputId": "d70f7c0f-dfad-4605-e0c6-233662aeaa98"
      },
      "execution_count": 28,
      "outputs": [
        {
          "output_type": "stream",
          "name": "stdout",
          "text": [
            "CHR\tBP\tSNP\tA1\tA2\tN\tSE\tP\tOR\tINFO\tMAF\n",
            "1\t756604\trs3131962\tA\tG\t388028\t0.00301666\t0.483171\t0.997886915712657\t0.890557941364774\t0.369389592764921\n",
            "1\t768448\trs12562034\tA\tG\t388028\t0.00329472\t0.834808\t1.00068731609353\t0.895893511351165\t0.336845754096289\n",
            "1\t779322\trs4040617\tG\tA\t388028\t0.00303344\t0.42897\t0.997603556067569\t0.897508290615237\t0.377368010940814\n",
            "1\t801536\trs79373928\tG\tT\t388028\t0.00841324\t0.808999\t1.00203569922793\t0.908962856432993\t0.483212245374095\n",
            "1\t808631\trs11240779\tG\tA\t388028\t0.00242821\t0.590265\t1.00130832511154\t0.893212523690488\t0.450409558999587\n",
            "1\t809876\trs57181708\tG\tA\t388028\t0.00336785\t0.71475\t1.00123165786833\t0.923557624081969\t0.499743932656759\n",
            "1\t835499\trs4422948\tG\tA\t388028\t0.0023758\t0.710884\t0.999119752645202\t0.906437735120596\t0.481016005816168\n",
            "1\t838555\trs4970383\tA\tC\t388028\t0.00235773\t0.150993\t0.996619945289758\t0.907716506801574\t0.327164029672754\n",
            "1\t840753\trs4970382\tC\tT\t388028\t0.00207377\t0.199967\t0.99734567895614\t0.914602590137255\t0.498936220426316\n"
          ]
        }
      ]
    },
    {
      "cell_type": "markdown",
      "source": [
        "* **CHR**: The chromosome in which the SNP resides\n",
        "* **BP**: Chromosomal co-ordinate of the SNP\n",
        "* **SNP**: SNP ID, usually in the form of rs-ID\n",
        "* **A1**: The effect allele of the SNP\n",
        "* **A2**: The non-effect allele of the SNP\n",
        "* **N**: Number of samples used to obtain the effect size estimate\n",
        "* **SE**: The standard error (SE) of the effect size esimate\n",
        "* **P**: The P-value of association between the SNP genotypes and the base phenotype\n",
        "* **OR**: The effect size estimate of the SNP, if the outcome is binary/case-control. If the outcome is continuous or treated as continuous then this will usually be BETA\n",
        "* **INFO**: The imputation information score\n",
        "* **MAF**: The minor allele frequency (MAF) of the SNP\n",
        "\n"
      ],
      "metadata": {
        "id": "CsdxCbcxp1IL"
      }
    },
    {
      "cell_type": "markdown",
      "source": [
        "### QC checklist: Base data"
      ],
      "metadata": {
        "id": "wCtq67WOqaJ3"
      }
    },
    {
      "cell_type": "markdown",
      "source": [
        "**i. Heritability check**"
      ],
      "metadata": {
        "id": "njgFmE_oqdDj"
      }
    },
    {
      "cell_type": "markdown",
      "source": [
        "Recommend that PRS analyses are performed on base data with a chip-heritability estimate \t\\frac{1}{2}\\ 2snp > 0.05\\"
      ],
      "metadata": {
        "id": "T4xiUJY2rHcG"
      }
    },
    {
      "cell_type": "markdown",
      "source": [
        "**ii. Effect allele**"
      ],
      "metadata": {
        "id": "HULkSxVCrJ1M"
      }
    },
    {
      "cell_type": "code",
      "source": [],
      "metadata": {
        "id": "w0oTeDcysIEw"
      },
      "execution_count": null,
      "outputs": []
    },
    {
      "cell_type": "markdown",
      "source": [
        "**iii. Genome build**"
      ],
      "metadata": {
        "id": "eFVtBqJTsIzZ"
      }
    },
    {
      "cell_type": "markdown",
      "source": [],
      "metadata": {
        "id": "oQ23LPCjsQ4h"
      }
    },
    {
      "cell_type": "markdown",
      "source": [
        "**iv. Standard GWAS QC**"
      ],
      "metadata": {
        "id": "t2D58i4ys_Ex"
      }
    },
    {
      "cell_type": "code",
      "source": [
        "%%bash\n",
        "mkdir QC\n",
        "mkdir -p QC/base\n",
        "mkdir -p QC/target"
      ],
      "metadata": {
        "id": "x1157QrTtfiZ"
      },
      "execution_count": 30,
      "outputs": []
    },
    {
      "cell_type": "code",
      "source": [
        "%%bash\n",
        "\n",
        "# Filter by MAF, INFO\n",
        "## MAF > 0.01 & INFO > 0.8\n",
        "\n",
        "zcat data/base/Height.gwas.txt.gz |\\\n",
        "awk 'NR==1 || ($11 > 0.01) && ($10 > 0.8) {print}' |\\\n",
        "gzip  > QC/base/Height.gz"
      ],
      "metadata": {
        "id": "stLBv_TFtEDQ"
      },
      "execution_count": 31,
      "outputs": []
    },
    {
      "cell_type": "markdown",
      "source": [
        "**v. Mismatching SNPs**"
      ],
      "metadata": {
        "id": "o1ZE0z94tDKg"
      }
    },
    {
      "cell_type": "markdown",
      "source": [
        "**vi. Duplicates SNPs**"
      ],
      "metadata": {
        "id": "Dr8JMdv7t7Zv"
      }
    },
    {
      "cell_type": "code",
      "source": [
        "%%bash\n",
        "# Remove duplicate SNPs\n",
        "\n",
        "zcat QC/base/Height.gz |\\\n",
        "awk '{seen[$3]++; if(seen[$3]==1){ print}}' |\\\n",
        "gzip - > QC/base/Height.nodup.gz"
      ],
      "metadata": {
        "id": "0v3SfhUnuALK"
      },
      "execution_count": 32,
      "outputs": []
    },
    {
      "cell_type": "markdown",
      "source": [
        "**vii. Ambigous SNPs**"
      ],
      "metadata": {
        "id": "V3u8aiu-uMJ5"
      }
    },
    {
      "cell_type": "code",
      "source": [
        "%%bash\n",
        "\n",
        "zcat QC/base/Height.nodup.gz |\\\n",
        "awk '!( ($4==\"A\" && $5==\"T\") || \\\n",
        "        ($4==\"T\" && $5==\"A\") || \\\n",
        "        ($4==\"G\" && $5==\"C\") || \\\n",
        "        ($4==\"C\" && $5==\"G\")) {print}' |\\\n",
        "    gzip > QC/base/Height.QC.gz"
      ],
      "metadata": {
        "id": "8Z40oXZOuQIZ"
      },
      "execution_count": 33,
      "outputs": []
    },
    {
      "cell_type": "markdown",
      "source": [
        "**vii. Sex chromosomes**"
      ],
      "metadata": {
        "id": "z6Ajs0Wy-pqa"
      }
    },
    {
      "cell_type": "markdown",
      "source": [
        "**viii. Relatedness**"
      ],
      "metadata": {
        "id": "ISFCkOCK-u2A"
      }
    },
    {
      "cell_type": "code",
      "source": [],
      "metadata": {
        "id": "K2lTfcFd-oYC"
      },
      "execution_count": null,
      "outputs": []
    },
    {
      "cell_type": "markdown",
      "source": [
        "## B. QC of Target Data"
      ],
      "metadata": {
        "id": "dqxyIUW9-2iW"
      }
    },
    {
      "cell_type": "markdown",
      "source": [
        "### QC checklist: Target data"
      ],
      "metadata": {
        "id": "z3zhbLgA_Fxc"
      }
    },
    {
      "cell_type": "code",
      "source": [],
      "metadata": {
        "id": "rTOCGv0V_ORD"
      },
      "execution_count": null,
      "outputs": []
    },
    {
      "cell_type": "markdown",
      "source": [
        "**i. Sample size**"
      ],
      "metadata": {
        "id": "Xgapxpj8_Opi"
      }
    },
    {
      "cell_type": "markdown",
      "source": [
        "The target data suitable to perform PRS analyses should have at least 100 individuals. The sample size of our data here is 503 individuals."
      ],
      "metadata": {
        "id": "5IoBDadnADYM"
      }
    },
    {
      "cell_type": "code",
      "source": [
        "%%bash\n",
        "# Check the sample size\n",
        "cat data/target/EUR.fam | wc -l\n"
      ],
      "metadata": {
        "colab": {
          "base_uri": "https://localhost:8080/"
        },
        "id": "Q18b88OR--mV",
        "outputId": "6315acd1-e794-422d-98ae-054be77e9707"
      },
      "execution_count": 40,
      "outputs": [
        {
          "output_type": "stream",
          "name": "stdout",
          "text": [
            "503\n"
          ]
        }
      ]
    },
    {
      "cell_type": "markdown",
      "source": [
        "**ii. Genome build**"
      ],
      "metadata": {
        "id": "DeIcvAfrAgWZ"
      }
    },
    {
      "cell_type": "markdown",
      "source": [
        "**iii. Standard GWAS QC**"
      ],
      "metadata": {
        "id": "qGNbDW1KAjbh"
      }
    },
    {
      "cell_type": "code",
      "source": [
        "%%bash\n",
        "\n",
        "plink \\\n",
        "    --bfile data/target/EUR \\\n",
        "    --maf 0.01 \\\n",
        "    --hwe 1e-6 \\\n",
        "    --geno 0.01 \\\n",
        "    --mind 0.01 \\\n",
        "    --write-snplist \\\n",
        "    --make-just-fam \\\n",
        "    --out QC/target/EUR.QC"
      ],
      "metadata": {
        "id": "LmSa4IixBEGm"
      },
      "execution_count": null,
      "outputs": []
    },
    {
      "cell_type": "markdown",
      "source": [
        "![Screenshot from 2023-08-16 13-26-15.png](data:image/png;base64,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)"
      ],
      "metadata": {
        "id": "EGP57SBWBgqc"
      }
    },
    {
      "cell_type": "markdown",
      "source": [
        "Some files are needed in the QC/target folder for the below processing:"
      ],
      "metadata": {
        "id": "UbYN3mwuD9uN"
      }
    },
    {
      "cell_type": "code",
      "source": [
        "%%bash\n",
        "\n",
        "cp data/target/EUR* QC/target/"
      ],
      "metadata": {
        "id": "7XSPvSEADm2z"
      },
      "execution_count": 47,
      "outputs": []
    },
    {
      "cell_type": "markdown",
      "source": [
        "Samples with extreme heterozygosity are typically removed prior to downstream analyses.\n",
        "\n",
        "This will generate two files 1) EUR.QC.prune.in and 2) EUR.QC.prune.out. All SNPs within EUR.QC.prune.in have a pairwise r2\\<0.25"
      ],
      "metadata": {
        "id": "5AZJcQA5CR9h"
      }
    },
    {
      "cell_type": "code",
      "source": [
        "%%bash\n",
        "# Perform pruning to remove highly correlated SNPs\n",
        "\n",
        "plink \\\n",
        "    --bfile QC/target/EUR \\\n",
        "    --keep QC/target/EUR.QC.fam \\\n",
        "    --extract QC/target/EUR.QC.snplist \\\n",
        "    --indep-pairwise 200 50 0.25 \\\n",
        "    --out QC/target/EUR.QC"
      ],
      "metadata": {
        "id": "KU0qzFxtCXBL"
      },
      "execution_count": null,
      "outputs": []
    },
    {
      "cell_type": "markdown",
      "source": [
        "Heterozygosity rates can then be computed using plink:"
      ],
      "metadata": {
        "id": "WWtha2ruFRFw"
      }
    },
    {
      "cell_type": "code",
      "source": [
        "%%bash\n",
        "\n",
        "plink \\\n",
        "    --bfile QC/target/EUR \\\n",
        "    --extract QC/target/EUR.QC.prune.in \\\n",
        "    --keep QC/target/EUR.QC.fam \\\n",
        "    --het \\\n",
        "    --out QC/target/EUR.QC"
      ],
      "metadata": {
        "id": "ZdtERELwFRoO",
        "outputId": "5e262bbd-ae87-46cb-f01d-0401c0d3ea6d",
        "colab": {
          "base_uri": "https://localhost:8080/"
        }
      },
      "execution_count": 50,
      "outputs": [
        {
          "output_type": "stream",
          "name": "stdout",
          "text": [
            "PLINK v1.90b6.21 64-bit (19 Oct 2020)          www.cog-genomics.org/plink/1.9/\n",
            "(C) 2005-2020 Shaun Purcell, Christopher Chang   GNU General Public License v3\n",
            "Logging to QC/target/EUR.QC.log.\n",
            "Options in effect:\n",
            "  --bfile QC/target/EUR\n",
            "  --extract QC/target/EUR.QC.prune.in\n",
            "  --het\n",
            "  --keep QC/target/EUR.QC.fam\n",
            "  --out QC/target/EUR.QC\n",
            "\n",
            "12982 MB RAM detected; reserving 6491 MB for main workspace.\n",
            "551892 variants loaded from .bim file.\n",
            "503 people (240 males, 263 females) loaded from .fam.\n",
            "--extract: 268457 variants remaining.\n",
            "--keep: 489 people remaining.\n",
            "Using 1 thread (no multithreaded calculations invoked).\n",
            "Before main variant filters, 489 founders and 0 nonfounders present.\n",
            "Calculating allele frequencies... 0%\b\b1%\b\b2%\b\b3%\b\b4%\b\b5%\b\b6%\b\b7%\b\b8%\b\b9%\b\b10%\b\b\b11%\b\b\b12%\b\b\b13%\b\b\b14%\b\b\b15%\b\b\b16%\b\b\b17%\b\b\b18%\b\b\b19%\b\b\b20%\b\b\b21%\b\b\b22%\b\b\b23%\b\b\b24%\b\b\b25%\b\b\b26%\b\b\b27%\b\b\b28%\b\b\b29%\b\b\b30%\b\b\b31%\b\b\b32%\b\b\b33%\b\b\b34%\b\b\b35%\b\b\b36%\b\b\b37%\b\b\b38%\b\b\b39%\b\b\b40%\b\b\b41%\b\b\b42%\b\b\b43%\b\b\b44%\b\b\b45%\b\b\b46%\b\b\b47%\b\b\b48%\b\b\b49%\b\b\b50%\b\b\b51%\b\b\b52%\b\b\b53%\b\b\b54%\b\b\b55%\b\b\b56%\b\b\b57%\b\b\b58%\b\b\b59%\b\b\b60%\b\b\b61%\b\b\b62%\b\b\b63%\b\b\b64%\b\b\b65%\b\b\b66%\b\b\b67%\b\b\b68%\b\b\b69%\b\b\b70%\b\b\b71%\b\b\b72%\b\b\b73%\b\b\b74%\b\b\b75%\b\b\b76%\b\b\b77%\b\b\b78%\b\b\b79%\b\b\b80%\b\b\b81%\b\b\b82%\b\b\b83%\b\b\b84%\b\b\b85%\b\b\b86%\b\b\b87%\b\b\b88%\b\b\b89%\b\b\b90%\b\b\b91%\b\b\b92%\b\b\b93%\b\b\b94%\b\b\b95%\b\b\b96%\b\b\b97%\b\b\b98%\b\b\b99%\b\b\b\b done.\n",
            "Total genotyping rate in remaining samples is 0.999958.\n",
            "268457 variants and 489 people pass filters and QC.\n",
            "Note: No phenotypes present.\n",
            "--het: 263228 variants scanned, report written to QC/target/EUR.QC.het .\n"
          ]
        },
        {
          "output_type": "stream",
          "name": "stderr",
          "text": [
            "Warning: 558 het. haploid genotypes present (see QC/target/EUR.QC.hh ); many\n",
            "commands treat these as missing.\n"
          ]
        }
      ]
    },
    {
      "cell_type": "markdown",
      "source": [],
      "metadata": {
        "id": "HoeCGlrWGFO3"
      }
    },
    {
      "cell_type": "code",
      "source": [
        "%%bash\n",
        "\n",
        "cat QC/target/EUR.QC.het | head"
      ],
      "metadata": {
        "id": "6RgtRsNOGKX5",
        "outputId": "af5f3ee0-880c-4be6-c6ca-b4a96c75807b",
        "colab": {
          "base_uri": "https://localhost:8080/"
        }
      },
      "execution_count": 51,
      "outputs": [
        {
          "output_type": "stream",
          "name": "stdout",
          "text": [
            "      FID       IID       O(HOM)       E(HOM)        N(NM)            F\n",
            "  HG00096   HG00096       215057    2.148e+05       263228     0.005196\n",
            "  HG00097   HG00097       214695    2.148e+05       263228     -0.00228\n",
            "  HG00099   HG00099       214846    2.148e+05       263228    0.0008384\n",
            "  HG00101   HG00101       214569    2.148e+05       263228    -0.004882\n",
            "  HG00102   HG00102       215187    2.148e+05       263228     0.007881\n",
            "  HG00103   HG00103       215264    2.148e+05       263228     0.009471\n",
            "  HG00105   HG00105       214725    2.148e+05       263228     -0.00166\n",
            "  HG00107   HG00107       214943    2.148e+05       263228     0.002842\n",
            "  HG00108   HG00108       214855    2.148e+05       263228     0.001024\n"
          ]
        }
      ]
    },
    {
      "cell_type": "code",
      "source": [
        "%%R\n",
        "# Read in the EUR.het file, specify it has header\n",
        "dat <- read.table(\"QC/target/EUR.QC.het\", header=T)\n",
        "\n",
        "# Calculate the mean\n",
        "m <- mean(dat$F)\n",
        "\n",
        "# Calculate the SD\n",
        "s <- sd(dat$F)\n",
        "\n",
        "# Get any samples with F coefficient within 3 SD of the population mean\n",
        "valid <- subset(dat, F <= m+3*s & F >= m-3*s)\n",
        "\n",
        "# print FID and IID for valid samples\n",
        "write.table(valid[,c(1,2)], \"QC/target/EUR.valid.sample\", quote=F, row.names=F)"
      ],
      "metadata": {
        "id": "Ml4fijL-GWcv"
      },
      "execution_count": 53,
      "outputs": []
    },
    {
      "cell_type": "code",
      "source": [
        "%%R\n",
        "head(dat)\n",
        "dim(dat)"
      ],
      "metadata": {
        "id": "__e2d7xmHH1Y",
        "outputId": "49918d44-aeb9-4c55-b917-d9fb8ce9e133",
        "colab": {
          "base_uri": "https://localhost:8080/"
        }
      },
      "execution_count": 57,
      "outputs": [
        {
          "output_type": "stream",
          "name": "stdout",
          "text": [
            "[1] 489   6\n"
          ]
        }
      ]
    },
    {
      "cell_type": "code",
      "source": [
        "%%R\n",
        "dim(valid)"
      ],
      "metadata": {
        "id": "sJAMkrh4Hw3d",
        "outputId": "2d333b81-cd3f-4154-cc69-d12c92a1e457",
        "colab": {
          "base_uri": "https://localhost:8080/"
        }
      },
      "execution_count": 56,
      "outputs": [
        {
          "output_type": "stream",
          "name": "stdout",
          "text": [
            "[1] 487   6\n"
          ]
        }
      ]
    },
    {
      "cell_type": "code",
      "source": [],
      "metadata": {
        "id": "SMWRN1OSHxCA"
      },
      "execution_count": null,
      "outputs": []
    }
  ]
}