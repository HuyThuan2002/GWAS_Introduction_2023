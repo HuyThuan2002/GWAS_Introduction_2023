{
  "nbformat": 4,
  "nbformat_minor": 0,
  "metadata": {
    "colab": {
      "provenance": [],
      "include_colab_link": true
    },
    "kernelspec": {
      "name": "python3",
      "display_name": "Python 3"
    },
    "language_info": {
      "name": "python"
    }
  },
  "cells": [
    {
      "cell_type": "markdown",
      "metadata": {
        "id": "view-in-github",
        "colab_type": "text"
      },
      "source": [
        "<a href=\"https://colab.research.google.com/github/luuloi/GWAS_Introduction_2023/blob/main/06_PolygenicRiskScore.ipynb\" target=\"_parent\"><img src=\"https://colab.research.google.com/assets/colab-badge.svg\" alt=\"Open In Colab\"/></a>"
      ]
    },
    {
      "cell_type": "markdown",
      "source": [
        "# 0. SETUP WORKING ENVIRONMENT"
      ],
      "metadata": {
        "id": "mK0jGtKj_0O8"
      }
    },
    {
      "cell_type": "markdown",
      "source": [
        "## Download Necessary Pakage"
      ],
      "metadata": {
        "id": "imiGhruJmepZ"
      }
    },
    {
      "cell_type": "code",
      "source": [
        "# Install using pip\n",
        "\n",
        "!pip install rpy2==3.5.1\n",
        "!pip install -q condacolab\n",
        "!pip install gdown"
      ],
      "metadata": {
        "id": "RnUE94KmGSYG",
        "colab": {
          "base_uri": "https://localhost:8080/"
        },
        "outputId": "ac1ceaa2-7364-41bb-fc4b-5c682f73385e"
      },
      "execution_count": 3,
      "outputs": [
        {
          "output_type": "stream",
          "name": "stdout",
          "text": [
            "Requirement already satisfied: rpy2==3.5.1 in /usr/local/lib/python3.10/site-packages (3.5.1)\n",
            "Requirement already satisfied: cffi>=1.10.0 in /usr/local/lib/python3.10/site-packages (from rpy2==3.5.1) (1.15.1)\n",
            "Requirement already satisfied: jinja2 in /usr/local/lib/python3.10/site-packages (from rpy2==3.5.1) (3.1.2)\n",
            "Requirement already satisfied: tzlocal in /usr/local/lib/python3.10/site-packages (from rpy2==3.5.1) (5.0.1)\n",
            "Requirement already satisfied: pytz in /usr/local/lib/python3.10/site-packages (from rpy2==3.5.1) (2023.3)\n",
            "Requirement already satisfied: pycparser in /usr/local/lib/python3.10/site-packages (from cffi>=1.10.0->rpy2==3.5.1) (2.21)\n",
            "Requirement already satisfied: MarkupSafe>=2.0 in /usr/local/lib/python3.10/site-packages (from jinja2->rpy2==3.5.1) (2.1.3)\n",
            "\u001b[33mWARNING: Running pip as the 'root' user can result in broken permissions and conflicting behaviour with the system package manager. It is recommended to use a virtual environment instead: https://pip.pypa.io/warnings/venv\u001b[0m\u001b[33m\n",
            "\u001b[0m\u001b[33mWARNING: Running pip as the 'root' user can result in broken permissions and conflicting behaviour with the system package manager. It is recommended to use a virtual environment instead: https://pip.pypa.io/warnings/venv\u001b[0m\u001b[33m\n",
            "\u001b[0mRequirement already satisfied: gdown in /usr/local/lib/python3.10/site-packages (4.7.1)\n",
            "Requirement already satisfied: requests[socks] in /usr/local/lib/python3.10/site-packages (from gdown) (2.28.2)\n",
            "Requirement already satisfied: filelock in /usr/local/lib/python3.10/site-packages (from gdown) (3.12.2)\n",
            "Requirement already satisfied: six in /usr/local/lib/python3.10/site-packages (from gdown) (1.16.0)\n",
            "Requirement already satisfied: tqdm in /usr/local/lib/python3.10/site-packages (from gdown) (4.65.0)\n",
            "Requirement already satisfied: beautifulsoup4 in /usr/local/lib/python3.10/site-packages (from gdown) (4.12.2)\n",
            "Requirement already satisfied: soupsieve>1.2 in /usr/local/lib/python3.10/site-packages (from beautifulsoup4->gdown) (2.4.1)\n",
            "Requirement already satisfied: certifi>=2017.4.17 in /usr/local/lib/python3.10/site-packages (from requests[socks]->gdown) (2023.7.22)\n",
            "Requirement already satisfied: urllib3<1.27,>=1.21.1 in /usr/local/lib/python3.10/site-packages (from requests[socks]->gdown) (1.26.15)\n",
            "Requirement already satisfied: charset-normalizer<4,>=2 in /usr/local/lib/python3.10/site-packages (from requests[socks]->gdown) (3.1.0)\n",
            "Requirement already satisfied: idna<4,>=2.5 in /usr/local/lib/python3.10/site-packages (from requests[socks]->gdown) (3.4)\n",
            "Requirement already satisfied: PySocks!=1.5.7,>=1.5.6 in /usr/local/lib/python3.10/site-packages (from requests[socks]->gdown) (1.7.1)\n",
            "\u001b[33mWARNING: Running pip as the 'root' user can result in broken permissions and conflicting behaviour with the system package manager. It is recommended to use a virtual environment instead: https://pip.pypa.io/warnings/venv\u001b[0m\u001b[33m\n",
            "\u001b[0m"
          ]
        }
      ]
    },
    {
      "cell_type": "code",
      "source": [
        "# Ignore rpy2's warnings\n",
        "\n",
        "import rpy2\n",
        "import warnings\n",
        "from rpy2.rinterface import RRuntimeWarning\n",
        "\n",
        "warnings.filterwarnings(\"ignore\", category=RRuntimeWarning)"
      ],
      "metadata": {
        "id": "rqsVRlvZbepp"
      },
      "execution_count": 4,
      "outputs": []
    },
    {
      "cell_type": "code",
      "source": [
        "# Initialize conda\n",
        "\n",
        "import condacolab\n",
        "condacolab.install()"
      ],
      "metadata": {
        "id": "nplSoFdMbgXY",
        "outputId": "93424f6e-cfa0-46fa-fcef-bf1558ed48d6",
        "colab": {
          "base_uri": "https://localhost:8080/"
        }
      },
      "execution_count": 5,
      "outputs": [
        {
          "output_type": "stream",
          "name": "stdout",
          "text": [
            "✨🍰✨ Everything looks OK!\n"
          ]
        }
      ]
    },
    {
      "cell_type": "markdown",
      "source": [
        "## Set up R environment by installing required packages"
      ],
      "metadata": {
        "id": "Ai4uzAHTFjIl"
      }
    },
    {
      "cell_type": "code",
      "source": [
        "# activate R magic\n",
        "%load_ext rpy2.ipython"
      ],
      "metadata": {
        "id": "ZwFsLbTocdMR"
      },
      "execution_count": 6,
      "outputs": []
    },
    {
      "cell_type": "markdown",
      "source": [
        "## Install Plink Package"
      ],
      "metadata": {
        "id": "vW6Q6afzAXal"
      }
    },
    {
      "cell_type": "code",
      "source": [
        "# Install plink\n",
        "\n",
        "!conda install -c bioconda plink"
      ],
      "metadata": {
        "id": "xW-im8EObz-R",
        "colab": {
          "base_uri": "https://localhost:8080/"
        },
        "outputId": "386e0381-6ed8-4c22-f580-c182e77eca7c"
      },
      "execution_count": 7,
      "outputs": [
        {
          "output_type": "stream",
          "name": "stdout",
          "text": [
            "Collecting package metadata (current_repodata.json): - \b\b\\ \b\b| \b\b/ \b\b- \b\b\\ \b\b| \b\b/ \b\b- \b\b\\ \b\b| \b\b/ \b\b- \b\b\\ \b\b| \b\b/ \b\b- \b\b\\ \b\b| \b\b/ \b\b- \b\b\\ \b\b| \b\b/ \b\b- \b\b\\ \b\b| \b\b/ \b\b- \b\b\\ \b\b| \b\b/ \b\b- \b\b\\ \b\b| \b\b/ \b\b- \b\b\\ \b\b| \b\b/ \b\b- \b\b\\ \b\bdone\n",
            "Solving environment: / \b\b- \b\b\\ \b\b| \b\b/ \b\b- \b\b\\ \b\b| \b\b/ \b\b- \b\b\\ \b\b| \b\b/ \b\b- \b\b\\ \b\b| \b\b/ \b\b- \b\b\\ \b\b| \b\b/ \b\b- \b\b\\ \b\bdone\n",
            "\n",
            "\n",
            "==> WARNING: A newer version of conda exists. <==\n",
            "  current version: 23.1.0\n",
            "  latest version: 23.7.2\n",
            "\n",
            "Please update conda by running\n",
            "\n",
            "    $ conda update -n base -c conda-forge conda\n",
            "\n",
            "Or to minimize the number of packages updated during conda update use\n",
            "\n",
            "     conda install conda=23.7.2\n",
            "\n",
            "\n",
            "\n",
            "# All requested packages already installed.\n",
            "\n"
          ]
        }
      ]
    },
    {
      "cell_type": "markdown",
      "source": [
        "## Prepare Data"
      ],
      "metadata": {
        "id": "G1NqaIXpBq1D"
      }
    },
    {
      "cell_type": "code",
      "source": [
        "%%bash\n",
        "\n",
        "# Create folder to store neccesary data\n",
        "mkdir data\n",
        "mkdir -p data/base\n",
        "mkdir -p data/target"
      ],
      "metadata": {
        "colab": {
          "base_uri": "https://localhost:8080/"
        },
        "id": "pMecyXnWcKlE",
        "outputId": "49039136-084a-4413-e6ac-93f560f543ef"
      },
      "execution_count": 7,
      "outputs": [
        {
          "output_type": "stream",
          "name": "stderr",
          "text": [
            "mkdir: cannot create directory ‘data’: File exists\n"
          ]
        }
      ]
    },
    {
      "cell_type": "code",
      "source": [
        "%%bash\n",
        "wget -O data/base/Height.gwas.txt.gz https://raw.githubusercontent.com/luuloi/GWAS_Introduction_2023/main/data/Height.gwas.txt.gz\n",
        "gdown -O data/target/EUR.zip https://drive.google.com/uc?id=1uhJR_3sn7RA8U5iYQbcmTp6vFdQiF4F2&export=download"
      ],
      "metadata": {
        "id": "CZ7Du0HNcImi"
      },
      "execution_count": null,
      "outputs": []
    },
    {
      "cell_type": "code",
      "source": [
        "!unzip data/target/EUR.zip -d data/target"
      ],
      "metadata": {
        "colab": {
          "base_uri": "https://localhost:8080/"
        },
        "id": "xtcohBHokP8i",
        "outputId": "9f7d6f25-9984-46cd-bbd4-18e1d3aaafb6"
      },
      "execution_count": 9,
      "outputs": [
        {
          "output_type": "stream",
          "name": "stdout",
          "text": [
            "Archive:  data/target/EUR.zip\n",
            "replace data/target/EUR.bed? [y]es, [n]o, [A]ll, [N]one, [r]ename: n\n",
            "replace data/target/EUR.bim? [y]es, [n]o, [A]ll, [N]one, [r]ename: a\n",
            "error:  invalid response [a]\n",
            "replace data/target/EUR.bim? [y]es, [n]o, [A]ll, [N]one, [r]ename: A\n",
            "  inflating: data/target/EUR.bim     \n",
            "  inflating: data/target/EUR.cov     \n",
            "  inflating: data/target/EUR.fam     \n",
            "  inflating: data/target/EUR.height  \n"
          ]
        }
      ]
    },
    {
      "cell_type": "markdown",
      "source": [
        "## Have a look into our data"
      ],
      "metadata": {
        "id": "4hZVuIK0nJX-"
      }
    },
    {
      "cell_type": "code",
      "source": [
        "!zcat data/base/Height.gwas.txt.gz | head"
      ],
      "metadata": {
        "colab": {
          "base_uri": "https://localhost:8080/"
        },
        "id": "zuNUPWlJZ9Np",
        "outputId": "c1fba5b9-590e-4c1f-f382-8b5666abd6c2"
      },
      "execution_count": 10,
      "outputs": [
        {
          "output_type": "stream",
          "name": "stdout",
          "text": [
            "CHR\tBP\tSNP\tA1\tA2\tN\tSE\tP\tOR\tINFO\tMAF\n",
            "1\t756604\trs3131962\tA\tG\t388028\t0.00301666\t0.483171\t0.997886915712657\t0.890557941364774\t0.369389592764921\n",
            "1\t768448\trs12562034\tA\tG\t388028\t0.00329472\t0.834808\t1.00068731609353\t0.895893511351165\t0.336845754096289\n",
            "1\t779322\trs4040617\tG\tA\t388028\t0.00303344\t0.42897\t0.997603556067569\t0.897508290615237\t0.377368010940814\n",
            "1\t801536\trs79373928\tG\tT\t388028\t0.00841324\t0.808999\t1.00203569922793\t0.908962856432993\t0.483212245374095\n",
            "1\t808631\trs11240779\tG\tA\t388028\t0.00242821\t0.590265\t1.00130832511154\t0.893212523690488\t0.450409558999587\n",
            "1\t809876\trs57181708\tG\tA\t388028\t0.00336785\t0.71475\t1.00123165786833\t0.923557624081969\t0.499743932656759\n",
            "1\t835499\trs4422948\tG\tA\t388028\t0.0023758\t0.710884\t0.999119752645202\t0.906437735120596\t0.481016005816168\n",
            "1\t838555\trs4970383\tA\tC\t388028\t0.00235773\t0.150993\t0.996619945289758\t0.907716506801574\t0.327164029672754\n",
            "1\t840753\trs4970382\tC\tT\t388028\t0.00207377\t0.199967\t0.99734567895614\t0.914602590137255\t0.498936220426316\n"
          ]
        }
      ]
    },
    {
      "cell_type": "code",
      "source": [
        "!cat data/target/EUR.height | head"
      ],
      "metadata": {
        "colab": {
          "base_uri": "https://localhost:8080/"
        },
        "id": "tQZv0r4gnF0e",
        "outputId": "d9220e8f-47d3-4430-ff20-b164d39d1ac8"
      },
      "execution_count": 11,
      "outputs": [
        {
          "output_type": "stream",
          "name": "stdout",
          "text": [
            "FID\tIID\tHeight\n",
            "HG00096\tHG00096\t169.132168767547\n",
            "HG00097\tHG00097\t171.256258630279\n",
            "HG00099\tHG00099\t171.534379938588\n",
            "HG00101\tHG00101\t169.850176470551\n",
            "HG00102\tHG00102\t172.788360878389\n",
            "HG00103\tHG00103\t169.862973824923\n",
            "HG00105\tHG00105\t168.939248611414\n",
            "HG00107\tHG00107\t168.972346393861\n",
            "HG00108\tHG00108\t171.311736719186\n"
          ]
        }
      ]
    },
    {
      "cell_type": "markdown",
      "source": [
        "# 1. QUALITY CONTROL"
      ],
      "metadata": {
        "id": "67uKGcS7o-SY"
      }
    },
    {
      "cell_type": "markdown",
      "source": [
        "## A. QC of Base Data"
      ],
      "metadata": {
        "id": "ST8IqLYhpU51"
      }
    },
    {
      "cell_type": "markdown",
      "source": [
        "**Reading the base data file**"
      ],
      "metadata": {
        "id": "O6d0ivyUps2b"
      }
    },
    {
      "cell_type": "code",
      "source": [
        "!zcat data/base/Height.gwas.txt.gz | head"
      ],
      "metadata": {
        "colab": {
          "base_uri": "https://localhost:8080/"
        },
        "id": "jfRboyJzpCck",
        "outputId": "70aaf229-4a91-40b3-8523-436a9721dea4"
      },
      "execution_count": 12,
      "outputs": [
        {
          "output_type": "stream",
          "name": "stdout",
          "text": [
            "CHR\tBP\tSNP\tA1\tA2\tN\tSE\tP\tOR\tINFO\tMAF\n",
            "1\t756604\trs3131962\tA\tG\t388028\t0.00301666\t0.483171\t0.997886915712657\t0.890557941364774\t0.369389592764921\n",
            "1\t768448\trs12562034\tA\tG\t388028\t0.00329472\t0.834808\t1.00068731609353\t0.895893511351165\t0.336845754096289\n",
            "1\t779322\trs4040617\tG\tA\t388028\t0.00303344\t0.42897\t0.997603556067569\t0.897508290615237\t0.377368010940814\n",
            "1\t801536\trs79373928\tG\tT\t388028\t0.00841324\t0.808999\t1.00203569922793\t0.908962856432993\t0.483212245374095\n",
            "1\t808631\trs11240779\tG\tA\t388028\t0.00242821\t0.590265\t1.00130832511154\t0.893212523690488\t0.450409558999587\n",
            "1\t809876\trs57181708\tG\tA\t388028\t0.00336785\t0.71475\t1.00123165786833\t0.923557624081969\t0.499743932656759\n",
            "1\t835499\trs4422948\tG\tA\t388028\t0.0023758\t0.710884\t0.999119752645202\t0.906437735120596\t0.481016005816168\n",
            "1\t838555\trs4970383\tA\tC\t388028\t0.00235773\t0.150993\t0.996619945289758\t0.907716506801574\t0.327164029672754\n",
            "1\t840753\trs4970382\tC\tT\t388028\t0.00207377\t0.199967\t0.99734567895614\t0.914602590137255\t0.498936220426316\n"
          ]
        }
      ]
    },
    {
      "cell_type": "markdown",
      "source": [
        "* **CHR**: The chromosome in which the SNP resides\n",
        "* **BP**: Chromosomal co-ordinate of the SNP\n",
        "* **SNP**: SNP ID, usually in the form of rs-ID\n",
        "* **A1**: The effect allele of the SNP\n",
        "* **A2**: The non-effect allele of the SNP\n",
        "* **N**: Number of samples used to obtain the effect size estimate\n",
        "* **SE**: The standard error (SE) of the effect size esimate\n",
        "* **P**: The P-value of association between the SNP genotypes and the base phenotype\n",
        "* **OR**: The effect size estimate of the SNP, if the outcome is binary/case-control. If the outcome is continuous or treated as continuous then this will usually be BETA\n",
        "* **INFO**: The imputation information score\n",
        "* **MAF**: The minor allele frequency (MAF) of the SNP\n",
        "\n"
      ],
      "metadata": {
        "id": "CsdxCbcxp1IL"
      }
    },
    {
      "cell_type": "markdown",
      "source": [
        "### QC checklist: Base data"
      ],
      "metadata": {
        "id": "wCtq67WOqaJ3"
      }
    },
    {
      "cell_type": "markdown",
      "source": [
        "**i. Heritability check**"
      ],
      "metadata": {
        "id": "njgFmE_oqdDj"
      }
    },
    {
      "cell_type": "markdown",
      "source": [
        "Recommend that PRS analyses are performed on base data with a chip-heritability estimate \t\\frac{1}{2}\\ 2snp > 0.05\\"
      ],
      "metadata": {
        "id": "T4xiUJY2rHcG"
      }
    },
    {
      "cell_type": "markdown",
      "source": [
        "**ii. Effect allele**"
      ],
      "metadata": {
        "id": "HULkSxVCrJ1M"
      }
    },
    {
      "cell_type": "code",
      "source": [],
      "metadata": {
        "id": "w0oTeDcysIEw"
      },
      "execution_count": 12,
      "outputs": []
    },
    {
      "cell_type": "markdown",
      "source": [
        "**iii. Genome build**"
      ],
      "metadata": {
        "id": "eFVtBqJTsIzZ"
      }
    },
    {
      "cell_type": "markdown",
      "source": [],
      "metadata": {
        "id": "oQ23LPCjsQ4h"
      }
    },
    {
      "cell_type": "markdown",
      "source": [
        "**iv. Standard GWAS QC**"
      ],
      "metadata": {
        "id": "t2D58i4ys_Ex"
      }
    },
    {
      "cell_type": "code",
      "source": [
        "%%bash\n",
        "mkdir QC\n",
        "mkdir -p QC/base\n",
        "mkdir -p QC/target"
      ],
      "metadata": {
        "colab": {
          "base_uri": "https://localhost:8080/"
        },
        "id": "x1157QrTtfiZ",
        "outputId": "f26dd10d-998f-4b73-855d-b0822f3a321f"
      },
      "execution_count": 13,
      "outputs": [
        {
          "output_type": "stream",
          "name": "stderr",
          "text": [
            "mkdir: cannot create directory ‘QC’: File exists\n"
          ]
        }
      ]
    },
    {
      "cell_type": "code",
      "source": [
        "%%bash\n",
        "\n",
        "# Filter by MAF, INFO\n",
        "## MAF > 0.01 & INFO > 0.8\n",
        "\n",
        "zcat data/base/Height.gwas.txt.gz |\\\n",
        "awk 'NR==1 || ($11 > 0.01) && ($10 > 0.8) {print}' |\\\n",
        "gzip  > QC/base/Height.gz"
      ],
      "metadata": {
        "id": "stLBv_TFtEDQ"
      },
      "execution_count": 14,
      "outputs": []
    },
    {
      "cell_type": "markdown",
      "source": [
        "**v. Mismatching SNPs**"
      ],
      "metadata": {
        "id": "o1ZE0z94tDKg"
      }
    },
    {
      "cell_type": "markdown",
      "source": [
        "**vi. Duplicates SNPs**"
      ],
      "metadata": {
        "id": "Dr8JMdv7t7Zv"
      }
    },
    {
      "cell_type": "code",
      "source": [
        "%%bash\n",
        "# Remove duplicate SNPs\n",
        "\n",
        "zcat QC/base/Height.gz |\\\n",
        "awk '{seen[$3]++; if(seen[$3]==1){ print}}' |\\\n",
        "gzip - > QC/base/Height.nodup.gz"
      ],
      "metadata": {
        "id": "0v3SfhUnuALK"
      },
      "execution_count": 15,
      "outputs": []
    },
    {
      "cell_type": "markdown",
      "source": [
        "**vii. Ambigous SNPs**"
      ],
      "metadata": {
        "id": "V3u8aiu-uMJ5"
      }
    },
    {
      "cell_type": "code",
      "source": [
        "%%bash\n",
        "\n",
        "zcat QC/base/Height.nodup.gz |\\\n",
        "awk '!( ($4==\"A\" && $5==\"T\") || \\\n",
        "        ($4==\"T\" && $5==\"A\") || \\\n",
        "        ($4==\"G\" && $5==\"C\") || \\\n",
        "        ($4==\"C\" && $5==\"G\")) {print}' |\\\n",
        "    gzip > QC/base/Height.QC.gz"
      ],
      "metadata": {
        "id": "8Z40oXZOuQIZ"
      },
      "execution_count": 16,
      "outputs": []
    },
    {
      "cell_type": "markdown",
      "source": [
        "**vii. Sex chromosomes**"
      ],
      "metadata": {
        "id": "z6Ajs0Wy-pqa"
      }
    },
    {
      "cell_type": "markdown",
      "source": [
        "**viii. Relatedness**"
      ],
      "metadata": {
        "id": "ISFCkOCK-u2A"
      }
    },
    {
      "cell_type": "code",
      "source": [],
      "metadata": {
        "id": "K2lTfcFd-oYC"
      },
      "execution_count": 16,
      "outputs": []
    },
    {
      "cell_type": "markdown",
      "source": [
        "## B. QC of Target Data"
      ],
      "metadata": {
        "id": "dqxyIUW9-2iW"
      }
    },
    {
      "cell_type": "markdown",
      "source": [
        "### QC checklist: Target data"
      ],
      "metadata": {
        "id": "z3zhbLgA_Fxc"
      }
    },
    {
      "cell_type": "code",
      "source": [],
      "metadata": {
        "id": "rTOCGv0V_ORD"
      },
      "execution_count": 16,
      "outputs": []
    },
    {
      "cell_type": "markdown",
      "source": [
        "**i. Sample size**"
      ],
      "metadata": {
        "id": "Xgapxpj8_Opi"
      }
    },
    {
      "cell_type": "markdown",
      "source": [
        "The target data suitable to perform PRS analyses should have at least 100 individuals. The sample size of our data here is 503 individuals."
      ],
      "metadata": {
        "id": "5IoBDadnADYM"
      }
    },
    {
      "cell_type": "code",
      "source": [
        "%%bash\n",
        "# Check the sample size\n",
        "cat data/target/EUR.fam | wc -l\n"
      ],
      "metadata": {
        "colab": {
          "base_uri": "https://localhost:8080/"
        },
        "id": "Q18b88OR--mV",
        "outputId": "ab27aa79-8b31-4ec6-fd0d-ea3a107cd0e1"
      },
      "execution_count": 17,
      "outputs": [
        {
          "output_type": "stream",
          "name": "stdout",
          "text": [
            "503\n"
          ]
        }
      ]
    },
    {
      "cell_type": "markdown",
      "source": [
        "**ii. Genome build**"
      ],
      "metadata": {
        "id": "DeIcvAfrAgWZ"
      }
    },
    {
      "cell_type": "markdown",
      "source": [
        "**iii. Standard GWAS QC**"
      ],
      "metadata": {
        "id": "qGNbDW1KAjbh"
      }
    },
    {
      "cell_type": "code",
      "source": [
        "%%bash\n",
        "\n",
        "plink \\\n",
        "    --bfile data/target/EUR \\\n",
        "    --maf 0.01 \\\n",
        "    --hwe 1e-6 \\\n",
        "    --geno 0.01 \\\n",
        "    --mind 0.01 \\\n",
        "    --write-snplist \\\n",
        "    --make-just-fam \\\n",
        "    --out QC/target/EUR.QC"
      ],
      "metadata": {
        "colab": {
          "base_uri": "https://localhost:8080/"
        },
        "id": "LmSa4IixBEGm",
        "outputId": "da1c52c5-d4ec-4fb2-b0f9-b28e097227fb"
      },
      "execution_count": 18,
      "outputs": [
        {
          "output_type": "stream",
          "name": "stdout",
          "text": [
            "PLINK v1.90b6.21 64-bit (19 Oct 2020)          www.cog-genomics.org/plink/1.9/\n",
            "(C) 2005-2020 Shaun Purcell, Christopher Chang   GNU General Public License v3\n",
            "Logging to QC/target/EUR.QC.log.\n",
            "Options in effect:\n",
            "  --bfile data/target/EUR\n",
            "  --geno 0.01\n",
            "  --hwe 1e-6\n",
            "  --maf 0.01\n",
            "  --make-just-fam\n",
            "  --mind 0.01\n",
            "  --out QC/target/EUR.QC\n",
            "  --write-snplist\n",
            "\n",
            "12982 MB RAM detected; reserving 6491 MB for main workspace.\n",
            "551892 variants loaded from .bim file.\n",
            "503 people (240 males, 263 females) loaded from .fam.\n",
            "14 people removed due to missing genotype data (--mind).\n",
            "IDs written to QC/target/EUR.QC.irem .\n",
            "Using 1 thread (no multithreaded calculations invoked).\n",
            "Before main variant filters, 489 founders and 0 nonfounders present.\n",
            "Calculating allele frequencies... 0%\b\b1%\b\b2%\b\b3%\b\b4%\b\b5%\b\b6%\b\b7%\b\b8%\b\b9%\b\b10%\b\b\b11%\b\b\b12%\b\b\b13%\b\b\b14%\b\b\b15%\b\b\b16%\b\b\b17%\b\b\b18%\b\b\b19%\b\b\b20%\b\b\b21%\b\b\b22%\b\b\b23%\b\b\b24%\b\b\b25%\b\b\b26%\b\b\b27%\b\b\b28%\b\b\b29%\b\b\b30%\b\b\b31%\b\b\b32%\b\b\b33%\b\b\b34%\b\b\b35%\b\b\b36%\b\b\b37%\b\b\b38%\b\b\b39%\b\b\b40%\b\b\b41%\b\b\b42%\b\b\b43%\b\b\b44%\b\b\b45%\b\b\b46%\b\b\b47%\b\b\b48%\b\b\b49%\b\b\b50%\b\b\b51%\b\b\b52%\b\b\b53%\b\b\b54%\b\b\b55%\b\b\b56%\b\b\b57%\b\b\b58%\b\b\b59%\b\b\b60%\b\b\b61%\b\b\b62%\b\b\b63%\b\b\b64%\b\b\b65%\b\b\b66%\b\b\b67%\b\b\b68%\b\b\b69%\b\b\b70%\b\b\b71%\b\b\b72%\b\b\b73%\b\b\b74%\b\b\b75%\b\b\b76%\b\b\b77%\b\b\b78%\b\b\b79%\b\b\b80%\b\b\b81%\b\b\b82%\b\b\b83%\b\b\b84%\b\b\b85%\b\b\b86%\b\b\b87%\b\b\b88%\b\b\b89%\b\b\b90%\b\b\b91%\b\b\b92%\b\b\b93%\b\b\b94%\b\b\b95%\b\b\b96%\b\b\b97%\b\b\b98%\b\b\b99%\b\b\b\b done.\n",
            "Total genotyping rate in remaining samples is 0.999816.\n",
            "5353 variants removed due to missing genotype data (--geno).\n",
            "--hwe: 944 variants removed due to Hardy-Weinberg exact test.\n",
            "5061 variants removed due to minor allele threshold(s)\n",
            "(--maf/--max-maf/--mac/--max-mac).\n",
            "540534 variants and 489 people pass filters and QC.\n",
            "Note: No phenotypes present.\n",
            "List of variant IDs written to QC/target/EUR.QC.snplist .\n",
            "--make-just-fam to QC/target/EUR.QC.fam ... done.\n"
          ]
        },
        {
          "output_type": "stream",
          "name": "stderr",
          "text": [
            "Warning: 1806 het. haploid genotypes present (see QC/target/EUR.QC.hh ); many\n",
            "commands treat these as missing.\n",
            "Warning: --hwe observation counts vary by more than 10%, due to the X\n",
            "chromosome.  You may want to use a less stringent --hwe p-value threshold for X\n",
            "chromosome variants.\n"
          ]
        }
      ]
    },
    {
      "cell_type": "markdown",
      "source": [
        "![Screenshot from 2023-08-16 13-26-15.png](data:image/png;base64,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)"
      ],
      "metadata": {
        "id": "EGP57SBWBgqc"
      }
    },
    {
      "cell_type": "markdown",
      "source": [
        "Some files are needed in the QC/target folder for the below processing:"
      ],
      "metadata": {
        "id": "UbYN3mwuD9uN"
      }
    },
    {
      "cell_type": "code",
      "source": [
        "%%bash\n",
        "\n",
        "cp data/target/EUR* QC/target/"
      ],
      "metadata": {
        "id": "7XSPvSEADm2z"
      },
      "execution_count": 19,
      "outputs": []
    },
    {
      "cell_type": "markdown",
      "source": [
        "Samples with extreme heterozygosity are typically removed prior to downstream analyses.\n",
        "\n",
        "This will generate two files 1) EUR.QC.prune.in and 2) EUR.QC.prune.out. All SNPs within EUR.QC.prune.in have a pairwise r2\\<0.25"
      ],
      "metadata": {
        "id": "5AZJcQA5CR9h"
      }
    },
    {
      "cell_type": "code",
      "source": [
        "%%bash\n",
        "# Perform pruning to remove highly correlated SNPs\n",
        "\n",
        "plink \\\n",
        "    --bfile QC/target/EUR \\\n",
        "    --keep QC/target/EUR.QC.fam \\\n",
        "    --extract QC/target/EUR.QC.snplist \\\n",
        "    --indep-pairwise 200 50 0.25 \\\n",
        "    --out QC/target/EUR.QC"
      ],
      "metadata": {
        "colab": {
          "base_uri": "https://localhost:8080/"
        },
        "id": "KU0qzFxtCXBL",
        "outputId": "6809cbaf-eddb-4a1f-857d-9311b9b4a534"
      },
      "execution_count": 20,
      "outputs": [
        {
          "output_type": "stream",
          "name": "stdout",
          "text": [
            "PLINK v1.90b6.21 64-bit (19 Oct 2020)          www.cog-genomics.org/plink/1.9/\n",
            "(C) 2005-2020 Shaun Purcell, Christopher Chang   GNU General Public License v3\n",
            "Logging to QC/target/EUR.QC.log.\n",
            "Options in effect:\n",
            "  --bfile QC/target/EUR\n",
            "  --extract QC/target/EUR.QC.snplist\n",
            "  --indep-pairwise 200 50 0.25\n",
            "  --keep QC/target/EUR.QC.fam\n",
            "  --out QC/target/EUR.QC\n",
            "\n",
            "12982 MB RAM detected; reserving 6491 MB for main workspace.\n",
            "551892 variants loaded from .bim file.\n",
            "503 people (240 males, 263 females) loaded from .fam.\n",
            "--extract: 540534 variants remaining.\n",
            "--keep: 489 people remaining.\n",
            "Using 1 thread (no multithreaded calculations invoked).\n",
            "Before main variant filters, 489 founders and 0 nonfounders present.\n",
            "Calculating allele frequencies... 0%\b\b1%\b\b2%\b\b3%\b\b4%\b\b5%\b\b6%\b\b7%\b\b8%\b\b9%\b\b10%\b\b\b11%\b\b\b12%\b\b\b13%\b\b\b14%\b\b\b15%\b\b\b16%\b\b\b17%\b\b\b18%\b\b\b19%\b\b\b20%\b\b\b21%\b\b\b22%\b\b\b23%\b\b\b24%\b\b\b25%\b\b\b26%\b\b\b27%\b\b\b28%\b\b\b29%\b\b\b30%\b\b\b31%\b\b\b32%\b\b\b33%\b\b\b34%\b\b\b35%\b\b\b36%\b\b\b37%\b\b\b38%\b\b\b39%\b\b\b40%\b\b\b41%\b\b\b42%\b\b\b43%\b\b\b44%\b\b\b45%\b\b\b46%\b\b\b47%\b\b\b48%\b\b\b49%\b\b\b50%\b\b\b51%\b\b\b52%\b\b\b53%\b\b\b54%\b\b\b55%\b\b\b56%\b\b\b57%\b\b\b58%\b\b\b59%\b\b\b60%\b\b\b61%\b\b\b62%\b\b\b63%\b\b\b64%\b\b\b65%\b\b\b66%\b\b\b67%\b\b\b68%\b\b\b69%\b\b\b70%\b\b\b71%\b\b\b72%\b\b\b73%\b\b\b74%\b\b\b75%\b\b\b76%\b\b\b77%\b\b\b78%\b\b\b79%\b\b\b80%\b\b\b81%\b\b\b82%\b\b\b83%\b\b\b84%\b\b\b85%\b\b\b86%\b\b\b87%\b\b\b88%\b\b\b89%\b\b\b90%\b\b\b91%\b\b\b92%\b\b\b93%\b\b\b94%\b\b\b95%\b\b\b96%\b\b\b97%\b\b\b98%\b\b\b99%\b\b\b\b done.\n",
            "Total genotyping rate in remaining samples is 0.999919.\n",
            "540534 variants and 489 people pass filters and QC.\n",
            "Note: No phenotypes present.\n",
            "\r1%\r2%\r3%\r4%\r5%\r6%\r7%\r8%\r9%\r10%\r11%\r12%\r13%\r14%\r15%\r16%\r17%\r18%\r19%\r20%\r21%\r22%\r23%\r24%\r25%\r26%\r27%\r28%\r29%\r30%\r31%\r32%\r33%\r34%\r35%\r36%\r37%\r38%\r39%\r40%\r41%\r42%\r43%\r44%\r45%\r46%\r47%\r48%\r49%\r50%\r51%\r52%\r53%\r54%\r55%\r56%\r57%\r58%\r59%\r60%\r61%\r62%\r63%\r64%\r65%\r66%\r67%\r68%\r69%\r70%\r71%\r72%\r73%\r74%\r75%\r76%\r77%\r78%\r79%\r80%\r81%\r82%\r83%\r84%\r85%\r86%\r87%\r88%\r89%\r90%\r91%\r92%\r93%\r94%\r95%\r96%\r97%\r98%\r99%\rPruned 20214 variants from chromosome 1, leaving 21127.\n",
            "\r1%\r2%\r3%\r4%\r5%\r6%\r7%\r8%\r9%\r10%\r11%\r12%\r13%\r14%\r15%\r16%\r17%\r18%\r19%\r20%\r21%\r22%\r23%\r24%\r25%\r26%\r27%\r28%\r29%\r30%\r30%\r31%\r32%\r33%\r34%\r35%\r36%\r37%\r38%\r39%\r40%\r41%\r42%\r43%\r44%\r45%\r46%\r47%\r48%\r49%\r50%\r51%\r52%\r53%\r54%\r55%\r56%\r57%\r58%\r59%\r60%\r61%\r62%\r63%\r64%\r65%\r66%\r67%\r68%\r69%\r70%\r71%\r72%\r73%\r73%\r74%\r75%\r76%\r77%\r78%\r79%\r80%\r81%\r82%\r83%\r84%\r85%\r86%\r87%\r88%\r89%\r90%\r91%\r92%\r93%\r94%\r95%\r96%\r97%\r98%\r99%\rPruned 20984 variants from chromosome 2, leaving 20879.\n",
            "\r1%\r2%\r3%\r4%\r5%\r6%\r7%\r8%\r9%\r10%\r11%\r12%\r13%\r14%\r15%\r16%\r17%\r18%\r19%\r20%\r21%\r22%\r23%\r24%\r25%\r26%\r27%\r28%\r29%\r30%\r31%\r32%\r33%\r34%\r35%\r36%\r37%\r38%\r39%\r40%\r41%\r42%\r43%\r44%\r45%\r46%\r47%\r48%\r49%\r50%\r51%\r52%\r53%\r54%\r55%\r56%\r57%\r58%\r59%\r60%\r61%\r62%\r63%\r64%\r65%\r66%\r67%\r68%\r69%\r70%\r71%\r72%\r73%\r74%\r75%\r76%\r77%\r78%\r79%\r80%\r81%\r82%\r83%\r84%\r85%\r86%\r87%\r88%\r89%\r90%\r91%\r92%\r93%\r94%\r95%\r96%\r97%\r98%\r99%\rPruned 17463 variants from chromosome 3, leaving 17812.\n",
            "\r1%\r2%\r3%\r4%\r5%\r6%\r7%\r8%\r9%\r10%\r11%\r12%\r13%\r14%\r15%\r16%\r17%\r18%\r19%\r20%\r21%\r22%\r23%\r24%\r25%\r26%\r27%\r28%\r29%\r30%\r31%\r32%\r33%\r34%\r35%\r36%\r37%\r38%\r39%\r40%\r41%\r42%\r43%\r44%\r45%\r46%\r47%\r48%\r49%\r50%\r51%\r52%\r53%\r53%\r54%\r55%\r56%\r57%\r58%\r59%\r60%\r61%\r61%\r62%\r63%\r64%\r65%\r66%\r67%\r68%\r69%\r70%\r71%\r72%\r73%\r74%\r75%\r76%\r77%\r78%\r79%\r80%\r81%\r82%\r83%\r84%\r85%\r86%\r87%\r88%\r89%\r90%\r90%\r91%\r92%\r93%\r94%\r95%\r96%\r97%\r98%\r99%\rPruned 16344 variants from chromosome 4, leaving 16690.\n",
            "\r1%\r2%\r3%\r4%\r5%\r6%\r7%\r8%\r9%\r10%\r11%\r12%\r13%\r14%\r15%\r16%\r17%\r18%\r19%\r20%\r21%\r22%\r22%\r23%\r24%\r25%\r26%\r27%\r28%\r29%\r30%\r31%\r32%\r33%\r34%\r35%\r36%\r37%\r38%\r39%\r40%\r41%\r42%\r43%\r44%\r45%\r46%\r47%\r48%\r48%\r49%\r50%\r51%\r52%\r53%\r54%\r55%\r56%\r57%\r58%\r59%\r60%\r61%\r62%\r63%\r64%\r65%\r66%\r67%\r68%\r69%\r70%\r71%\r72%\r73%\r74%\r75%\r76%\r77%\r78%\r79%\r80%\r81%\r82%\r83%\r84%\r85%\r86%\r87%\r88%\r89%\r90%\r91%\r92%\r93%\r94%\r95%\r96%\r97%\r98%\r99%\rPruned 15027 variants from chromosome 5, leaving 15981.\n",
            "\r1%\r2%\r3%\r4%\r5%\r6%\r7%\r8%\r9%\r10%\r11%\r11%\r12%\r13%\r14%\r15%\r16%\r17%\r18%\r19%\r20%\r21%\r22%\r23%\r24%\r25%\r26%\r27%\r28%\r29%\r30%\r31%\r31%\r32%\r33%\r34%\r35%\r35%\r36%\r37%\r38%\r39%\r40%\r41%\r42%\r43%\r44%\r44%\r45%\r46%\r47%\r48%\r49%\r50%\r51%\r52%\r53%\r54%\r55%\r56%\r57%\r58%\r59%\r60%\r61%\r62%\r63%\r64%\r65%\r66%\r67%\r68%\r69%\r70%\r71%\r72%\r73%\r74%\r75%\r76%\r77%\r78%\r79%\r80%\r81%\r82%\r83%\r84%\r85%\r86%\r87%\r88%\r89%\r90%\r90%\r91%\r92%\r93%\r94%\r95%\r96%\r97%\r98%\r99%\rPruned 20731 variants from chromosome 6, leaving 15475.\n",
            "\r1%\r2%\r3%\r4%\r5%\r6%\r7%\r8%\r9%\r10%\r11%\r12%\r13%\r14%\r15%\r16%\r17%\r18%\r19%\r19%\r20%\r21%\r22%\r23%\r24%\r25%\r26%\r27%\r28%\r29%\r30%\r30%\r31%\r32%\r33%\r34%\r35%\r36%\r37%\r38%\r39%\r40%\r41%\r42%\r43%\r44%\r45%\r46%\r47%\r48%\r49%\r50%\r51%\r52%\r53%\r54%\r55%\r56%\r57%\r58%\r59%\r60%\r61%\r62%\r63%\r64%\r65%\r66%\r67%\r68%\r69%\r70%\r71%\r72%\r73%\r74%\r75%\r76%\r77%\r78%\r79%\r80%\r81%\r82%\r83%\r84%\r84%\r85%\r86%\r87%\r88%\r88%\r89%\r90%\r91%\r92%\r93%\r94%\r95%\r96%\r97%\r98%\r99%\rPruned 14046 variants from chromosome 7, leaving 14606.\n",
            "\r1%\r2%\r3%\r4%\r5%\r6%\r7%\r8%\r9%\r10%\r11%\r12%\r13%\r14%\r15%\r16%\r17%\r18%\r19%\r20%\r21%\r22%\r23%\r24%\r25%\r26%\r27%\r28%\r29%\r30%\r31%\r32%\r33%\r34%\r35%\r36%\r37%\r38%\r39%\r40%\r41%\r42%\r43%\r44%\r45%\r46%\r47%\r48%\r49%\r50%\r51%\r52%\r53%\r54%\r55%\r55%\r56%\r57%\r58%\r59%\r60%\r61%\r62%\r63%\r64%\r65%\r66%\r67%\r68%\r69%\r70%\r71%\r72%\r73%\r74%\r75%\r76%\r77%\r78%\r79%\r80%\r81%\r82%\r83%\r84%\r85%\r86%\r87%\r88%\r89%\r90%\r91%\r92%\r93%\r94%\r95%\r96%\r96%\r97%\r98%\r99%\rPruned 13289 variants from chromosome 8, leaving 13667.\n",
            "\r1%\r2%\r3%\r4%\r5%\r6%\r7%\r8%\r9%\r10%\r11%\r12%\r13%\r14%\r15%\r16%\r17%\r18%\r19%\r20%\r21%\r22%\r23%\r24%\r25%\r26%\r27%\r28%\r29%\r30%\r31%\r32%\r33%\r34%\r35%\r36%\r37%\r38%\r39%\r40%\r41%\r42%\r43%\r44%\r45%\r46%\r47%\r48%\r49%\r50%\r51%\r52%\r53%\r54%\r55%\r56%\r57%\r58%\r59%\r60%\r61%\r62%\r63%\r64%\r65%\r66%\r67%\r68%\r69%\r70%\r71%\r72%\r73%\r74%\r75%\r76%\r77%\r78%\r79%\r80%\r81%\r82%\r83%\r84%\r85%\r86%\r87%\r88%\r89%\r90%\r91%\r92%\r93%\r94%\r95%\r96%\r97%\r98%\r99%\rPruned 10723 variants from chromosome 9, leaving 11951.\n",
            "\r1%\r2%\r3%\r4%\r5%\r6%\r7%\r8%\r8%\r9%\r10%\r11%\r12%\r13%\r14%\r15%\r16%\r17%\r18%\r19%\r20%\r21%\r21%\r22%\r23%\r24%\r25%\r25%\r26%\r27%\r28%\r29%\r30%\r31%\r32%\r33%\r34%\r35%\r36%\r37%\r38%\r39%\r40%\r41%\r42%\r43%\r44%\r45%\r46%\r47%\r48%\r49%\r50%\r51%\r52%\r53%\r54%\r55%\r56%\r57%\r58%\r59%\r60%\r61%\r62%\r63%\r64%\r65%\r66%\r67%\r68%\r69%\r70%\r71%\r72%\r73%\r74%\r75%\r76%\r77%\r78%\r79%\r80%\r81%\r82%\r83%\r84%\r85%\r86%\r87%\r88%\r89%\r90%\r91%\r92%\r93%\r94%\r95%\r96%\r97%\r98%\r99%\rPruned 12722 variants from chromosome 10, leaving 13383.\n",
            "\r1%\r2%\r3%\r4%\r5%\r6%\r7%\r8%\r9%\r10%\r11%\r12%\r13%\r14%\r15%\r16%\r17%\r18%\r19%\r20%\r21%\r22%\r23%\r24%\r25%\r26%\r27%\r28%\r29%\r30%\r31%\r32%\r32%\r33%\r34%\r35%\r36%\r37%\r38%\r39%\r40%\r41%\r42%\r43%\r44%\r45%\r46%\r47%\r48%\r49%\r50%\r51%\r52%\r53%\r54%\r55%\r56%\r57%\r58%\r59%\r60%\r60%\r61%\r62%\r63%\r64%\r65%\r66%\r67%\r67%\r68%\r69%\r70%\r71%\r72%\r73%\r74%\r75%\r76%\r77%\r78%\r79%\r80%\r81%\r82%\r83%\r84%\r85%\r86%\r87%\r88%\r89%\r90%\r91%\r92%\r93%\r94%\r95%\r96%\r97%\r98%\r99%\rPruned 13053 variants from chromosome 11, leaving 12666.\n",
            "\r1%\r2%\r3%\r4%\r5%\r6%\r7%\r8%\r9%\r10%\r11%\r12%\r13%\r14%\r15%\r16%\r17%\r18%\r19%\r20%\r21%\r22%\r23%\r24%\r25%\r26%\r27%\r28%\r29%\r30%\r31%\r32%\r33%\r33%\r34%\r35%\r36%\r37%\r38%\r39%\r40%\r41%\r42%\r43%\r44%\r45%\r46%\r47%\r48%\r49%\r50%\r51%\r52%\r53%\r54%\r55%\r56%\r57%\r58%\r59%\r60%\r61%\r62%\r63%\r63%\r64%\r65%\r66%\r67%\r68%\r69%\r70%\r71%\r72%\r73%\r74%\r75%\r76%\r77%\r78%\r79%\r80%\r81%\r82%\r82%\r83%\r84%\r85%\r86%\r87%\r87%\r88%\r89%\r90%\r91%\r92%\r93%\r94%\r95%\r96%\r97%\r98%\r99%\rPruned 11654 variants from chromosome 12, leaving 12500.\n",
            "\r1%\r2%\r3%\r4%\r5%\r6%\r7%\r8%\r9%\r10%\r11%\r12%\r13%\r14%\r15%\r16%\r17%\r18%\r19%\r20%\r21%\r22%\r23%\r24%\r25%\r26%\r27%\r28%\r29%\r30%\r31%\r32%\r32%\r33%\r34%\r35%\r36%\r37%\r38%\r39%\r40%\r41%\r42%\r43%\r44%\r45%\r46%\r47%\r48%\r49%\r50%\r51%\r52%\r53%\r54%\r55%\r56%\r57%\r58%\r59%\r60%\r61%\r62%\r63%\r64%\r65%\r66%\r67%\r68%\r69%\r70%\r71%\r72%\r73%\r74%\r75%\r76%\r77%\r78%\r79%\r80%\r81%\r82%\r83%\r84%\r85%\r86%\r87%\r88%\r89%\r90%\r91%\r92%\r93%\r94%\r95%\r96%\r97%\r98%\r99%\rPruned 8429 variants from chromosome 13, leaving 9609.\n",
            "\r1%\r2%\r3%\r4%\r5%\r6%\r7%\r8%\r9%\r10%\r11%\r12%\r13%\r14%\r15%\r16%\r17%\r18%\r19%\r20%\r21%\r22%\r23%\r24%\r25%\r26%\r27%\r28%\r29%\r30%\r31%\r32%\r33%\r34%\r35%\r36%\r37%\r38%\r39%\r40%\r41%\r42%\r43%\r44%\r45%\r45%\r46%\r47%\r48%\r49%\r50%\r51%\r52%\r53%\r54%\r55%\r56%\r57%\r58%\r59%\r60%\r61%\r62%\r63%\r64%\r65%\r66%\r67%\r68%\r69%\r70%\r71%\r72%\r73%\r74%\r75%\r76%\r77%\r78%\r79%\r80%\r81%\r82%\r83%\r84%\r85%\r86%\r87%\r88%\r89%\r90%\r91%\r92%\r93%\r94%\r95%\r96%\r97%\r98%\r99%\rPruned 8072 variants from chromosome 14, leaving 8791.\n",
            "\r1%\r2%\r3%\r4%\r5%\r6%\r7%\r8%\r9%\r10%\r11%\r12%\r13%\r14%\r15%\r16%\r17%\r18%\r19%\r20%\r21%\r22%\r23%\r24%\r25%\r26%\r27%\r28%\r29%\r30%\r31%\r32%\r33%\r34%\r35%\r36%\r37%\r38%\r39%\r40%\r41%\r42%\r43%\r44%\r45%\r46%\r47%\r48%\r49%\r50%\r51%\r52%\r53%\r54%\r55%\r56%\r57%\r58%\r59%\r60%\r61%\r62%\r63%\r64%\r65%\r66%\r67%\r68%\r69%\r70%\r71%\r72%\r73%\r74%\r75%\r76%\r77%\r78%\r79%\r80%\r81%\r82%\r83%\r84%\r85%\r86%\r86%\r87%\r88%\r89%\r90%\r91%\r92%\r93%\r94%\r95%\r96%\r97%\r98%\r99%\rPruned 7978 variants from chromosome 15, leaving 8470.\n",
            "\r1%\r2%\r3%\r4%\r5%\r6%\r7%\r8%\r9%\r10%\r11%\r12%\r13%\r14%\r15%\r16%\r17%\r17%\r18%\r19%\r20%\r21%\r22%\r23%\r24%\r25%\r26%\r27%\r28%\r29%\r30%\r31%\r32%\r33%\r34%\r35%\r36%\r37%\r38%\r39%\r40%\r41%\r42%\r43%\r44%\r45%\r46%\r47%\r48%\r49%\r50%\r51%\r52%\r53%\r54%\r55%\r56%\r57%\r58%\r59%\r60%\r61%\r62%\r63%\r64%\r65%\r66%\r67%\r67%\r68%\r69%\r70%\r71%\r72%\r73%\r74%\r75%\r76%\r77%\r78%\r79%\r80%\r81%\r82%\r83%\r84%\r85%\r86%\r87%\r88%\r89%\r90%\r91%\r92%\r93%\r94%\r95%\r96%\r97%\r98%\r99%\rPruned 8808 variants from chromosome 16, leaving 9500.\n",
            "\r1%\r2%\r3%\r4%\r5%\r6%\r7%\r8%\r9%\r10%\r11%\r12%\r13%\r14%\r15%\r16%\r17%\r18%\r19%\r20%\r21%\r22%\r23%\r24%\r25%\r26%\r27%\r28%\r29%\r30%\r31%\r32%\r33%\r34%\r35%\r36%\r37%\r38%\r39%\r40%\r41%\r42%\r43%\r44%\r45%\r46%\r47%\r48%\r49%\r50%\r51%\r52%\r53%\r54%\r55%\r56%\r57%\r58%\r59%\r60%\r61%\r62%\r63%\r64%\r65%\r66%\r67%\r68%\r69%\r70%\r71%\r72%\r73%\r74%\r75%\r76%\r77%\r78%\r79%\r80%\r81%\r82%\r83%\r84%\r85%\r86%\r87%\r88%\r89%\r90%\r91%\r92%\r93%\r94%\r95%\r96%\r97%\r98%\r99%\rPruned 8032 variants from chromosome 17, leaving 8724.\n",
            "\r1%\r2%\r3%\r4%\r5%\r6%\r7%\r8%\r9%\r10%\r11%\r12%\r12%\r13%\r14%\r15%\r16%\r17%\r18%\r19%\r20%\r21%\r22%\r23%\r24%\r25%\r26%\r27%\r28%\r29%\r30%\r31%\r32%\r33%\r34%\r35%\r36%\r37%\r38%\r39%\r40%\r41%\r42%\r43%\r44%\r45%\r46%\r47%\r48%\r49%\r50%\r51%\r52%\r53%\r54%\r55%\r56%\r57%\r58%\r59%\r60%\r61%\r62%\r63%\r64%\r65%\r66%\r67%\r68%\r69%\r70%\r71%\r72%\r72%\r73%\r74%\r75%\r76%\r77%\r78%\r79%\r80%\r81%\r82%\r83%\r84%\r85%\r86%\r87%\r88%\r89%\r90%\r91%\r92%\r93%\r94%\r95%\r96%\r97%\r98%\r99%\rPruned 7204 variants from chromosome 18, leaving 8560.\n",
            "\r1%\r2%\r3%\r4%\r5%\r6%\r7%\r8%\r9%\r10%\r11%\r12%\r13%\r14%\r15%\r16%\r17%\r18%\r19%\r20%\r21%\r22%\r23%\r24%\r25%\r26%\r27%\r28%\r29%\r30%\r31%\r32%\r33%\r34%\r35%\r36%\r37%\r38%\r39%\r40%\r41%\r42%\r43%\r44%\r45%\r46%\r47%\r48%\r49%\r50%\r51%\r52%\r53%\r54%\r55%\r56%\r57%\r58%\r59%\r60%\r61%\r62%\r63%\r64%\r65%\r66%\r67%\r68%\r69%\r70%\r71%\r72%\r73%\r74%\r75%\r76%\r77%\r78%\r79%\r80%\r81%\r82%\r83%\r84%\r85%\r86%\r87%\r88%\r89%\r90%\r91%\r92%\r93%\r94%\r95%\r96%\r97%\r98%\r99%\rPruned 7014 variants from chromosome 19, leaving 6726.\n",
            "\r1%\r2%\r3%\r4%\r5%\r6%\r7%\r8%\r9%\r10%\r11%\r12%\r13%\r14%\r15%\r16%\r17%\r18%\r19%\r20%\r21%\r22%\r23%\r24%\r25%\r26%\r27%\r28%\r29%\r30%\r31%\r32%\r33%\r34%\r35%\r36%\r37%\r38%\r39%\r40%\r41%\r42%\r43%\r44%\r45%\r46%\r47%\r47%\r48%\r49%\r50%\r51%\r52%\r53%\r54%\r55%\r56%\r57%\r58%\r59%\r60%\r61%\r62%\r63%\r64%\r64%\r65%\r66%\r67%\r68%\r69%\r70%\r71%\r72%\r73%\r74%\r75%\r76%\r77%\r78%\r79%\r80%\r81%\r82%\r83%\r84%\r85%\r86%\r87%\r88%\r89%\r90%\r91%\r92%\r93%\r94%\r95%\r96%\r97%\r98%\r99%\rPruned 6341 variants from chromosome 20, leaving 7508.\n",
            "\r1%\r2%\r3%\r4%\r5%\r6%\r7%\r8%\r9%\r10%\r11%\r12%\r13%\r14%\r15%\r16%\r17%\r18%\r18%\r19%\r20%\r21%\r22%\r23%\r24%\r25%\r26%\r27%\r28%\r29%\r30%\r31%\r32%\r33%\r34%\r35%\r36%\r37%\r38%\r39%\r40%\r41%\r42%\r43%\r44%\r45%\r46%\r47%\r48%\r49%\r50%\r51%\r52%\r53%\r54%\r55%\r56%\r57%\r58%\r59%\r60%\r61%\r62%\r63%\r64%\r65%\r66%\r67%\r68%\r69%\r70%\r71%\r72%\r73%\r74%\r75%\r76%\r77%\r78%\r79%\r80%\r81%\r82%\r83%\r84%\r85%\r86%\r87%\r88%\r89%\r90%\r91%\r92%\r93%\r94%\r95%\r96%\r97%\r97%\r98%\r99%\rPruned 3629 variants from chromosome 21, leaving 4280.\n",
            "\r1%\r2%\r3%\r4%\r5%\r6%\r7%\r8%\r9%\r10%\r11%\r12%\r13%\r14%\r15%\r15%\r16%\r17%\r18%\r19%\r20%\r21%\r22%\r23%\r24%\r25%\r26%\r27%\r28%\r29%\r30%\r31%\r32%\r33%\r34%\r35%\r36%\r37%\r38%\r39%\r40%\r41%\r42%\r43%\r44%\r45%\r46%\r47%\r48%\r49%\r50%\r51%\r52%\r53%\r54%\r55%\r56%\r57%\r58%\r59%\r60%\r61%\r62%\r63%\r64%\r65%\r66%\r67%\r68%\r69%\r70%\r71%\r72%\r73%\r74%\r75%\r76%\r77%\r78%\r79%\r80%\r81%\r82%\r83%\r84%\r85%\r86%\r87%\r88%\r89%\r90%\r91%\r92%\r93%\r94%\r95%\r96%\r97%\r98%\r99%\rPruned 4085 variants from chromosome 22, leaving 4323.\n",
            "\r1%\r2%\r3%\r4%\r5%\r6%\r7%\r8%\r9%\r10%\r11%\r12%\r13%\r14%\r15%\r16%\r17%\r18%\r19%\r20%\r20%\r21%\r22%\r23%\r24%\r25%\r26%\r27%\r28%\r29%\r30%\r31%\r32%\r33%\r34%\r35%\r36%\r37%\r38%\r39%\r40%\r41%\r42%\r43%\r44%\r45%\r46%\r47%\r48%\r49%\r50%\r51%\r52%\r53%\r54%\r55%\r56%\r57%\r58%\r59%\r60%\r61%\r62%\r63%\r64%\r65%\r66%\r67%\r68%\r69%\r70%\r71%\r72%\r73%\r74%\r75%\r76%\r77%\r78%\r79%\r80%\r81%\r82%\r83%\r84%\r85%\r86%\r87%\r88%\r89%\r90%\r91%\r92%\r92%\r93%\r94%\r95%\r96%\r97%\r98%\r99%\rPruned 16235 variants from chromosome 23, leaving 5229.\n",
            "Pruning complete.  272077 of 540534 variants removed.\n",
            "Writing...\rMarker lists written to QC/target/EUR.QC.prune.in and\n",
            "QC/target/EUR.QC.prune.out .\n"
          ]
        },
        {
          "output_type": "stream",
          "name": "stderr",
          "text": [
            "Warning: 1273 het. haploid genotypes present (see QC/target/EUR.QC.hh ); many\n",
            "commands treat these as missing.\n"
          ]
        }
      ]
    },
    {
      "cell_type": "markdown",
      "source": [
        "Heterozygosity rates can then be computed using plink:"
      ],
      "metadata": {
        "id": "WWtha2ruFRFw"
      }
    },
    {
      "cell_type": "code",
      "source": [
        "%%bash\n",
        "\n",
        "plink \\\n",
        "    --bfile QC/target/EUR \\\n",
        "    --extract QC/target/EUR.QC.prune.in \\\n",
        "    --keep QC/target/EUR.QC.fam \\\n",
        "    --het \\\n",
        "    --out QC/target/EUR.QC"
      ],
      "metadata": {
        "colab": {
          "base_uri": "https://localhost:8080/"
        },
        "id": "ZdtERELwFRoO",
        "outputId": "9f73f84f-1eb9-4fc3-96d5-96f777618420"
      },
      "execution_count": 21,
      "outputs": [
        {
          "output_type": "stream",
          "name": "stdout",
          "text": [
            "PLINK v1.90b6.21 64-bit (19 Oct 2020)          www.cog-genomics.org/plink/1.9/\n",
            "(C) 2005-2020 Shaun Purcell, Christopher Chang   GNU General Public License v3\n",
            "Logging to QC/target/EUR.QC.log.\n",
            "Options in effect:\n",
            "  --bfile QC/target/EUR\n",
            "  --extract QC/target/EUR.QC.prune.in\n",
            "  --het\n",
            "  --keep QC/target/EUR.QC.fam\n",
            "  --out QC/target/EUR.QC\n",
            "\n",
            "12982 MB RAM detected; reserving 6491 MB for main workspace.\n",
            "551892 variants loaded from .bim file.\n",
            "503 people (240 males, 263 females) loaded from .fam.\n",
            "--extract: 268457 variants remaining.\n",
            "--keep: 489 people remaining.\n",
            "Using 1 thread (no multithreaded calculations invoked).\n",
            "Before main variant filters, 489 founders and 0 nonfounders present.\n",
            "Calculating allele frequencies... 0%\b\b1%\b\b2%\b\b3%\b\b4%\b\b5%\b\b6%\b\b7%\b\b8%\b\b9%\b\b10%\b\b\b11%\b\b\b12%\b\b\b13%\b\b\b14%\b\b\b15%\b\b\b16%\b\b\b17%\b\b\b18%\b\b\b19%\b\b\b20%\b\b\b21%\b\b\b22%\b\b\b23%\b\b\b24%\b\b\b25%\b\b\b26%\b\b\b27%\b\b\b28%\b\b\b29%\b\b\b30%\b\b\b31%\b\b\b32%\b\b\b33%\b\b\b34%\b\b\b35%\b\b\b36%\b\b\b37%\b\b\b38%\b\b\b39%\b\b\b40%\b\b\b41%\b\b\b42%\b\b\b43%\b\b\b44%\b\b\b45%\b\b\b46%\b\b\b47%\b\b\b48%\b\b\b49%\b\b\b50%\b\b\b51%\b\b\b52%\b\b\b53%\b\b\b54%\b\b\b55%\b\b\b56%\b\b\b57%\b\b\b58%\b\b\b59%\b\b\b60%\b\b\b61%\b\b\b62%\b\b\b63%\b\b\b64%\b\b\b65%\b\b\b66%\b\b\b67%\b\b\b68%\b\b\b69%\b\b\b70%\b\b\b71%\b\b\b72%\b\b\b73%\b\b\b74%\b\b\b75%\b\b\b76%\b\b\b77%\b\b\b78%\b\b\b79%\b\b\b80%\b\b\b81%\b\b\b82%\b\b\b83%\b\b\b84%\b\b\b85%\b\b\b86%\b\b\b87%\b\b\b88%\b\b\b89%\b\b\b90%\b\b\b91%\b\b\b92%\b\b\b93%\b\b\b94%\b\b\b95%\b\b\b96%\b\b\b97%\b\b\b98%\b\b\b99%\b\b\b\b done.\n",
            "Total genotyping rate in remaining samples is 0.999958.\n",
            "268457 variants and 489 people pass filters and QC.\n",
            "Note: No phenotypes present.\n",
            "--het: 263228 variants scanned, report written to QC/target/EUR.QC.het .\n"
          ]
        },
        {
          "output_type": "stream",
          "name": "stderr",
          "text": [
            "Warning: 558 het. haploid genotypes present (see QC/target/EUR.QC.hh ); many\n",
            "commands treat these as missing.\n"
          ]
        }
      ]
    },
    {
      "cell_type": "markdown",
      "source": [],
      "metadata": {
        "id": "HoeCGlrWGFO3"
      }
    },
    {
      "cell_type": "code",
      "source": [
        "%%bash\n",
        "\n",
        "cat QC/target/EUR.QC.het | head"
      ],
      "metadata": {
        "colab": {
          "base_uri": "https://localhost:8080/"
        },
        "id": "6RgtRsNOGKX5",
        "outputId": "8c3e0ad4-881a-437c-909d-c2a1db41791a"
      },
      "execution_count": 22,
      "outputs": [
        {
          "output_type": "stream",
          "name": "stdout",
          "text": [
            "      FID       IID       O(HOM)       E(HOM)        N(NM)            F\n",
            "  HG00096   HG00096       215057    2.148e+05       263228     0.005196\n",
            "  HG00097   HG00097       214695    2.148e+05       263228     -0.00228\n",
            "  HG00099   HG00099       214846    2.148e+05       263228    0.0008384\n",
            "  HG00101   HG00101       214569    2.148e+05       263228    -0.004882\n",
            "  HG00102   HG00102       215187    2.148e+05       263228     0.007881\n",
            "  HG00103   HG00103       215264    2.148e+05       263228     0.009471\n",
            "  HG00105   HG00105       214725    2.148e+05       263228     -0.00166\n",
            "  HG00107   HG00107       214943    2.148e+05       263228     0.002842\n",
            "  HG00108   HG00108       214855    2.148e+05       263228     0.001024\n"
          ]
        }
      ]
    },
    {
      "cell_type": "code",
      "source": [
        "%%R\n",
        "# Read in the EUR.het file, specify it has header\n",
        "dat <- read.table(\"QC/target/EUR.QC.het\", header=T)\n",
        "\n",
        "# Calculate the mean\n",
        "m <- mean(dat$F)\n",
        "\n",
        "# Calculate the SD\n",
        "s <- sd(dat$F)\n",
        "\n",
        "# Get any samples with F coefficient within 3 SD of the population mean\n",
        "valid <- subset(dat, F <= m+3*s & F >= m-3*s)\n",
        "\n",
        "# print FID and IID for valid samples\n",
        "write.table(valid[,c(1,2)], \"QC/target/EUR.valid.sample\", quote=F, row.names=F)"
      ],
      "metadata": {
        "id": "Ml4fijL-GWcv"
      },
      "execution_count": 23,
      "outputs": []
    },
    {
      "cell_type": "code",
      "source": [],
      "metadata": {
        "id": "SMWRN1OSHxCA"
      },
      "execution_count": 23,
      "outputs": []
    },
    {
      "cell_type": "markdown",
      "source": [
        "**iv. Ambiguous SNPs**"
      ],
      "metadata": {
        "id": "Lrh8kV3wIV6Z"
      }
    },
    {
      "cell_type": "markdown",
      "source": [
        "**v. Mismatching SNPs**"
      ],
      "metadata": {
        "id": "UlTusXYFIdJ8"
      }
    },
    {
      "cell_type": "markdown",
      "source": [
        "1. Load the bim file, the summary statistic and the QC SNP list into R"
      ],
      "metadata": {
        "id": "j9vmsqzULDSX"
      }
    },
    {
      "cell_type": "code",
      "source": [
        "%%R\n",
        "# Read in bim file\n",
        "bim <- read.table(\"data/target/EUR.bim\")\n",
        "colnames(bim) <- c(\"CHR\", \"SNP\", \"CM\", \"BP\", \"B.A1\", \"B.A2\")\n",
        "\n",
        "# Read in QCed SNPs\n",
        "qc <- read.table(\"QC/target/EUR.QC.snplist\", header = F, stringsAsFactors = F)\n",
        "\n",
        "# Read in the GWAS data\n",
        "height <-\n",
        "    read.table(gzfile(\"QC/base/Height.QC.gz\"),\n",
        "            header = T,\n",
        "            stringsAsFactors = F,\n",
        "            sep=\"\\t\")\n",
        "\n",
        "# Change all alleles to upper case for easy comparison\n",
        "height$A1 <- toupper(height$A1)\n",
        "height$A2 <- toupper(height$A2)\n",
        "bim$B.A1 <- toupper(bim$B.A1)\n",
        "bim$B.A2 <- toupper(bim$B.A2)"
      ],
      "metadata": {
        "id": "GX91k6Y8Ig0D"
      },
      "execution_count": 24,
      "outputs": []
    },
    {
      "cell_type": "code",
      "source": [
        "%%R\n",
        "head(bim)"
      ],
      "metadata": {
        "colab": {
          "base_uri": "https://localhost:8080/"
        },
        "id": "aUeqrU8gLIt_",
        "outputId": "8e4d193d-2c71-433c-8a1a-2292edfdd6aa"
      },
      "execution_count": 25,
      "outputs": [
        {
          "output_type": "stream",
          "name": "stdout",
          "text": [
            "  CHR        SNP       CM     BP B.A1 B.A2\n",
            "1   1  rs3131962 0.490722 756604    A    G\n",
            "2   1 rs12562034 0.495714 768448    0    0\n",
            "3   1  rs4040617 0.500708 779322    G    A\n",
            "4   1 rs79373928 0.587220 801536    G    T\n",
            "5   1 rs11240779 0.620827 808631    G    A\n",
            "6   1 rs57181708 0.620827 809876    G    A\n"
          ]
        }
      ]
    },
    {
      "cell_type": "code",
      "source": [],
      "metadata": {
        "id": "UEPYwPVOLccb"
      },
      "execution_count": 25,
      "outputs": []
    },
    {
      "cell_type": "code",
      "source": [],
      "metadata": {
        "id": "olJ3IeuXLZPv"
      },
      "execution_count": 25,
      "outputs": []
    },
    {
      "cell_type": "markdown",
      "source": [
        "2. Identify SNPs that require strand flipping"
      ],
      "metadata": {
        "id": "6f9oTOv8LbUm"
      }
    },
    {
      "cell_type": "code",
      "source": [
        "%%R\n",
        "\n",
        "# Merge summary statistic with target\n",
        "info <- merge(bim, height, by = c(\"SNP\", \"CHR\", \"BP\"))\n",
        "\n",
        "# Filter QCed SNPs\n",
        "info <- info[info$SNP %in% qc$V1,]\n",
        "\n",
        "# Function for finding the complementary allele\n",
        "complement <- function(x) {\n",
        "    switch (\n",
        "        x,\n",
        "        \"A\" = \"T\",\n",
        "        \"C\" = \"G\",\n",
        "        \"T\" = \"A\",\n",
        "        \"G\" = \"C\",\n",
        "        return(NA)\n",
        "    )\n",
        "}\n",
        "\n",
        "# Get SNPs that have the same alleles across base and target\n",
        "info.match <- subset(info, A1 == B.A1 & A2 == B.A2)\n",
        "\n",
        "# Identify SNPs that are complementary between base and target\n",
        "info$C.A1 <- sapply(info$B.A1, complement)\n",
        "info$C.A2 <- sapply(info$B.A2, complement)\n",
        "info.complement <- subset(info, A1 == C.A1 & A2 == C.A2)\n",
        "\n",
        "# Update the complementary alleles in the bim file\n",
        "# This allow us to match the allele in subsequent analysis\n",
        "complement.snps <- bim$SNP %in% info.complement$SNP\n",
        "bim[complement.snps,]$B.A1 <-\n",
        "    sapply(bim[complement.snps,]$B.A1, complement)\n",
        "bim[complement.snps,]$B.A2 <-\n",
        "    sapply(bim[complement.snps,]$B.A2, complement)"
      ],
      "metadata": {
        "id": "VN7XgnKkLdh5"
      },
      "execution_count": 26,
      "outputs": []
    },
    {
      "cell_type": "markdown",
      "source": [
        "3. Identify SNPs that require recoding in the target (to ensure the coding allele in the target data is the effective allele in the base summary statistic)"
      ],
      "metadata": {
        "id": "nub7L1zZMDKn"
      }
    },
    {
      "cell_type": "code",
      "source": [
        "%%R\n",
        "# identify SNPs that need recoding\n",
        "info.recode <- subset(info, A1 == B.A2 & A2 == B.A1)\n",
        "\n",
        "# Update the recode SNPs\n",
        "recode.snps <- bim$SNP %in% info.recode$SNP\n",
        "tmp <- bim[recode.snps,]$B.A1\n",
        "bim[recode.snps,]$B.A1 <- bim[recode.snps,]$B.A2\n",
        "bim[recode.snps,]$B.A2 <- tmp\n",
        "\n",
        "# identify SNPs that need recoding & complement\n",
        "info.crecode <- subset(info, A1 == C.A2 & A2 == C.A1)\n",
        "\n",
        "# Update the recode + strand flip SNPs\n",
        "com.snps <- bim$SNP %in% info.crecode$SNP\n",
        "tmp <- bim[com.snps,]$B.A1\n",
        "bim[com.snps,]$B.A1 <- as.character(sapply(bim[com.snps,]$B.A2, complement))\n",
        "bim[com.snps,]$B.A2 <- as.character(sapply(tmp, complement))\n",
        "\n",
        "# Output updated bim file\n",
        "write.table(\n",
        "    bim[,c(\"SNP\", \"B.A1\")],\n",
        "    \"QC/target/EUR.a1\",\n",
        "    quote = F,\n",
        "    row.names = F,\n",
        "    col.names = F,\n",
        "    sep=\"\\t\"\n",
        ")"
      ],
      "metadata": {
        "id": "bJMKxU7FMFNw"
      },
      "execution_count": 27,
      "outputs": []
    },
    {
      "cell_type": "code",
      "source": [
        "!cat QC/target/EUR.a1 | head"
      ],
      "metadata": {
        "colab": {
          "base_uri": "https://localhost:8080/"
        },
        "id": "8TZZby0RMrbA",
        "outputId": "f0e49454-8419-426e-d92c-c4bd7527ecf6"
      },
      "execution_count": 28,
      "outputs": [
        {
          "output_type": "stream",
          "name": "stdout",
          "text": [
            "rs3131962\tA\n",
            "rs12562034\t0\n",
            "rs4040617\tG\n",
            "rs79373928\tG\n",
            "rs11240779\tG\n",
            "rs57181708\tG\n",
            "rs4422948\tG\n",
            "rs4970383\tA\n",
            "rs4970382\tC\n",
            "rs950122\tC\n"
          ]
        }
      ]
    },
    {
      "cell_type": "markdown",
      "source": [
        "4. Identify SNPs that have different allele in base and target (usually due to difference in genome build or Indel)"
      ],
      "metadata": {
        "id": "D6s4IREQNl3h"
      }
    },
    {
      "cell_type": "code",
      "source": [
        "%%R\n",
        "mismatch <-\n",
        "    bim$SNP[!(bim$SNP %in% info.match$SNP |\n",
        "                bim$SNP %in% info.complement$SNP |\n",
        "                bim$SNP %in% info.recode$SNP |\n",
        "                bim$SNP %in% info.crecode$SNP)]\n",
        "write.table(\n",
        "    mismatch,\n",
        "    \"QC/target/EUR.mismatch\",\n",
        "    quote = F,\n",
        "    row.names = F,\n",
        "    col.names = F\n",
        ")"
      ],
      "metadata": {
        "id": "OYIdKytyNq-H"
      },
      "execution_count": 29,
      "outputs": []
    },
    {
      "cell_type": "code",
      "source": [
        "%%R\n",
        "head(mismatch)"
      ],
      "metadata": {
        "colab": {
          "base_uri": "https://localhost:8080/"
        },
        "id": "H2VFNJzEOGBw",
        "outputId": "2d42bdc3-eb2c-4562-93e8-e1ceeb2421c6"
      },
      "execution_count": 30,
      "outputs": [
        {
          "output_type": "stream",
          "name": "stdout",
          "text": [
            "[1] \"rs12562034\"  \"rs950122\"    \"rs112164716\" \"rs41285810\"  \"rs3829740\"  \n",
            "[6] \"rs138288952\"\n"
          ]
        }
      ]
    },
    {
      "cell_type": "markdown",
      "source": [
        "**vi. Duplicate SNPs**"
      ],
      "metadata": {
        "id": "lUyiAl_QOWg_"
      }
    },
    {
      "cell_type": "markdown",
      "source": [
        "**vii. Sex Chromosomes**"
      ],
      "metadata": {
        "id": "yAumx1F9Olb3"
      }
    },
    {
      "cell_type": "code",
      "source": [
        "%%bash\n",
        "\n",
        "plink \\\n",
        "    --bfile QC/target/EUR \\\n",
        "    --extract QC/target/EUR.QC.prune.in \\\n",
        "    --keep QC/target/EUR.valid.sample \\\n",
        "    --check-sex \\\n",
        "    --out QC/target/EUR.QC"
      ],
      "metadata": {
        "id": "8ZS7hvIVOdhu",
        "colab": {
          "base_uri": "https://localhost:8080/"
        },
        "outputId": "f1e1ce63-e343-414a-84ea-9f2f5fdf65d7"
      },
      "execution_count": 31,
      "outputs": [
        {
          "output_type": "stream",
          "name": "stdout",
          "text": [
            "PLINK v1.90b6.21 64-bit (19 Oct 2020)          www.cog-genomics.org/plink/1.9/\n",
            "(C) 2005-2020 Shaun Purcell, Christopher Chang   GNU General Public License v3\n",
            "Logging to QC/target/EUR.QC.log.\n",
            "Options in effect:\n",
            "  --bfile QC/target/EUR\n",
            "  --check-sex\n",
            "  --extract QC/target/EUR.QC.prune.in\n",
            "  --keep QC/target/EUR.valid.sample\n",
            "  --out QC/target/EUR.QC\n",
            "\n",
            "12982 MB RAM detected; reserving 6491 MB for main workspace.\n",
            "551892 variants loaded from .bim file.\n",
            "503 people (240 males, 263 females) loaded from .fam.\n",
            "--extract: 268457 variants remaining.\n",
            "--keep: 487 people remaining.\n",
            "Using 1 thread (no multithreaded calculations invoked).\n",
            "Before main variant filters, 487 founders and 0 nonfounders present.\n",
            "Calculating allele frequencies... 0%\b\b1%\b\b2%\b\b3%\b\b4%\b\b5%\b\b6%\b\b7%\b\b8%\b\b9%\b\b10%\b\b\b11%\b\b\b12%\b\b\b13%\b\b\b14%\b\b\b15%\b\b\b16%\b\b\b17%\b\b\b18%\b\b\b19%\b\b\b20%\b\b\b21%\b\b\b22%\b\b\b23%\b\b\b24%\b\b\b25%\b\b\b26%\b\b\b27%\b\b\b28%\b\b\b29%\b\b\b30%\b\b\b31%\b\b\b32%\b\b\b33%\b\b\b34%\b\b\b35%\b\b\b36%\b\b\b37%\b\b\b38%\b\b\b39%\b\b\b40%\b\b\b41%\b\b\b42%\b\b\b43%\b\b\b44%\b\b\b45%\b\b\b46%\b\b\b47%\b\b\b48%\b\b\b49%\b\b\b50%\b\b\b51%\b\b\b52%\b\b\b53%\b\b\b54%\b\b\b55%\b\b\b56%\b\b\b57%\b\b\b58%\b\b\b59%\b\b\b60%\b\b\b61%\b\b\b62%\b\b\b63%\b\b\b64%\b\b\b65%\b\b\b66%\b\b\b67%\b\b\b68%\b\b\b69%\b\b\b70%\b\b\b71%\b\b\b72%\b\b\b73%\b\b\b74%\b\b\b75%\b\b\b76%\b\b\b77%\b\b\b78%\b\b\b79%\b\b\b80%\b\b\b81%\b\b\b82%\b\b\b83%\b\b\b84%\b\b\b85%\b\b\b86%\b\b\b87%\b\b\b88%\b\b\b89%\b\b\b90%\b\b\b91%\b\b\b92%\b\b\b93%\b\b\b94%\b\b\b95%\b\b\b96%\b\b\b97%\b\b\b98%\b\b\b99%\b\b\b\b done.\n",
            "Total genotyping rate in remaining samples is 0.999958.\n",
            "268457 variants and 487 people pass filters and QC.\n",
            "Note: No phenotypes present.\n",
            "--check-sex: 5229 Xchr and 0 Ychr variant(s) scanned, 4 problems detected.\n",
            "Report written to QC/target/EUR.QC.sexcheck .\n"
          ]
        },
        {
          "output_type": "stream",
          "name": "stderr",
          "text": [
            "Warning: 558 het. haploid genotypes present (see QC/target/EUR.QC.hh ); many\n",
            "commands treat these as missing.\n"
          ]
        }
      ]
    },
    {
      "cell_type": "markdown",
      "source": [
        "This will generate a file called EUR.QC.sexcheck containing the F-statistics for each individual. Individuals are typically called as being biologically male if the F-statistic is > 0.8 and biologically female if F < 0.2."
      ],
      "metadata": {
        "id": "tLYMp1bbO5uH"
      }
    },
    {
      "cell_type": "code",
      "source": [
        "%%R\n",
        "# Read in file\n",
        "valid <- read.table(\"QC/target/EUR.valid.sample\", header=T)\n",
        "dat <- read.table(\"QC/target/EUR.QC.sexcheck\", header=T)\n",
        "valid <- subset(dat, STATUS==\"OK\" & FID %in% valid$FID)\n",
        "write.table(valid[,c(\"FID\", \"IID\")], \"QC/target/EUR.QC.valid\", row.names=F, col.names=F, sep=\"\\t\", quote=F)"
      ],
      "metadata": {
        "id": "lAJmC6Z5O9bv"
      },
      "execution_count": 32,
      "outputs": []
    },
    {
      "cell_type": "markdown",
      "source": [
        "**viii. Sample overlap**"
      ],
      "metadata": {
        "id": "f_l0Xs-0POwH"
      }
    },
    {
      "cell_type": "markdown",
      "source": [
        "**ix. Relatedness**"
      ],
      "metadata": {
        "id": "PvJVOPF6PTdH"
      }
    },
    {
      "cell_type": "code",
      "source": [
        "%%bash\n",
        "\n",
        "plink \\\n",
        "    --bfile QC/target/EUR \\\n",
        "    --extract QC/target/EUR.QC.prune.in \\\n",
        "    --keep QC/target/EUR.QC.valid \\\n",
        "    --rel-cutoff 0.125 \\\n",
        "    --out QC/target/EUR.QC"
      ],
      "metadata": {
        "colab": {
          "base_uri": "https://localhost:8080/"
        },
        "id": "1ACPexeMPWXn",
        "outputId": "70e0b3bf-fb54-4e3b-daa2-6704029dccf9"
      },
      "execution_count": 33,
      "outputs": [
        {
          "output_type": "stream",
          "name": "stdout",
          "text": [
            "PLINK v1.90b6.21 64-bit (19 Oct 2020)          www.cog-genomics.org/plink/1.9/\n",
            "(C) 2005-2020 Shaun Purcell, Christopher Chang   GNU General Public License v3\n",
            "Logging to QC/target/EUR.QC.log.\n",
            "Options in effect:\n",
            "  --bfile QC/target/EUR\n",
            "  --extract QC/target/EUR.QC.prune.in\n",
            "  --keep QC/target/EUR.QC.valid\n",
            "  --out QC/target/EUR.QC\n",
            "  --rel-cutoff 0.125\n",
            "\n",
            "12982 MB RAM detected; reserving 6491 MB for main workspace.\n",
            "551892 variants loaded from .bim file.\n",
            "503 people (240 males, 263 females) loaded from .fam.\n",
            "--extract: 268457 variants remaining.\n",
            "--keep: 483 people remaining.\n",
            "Using up to 2 threads (change this with --threads).\n",
            "Before main variant filters, 483 founders and 0 nonfounders present.\n",
            "Calculating allele frequencies... 0%\b\b1%\b\b2%\b\b3%\b\b4%\b\b5%\b\b6%\b\b7%\b\b8%\b\b9%\b\b10%\b\b\b11%\b\b\b12%\b\b\b13%\b\b\b14%\b\b\b15%\b\b\b16%\b\b\b17%\b\b\b18%\b\b\b19%\b\b\b20%\b\b\b21%\b\b\b22%\b\b\b23%\b\b\b24%\b\b\b25%\b\b\b26%\b\b\b27%\b\b\b28%\b\b\b29%\b\b\b30%\b\b\b31%\b\b\b32%\b\b\b33%\b\b\b34%\b\b\b35%\b\b\b36%\b\b\b37%\b\b\b38%\b\b\b39%\b\b\b40%\b\b\b41%\b\b\b42%\b\b\b43%\b\b\b44%\b\b\b45%\b\b\b46%\b\b\b47%\b\b\b48%\b\b\b49%\b\b\b50%\b\b\b51%\b\b\b52%\b\b\b53%\b\b\b54%\b\b\b55%\b\b\b56%\b\b\b57%\b\b\b58%\b\b\b59%\b\b\b60%\b\b\b61%\b\b\b62%\b\b\b63%\b\b\b64%\b\b\b65%\b\b\b66%\b\b\b67%\b\b\b68%\b\b\b69%\b\b\b70%\b\b\b71%\b\b\b72%\b\b\b73%\b\b\b74%\b\b\b75%\b\b\b76%\b\b\b77%\b\b\b78%\b\b\b79%\b\b\b80%\b\b\b81%\b\b\b82%\b\b\b83%\b\b\b84%\b\b\b85%\b\b\b86%\b\b\b87%\b\b\b88%\b\b\b89%\b\b\b90%\b\b\b91%\b\b\b92%\b\b\b93%\b\b\b94%\b\b\b95%\b\b\b96%\b\b\b97%\b\b\b98%\b\b\b99%\b\b\b\b done.\n",
            "Total genotyping rate in remaining samples is 0.999957.\n",
            "268457 variants and 483 people pass filters and QC (before --rel-cutoff).\n",
            "Note: No phenotypes present.\n",
            "Excluding 5229 variants on non-autosomes from relationship matrix calc.\n",
            "\r60 markers complete.\r120 markers complete.\r180 markers complete.\r240 markers complete.\r300 markers complete.\r360 markers complete.\r420 markers complete.\r480 markers complete.\r540 markers complete.\r600 markers complete.\r660 markers complete.\r720 markers complete.\r780 markers complete.\r840 markers complete.\r900 markers complete.\r960 markers complete.\r1020 markers complete.\r1080 markers complete.\r1140 markers complete.\r1200 markers complete.\r1260 markers complete.\r1320 markers complete.\r1380 markers complete.\r1440 markers complete.\r1500 markers complete.\r1560 markers complete.\r1620 markers complete.\r1680 markers complete.\r1740 markers complete.\r1800 markers complete.\r1860 markers complete.\r1920 markers complete.\r1980 markers complete.\r2040 markers complete.\r2100 markers complete.\r2160 markers complete.\r2220 markers complete.\r2280 markers complete.\r2340 markers complete.\r2400 markers complete.\r2460 markers complete.\r2520 markers complete.\r2580 markers complete.\r2640 markers complete.\r2700 markers complete.\r2760 markers complete.\r2820 markers complete.\r2880 markers complete.\r2940 markers complete.\r3000 markers complete.\r3060 markers complete.\r3120 markers complete.\r3180 markers complete.\r3240 markers complete.\r3300 markers complete.\r3360 markers complete.\r3420 markers complete.\r3480 markers complete.\r3540 markers complete.\r3600 markers complete.\r3660 markers complete.\r3720 markers complete.\r3780 markers complete.\r3840 markers complete.\r3900 markers complete.\r3960 markers complete.\r4020 markers complete.\r4080 markers complete.\r4140 markers complete.\r4200 markers complete.\r4260 markers complete.\r4320 markers complete.\r4380 markers complete.\r4440 markers complete.\r4500 markers complete.\r4560 markers complete.\r4620 markers complete.\r4680 markers complete.\r4740 markers complete.\r4800 markers complete.\r4860 markers complete.\r4920 markers complete.\r4980 markers complete.\r5040 markers complete.\r5100 markers complete.\r5160 markers complete.\r5220 markers complete.\r5280 markers complete.\r5340 markers complete.\r5400 markers complete.\r5460 markers complete.\r5520 markers complete.\r5580 markers complete.\r5640 markers complete.\r5700 markers complete.\r5760 markers complete.\r5820 markers complete.\r5880 markers complete.\r5940 markers complete.\r6000 markers complete.\r6060 markers complete.\r6120 markers complete.\r6180 markers complete.\r6240 markers complete.\r6300 markers complete.\r6360 markers complete.\r6420 markers complete.\r6480 markers complete.\r6540 markers complete.\r6600 markers complete.\r6660 markers complete.\r6720 markers complete.\r6780 markers complete.\r6840 markers complete.\r6900 markers complete.\r6960 markers complete.\r7020 markers complete.\r7080 markers complete.\r7140 markers complete.\r7200 markers complete.\r7260 markers complete.\r7320 markers complete.\r7380 markers complete.\r7440 markers complete.\r7500 markers complete.\r7560 markers complete.\r7620 markers complete.\r7680 markers complete.\r7740 markers complete.\r7800 markers complete.\r7860 markers complete.\r7920 markers complete.\r7980 markers complete.\r8040 markers complete.\r8100 markers complete.\r8160 markers complete.\r8220 markers complete.\r8280 markers complete.\r8340 markers complete.\r8400 markers complete.\r8460 markers complete.\r8520 markers complete.\r8580 markers complete.\r8640 markers complete.\r8700 markers complete.\r8760 markers complete.\r8820 markers complete.\r8880 markers complete.\r8940 markers complete.\r9000 markers complete.\r9060 markers complete.\r9120 markers complete.\r9180 markers complete.\r9240 markers complete.\r9300 markers complete.\r9360 markers complete.\r9420 markers complete.\r9480 markers complete.\r9540 markers complete.\r9600 markers complete.\r9660 markers complete.\r9720 markers complete.\r9780 markers complete.\r9840 markers complete.\r9900 markers complete.\r9960 markers complete.\r10020 markers complete.\r10080 markers complete.\r10140 markers complete.\r10200 markers complete.\r10260 markers complete.\r10320 markers complete.\r10380 markers complete.\r10440 markers complete.\r10500 markers complete.\r10560 markers complete.\r10620 markers complete.\r10680 markers complete.\r10740 markers complete.\r10800 markers complete.\r10860 markers complete.\r10920 markers complete.\r10980 markers complete.\r11040 markers complete.\r11100 markers complete.\r11160 markers complete.\r11220 markers complete.\r11280 markers complete.\r11340 markers complete.\r11400 markers complete.\r11460 markers complete.\r11520 markers complete.\r11580 markers complete.\r11640 markers complete.\r11700 markers complete.\r11760 markers complete.\r11820 markers complete.\r11880 markers complete.\r11940 markers complete.\r12000 markers complete.\r12060 markers complete.\r12120 markers complete.\r12180 markers complete.\r12240 markers complete.\r12300 markers complete.\r12360 markers complete.\r12420 markers complete.\r12480 markers complete.\r12540 markers complete.\r12600 markers complete.\r12660 markers complete.\r12720 markers complete.\r12780 markers complete.\r12840 markers complete.\r12900 markers complete.\r12960 markers complete.\r13020 markers complete.\r13080 markers complete.\r13140 markers complete.\r13200 markers complete.\r13260 markers complete.\r13320 markers complete.\r13380 markers complete.\r13440 markers complete.\r13500 markers complete.\r13560 markers complete.\r13620 markers complete.\r13680 markers complete.\r13740 markers complete.\r13800 markers complete.\r13860 markers complete.\r13920 markers complete.\r13980 markers complete.\r14040 markers complete.\r14100 markers complete.\r14160 markers complete.\r14220 markers complete.\r14280 markers complete.\r14340 markers complete.\r14400 markers complete.\r14460 markers complete.\r14520 markers complete.\r14580 markers complete.\r14640 markers complete.\r14700 markers complete.\r14760 markers complete.\r14820 markers complete.\r14880 markers complete.\r14940 markers complete.\r15000 markers complete.\r15060 markers complete.\r15120 markers complete.\r15180 markers complete.\r15240 markers complete.\r15300 markers complete.\r15360 markers complete.\r15420 markers complete.\r15480 markers complete.\r15540 markers complete.\r15600 markers complete.\r15660 markers complete.\r15720 markers complete.\r15780 markers complete.\r15840 markers complete.\r15900 markers complete.\r15960 markers complete.\r16020 markers complete.\r16080 markers complete.\r16140 markers complete.\r16200 markers complete.\r16260 markers complete.\r16320 markers complete.\r16380 markers complete.\r16440 markers complete.\r16500 markers complete.\r16560 markers complete.\r16620 markers complete.\r16680 markers complete.\r16740 markers complete.\r16800 markers complete.\r16860 markers complete.\r16920 markers complete.\r16980 markers complete.\r17040 markers complete.\r17100 markers complete.\r17160 markers complete.\r17220 markers complete.\r17280 markers complete.\r17340 markers complete.\r17400 markers complete.\r17460 markers complete.\r17520 markers complete.\r17580 markers complete.\r17640 markers complete.\r17700 markers complete.\r17760 markers complete.\r17820 markers complete.\r17880 markers complete.\r17940 markers complete.\r18000 markers complete.\r18060 markers complete.\r18120 markers complete.\r18180 markers complete.\r18240 markers complete.\r18300 markers complete.\r18360 markers complete.\r18420 markers complete.\r18480 markers complete.\r18540 markers complete.\r18600 markers complete.\r18660 markers complete.\r18720 markers complete.\r18780 markers complete.\r18840 markers complete.\r18900 markers complete.\r18960 markers complete.\r19020 markers complete.\r19080 markers complete.\r19140 markers complete.\r19200 markers complete.\r19260 markers complete.\r19320 markers complete.\r19380 markers complete.\r19440 markers complete.\r19500 markers complete.\r19560 markers complete.\r19620 markers complete.\r19680 markers complete.\r19740 markers complete.\r19800 markers complete.\r19860 markers complete.\r19920 markers complete.\r19980 markers complete.\r20040 markers complete.\r20100 markers complete.\r20160 markers complete.\r20220 markers complete.\r20280 markers complete.\r20340 markers complete.\r20400 markers complete.\r20460 markers complete.\r20520 markers complete.\r20580 markers complete.\r20640 markers complete.\r20700 markers complete.\r20760 markers complete.\r20820 markers complete.\r20880 markers complete.\r20940 markers complete.\r21000 markers complete.\r21060 markers complete.\r21120 markers complete.\r21180 markers complete.\r21240 markers complete.\r21300 markers complete.\r21360 markers complete.\r21420 markers complete.\r21480 markers complete.\r21540 markers complete.\r21600 markers complete.\r21660 markers complete.\r21720 markers complete.\r21780 markers complete.\r21840 markers complete.\r21900 markers complete.\r21960 markers complete.\r22020 markers complete.\r22080 markers complete.\r22140 markers complete.\r22200 markers complete.\r22260 markers complete.\r22320 markers complete.\r22380 markers complete.\r22440 markers complete.\r22500 markers complete.\r22560 markers complete.\r22620 markers complete.\r22680 markers complete.\r22740 markers complete.\r22800 markers complete.\r22860 markers complete.\r22920 markers complete.\r22980 markers complete.\r23040 markers complete.\r23100 markers complete.\r23160 markers complete.\r23220 markers complete.\r23280 markers complete.\r23340 markers complete.\r23400 markers complete.\r23460 markers complete.\r23520 markers complete.\r23580 markers complete.\r23640 markers complete.\r23700 markers complete.\r23760 markers complete.\r23820 markers complete.\r23880 markers complete.\r23940 markers complete.\r24000 markers complete.\r24060 markers complete.\r24120 markers complete.\r24180 markers complete.\r24240 markers complete.\r24300 markers complete.\r24360 markers complete.\r24420 markers complete.\r24480 markers complete.\r24540 markers complete.\r24600 markers complete.\r24660 markers complete.\r24720 markers complete.\r24780 markers complete.\r24840 markers complete.\r24900 markers complete.\r24960 markers complete.\r25020 markers complete.\r25080 markers complete.\r25140 markers complete.\r25200 markers complete.\r25260 markers complete.\r25320 markers complete.\r25380 markers complete.\r25440 markers complete.\r25500 markers complete.\r25560 markers complete.\r25620 markers complete.\r25680 markers complete.\r25740 markers complete.\r25800 markers complete.\r25860 markers complete.\r25920 markers complete.\r25980 markers complete.\r26040 markers complete.\r26100 markers complete.\r26160 markers complete.\r26220 markers complete.\r26280 markers complete.\r26340 markers complete.\r26400 markers complete.\r26460 markers complete.\r26520 markers complete.\r26580 markers complete.\r26640 markers complete.\r26700 markers complete.\r26760 markers complete.\r26820 markers complete.\r26880 markers complete.\r26940 markers complete.\r27000 markers complete.\r27060 markers complete.\r27120 markers complete.\r27180 markers complete.\r27240 markers complete.\r27300 markers complete.\r27360 markers complete.\r27420 markers complete.\r27480 markers complete.\r27540 markers complete.\r27600 markers complete.\r27660 markers complete.\r27720 markers complete.\r27780 markers complete.\r27840 markers complete.\r27900 markers complete.\r27960 markers complete.\r28020 markers complete.\r28080 markers complete.\r28140 markers complete.\r28200 markers complete.\r28260 markers complete.\r28320 markers complete.\r28380 markers complete.\r28440 markers complete.\r28500 markers complete.\r28560 markers complete.\r28620 markers complete.\r28680 markers complete.\r28740 markers complete.\r28800 markers complete.\r28860 markers complete.\r28920 markers complete.\r28980 markers complete.\r29040 markers complete.\r29100 markers complete.\r29160 markers complete.\r29220 markers complete.\r29280 markers complete.\r29340 markers complete.\r29400 markers complete.\r29460 markers complete.\r29520 markers complete.\r29580 markers complete.\r29640 markers complete.\r29700 markers complete.\r29760 markers complete.\r29820 markers complete.\r29880 markers complete.\r29940 markers complete.\r30000 markers complete.\r30060 markers complete.\r30120 markers complete.\r30180 markers complete.\r30240 markers complete.\r30300 markers complete.\r30360 markers complete.\r30420 markers complete.\r30480 markers complete.\r30540 markers complete.\r30600 markers complete.\r30660 markers complete.\r30720 markers complete.\r30780 markers complete.\r30840 markers complete.\r30900 markers complete.\r30960 markers complete.\r31020 markers complete.\r31080 markers complete.\r31140 markers complete.\r31200 markers complete.\r31260 markers complete.\r31320 markers complete.\r31380 markers complete.\r31440 markers complete.\r31500 markers complete.\r31560 markers complete.\r31620 markers complete.\r31680 markers complete.\r31740 markers complete.\r31800 markers complete.\r31860 markers complete.\r31920 markers complete.\r31980 markers complete.\r32040 markers complete.\r32100 markers complete.\r32160 markers complete.\r32220 markers complete.\r32280 markers complete.\r32340 markers complete.\r32400 markers complete.\r32460 markers complete.\r32520 markers complete.\r32580 markers complete.\r32640 markers complete.\r32700 markers complete.\r32760 markers complete.\r32820 markers complete.\r32880 markers complete.\r32940 markers complete.\r33000 markers complete.\r33060 markers complete.\r33120 markers complete.\r33180 markers complete.\r33240 markers complete.\r33300 markers complete.\r33360 markers complete.\r33420 markers complete.\r33480 markers complete.\r33540 markers complete.\r33600 markers complete.\r33660 markers complete.\r33720 markers complete.\r33780 markers complete.\r33840 markers complete.\r33900 markers complete.\r33960 markers complete.\r34020 markers complete.\r34080 markers complete.\r34140 markers complete.\r34200 markers complete.\r34260 markers complete.\r34320 markers complete.\r34380 markers complete.\r34440 markers complete.\r34500 markers complete.\r34560 markers complete.\r34620 markers complete.\r34680 markers complete.\r34740 markers complete.\r34800 markers complete.\r34860 markers complete.\r34920 markers complete.\r34980 markers complete.\r35040 markers complete.\r35100 markers complete.\r35160 markers complete.\r35220 markers complete.\r35280 markers complete.\r35340 markers complete.\r35400 markers complete.\r35460 markers complete.\r35520 markers complete.\r35580 markers complete.\r35640 markers complete.\r35700 markers complete.\r35760 markers complete.\r35820 markers complete.\r35880 markers complete.\r35940 markers complete.\r36000 markers complete.\r36060 markers complete.\r36120 markers complete.\r36180 markers complete.\r36240 markers complete.\r36300 markers complete.\r36360 markers complete.\r36420 markers complete.\r36480 markers complete.\r36540 markers complete.\r36600 markers complete.\r36660 markers complete.\r36720 markers complete.\r36780 markers complete.\r36840 markers complete.\r36900 markers complete.\r36960 markers complete.\r37020 markers complete.\r37080 markers complete.\r37140 markers complete.\r37200 markers complete.\r37260 markers complete.\r37320 markers complete.\r37380 markers complete.\r37440 markers complete.\r37500 markers complete.\r37560 markers complete.\r37620 markers complete.\r37680 markers complete.\r37740 markers complete.\r37800 markers complete.\r37860 markers complete.\r37920 markers complete.\r37980 markers complete.\r38040 markers complete.\r38100 markers complete.\r38160 markers complete.\r38220 markers complete.\r38280 markers complete.\r38340 markers complete.\r38400 markers complete.\r38460 markers complete.\r38520 markers complete.\r38580 markers complete.\r38640 markers complete.\r38700 markers complete.\r38760 markers complete.\r38820 markers complete.\r38880 markers complete.\r38940 markers complete.\r39000 markers complete.\r39060 markers complete.\r39120 markers complete.\r39180 markers complete.\r39240 markers complete.\r39300 markers complete.\r39360 markers complete.\r39420 markers complete.\r39480 markers complete.\r39540 markers complete.\r39600 markers complete.\r39660 markers complete.\r39720 markers complete.\r39780 markers complete.\r39840 markers complete.\r39900 markers complete.\r39960 markers complete.\r40020 markers complete.\r40080 markers complete.\r40140 markers complete.\r40200 markers complete.\r40260 markers complete.\r40320 markers complete.\r40380 markers complete.\r40440 markers complete.\r40500 markers complete.\r40560 markers complete.\r40620 markers complete.\r40680 markers complete.\r40740 markers complete.\r40800 markers complete.\r40860 markers complete.\r40920 markers complete.\r40980 markers complete.\r41040 markers complete.\r41100 markers complete.\r41160 markers complete.\r41220 markers complete.\r41280 markers complete.\r41340 markers complete.\r41400 markers complete.\r41460 markers complete.\r41520 markers complete.\r41580 markers complete.\r41640 markers complete.\r41700 markers complete.\r41760 markers complete.\r41820 markers complete.\r41880 markers complete.\r41940 markers complete.\r42000 markers complete.\r42060 markers complete.\r42120 markers complete.\r42180 markers complete.\r42240 markers complete.\r42300 markers complete.\r42360 markers complete.\r42420 markers complete.\r42480 markers complete.\r42540 markers complete.\r42600 markers complete.\r42660 markers complete.\r42720 markers complete.\r42780 markers complete.\r42840 markers complete.\r42900 markers complete.\r42960 markers complete.\r43020 markers complete.\r43080 markers complete.\r43140 markers complete.\r43200 markers complete.\r43260 markers complete.\r43320 markers complete.\r43380 markers complete.\r43440 markers complete.\r43500 markers complete.\r43560 markers complete.\r43620 markers complete.\r43680 markers complete.\r43740 markers complete.\r43800 markers complete.\r43860 markers complete.\r43920 markers complete.\r43980 markers complete.\r44040 markers complete.\r44100 markers complete.\r44160 markers complete.\r44220 markers complete.\r44280 markers complete.\r44340 markers complete.\r44400 markers complete.\r44460 markers complete.\r44520 markers complete.\r44580 markers complete.\r44640 markers complete.\r44700 markers complete.\r44760 markers complete.\r44820 markers complete.\r44880 markers complete.\r44940 markers complete.\r45000 markers complete.\r45060 markers complete.\r45120 markers complete.\r45180 markers complete.\r45240 markers complete.\r45300 markers complete.\r45360 markers complete.\r45420 markers complete.\r45480 markers complete.\r45540 markers complete.\r45600 markers complete.\r45660 markers complete.\r45720 markers complete.\r45780 markers complete.\r45840 markers complete.\r45900 markers complete.\r45960 markers complete.\r46020 markers complete.\r46080 markers complete.\r46140 markers complete.\r46200 markers complete.\r46260 markers complete.\r46320 markers complete.\r46380 markers complete.\r46440 markers complete.\r46500 markers complete.\r46560 markers complete.\r46620 markers complete.\r46680 markers complete.\r46740 markers complete.\r46800 markers complete.\r46860 markers complete.\r46920 markers complete.\r46980 markers complete.\r47040 markers complete.\r47100 markers complete.\r47160 markers complete.\r47220 markers complete.\r47280 markers complete.\r47340 markers complete.\r47400 markers complete.\r47460 markers complete.\r47520 markers complete.\r47580 markers complete.\r47640 markers complete.\r47700 markers complete.\r47760 markers complete.\r47820 markers complete.\r47880 markers complete.\r47940 markers complete.\r48000 markers complete.\r48060 markers complete.\r48120 markers complete.\r48180 markers complete.\r48240 markers complete.\r48300 markers complete.\r48360 markers complete.\r48420 markers complete.\r48480 markers complete.\r48540 markers complete.\r48600 markers complete.\r48660 markers complete.\r48720 markers complete.\r48780 markers complete.\r48840 markers complete.\r48900 markers complete.\r48960 markers complete.\r49020 markers complete.\r49080 markers complete.\r49140 markers complete.\r49200 markers complete.\r49260 markers complete.\r49320 markers complete.\r49380 markers complete.\r49440 markers complete.\r49500 markers complete.\r49560 markers complete.\r49620 markers complete.\r49680 markers complete.\r49740 markers complete.\r49800 markers complete.\r49860 markers complete.\r49920 markers complete.\r49980 markers complete.\r50040 markers complete.\r50100 markers complete.\r50160 markers complete.\r50220 markers complete.\r50280 markers complete.\r50340 markers complete.\r50400 markers complete.\r50460 markers complete.\r50520 markers complete.\r50580 markers complete.\r50640 markers complete.\r50700 markers complete.\r50760 markers complete.\r50820 markers complete.\r50880 markers complete.\r50940 markers complete.\r51000 markers complete.\r51060 markers complete.\r51120 markers complete.\r51180 markers complete.\r51240 markers complete.\r51300 markers complete.\r51360 markers complete.\r51420 markers complete.\r51480 markers complete.\r51540 markers complete.\r51600 markers complete.\r51660 markers complete.\r51720 markers complete.\r51780 markers complete.\r51840 markers complete.\r51900 markers complete.\r51960 markers complete.\r52020 markers complete.\r52080 markers complete.\r52140 markers complete.\r52200 markers complete.\r52260 markers complete.\r52320 markers complete.\r52380 markers complete.\r52440 markers complete.\r52500 markers complete.\r52560 markers complete.\r52620 markers complete.\r52680 markers complete.\r52740 markers complete.\r52800 markers complete.\r52860 markers complete.\r52920 markers complete.\r52980 markers complete.\r53040 markers complete.\r53100 markers complete.\r53160 markers complete.\r53220 markers complete.\r53280 markers complete.\r53340 markers complete.\r53400 markers complete.\r53460 markers complete.\r53520 markers complete.\r53580 markers complete.\r53640 markers complete.\r53700 markers complete.\r53760 markers complete.\r53820 markers complete.\r53880 markers complete.\r53940 markers complete.\r54000 markers complete.\r54060 markers complete.\r54120 markers complete.\r54180 markers complete.\r54240 markers complete.\r54300 markers complete.\r54360 markers complete.\r54420 markers complete.\r54480 markers complete.\r54540 markers complete.\r54600 markers complete.\r54660 markers complete.\r54720 markers complete.\r54780 markers complete.\r54840 markers complete.\r54900 markers complete.\r54960 markers complete.\r55020 markers complete.\r55080 markers complete.\r55140 markers complete.\r55200 markers complete.\r55260 markers complete.\r55320 markers complete.\r55380 markers complete.\r55440 markers complete.\r55500 markers complete.\r55560 markers complete.\r55620 markers complete.\r55680 markers complete.\r55740 markers complete.\r55800 markers complete.\r55860 markers complete.\r55920 markers complete.\r55980 markers complete.\r56040 markers complete.\r56100 markers complete.\r56160 markers complete.\r56220 markers complete.\r56280 markers complete.\r56340 markers complete.\r56400 markers complete.\r56460 markers complete.\r56520 markers complete.\r56580 markers complete.\r56640 markers complete.\r56700 markers complete.\r56760 markers complete.\r56820 markers complete.\r56880 markers complete.\r56940 markers complete.\r57000 markers complete.\r57060 markers complete.\r57120 markers complete.\r57180 markers complete.\r57240 markers complete.\r57300 markers complete.\r57360 markers complete.\r57420 markers complete.\r57480 markers complete.\r57540 markers complete.\r57600 markers complete.\r57660 markers complete.\r57720 markers complete.\r57780 markers complete.\r57840 markers complete.\r57900 markers complete.\r57960 markers complete.\r58020 markers complete.\r58080 markers complete.\r58140 markers complete.\r58200 markers complete.\r58260 markers complete.\r58320 markers complete.\r58380 markers complete.\r58440 markers complete.\r58500 markers complete.\r58560 markers complete.\r58620 markers complete.\r58680 markers complete.\r58740 markers complete.\r58800 markers complete.\r58860 markers complete.\r58920 markers complete.\r58980 markers complete.\r59040 markers complete.\r59100 markers complete.\r59160 markers complete.\r59220 markers complete.\r59280 markers complete.\r59340 markers complete.\r59400 markers complete.\r59460 markers complete.\r59520 markers complete.\r59580 markers complete.\r59640 markers complete.\r59700 markers complete.\r59760 markers complete.\r59820 markers complete.\r59880 markers complete.\r59940 markers complete.\r60000 markers complete.\r60060 markers complete.\r60120 markers complete.\r60180 markers complete.\r60240 markers complete.\r60300 markers complete.\r60360 markers complete.\r60420 markers complete.\r60480 markers complete.\r60540 markers complete.\r60600 markers complete.\r60660 markers complete.\r60720 markers complete.\r60780 markers complete.\r60840 markers complete.\r60900 markers complete.\r60960 markers complete.\r61020 markers complete.\r61080 markers complete.\r61140 markers complete.\r61200 markers complete.\r61260 markers complete.\r61320 markers complete.\r61380 markers complete.\r61440 markers complete.\r61500 markers complete.\r61560 markers complete.\r61620 markers complete.\r61680 markers complete.\r61740 markers complete.\r61800 markers complete.\r61860 markers complete.\r61920 markers complete.\r61980 markers complete.\r62040 markers complete.\r62100 markers complete.\r62160 markers complete.\r62220 markers complete.\r62280 markers complete.\r62340 markers complete.\r62400 markers complete.\r62460 markers complete.\r62520 markers complete.\r62580 markers complete.\r62640 markers complete.\r62700 markers complete.\r62760 markers complete.\r62820 markers complete.\r62880 markers complete.\r62940 markers complete.\r63000 markers complete.\r63060 markers complete.\r63120 markers complete.\r63180 markers complete.\r63240 markers complete.\r63300 markers complete.\r63360 markers complete.\r63420 markers complete.\r63480 markers complete.\r63540 markers complete.\r63600 markers complete.\r63660 markers complete.\r63720 markers complete.\r63780 markers complete.\r63840 markers complete.\r63900 markers complete.\r63960 markers complete.\r64020 markers complete.\r64080 markers complete.\r64140 markers complete.\r64200 markers complete.\r64260 markers complete.\r64320 markers complete.\r64380 markers complete.\r64440 markers complete.\r64500 markers complete.\r64560 markers complete.\r64620 markers complete.\r64680 markers complete.\r64740 markers complete.\r64800 markers complete.\r64860 markers complete.\r64920 markers complete.\r64980 markers complete.\r65040 markers complete.\r65100 markers complete.\r65160 markers complete.\r65220 markers complete.\r65280 markers complete.\r65340 markers complete.\r65400 markers complete.\r65460 markers complete.\r65520 markers complete.\r65580 markers complete.\r65640 markers complete.\r65700 markers complete.\r65760 markers complete.\r65820 markers complete.\r65880 markers complete.\r65940 markers complete.\r66000 markers complete.\r66060 markers complete.\r66120 markers complete.\r66180 markers complete.\r66240 markers complete.\r66300 markers complete.\r66360 markers complete.\r66420 markers complete.\r66480 markers complete.\r66540 markers complete.\r66600 markers complete.\r66660 markers complete.\r66720 markers complete.\r66780 markers complete.\r66840 markers complete.\r66900 markers complete.\r66960 markers complete.\r67020 markers complete.\r67080 markers complete.\r67140 markers complete.\r67200 markers complete.\r67260 markers complete.\r67320 markers complete.\r67380 markers complete.\r67440 markers complete.\r67500 markers complete.\r67560 markers complete.\r67620 markers complete.\r67680 markers complete.\r67740 markers complete.\r67800 markers complete.\r67860 markers complete.\r67920 markers complete.\r67980 markers complete.\r68040 markers complete.\r68100 markers complete.\r68160 markers complete.\r68220 markers complete.\r68280 markers complete.\r68340 markers complete.\r68400 markers complete.\r68460 markers complete.\r68520 markers complete.\r68580 markers complete.\r68640 markers complete.\r68700 markers complete.\r68760 markers complete.\r68820 markers complete.\r68880 markers complete.\r68940 markers complete.\r69000 markers complete.\r69060 markers complete.\r69120 markers complete.\r69180 markers complete.\r69240 markers complete.\r69300 markers complete.\r69360 markers complete.\r69420 markers complete.\r69480 markers complete.\r69540 markers complete.\r69600 markers complete.\r69660 markers complete.\r69720 markers complete.\r69780 markers complete.\r69840 markers complete.\r69900 markers complete.\r69960 markers complete.\r70020 markers complete.\r70080 markers complete.\r70140 markers complete.\r70200 markers complete.\r70260 markers complete.\r70320 markers complete.\r70380 markers complete.\r70440 markers complete.\r70500 markers complete.\r70560 markers complete.\r70620 markers complete.\r70680 markers complete.\r70740 markers complete.\r70800 markers complete.\r70860 markers complete.\r70920 markers complete.\r70980 markers complete.\r71040 markers complete.\r71100 markers complete.\r71160 markers complete.\r71220 markers complete.\r71280 markers complete.\r71340 markers complete.\r71400 markers complete.\r71460 markers complete.\r71520 markers complete.\r71580 markers complete.\r71640 markers complete.\r71700 markers complete.\r71760 markers complete.\r71820 markers complete.\r71880 markers complete.\r71940 markers complete.\r72000 markers complete.\r72060 markers complete.\r72120 markers complete.\r72180 markers complete.\r72240 markers complete.\r72300 markers complete.\r72360 markers complete.\r72420 markers complete.\r72480 markers complete.\r72540 markers complete.\r72600 markers complete.\r72660 markers complete.\r72720 markers complete.\r72780 markers complete.\r72840 markers complete.\r72900 markers complete.\r72960 markers complete.\r73020 markers complete.\r73080 markers complete.\r73140 markers complete.\r73200 markers complete.\r73260 markers complete.\r73320 markers complete.\r73380 markers complete.\r73440 markers complete.\r73500 markers complete.\r73560 markers complete.\r73620 markers complete.\r73680 markers complete.\r73740 markers complete.\r73800 markers complete.\r73860 markers complete.\r73920 markers complete.\r73980 markers complete.\r74040 markers complete.\r74100 markers complete.\r74160 markers complete.\r74220 markers complete.\r74280 markers complete.\r74340 markers complete.\r74400 markers complete.\r74460 markers complete.\r74520 markers complete.\r74580 markers complete.\r74640 markers complete.\r74700 markers complete.\r74760 markers complete.\r74820 markers complete.\r74880 markers complete.\r74940 markers complete.\r75000 markers complete.\r75060 markers complete.\r75120 markers complete.\r75180 markers complete.\r75240 markers complete.\r75300 markers complete.\r75360 markers complete.\r75420 markers complete.\r75480 markers complete.\r75540 markers complete.\r75600 markers complete.\r75660 markers complete.\r75720 markers complete.\r75780 markers complete.\r75840 markers complete.\r75900 markers complete.\r75960 markers complete.\r76020 markers complete.\r76080 markers complete.\r76140 markers complete.\r76200 markers complete.\r76260 markers complete.\r76320 markers complete.\r76380 markers complete.\r76440 markers complete.\r76500 markers complete.\r76560 markers complete.\r76620 markers complete.\r76680 markers complete.\r76740 markers complete.\r76800 markers complete.\r76860 markers complete.\r76920 markers complete.\r76980 markers complete.\r77040 markers complete.\r77100 markers complete.\r77160 markers complete.\r77220 markers complete.\r77280 markers complete.\r77340 markers complete.\r77400 markers complete.\r77460 markers complete.\r77520 markers complete.\r77580 markers complete.\r77640 markers complete.\r77700 markers complete.\r77760 markers complete.\r77820 markers complete.\r77880 markers complete.\r77940 markers complete.\r78000 markers complete.\r78060 markers complete.\r78120 markers complete.\r78180 markers complete.\r78240 markers complete.\r78300 markers complete.\r78360 markers complete.\r78420 markers complete.\r78480 markers complete.\r78540 markers complete.\r78600 markers complete.\r78660 markers complete.\r78720 markers complete.\r78780 markers complete.\r78840 markers complete.\r78900 markers complete.\r78960 markers complete.\r79020 markers complete.\r79080 markers complete.\r79140 markers complete.\r79200 markers complete.\r79260 markers complete.\r79320 markers complete.\r79380 markers complete.\r79440 markers complete.\r79500 markers complete.\r79560 markers complete.\r79620 markers complete.\r79680 markers complete.\r79740 markers complete.\r79800 markers complete.\r79860 markers complete.\r79920 markers complete.\r79980 markers complete.\r80040 markers complete.\r80100 markers complete.\r80160 markers complete.\r80220 markers complete.\r80280 markers complete.\r80340 markers complete.\r80400 markers complete.\r80460 markers complete.\r80520 markers complete.\r80580 markers complete.\r80640 markers complete.\r80700 markers complete.\r80760 markers complete.\r80820 markers complete.\r80880 markers complete.\r80940 markers complete.\r81000 markers complete.\r81060 markers complete.\r81120 markers complete.\r81180 markers complete.\r81240 markers complete.\r81300 markers complete.\r81360 markers complete.\r81420 markers complete.\r81480 markers complete.\r81540 markers complete.\r81600 markers complete.\r81660 markers complete.\r81720 markers complete.\r81780 markers complete.\r81840 markers complete.\r81900 markers complete.\r81960 markers complete.\r82020 markers complete.\r82080 markers complete.\r82140 markers complete.\r82200 markers complete.\r82260 markers complete.\r82320 markers complete.\r82380 markers complete.\r82440 markers complete.\r82500 markers complete.\r82560 markers complete.\r82620 markers complete.\r82680 markers complete.\r82740 markers complete.\r82800 markers complete.\r82860 markers complete.\r82920 markers complete.\r82980 markers complete.\r83040 markers complete.\r83100 markers complete.\r83160 markers complete.\r83220 markers complete.\r83280 markers complete.\r83340 markers complete.\r83400 markers complete.\r83460 markers complete.\r83520 markers complete.\r83580 markers complete.\r83640 markers complete.\r83700 markers complete.\r83760 markers complete.\r83820 markers complete.\r83880 markers complete.\r83940 markers complete.\r84000 markers complete.\r84060 markers complete.\r84120 markers complete.\r84180 markers complete.\r84240 markers complete.\r84300 markers complete.\r84360 markers complete.\r84420 markers complete.\r84480 markers complete.\r84540 markers complete.\r84600 markers complete.\r84660 markers complete.\r84720 markers complete.\r84780 markers complete.\r84840 markers complete.\r84900 markers complete.\r84960 markers complete.\r85020 markers complete.\r85080 markers complete.\r85140 markers complete.\r85200 markers complete.\r85260 markers complete.\r85320 markers complete.\r85380 markers complete.\r85440 markers complete.\r85500 markers complete.\r85560 markers complete.\r85620 markers complete.\r85680 markers complete.\r85740 markers complete.\r85800 markers complete.\r85860 markers complete.\r85920 markers complete.\r85980 markers complete.\r86040 markers complete.\r86100 markers complete.\r86160 markers complete.\r86220 markers complete.\r86280 markers complete.\r86340 markers complete.\r86400 markers complete.\r86460 markers complete.\r86520 markers complete.\r86580 markers complete.\r86640 markers complete.\r86700 markers complete.\r86760 markers complete.\r86820 markers complete.\r86880 markers complete.\r86940 markers complete.\r87000 markers complete.\r87060 markers complete.\r87120 markers complete.\r87180 markers complete.\r87240 markers complete.\r87300 markers complete.\r87360 markers complete.\r87420 markers complete.\r87480 markers complete.\r87540 markers complete.\r87600 markers complete.\r87660 markers complete.\r87720 markers complete.\r87780 markers complete.\r87840 markers complete.\r87900 markers complete.\r87960 markers complete.\r88020 markers complete.\r88080 markers complete.\r88140 markers complete.\r88200 markers complete.\r88260 markers complete.\r88320 markers complete.\r88380 markers complete.\r88440 markers complete.\r88500 markers complete.\r88560 markers complete.\r88620 markers complete.\r88680 markers complete.\r88740 markers complete.\r88800 markers complete.\r88860 markers complete.\r88920 markers complete.\r88980 markers complete.\r89040 markers complete.\r89100 markers complete.\r89160 markers complete.\r89220 markers complete.\r89280 markers complete.\r89340 markers complete.\r89400 markers complete.\r89460 markers complete.\r89520 markers complete.\r89580 markers complete.\r89640 markers complete.\r89700 markers complete.\r89760 markers complete.\r89820 markers complete.\r89880 markers complete.\r89940 markers complete.\r90000 markers complete.\r90060 markers complete.\r90120 markers complete.\r90180 markers complete.\r90240 markers complete.\r90300 markers complete.\r90360 markers complete.\r90420 markers complete.\r90480 markers complete.\r90540 markers complete.\r90600 markers complete.\r90660 markers complete.\r90720 markers complete.\r90780 markers complete.\r90840 markers complete.\r90900 markers complete.\r90960 markers complete.\r91020 markers complete.\r91080 markers complete.\r91140 markers complete.\r91200 markers complete.\r91260 markers complete.\r91320 markers complete.\r91380 markers complete.\r91440 markers complete.\r91500 markers complete.\r91560 markers complete.\r91620 markers complete.\r91680 markers complete.\r91740 markers complete.\r91800 markers complete.\r91860 markers complete.\r91920 markers complete.\r91980 markers complete.\r92040 markers complete.\r92100 markers complete.\r92160 markers complete.\r92220 markers complete.\r92280 markers complete.\r92340 markers complete.\r92400 markers complete.\r92460 markers complete.\r92520 markers complete.\r92580 markers complete.\r92640 markers complete.\r92700 markers complete.\r92760 markers complete.\r92820 markers complete.\r92880 markers complete.\r92940 markers complete.\r93000 markers complete.\r93060 markers complete.\r93120 markers complete.\r93180 markers complete.\r93240 markers complete.\r93300 markers complete.\r93360 markers complete.\r93420 markers complete.\r93480 markers complete.\r93540 markers complete.\r93600 markers complete.\r93660 markers complete.\r93720 markers complete.\r93780 markers complete.\r93840 markers complete.\r93900 markers complete.\r93960 markers complete.\r94020 markers complete.\r94080 markers complete.\r94140 markers complete.\r94200 markers complete.\r94260 markers complete.\r94320 markers complete.\r94380 markers complete.\r94440 markers complete.\r94500 markers complete.\r94560 markers complete.\r94620 markers complete.\r94680 markers complete.\r94740 markers complete.\r94800 markers complete.\r94860 markers complete.\r94920 markers complete.\r94980 markers complete.\r95040 markers complete.\r95100 markers complete.\r95160 markers complete.\r95220 markers complete.\r95280 markers complete.\r95340 markers complete.\r95400 markers complete.\r95460 markers complete.\r95520 markers complete.\r95580 markers complete.\r95640 markers complete.\r95700 markers complete.\r95760 markers complete.\r95820 markers complete.\r95880 markers complete.\r95940 markers complete.\r96000 markers complete.\r96060 markers complete.\r96120 markers complete.\r96180 markers complete.\r96240 markers complete.\r96300 markers complete.\r96360 markers complete.\r96420 markers complete.\r96480 markers complete.\r96540 markers complete.\r96600 markers complete.\r96660 markers complete.\r96720 markers complete.\r96780 markers complete.\r96840 markers complete.\r96900 markers complete.\r96960 markers complete.\r97020 markers complete.\r97080 markers complete.\r97140 markers complete.\r97200 markers complete.\r97260 markers complete.\r97320 markers complete.\r97380 markers complete.\r97440 markers complete.\r97500 markers complete.\r97560 markers complete.\r97620 markers complete.\r97680 markers complete.\r97740 markers complete.\r97800 markers complete.\r97860 markers complete.\r97920 markers complete.\r97980 markers complete.\r98040 markers complete.\r98100 markers complete.\r98160 markers complete.\r98220 markers complete.\r98280 markers complete.\r98340 markers complete.\r98400 markers complete.\r98460 markers complete.\r98520 markers complete.\r98580 markers complete.\r98640 markers complete.\r98700 markers complete.\r98760 markers complete.\r98820 markers complete.\r98880 markers complete.\r98940 markers complete.\r99000 markers complete.\r99060 markers complete.\r99120 markers complete.\r99180 markers complete.\r99240 markers complete.\r99300 markers complete.\r99360 markers complete.\r99420 markers complete.\r99480 markers complete.\r99540 markers complete.\r99600 markers complete.\r99660 markers complete.\r99720 markers complete.\r99780 markers complete.\r99840 markers complete.\r99900 markers complete.\r99960 markers complete.\r100020 markers complete.\r100080 markers complete.\r100140 markers complete.\r100200 markers complete.\r100260 markers complete.\r100320 markers complete.\r100380 markers complete.\r100440 markers complete.\r100500 markers complete.\r100560 markers complete.\r100620 markers complete.\r100680 markers complete.\r100740 markers complete.\r100800 markers complete.\r100860 markers complete.\r100920 markers complete.\r100980 markers complete.\r101040 markers complete.\r101100 markers complete.\r101160 markers complete.\r101220 markers complete.\r101280 markers complete.\r101340 markers complete.\r101400 markers complete.\r101460 markers complete.\r101520 markers complete.\r101580 markers complete.\r101640 markers complete.\r101700 markers complete.\r101760 markers complete.\r101820 markers complete.\r101880 markers complete.\r101940 markers complete.\r102000 markers complete.\r102060 markers complete.\r102120 markers complete.\r102180 markers complete.\r102240 markers complete.\r102300 markers complete.\r102360 markers complete.\r102420 markers complete.\r102480 markers complete.\r102540 markers complete.\r102600 markers complete.\r102660 markers complete.\r102720 markers complete.\r102780 markers complete.\r102840 markers complete.\r102900 markers complete.\r102960 markers complete.\r103020 markers complete.\r103080 markers complete.\r103140 markers complete.\r103200 markers complete.\r103260 markers complete.\r103320 markers complete.\r103380 markers complete.\r103440 markers complete.\r103500 markers complete.\r103560 markers complete.\r103620 markers complete.\r103680 markers complete.\r103740 markers complete.\r103800 markers complete.\r103860 markers complete.\r103920 markers complete.\r103980 markers complete.\r104040 markers complete.\r104100 markers complete.\r104160 markers complete.\r104220 markers complete.\r104280 markers complete.\r104340 markers complete.\r104400 markers complete.\r104460 markers complete.\r104520 markers complete.\r104580 markers complete.\r104640 markers complete.\r104700 markers complete.\r104760 markers complete.\r104820 markers complete.\r104880 markers complete.\r104940 markers complete.\r105000 markers complete.\r105060 markers complete.\r105120 markers complete.\r105180 markers complete.\r105240 markers complete.\r105300 markers complete.\r105360 markers complete.\r105420 markers complete.\r105480 markers complete.\r105540 markers complete.\r105600 markers complete.\r105660 markers complete.\r105720 markers complete.\r105780 markers complete.\r105840 markers complete.\r105900 markers complete.\r105960 markers complete.\r106020 markers complete.\r106080 markers complete.\r106140 markers complete.\r106200 markers complete.\r106260 markers complete.\r106320 markers complete.\r106380 markers complete.\r106440 markers complete.\r106500 markers complete.\r106560 markers complete.\r106620 markers complete.\r106680 markers complete.\r106740 markers complete.\r106800 markers complete.\r106860 markers complete.\r106920 markers complete.\r106980 markers complete.\r107040 markers complete.\r107100 markers complete.\r107160 markers complete.\r107220 markers complete.\r107280 markers complete.\r107340 markers complete.\r107400 markers complete.\r107460 markers complete.\r107520 markers complete.\r107580 markers complete.\r107640 markers complete.\r107700 markers complete.\r107760 markers complete.\r107820 markers complete.\r107880 markers complete.\r107940 markers complete.\r108000 markers complete.\r108060 markers complete.\r108120 markers complete.\r108180 markers complete.\r108240 markers complete.\r108300 markers complete.\r108360 markers complete.\r108420 markers complete.\r108480 markers complete.\r108540 markers complete.\r108600 markers complete.\r108660 markers complete.\r108720 markers complete.\r108780 markers complete.\r108840 markers complete.\r108900 markers complete.\r108960 markers complete.\r109020 markers complete.\r109080 markers complete.\r109140 markers complete.\r109200 markers complete.\r109260 markers complete.\r109320 markers complete.\r109380 markers complete.\r109440 markers complete.\r109500 markers complete.\r109560 markers complete.\r109620 markers complete.\r109680 markers complete.\r109740 markers complete.\r109800 markers complete.\r109860 markers complete.\r109920 markers complete.\r109980 markers complete.\r110040 markers complete.\r110100 markers complete.\r110160 markers complete.\r110220 markers complete.\r110280 markers complete.\r110340 markers complete.\r110400 markers complete.\r110460 markers complete.\r110520 markers complete.\r110580 markers complete.\r110640 markers complete.\r110700 markers complete.\r110760 markers complete.\r110820 markers complete.\r110880 markers complete.\r110940 markers complete.\r111000 markers complete.\r111060 markers complete.\r111120 markers complete.\r111180 markers complete.\r111240 markers complete.\r111300 markers complete.\r111360 markers complete.\r111420 markers complete.\r111480 markers complete.\r111540 markers complete.\r111600 markers complete.\r111660 markers complete.\r111720 markers complete.\r111780 markers complete.\r111840 markers complete.\r111900 markers complete.\r111960 markers complete.\r112020 markers complete.\r112080 markers complete.\r112140 markers complete.\r112200 markers complete.\r112260 markers complete.\r112320 markers complete.\r112380 markers complete.\r112440 markers complete.\r112500 markers complete.\r112560 markers complete.\r112620 markers complete.\r112680 markers complete.\r112740 markers complete.\r112800 markers complete.\r112860 markers complete.\r112920 markers complete.\r112980 markers complete.\r113040 markers complete.\r113100 markers complete.\r113160 markers complete.\r113220 markers complete.\r113280 markers complete.\r113340 markers complete.\r113400 markers complete.\r113460 markers complete.\r113520 markers complete.\r113580 markers complete.\r113640 markers complete.\r113700 markers complete.\r113760 markers complete.\r113820 markers complete.\r113880 markers complete.\r113940 markers complete.\r114000 markers complete.\r114060 markers complete.\r114120 markers complete.\r114180 markers complete.\r114240 markers complete.\r114300 markers complete.\r114360 markers complete.\r114420 markers complete.\r114480 markers complete.\r114540 markers complete.\r114600 markers complete.\r114660 markers complete.\r114720 markers complete.\r114780 markers complete.\r114840 markers complete.\r114900 markers complete.\r114960 markers complete.\r115020 markers complete.\r115080 markers complete.\r115140 markers complete.\r115200 markers complete.\r115260 markers complete.\r115320 markers complete.\r115380 markers complete.\r115440 markers complete.\r115500 markers complete.\r115560 markers complete.\r115620 markers complete.\r115680 markers complete.\r115740 markers complete.\r115800 markers complete.\r115860 markers complete.\r115920 markers complete.\r115980 markers complete.\r116040 markers complete.\r116100 markers complete.\r116160 markers complete.\r116220 markers complete.\r116280 markers complete.\r116340 markers complete.\r116400 markers complete.\r116460 markers complete.\r116520 markers complete.\r116580 markers complete.\r116640 markers complete.\r116700 markers complete.\r116760 markers complete.\r116820 markers complete.\r116880 markers complete.\r116940 markers complete.\r117000 markers complete.\r117060 markers complete.\r117120 markers complete.\r117180 markers complete.\r117240 markers complete.\r117300 markers complete.\r117360 markers complete.\r117420 markers complete.\r117480 markers complete.\r117540 markers complete.\r117600 markers complete.\r117660 markers complete.\r117720 markers complete.\r117780 markers complete.\r117840 markers complete.\r117900 markers complete.\r117960 markers complete.\r118020 markers complete.\r118080 markers complete.\r118140 markers complete.\r118200 markers complete.\r118260 markers complete.\r118320 markers complete.\r118380 markers complete.\r118440 markers complete.\r118500 markers complete.\r118560 markers complete.\r118620 markers complete.\r118680 markers complete.\r118740 markers complete.\r118800 markers complete.\r118860 markers complete.\r118920 markers complete.\r118980 markers complete.\r119040 markers complete.\r119100 markers complete.\r119160 markers complete.\r119220 markers complete.\r119280 markers complete.\r119340 markers complete.\r119400 markers complete.\r119460 markers complete.\r119520 markers complete.\r119580 markers complete.\r119640 markers complete.\r119700 markers complete.\r119760 markers complete.\r119820 markers complete.\r119880 markers complete.\r119940 markers complete.\r120000 markers complete.\r120060 markers complete.\r120120 markers complete.\r120180 markers complete.\r120240 markers complete.\r120300 markers complete.\r120360 markers complete.\r120420 markers complete.\r120480 markers complete.\r120540 markers complete.\r120600 markers complete.\r120660 markers complete.\r120720 markers complete.\r120780 markers complete.\r120840 markers complete.\r120900 markers complete.\r120960 markers complete.\r121020 markers complete.\r121080 markers complete.\r121140 markers complete.\r121200 markers complete.\r121260 markers complete.\r121320 markers complete.\r121380 markers complete.\r121440 markers complete.\r121500 markers complete.\r121560 markers complete.\r121620 markers complete.\r121680 markers complete.\r121740 markers complete.\r121800 markers complete.\r121860 markers complete.\r121920 markers complete.\r121980 markers complete.\r122040 markers complete.\r122100 markers complete.\r122160 markers complete.\r122220 markers complete.\r122280 markers complete.\r122340 markers complete.\r122400 markers complete.\r122460 markers complete.\r122520 markers complete.\r122580 markers complete.\r122640 markers complete.\r122700 markers complete.\r122760 markers complete.\r122820 markers complete.\r122880 markers complete.\r122940 markers complete.\r123000 markers complete.\r123060 markers complete.\r123120 markers complete.\r123180 markers complete.\r123240 markers complete.\r123300 markers complete.\r123360 markers complete.\r123420 markers complete.\r123480 markers complete.\r123540 markers complete.\r123600 markers complete.\r123660 markers complete.\r123720 markers complete.\r123780 markers complete.\r123840 markers complete.\r123900 markers complete.\r123960 markers complete.\r124020 markers complete.\r124080 markers complete.\r124140 markers complete.\r124200 markers complete.\r124260 markers complete.\r124320 markers complete.\r124380 markers complete.\r124440 markers complete.\r124500 markers complete.\r124560 markers complete.\r124620 markers complete.\r124680 markers complete.\r124740 markers complete.\r124800 markers complete.\r124860 markers complete.\r124920 markers complete.\r124980 markers complete.\r125040 markers complete.\r125100 markers complete.\r125160 markers complete.\r125220 markers complete.\r125280 markers complete.\r125340 markers complete.\r125400 markers complete.\r125460 markers complete.\r125520 markers complete.\r125580 markers complete.\r125640 markers complete.\r125700 markers complete.\r125760 markers complete.\r125820 markers complete.\r125880 markers complete.\r125940 markers complete.\r126000 markers complete.\r126060 markers complete.\r126120 markers complete.\r126180 markers complete.\r126240 markers complete.\r126300 markers complete.\r126360 markers complete.\r126420 markers complete.\r126480 markers complete.\r126540 markers complete.\r126600 markers complete.\r126660 markers complete.\r126720 markers complete.\r126780 markers complete.\r126840 markers complete.\r126900 markers complete.\r126960 markers complete.\r127020 markers complete.\r127080 markers complete.\r127140 markers complete.\r127200 markers complete.\r127260 markers complete.\r127320 markers complete.\r127380 markers complete.\r127440 markers complete.\r127500 markers complete.\r127560 markers complete.\r127620 markers complete.\r127680 markers complete.\r127740 markers complete.\r127800 markers complete.\r127860 markers complete.\r127920 markers complete.\r127980 markers complete.\r128040 markers complete.\r128100 markers complete.\r128160 markers complete.\r128220 markers complete.\r128280 markers complete.\r128340 markers complete.\r128400 markers complete.\r128460 markers complete.\r128520 markers complete.\r128580 markers complete.\r128640 markers complete.\r128700 markers complete.\r128760 markers complete.\r128820 markers complete.\r128880 markers complete.\r128940 markers complete.\r129000 markers complete.\r129060 markers complete.\r129120 markers complete.\r129180 markers complete.\r129240 markers complete.\r129300 markers complete.\r129360 markers complete.\r129420 markers complete.\r129480 markers complete.\r129540 markers complete.\r129600 markers complete.\r129660 markers complete.\r129720 markers complete.\r129780 markers complete.\r129840 markers complete.\r129900 markers complete.\r129960 markers complete.\r130020 markers complete.\r130080 markers complete.\r130140 markers complete.\r130200 markers complete.\r130260 markers complete.\r130320 markers complete.\r130380 markers complete.\r130440 markers complete.\r130500 markers complete.\r130560 markers complete.\r130620 markers complete.\r130680 markers complete.\r130740 markers complete.\r130800 markers complete.\r130860 markers complete.\r130920 markers complete.\r130980 markers complete.\r131040 markers complete.\r131100 markers complete.\r131160 markers complete.\r131220 markers complete.\r131280 markers complete.\r131340 markers complete.\r131400 markers complete.\r131460 markers complete.\r131520 markers complete.\r131580 markers complete.\r131640 markers complete.\r131700 markers complete.\r131760 markers complete.\r131820 markers complete.\r131880 markers complete.\r131940 markers complete.\r132000 markers complete.\r132060 markers complete.\r132120 markers complete.\r132180 markers complete.\r132240 markers complete.\r132300 markers complete.\r132360 markers complete.\r132420 markers complete.\r132480 markers complete.\r132540 markers complete.\r132600 markers complete.\r132660 markers complete.\r132720 markers complete.\r132780 markers complete.\r132840 markers complete.\r132900 markers complete.\r132960 markers complete.\r133020 markers complete.\r133080 markers complete.\r133140 markers complete.\r133200 markers complete.\r133260 markers complete.\r133320 markers complete.\r133380 markers complete.\r133440 markers complete.\r133500 markers complete.\r133560 markers complete.\r133620 markers complete.\r133680 markers complete.\r133740 markers complete.\r133800 markers complete.\r133860 markers complete.\r133920 markers complete.\r133980 markers complete.\r134040 markers complete.\r134100 markers complete.\r134160 markers complete.\r134220 markers complete.\r134280 markers complete.\r134340 markers complete.\r134400 markers complete.\r134460 markers complete.\r134520 markers complete.\r134580 markers complete.\r134640 markers complete.\r134700 markers complete.\r134760 markers complete.\r134820 markers complete.\r134880 markers complete.\r134940 markers complete.\r135000 markers complete.\r135060 markers complete.\r135120 markers complete.\r135180 markers complete.\r135240 markers complete.\r135300 markers complete.\r135360 markers complete.\r135420 markers complete.\r135480 markers complete.\r135540 markers complete.\r135600 markers complete.\r135660 markers complete.\r135720 markers complete.\r135780 markers complete.\r135840 markers complete.\r135900 markers complete.\r135960 markers complete.\r136020 markers complete.\r136080 markers complete.\r136140 markers complete.\r136200 markers complete.\r136260 markers complete.\r136320 markers complete.\r136380 markers complete.\r136440 markers complete.\r136500 markers complete.\r136560 markers complete.\r136620 markers complete.\r136680 markers complete.\r136740 markers complete.\r136800 markers complete.\r136860 markers complete.\r136920 markers complete.\r136980 markers complete.\r137040 markers complete.\r137100 markers complete.\r137160 markers complete.\r137220 markers complete.\r137280 markers complete.\r137340 markers complete.\r137400 markers complete.\r137460 markers complete.\r137520 markers complete.\r137580 markers complete.\r137640 markers complete.\r137700 markers complete.\r137760 markers complete.\r137820 markers complete.\r137880 markers complete.\r137940 markers complete.\r138000 markers complete.\r138060 markers complete.\r138120 markers complete.\r138180 markers complete.\r138240 markers complete.\r138300 markers complete.\r138360 markers complete.\r138420 markers complete.\r138480 markers complete.\r138540 markers complete.\r138600 markers complete.\r138660 markers complete.\r138720 markers complete.\r138780 markers complete.\r138840 markers complete.\r138900 markers complete.\r138960 markers complete.\r139020 markers complete.\r139080 markers complete.\r139140 markers complete.\r139200 markers complete.\r139260 markers complete.\r139320 markers complete.\r139380 markers complete.\r139440 markers complete.\r139500 markers complete.\r139560 markers complete.\r139620 markers complete.\r139680 markers complete.\r139740 markers complete.\r139800 markers complete.\r139860 markers complete.\r139920 markers complete.\r139980 markers complete.\r140040 markers complete.\r140100 markers complete.\r140160 markers complete.\r140220 markers complete.\r140280 markers complete.\r140340 markers complete.\r140400 markers complete.\r140460 markers complete.\r140520 markers complete.\r140580 markers complete.\r140640 markers complete.\r140700 markers complete.\r140760 markers complete.\r140820 markers complete.\r140880 markers complete.\r140940 markers complete.\r141000 markers complete.\r141060 markers complete.\r141120 markers complete.\r141180 markers complete.\r141240 markers complete.\r141300 markers complete.\r141360 markers complete.\r141420 markers complete.\r141480 markers complete.\r141540 markers complete.\r141600 markers complete.\r141660 markers complete.\r141720 markers complete.\r141780 markers complete.\r141840 markers complete.\r141900 markers complete.\r141960 markers complete.\r142020 markers complete.\r142080 markers complete.\r142140 markers complete.\r142200 markers complete.\r142260 markers complete.\r142320 markers complete.\r142380 markers complete.\r142440 markers complete.\r142500 markers complete.\r142560 markers complete.\r142620 markers complete.\r142680 markers complete.\r142740 markers complete.\r142800 markers complete.\r142860 markers complete.\r142920 markers complete.\r142980 markers complete.\r143040 markers complete.\r143100 markers complete.\r143160 markers complete.\r143220 markers complete.\r143280 markers complete.\r143340 markers complete.\r143400 markers complete.\r143460 markers complete.\r143520 markers complete.\r143580 markers complete.\r143640 markers complete.\r143700 markers complete.\r143760 markers complete.\r143820 markers complete.\r143880 markers complete.\r143940 markers complete.\r144000 markers complete.\r144060 markers complete.\r144120 markers complete.\r144180 markers complete.\r144240 markers complete.\r144300 markers complete.\r144360 markers complete.\r144420 markers complete.\r144480 markers complete.\r144540 markers complete.\r144600 markers complete.\r144660 markers complete.\r144720 markers complete.\r144780 markers complete.\r144840 markers complete.\r144900 markers complete.\r144960 markers complete.\r145020 markers complete.\r145080 markers complete.\r145140 markers complete.\r145200 markers complete.\r145260 markers complete.\r145320 markers complete.\r145380 markers complete.\r145440 markers complete.\r145500 markers complete.\r145560 markers complete.\r145620 markers complete.\r145680 markers complete.\r145740 markers complete.\r145800 markers complete.\r145860 markers complete.\r145920 markers complete.\r145980 markers complete.\r146040 markers complete.\r146100 markers complete.\r146160 markers complete.\r146220 markers complete.\r146280 markers complete.\r146340 markers complete.\r146400 markers complete.\r146460 markers complete.\r146520 markers complete.\r146580 markers complete.\r146640 markers complete.\r146700 markers complete.\r146760 markers complete.\r146820 markers complete.\r146880 markers complete.\r146940 markers complete.\r147000 markers complete.\r147060 markers complete.\r147120 markers complete.\r147180 markers complete.\r147240 markers complete.\r147300 markers complete.\r147360 markers complete.\r147420 markers complete.\r147480 markers complete.\r147540 markers complete.\r147600 markers complete.\r147660 markers complete.\r147720 markers complete.\r147780 markers complete.\r147840 markers complete.\r147900 markers complete.\r147960 markers complete.\r148020 markers complete.\r148080 markers complete.\r148140 markers complete.\r148200 markers complete.\r148260 markers complete.\r148320 markers complete.\r148380 markers complete.\r148440 markers complete.\r148500 markers complete.\r148560 markers complete.\r148620 markers complete.\r148680 markers complete.\r148740 markers complete.\r148800 markers complete.\r148860 markers complete.\r148920 markers complete.\r148980 markers complete.\r149040 markers complete.\r149100 markers complete.\r149160 markers complete.\r149220 markers complete.\r149280 markers complete.\r149340 markers complete.\r149400 markers complete.\r149460 markers complete.\r149520 markers complete.\r149580 markers complete.\r149640 markers complete.\r149700 markers complete.\r149760 markers complete.\r149820 markers complete.\r149880 markers complete.\r149940 markers complete.\r150000 markers complete.\r150060 markers complete.\r150120 markers complete.\r150180 markers complete.\r150240 markers complete.\r150300 markers complete.\r150360 markers complete.\r150420 markers complete.\r150480 markers complete.\r150540 markers complete.\r150600 markers complete.\r150660 markers complete.\r150720 markers complete.\r150780 markers complete.\r150840 markers complete.\r150900 markers complete.\r150960 markers complete.\r151020 markers complete.\r151080 markers complete.\r151140 markers complete.\r151200 markers complete.\r151260 markers complete.\r151320 markers complete.\r151380 markers complete.\r151440 markers complete.\r151500 markers complete.\r151560 markers complete.\r151620 markers complete.\r151680 markers complete.\r151740 markers complete.\r151800 markers complete.\r151860 markers complete.\r151920 markers complete.\r151980 markers complete.\r152040 markers complete.\r152100 markers complete.\r152160 markers complete.\r152220 markers complete.\r152280 markers complete.\r152340 markers complete.\r152400 markers complete.\r152460 markers complete.\r152520 markers complete.\r152580 markers complete.\r152640 markers complete.\r152700 markers complete.\r152760 markers complete.\r152820 markers complete.\r152880 markers complete.\r152940 markers complete.\r153000 markers complete.\r153060 markers complete.\r153120 markers complete.\r153180 markers complete.\r153240 markers complete.\r153300 markers complete.\r153360 markers complete.\r153420 markers complete.\r153480 markers complete.\r153540 markers complete.\r153600 markers complete.\r153660 markers complete.\r153720 markers complete.\r153780 markers complete.\r153840 markers complete.\r153900 markers complete.\r153960 markers complete.\r154020 markers complete.\r154080 markers complete.\r154140 markers complete.\r154200 markers complete.\r154260 markers complete.\r154320 markers complete.\r154380 markers complete.\r154440 markers complete.\r154500 markers complete.\r154560 markers complete.\r154620 markers complete.\r154680 markers complete.\r154740 markers complete.\r154800 markers complete.\r154860 markers complete.\r154920 markers complete.\r154980 markers complete.\r155040 markers complete.\r155100 markers complete.\r155160 markers complete.\r155220 markers complete.\r155280 markers complete.\r155340 markers complete.\r155400 markers complete.\r155460 markers complete.\r155520 markers complete.\r155580 markers complete.\r155640 markers complete.\r155700 markers complete.\r155760 markers complete.\r155820 markers complete.\r155880 markers complete.\r155940 markers complete.\r156000 markers complete.\r156060 markers complete.\r156120 markers complete.\r156180 markers complete.\r156240 markers complete.\r156300 markers complete.\r156360 markers complete.\r156420 markers complete.\r156480 markers complete.\r156540 markers complete.\r156600 markers complete.\r156660 markers complete.\r156720 markers complete.\r156780 markers complete.\r156840 markers complete.\r156900 markers complete.\r156960 markers complete.\r157020 markers complete.\r157080 markers complete.\r157140 markers complete.\r157200 markers complete.\r157260 markers complete.\r157320 markers complete.\r157380 markers complete.\r157440 markers complete.\r157500 markers complete.\r157560 markers complete.\r157620 markers complete.\r157680 markers complete.\r157740 markers complete.\r157800 markers complete.\r157860 markers complete.\r157920 markers complete.\r157980 markers complete.\r158040 markers complete.\r158100 markers complete.\r158160 markers complete.\r158220 markers complete.\r158280 markers complete.\r158340 markers complete.\r158400 markers complete.\r158460 markers complete.\r158520 markers complete.\r158580 markers complete.\r158640 markers complete.\r158700 markers complete.\r158760 markers complete.\r158820 markers complete.\r158880 markers complete.\r158940 markers complete.\r159000 markers complete.\r159060 markers complete.\r159120 markers complete.\r159180 markers complete.\r159240 markers complete.\r159300 markers complete.\r159360 markers complete.\r159420 markers complete.\r159480 markers complete.\r159540 markers complete.\r159600 markers complete.\r159660 markers complete.\r159720 markers complete.\r159780 markers complete.\r159840 markers complete.\r159900 markers complete.\r159960 markers complete.\r160020 markers complete.\r160080 markers complete.\r160140 markers complete.\r160200 markers complete.\r160260 markers complete.\r160320 markers complete.\r160380 markers complete.\r160440 markers complete.\r160500 markers complete.\r160560 markers complete.\r160620 markers complete.\r160680 markers complete.\r160740 markers complete.\r160800 markers complete.\r160860 markers complete.\r160920 markers complete.\r160980 markers complete.\r161040 markers complete.\r161100 markers complete.\r161160 markers complete.\r161220 markers complete.\r161280 markers complete.\r161340 markers complete.\r161400 markers complete.\r161460 markers complete.\r161520 markers complete.\r161580 markers complete.\r161640 markers complete.\r161700 markers complete.\r161760 markers complete.\r161820 markers complete.\r161880 markers complete.\r161940 markers complete.\r162000 markers complete.\r162060 markers complete.\r162120 markers complete.\r162180 markers complete.\r162240 markers complete.\r162300 markers complete.\r162360 markers complete.\r162420 markers complete.\r162480 markers complete.\r162540 markers complete.\r162600 markers complete.\r162660 markers complete.\r162720 markers complete.\r162780 markers complete.\r162840 markers complete.\r162900 markers complete.\r162960 markers complete.\r163020 markers complete.\r163080 markers complete.\r163140 markers complete.\r163200 markers complete.\r163260 markers complete.\r163320 markers complete.\r163380 markers complete.\r163440 markers complete.\r163500 markers complete.\r163560 markers complete.\r163620 markers complete.\r163680 markers complete.\r163740 markers complete.\r163800 markers complete.\r163860 markers complete.\r163920 markers complete.\r163980 markers complete.\r164040 markers complete.\r164100 markers complete.\r164160 markers complete.\r164220 markers complete.\r164280 markers complete.\r164340 markers complete.\r164400 markers complete.\r164460 markers complete.\r164520 markers complete.\r164580 markers complete.\r164640 markers complete.\r164700 markers complete.\r164760 markers complete.\r164820 markers complete.\r164880 markers complete.\r164940 markers complete.\r165000 markers complete.\r165060 markers complete.\r165120 markers complete.\r165180 markers complete.\r165240 markers complete.\r165300 markers complete.\r165360 markers complete.\r165420 markers complete.\r165480 markers complete.\r165540 markers complete.\r165600 markers complete.\r165660 markers complete.\r165720 markers complete.\r165780 markers complete.\r165840 markers complete.\r165900 markers complete.\r165960 markers complete.\r166020 markers complete.\r166080 markers complete.\r166140 markers complete.\r166200 markers complete.\r166260 markers complete.\r166320 markers complete.\r166380 markers complete.\r166440 markers complete.\r166500 markers complete.\r166560 markers complete.\r166620 markers complete.\r166680 markers complete.\r166740 markers complete.\r166800 markers complete.\r166860 markers complete.\r166920 markers complete.\r166980 markers complete.\r167040 markers complete.\r167100 markers complete.\r167160 markers complete.\r167220 markers complete.\r167280 markers complete.\r167340 markers complete.\r167400 markers complete.\r167460 markers complete.\r167520 markers complete.\r167580 markers complete.\r167640 markers complete.\r167700 markers complete.\r167760 markers complete.\r167820 markers complete.\r167880 markers complete.\r167940 markers complete.\r168000 markers complete.\r168060 markers complete.\r168120 markers complete.\r168180 markers complete.\r168240 markers complete.\r168300 markers complete.\r168360 markers complete.\r168420 markers complete.\r168480 markers complete.\r168540 markers complete.\r168600 markers complete.\r168660 markers complete.\r168720 markers complete.\r168780 markers complete.\r168840 markers complete.\r168900 markers complete.\r168960 markers complete.\r169020 markers complete.\r169080 markers complete.\r169140 markers complete.\r169200 markers complete.\r169260 markers complete.\r169320 markers complete.\r169380 markers complete.\r169440 markers complete.\r169500 markers complete.\r169560 markers complete.\r169620 markers complete.\r169680 markers complete.\r169740 markers complete.\r169800 markers complete.\r169860 markers complete.\r169920 markers complete.\r169980 markers complete.\r170040 markers complete.\r170100 markers complete.\r170160 markers complete.\r170220 markers complete.\r170280 markers complete.\r170340 markers complete.\r170400 markers complete.\r170460 markers complete.\r170520 markers complete.\r170580 markers complete.\r170640 markers complete.\r170700 markers complete.\r170760 markers complete.\r170820 markers complete.\r170880 markers complete.\r170940 markers complete.\r171000 markers complete.\r171060 markers complete.\r171120 markers complete.\r171180 markers complete.\r171240 markers complete.\r171300 markers complete.\r171360 markers complete.\r171420 markers complete.\r171480 markers complete.\r171540 markers complete.\r171600 markers complete.\r171660 markers complete.\r171720 markers complete.\r171780 markers complete.\r171840 markers complete.\r171900 markers complete.\r171960 markers complete.\r172020 markers complete.\r172080 markers complete.\r172140 markers complete.\r172200 markers complete.\r172260 markers complete.\r172320 markers complete.\r172380 markers complete.\r172440 markers complete.\r172500 markers complete.\r172560 markers complete.\r172620 markers complete.\r172680 markers complete.\r172740 markers complete.\r172800 markers complete.\r172860 markers complete.\r172920 markers complete.\r172980 markers complete.\r173040 markers complete.\r173100 markers complete.\r173160 markers complete.\r173220 markers complete.\r173280 markers complete.\r173340 markers complete.\r173400 markers complete.\r173460 markers complete.\r173520 markers complete.\r173580 markers complete.\r173640 markers complete.\r173700 markers complete.\r173760 markers complete.\r173820 markers complete.\r173880 markers complete.\r173940 markers complete.\r174000 markers complete.\r174060 markers complete.\r174120 markers complete.\r174180 markers complete.\r174240 markers complete.\r174300 markers complete.\r174360 markers complete.\r174420 markers complete.\r174480 markers complete.\r174540 markers complete.\r174600 markers complete.\r174660 markers complete.\r174720 markers complete.\r174780 markers complete.\r174840 markers complete.\r174900 markers complete.\r174960 markers complete.\r175020 markers complete.\r175080 markers complete.\r175140 markers complete.\r175200 markers complete.\r175260 markers complete.\r175320 markers complete.\r175380 markers complete.\r175440 markers complete.\r175500 markers complete.\r175560 markers complete.\r175620 markers complete.\r175680 markers complete.\r175740 markers complete.\r175800 markers complete.\r175860 markers complete.\r175920 markers complete.\r175980 markers complete.\r176040 markers complete.\r176100 markers complete.\r176160 markers complete.\r176220 markers complete.\r176280 markers complete.\r176340 markers complete.\r176400 markers complete.\r176460 markers complete.\r176520 markers complete.\r176580 markers complete.\r176640 markers complete.\r176700 markers complete.\r176760 markers complete.\r176820 markers complete.\r176880 markers complete.\r176940 markers complete.\r177000 markers complete.\r177060 markers complete.\r177120 markers complete.\r177180 markers complete.\r177240 markers complete.\r177300 markers complete.\r177360 markers complete.\r177420 markers complete.\r177480 markers complete.\r177540 markers complete.\r177600 markers complete.\r177660 markers complete.\r177720 markers complete.\r177780 markers complete.\r177840 markers complete.\r177900 markers complete.\r177960 markers complete.\r178020 markers complete.\r178080 markers complete.\r178140 markers complete.\r178200 markers complete.\r178260 markers complete.\r178320 markers complete.\r178380 markers complete.\r178440 markers complete.\r178500 markers complete.\r178560 markers complete.\r178620 markers complete.\r178680 markers complete.\r178740 markers complete.\r178800 markers complete.\r178860 markers complete.\r178920 markers complete.\r178980 markers complete.\r179040 markers complete.\r179100 markers complete.\r179160 markers complete.\r179220 markers complete.\r179280 markers complete.\r179340 markers complete.\r179400 markers complete.\r179460 markers complete.\r179520 markers complete.\r179580 markers complete.\r179640 markers complete.\r179700 markers complete.\r179760 markers complete.\r179820 markers complete.\r179880 markers complete.\r179940 markers complete.\r180000 markers complete.\r180060 markers complete.\r180120 markers complete.\r180180 markers complete.\r180240 markers complete.\r180300 markers complete.\r180360 markers complete.\r180420 markers complete.\r180480 markers complete.\r180540 markers complete.\r180600 markers complete.\r180660 markers complete.\r180720 markers complete.\r180780 markers complete.\r180840 markers complete.\r180900 markers complete.\r180960 markers complete.\r181020 markers complete.\r181080 markers complete.\r181140 markers complete.\r181200 markers complete.\r181260 markers complete.\r181320 markers complete.\r181380 markers complete.\r181440 markers complete.\r181500 markers complete.\r181560 markers complete.\r181620 markers complete.\r181680 markers complete.\r181740 markers complete.\r181800 markers complete.\r181860 markers complete.\r181920 markers complete.\r181980 markers complete.\r182040 markers complete.\r182100 markers complete.\r182160 markers complete.\r182220 markers complete.\r182280 markers complete.\r182340 markers complete.\r182400 markers complete.\r182460 markers complete.\r182520 markers complete.\r182580 markers complete.\r182640 markers complete.\r182700 markers complete.\r182760 markers complete.\r182820 markers complete.\r182880 markers complete.\r182940 markers complete.\r183000 markers complete.\r183060 markers complete.\r183120 markers complete.\r183180 markers complete.\r183240 markers complete.\r183300 markers complete.\r183360 markers complete.\r183420 markers complete.\r183480 markers complete.\r183540 markers complete.\r183600 markers complete.\r183660 markers complete.\r183720 markers complete.\r183780 markers complete.\r183840 markers complete.\r183900 markers complete.\r183960 markers complete.\r184020 markers complete.\r184080 markers complete.\r184140 markers complete.\r184200 markers complete.\r184260 markers complete.\r184320 markers complete.\r184380 markers complete.\r184440 markers complete.\r184500 markers complete.\r184560 markers complete.\r184620 markers complete.\r184680 markers complete.\r184740 markers complete.\r184800 markers complete.\r184860 markers complete.\r184920 markers complete.\r184980 markers complete.\r185040 markers complete.\r185100 markers complete.\r185160 markers complete.\r185220 markers complete.\r185280 markers complete.\r185340 markers complete.\r185400 markers complete.\r185460 markers complete.\r185520 markers complete.\r185580 markers complete.\r185640 markers complete.\r185700 markers complete.\r185760 markers complete.\r185820 markers complete.\r185880 markers complete.\r185940 markers complete.\r186000 markers complete.\r186060 markers complete.\r186120 markers complete.\r186180 markers complete.\r186240 markers complete.\r186300 markers complete.\r186360 markers complete.\r186420 markers complete.\r186480 markers complete.\r186540 markers complete.\r186600 markers complete.\r186660 markers complete.\r186720 markers complete.\r186780 markers complete.\r186840 markers complete.\r186900 markers complete.\r186960 markers complete.\r187020 markers complete.\r187080 markers complete.\r187140 markers complete.\r187200 markers complete.\r187260 markers complete.\r187320 markers complete.\r187380 markers complete.\r187440 markers complete.\r187500 markers complete.\r187560 markers complete.\r187620 markers complete.\r187680 markers complete.\r187740 markers complete.\r187800 markers complete.\r187860 markers complete.\r187920 markers complete.\r187980 markers complete.\r188040 markers complete.\r188100 markers complete.\r188160 markers complete.\r188220 markers complete.\r188280 markers complete.\r188340 markers complete.\r188400 markers complete.\r188460 markers complete.\r188520 markers complete.\r188580 markers complete.\r188640 markers complete.\r188700 markers complete.\r188760 markers complete.\r188820 markers complete.\r188880 markers complete.\r188940 markers complete.\r189000 markers complete.\r189060 markers complete.\r189120 markers complete.\r189180 markers complete.\r189240 markers complete.\r189300 markers complete.\r189360 markers complete.\r189420 markers complete.\r189480 markers complete.\r189540 markers complete.\r189600 markers complete.\r189660 markers complete.\r189720 markers complete.\r189780 markers complete.\r189840 markers complete.\r189900 markers complete.\r189960 markers complete.\r190020 markers complete.\r190080 markers complete.\r190140 markers complete.\r190200 markers complete.\r190260 markers complete.\r190320 markers complete.\r190380 markers complete.\r190440 markers complete.\r190500 markers complete.\r190560 markers complete.\r190620 markers complete.\r190680 markers complete.\r190740 markers complete.\r190800 markers complete.\r190860 markers complete.\r190920 markers complete.\r190980 markers complete.\r191040 markers complete.\r191100 markers complete.\r191160 markers complete.\r191220 markers complete.\r191280 markers complete.\r191340 markers complete.\r191400 markers complete.\r191460 markers complete.\r191520 markers complete.\r191580 markers complete.\r191640 markers complete.\r191700 markers complete.\r191760 markers complete.\r191820 markers complete.\r191880 markers complete.\r191940 markers complete.\r192000 markers complete.\r192060 markers complete.\r192120 markers complete.\r192180 markers complete.\r192240 markers complete.\r192300 markers complete.\r192360 markers complete.\r192420 markers complete.\r192480 markers complete.\r192540 markers complete.\r192600 markers complete.\r192660 markers complete.\r192720 markers complete.\r192780 markers complete.\r192840 markers complete.\r192900 markers complete.\r192960 markers complete.\r193020 markers complete.\r193080 markers complete.\r193140 markers complete.\r193200 markers complete.\r193260 markers complete.\r193320 markers complete.\r193380 markers complete.\r193440 markers complete.\r193500 markers complete.\r193560 markers complete.\r193620 markers complete.\r193680 markers complete.\r193740 markers complete.\r193800 markers complete.\r193860 markers complete.\r193920 markers complete.\r193980 markers complete.\r194040 markers complete.\r194100 markers complete.\r194160 markers complete.\r194220 markers complete.\r194280 markers complete.\r194340 markers complete.\r194400 markers complete.\r194460 markers complete.\r194520 markers complete.\r194580 markers complete.\r194640 markers complete.\r194700 markers complete.\r194760 markers complete.\r194820 markers complete.\r194880 markers complete.\r194940 markers complete.\r195000 markers complete.\r195060 markers complete.\r195120 markers complete.\r195180 markers complete.\r195240 markers complete.\r195300 markers complete.\r195360 markers complete.\r195420 markers complete.\r195480 markers complete.\r195540 markers complete.\r195600 markers complete.\r195660 markers complete.\r195720 markers complete.\r195780 markers complete.\r195840 markers complete.\r195900 markers complete.\r195960 markers complete.\r196020 markers complete.\r196080 markers complete.\r196140 markers complete.\r196200 markers complete.\r196260 markers complete.\r196320 markers complete.\r196380 markers complete.\r196440 markers complete.\r196500 markers complete.\r196560 markers complete.\r196620 markers complete.\r196680 markers complete.\r196740 markers complete.\r196800 markers complete.\r196860 markers complete.\r196920 markers complete.\r196980 markers complete.\r197040 markers complete.\r197100 markers complete.\r197160 markers complete.\r197220 markers complete.\r197280 markers complete.\r197340 markers complete.\r197400 markers complete.\r197460 markers complete.\r197520 markers complete.\r197580 markers complete.\r197640 markers complete.\r197700 markers complete.\r197760 markers complete.\r197820 markers complete.\r197880 markers complete.\r197940 markers complete.\r198000 markers complete.\r198060 markers complete.\r198120 markers complete.\r198180 markers complete.\r198240 markers complete.\r198300 markers complete.\r198360 markers complete.\r198420 markers complete.\r198480 markers complete.\r198540 markers complete.\r198600 markers complete.\r198660 markers complete.\r198720 markers complete.\r198780 markers complete.\r198840 markers complete.\r198900 markers complete.\r198960 markers complete.\r199020 markers complete.\r199080 markers complete.\r199140 markers complete.\r199200 markers complete.\r199260 markers complete.\r199320 markers complete.\r199380 markers complete.\r199440 markers complete.\r199500 markers complete.\r199560 markers complete.\r199620 markers complete.\r199680 markers complete.\r199740 markers complete.\r199800 markers complete.\r199860 markers complete.\r199920 markers complete.\r199980 markers complete.\r200040 markers complete.\r200100 markers complete.\r200160 markers complete.\r200220 markers complete.\r200280 markers complete.\r200340 markers complete.\r200400 markers complete.\r200460 markers complete.\r200520 markers complete.\r200580 markers complete.\r200640 markers complete.\r200700 markers complete.\r200760 markers complete.\r200820 markers complete.\r200880 markers complete.\r200940 markers complete.\r201000 markers complete.\r201060 markers complete.\r201120 markers complete.\r201180 markers complete.\r201240 markers complete.\r201300 markers complete.\r201360 markers complete.\r201420 markers complete.\r201480 markers complete.\r201540 markers complete.\r201600 markers complete.\r201660 markers complete.\r201720 markers complete.\r201780 markers complete.\r201840 markers complete.\r201900 markers complete.\r201960 markers complete.\r202020 markers complete.\r202080 markers complete.\r202140 markers complete.\r202200 markers complete.\r202260 markers complete.\r202320 markers complete.\r202380 markers complete.\r202440 markers complete.\r202500 markers complete.\r202560 markers complete.\r202620 markers complete.\r202680 markers complete.\r202740 markers complete.\r202800 markers complete.\r202860 markers complete.\r202920 markers complete.\r202980 markers complete.\r203040 markers complete.\r203100 markers complete.\r203160 markers complete.\r203220 markers complete.\r203280 markers complete.\r203340 markers complete.\r203400 markers complete.\r203460 markers complete.\r203520 markers complete.\r203580 markers complete.\r203640 markers complete.\r203700 markers complete.\r203760 markers complete.\r203820 markers complete.\r203880 markers complete.\r203940 markers complete.\r204000 markers complete.\r204060 markers complete.\r204120 markers complete.\r204180 markers complete.\r204240 markers complete.\r204300 markers complete.\r204360 markers complete.\r204420 markers complete.\r204480 markers complete.\r204540 markers complete.\r204600 markers complete.\r204660 markers complete.\r204720 markers complete.\r204780 markers complete.\r204840 markers complete.\r204900 markers complete.\r204960 markers complete.\r205020 markers complete.\r205080 markers complete.\r205140 markers complete.\r205200 markers complete.\r205260 markers complete.\r205320 markers complete.\r205380 markers complete.\r205440 markers complete.\r205500 markers complete.\r205560 markers complete.\r205620 markers complete.\r205680 markers complete.\r205740 markers complete.\r205800 markers complete.\r205860 markers complete.\r205920 markers complete.\r205980 markers complete.\r206040 markers complete.\r206100 markers complete.\r206160 markers complete.\r206220 markers complete.\r206280 markers complete.\r206340 markers complete.\r206400 markers complete.\r206460 markers complete.\r206520 markers complete.\r206580 markers complete.\r206640 markers complete.\r206700 markers complete.\r206760 markers complete.\r206820 markers complete.\r206880 markers complete.\r206940 markers complete.\r207000 markers complete.\r207060 markers complete.\r207120 markers complete.\r207180 markers complete.\r207240 markers complete.\r207300 markers complete.\r207360 markers complete.\r207420 markers complete.\r207480 markers complete.\r207540 markers complete.\r207600 markers complete.\r207660 markers complete.\r207720 markers complete.\r207780 markers complete.\r207840 markers complete.\r207900 markers complete.\r207960 markers complete.\r208020 markers complete.\r208080 markers complete.\r208140 markers complete.\r208200 markers complete.\r208260 markers complete.\r208320 markers complete.\r208380 markers complete.\r208440 markers complete.\r208500 markers complete.\r208560 markers complete.\r208620 markers complete.\r208680 markers complete.\r208740 markers complete.\r208800 markers complete.\r208860 markers complete.\r208920 markers complete.\r208980 markers complete.\r209040 markers complete.\r209100 markers complete.\r209160 markers complete.\r209220 markers complete.\r209280 markers complete.\r209340 markers complete.\r209400 markers complete.\r209460 markers complete.\r209520 markers complete.\r209580 markers complete.\r209640 markers complete.\r209700 markers complete.\r209760 markers complete.\r209820 markers complete.\r209880 markers complete.\r209940 markers complete.\r210000 markers complete.\r210060 markers complete.\r210120 markers complete.\r210180 markers complete.\r210240 markers complete.\r210300 markers complete.\r210360 markers complete.\r210420 markers complete.\r210480 markers complete.\r210540 markers complete.\r210600 markers complete.\r210660 markers complete.\r210720 markers complete.\r210780 markers complete.\r210840 markers complete.\r210900 markers complete.\r210960 markers complete.\r211020 markers complete.\r211080 markers complete.\r211140 markers complete.\r211200 markers complete.\r211260 markers complete.\r211320 markers complete.\r211380 markers complete.\r211440 markers complete.\r211500 markers complete.\r211560 markers complete.\r211620 markers complete.\r211680 markers complete.\r211740 markers complete.\r211800 markers complete.\r211860 markers complete.\r211920 markers complete.\r211980 markers complete.\r212040 markers complete.\r212100 markers complete.\r212160 markers complete.\r212220 markers complete.\r212280 markers complete.\r212340 markers complete.\r212400 markers complete.\r212460 markers complete.\r212520 markers complete.\r212580 markers complete.\r212640 markers complete.\r212700 markers complete.\r212760 markers complete.\r212820 markers complete.\r212880 markers complete.\r212940 markers complete.\r213000 markers complete.\r213060 markers complete.\r213120 markers complete.\r213180 markers complete.\r213240 markers complete.\r213300 markers complete.\r213360 markers complete.\r213420 markers complete.\r213480 markers complete.\r213540 markers complete.\r213600 markers complete.\r213660 markers complete.\r213720 markers complete.\r213780 markers complete.\r213840 markers complete.\r213900 markers complete.\r213960 markers complete.\r214020 markers complete.\r214080 markers complete.\r214140 markers complete.\r214200 markers complete.\r214260 markers complete.\r214320 markers complete.\r214380 markers complete.\r214440 markers complete.\r214500 markers complete.\r214560 markers complete.\r214620 markers complete.\r214680 markers complete.\r214740 markers complete.\r214800 markers complete.\r214860 markers complete.\r214920 markers complete.\r214980 markers complete.\r215040 markers complete.\r215100 markers complete.\r215160 markers complete.\r215220 markers complete.\r215280 markers complete.\r215340 markers complete.\r215400 markers complete.\r215460 markers complete.\r215520 markers complete.\r215580 markers complete.\r215640 markers complete.\r215700 markers complete.\r215760 markers complete.\r215820 markers complete.\r215880 markers complete.\r215940 markers complete.\r216000 markers complete.\r216060 markers complete.\r216120 markers complete.\r216180 markers complete.\r216240 markers complete.\r216300 markers complete.\r216360 markers complete.\r216420 markers complete.\r216480 markers complete.\r216540 markers complete.\r216600 markers complete.\r216660 markers complete.\r216720 markers complete.\r216780 markers complete.\r216840 markers complete.\r216900 markers complete.\r216960 markers complete.\r217020 markers complete.\r217080 markers complete.\r217140 markers complete.\r217200 markers complete.\r217260 markers complete.\r217320 markers complete.\r217380 markers complete.\r217440 markers complete.\r217500 markers complete.\r217560 markers complete.\r217620 markers complete.\r217680 markers complete.\r217740 markers complete.\r217800 markers complete.\r217860 markers complete.\r217920 markers complete.\r217980 markers complete.\r218040 markers complete.\r218100 markers complete.\r218160 markers complete.\r218220 markers complete.\r218280 markers complete.\r218340 markers complete.\r218400 markers complete.\r218460 markers complete.\r218520 markers complete.\r218580 markers complete.\r218640 markers complete.\r218700 markers complete.\r218760 markers complete.\r218820 markers complete.\r218880 markers complete.\r218940 markers complete.\r219000 markers complete.\r219060 markers complete.\r219120 markers complete.\r219180 markers complete.\r219240 markers complete.\r219300 markers complete.\r219360 markers complete.\r219420 markers complete.\r219480 markers complete.\r219540 markers complete.\r219600 markers complete.\r219660 markers complete.\r219720 markers complete.\r219780 markers complete.\r219840 markers complete.\r219900 markers complete.\r219960 markers complete.\r220020 markers complete.\r220080 markers complete.\r220140 markers complete.\r220200 markers complete.\r220260 markers complete.\r220320 markers complete.\r220380 markers complete.\r220440 markers complete.\r220500 markers complete.\r220560 markers complete.\r220620 markers complete.\r220680 markers complete.\r220740 markers complete.\r220800 markers complete.\r220860 markers complete.\r220920 markers complete.\r220980 markers complete.\r221040 markers complete.\r221100 markers complete.\r221160 markers complete.\r221220 markers complete.\r221280 markers complete.\r221340 markers complete.\r221400 markers complete.\r221460 markers complete.\r221520 markers complete.\r221580 markers complete.\r221640 markers complete.\r221700 markers complete.\r221760 markers complete.\r221820 markers complete.\r221880 markers complete.\r221940 markers complete.\r222000 markers complete.\r222060 markers complete.\r222120 markers complete.\r222180 markers complete.\r222240 markers complete.\r222300 markers complete.\r222360 markers complete.\r222420 markers complete.\r222480 markers complete.\r222540 markers complete.\r222600 markers complete.\r222660 markers complete.\r222720 markers complete.\r222780 markers complete.\r222840 markers complete.\r222900 markers complete.\r222960 markers complete.\r223020 markers complete.\r223080 markers complete.\r223140 markers complete.\r223200 markers complete.\r223260 markers complete.\r223320 markers complete.\r223380 markers complete.\r223440 markers complete.\r223500 markers complete.\r223560 markers complete.\r223620 markers complete.\r223680 markers complete.\r223740 markers complete.\r223800 markers complete.\r223860 markers complete.\r223920 markers complete.\r223980 markers complete.\r224040 markers complete.\r224100 markers complete.\r224160 markers complete.\r224220 markers complete.\r224280 markers complete.\r224340 markers complete.\r224400 markers complete.\r224460 markers complete.\r224520 markers complete.\r224580 markers complete.\r224640 markers complete.\r224700 markers complete.\r224760 markers complete.\r224820 markers complete.\r224880 markers complete.\r224940 markers complete.\r225000 markers complete.\r225060 markers complete.\r225120 markers complete.\r225180 markers complete.\r225240 markers complete.\r225300 markers complete.\r225360 markers complete.\r225420 markers complete.\r225480 markers complete.\r225540 markers complete.\r225600 markers complete.\r225660 markers complete.\r225720 markers complete.\r225780 markers complete.\r225840 markers complete.\r225900 markers complete.\r225960 markers complete.\r226020 markers complete.\r226080 markers complete.\r226140 markers complete.\r226200 markers complete.\r226260 markers complete.\r226320 markers complete.\r226380 markers complete.\r226440 markers complete.\r226500 markers complete.\r226560 markers complete.\r226620 markers complete.\r226680 markers complete.\r226740 markers complete.\r226800 markers complete.\r226860 markers complete.\r226920 markers complete.\r226980 markers complete.\r227040 markers complete.\r227100 markers complete.\r227160 markers complete.\r227220 markers complete.\r227280 markers complete.\r227340 markers complete.\r227400 markers complete.\r227460 markers complete.\r227520 markers complete.\r227580 markers complete.\r227640 markers complete.\r227700 markers complete.\r227760 markers complete.\r227820 markers complete.\r227880 markers complete.\r227940 markers complete.\r228000 markers complete.\r228060 markers complete.\r228120 markers complete.\r228180 markers complete.\r228240 markers complete.\r228300 markers complete.\r228360 markers complete.\r228420 markers complete.\r228480 markers complete.\r228540 markers complete.\r228600 markers complete.\r228660 markers complete.\r228720 markers complete.\r228780 markers complete.\r228840 markers complete.\r228900 markers complete.\r228960 markers complete.\r229020 markers complete.\r229080 markers complete.\r229140 markers complete.\r229200 markers complete.\r229260 markers complete.\r229320 markers complete.\r229380 markers complete.\r229440 markers complete.\r229500 markers complete.\r229560 markers complete.\r229620 markers complete.\r229680 markers complete.\r229740 markers complete.\r229800 markers complete.\r229860 markers complete.\r229920 markers complete.\r229980 markers complete.\r230040 markers complete.\r230100 markers complete.\r230160 markers complete.\r230220 markers complete.\r230280 markers complete.\r230340 markers complete.\r230400 markers complete.\r230460 markers complete.\r230520 markers complete.\r230580 markers complete.\r230640 markers complete.\r230700 markers complete.\r230760 markers complete.\r230820 markers complete.\r230880 markers complete.\r230940 markers complete.\r231000 markers complete.\r231060 markers complete.\r231120 markers complete.\r231180 markers complete.\r231240 markers complete.\r231300 markers complete.\r231360 markers complete.\r231420 markers complete.\r231480 markers complete.\r231540 markers complete.\r231600 markers complete.\r231660 markers complete.\r231720 markers complete.\r231780 markers complete.\r231840 markers complete.\r231900 markers complete.\r231960 markers complete.\r232020 markers complete.\r232080 markers complete.\r232140 markers complete.\r232200 markers complete.\r232260 markers complete.\r232320 markers complete.\r232380 markers complete.\r232440 markers complete.\r232500 markers complete.\r232560 markers complete.\r232620 markers complete.\r232680 markers complete.\r232740 markers complete.\r232800 markers complete.\r232860 markers complete.\r232920 markers complete.\r232980 markers complete.\r233040 markers complete.\r233100 markers complete.\r233160 markers complete.\r233220 markers complete.\r233280 markers complete.\r233340 markers complete.\r233400 markers complete.\r233460 markers complete.\r233520 markers complete.\r233580 markers complete.\r233640 markers complete.\r233700 markers complete.\r233760 markers complete.\r233820 markers complete.\r233880 markers complete.\r233940 markers complete.\r234000 markers complete.\r234060 markers complete.\r234120 markers complete.\r234180 markers complete.\r234240 markers complete.\r234300 markers complete.\r234360 markers complete.\r234420 markers complete.\r234480 markers complete.\r234540 markers complete.\r234600 markers complete.\r234660 markers complete.\r234720 markers complete.\r234780 markers complete.\r234840 markers complete.\r234900 markers complete.\r234960 markers complete.\r235020 markers complete.\r235080 markers complete.\r235140 markers complete.\r235200 markers complete.\r235260 markers complete.\r235320 markers complete.\r235380 markers complete.\r235440 markers complete.\r235500 markers complete.\r235560 markers complete.\r235620 markers complete.\r235680 markers complete.\r235740 markers complete.\r235800 markers complete.\r235860 markers complete.\r235920 markers complete.\r235980 markers complete.\r236040 markers complete.\r236100 markers complete.\r236160 markers complete.\r236220 markers complete.\r236280 markers complete.\r236340 markers complete.\r236400 markers complete.\r236460 markers complete.\r236520 markers complete.\r236580 markers complete.\r236640 markers complete.\r236700 markers complete.\r236760 markers complete.\r236820 markers complete.\r236880 markers complete.\r236940 markers complete.\r237000 markers complete.\r237060 markers complete.\r237120 markers complete.\r237180 markers complete.\r237240 markers complete.\r237300 markers complete.\r237360 markers complete.\r237420 markers complete.\r237480 markers complete.\r237540 markers complete.\r237600 markers complete.\r237660 markers complete.\r237720 markers complete.\r237780 markers complete.\r237840 markers complete.\r237900 markers complete.\r237960 markers complete.\r238020 markers complete.\r238080 markers complete.\r238140 markers complete.\r238200 markers complete.\r238260 markers complete.\r238320 markers complete.\r238380 markers complete.\r238440 markers complete.\r238500 markers complete.\r238560 markers complete.\r238620 markers complete.\r238680 markers complete.\r238740 markers complete.\r238800 markers complete.\r238860 markers complete.\r238920 markers complete.\r238980 markers complete.\r239040 markers complete.\r239100 markers complete.\r239160 markers complete.\r239220 markers complete.\r239280 markers complete.\r239340 markers complete.\r239400 markers complete.\r239460 markers complete.\r239520 markers complete.\r239580 markers complete.\r239640 markers complete.\r239700 markers complete.\r239760 markers complete.\r239820 markers complete.\r239880 markers complete.\r239940 markers complete.\r240000 markers complete.\r240060 markers complete.\r240120 markers complete.\r240180 markers complete.\r240240 markers complete.\r240300 markers complete.\r240360 markers complete.\r240420 markers complete.\r240480 markers complete.\r240540 markers complete.\r240600 markers complete.\r240660 markers complete.\r240720 markers complete.\r240780 markers complete.\r240840 markers complete.\r240900 markers complete.\r240960 markers complete.\r241020 markers complete.\r241080 markers complete.\r241140 markers complete.\r241200 markers complete.\r241260 markers complete.\r241320 markers complete.\r241380 markers complete.\r241440 markers complete.\r241500 markers complete.\r241560 markers complete.\r241620 markers complete.\r241680 markers complete.\r241740 markers complete.\r241800 markers complete.\r241860 markers complete.\r241920 markers complete.\r241980 markers complete.\r242040 markers complete.\r242100 markers complete.\r242160 markers complete.\r242220 markers complete.\r242280 markers complete.\r242340 markers complete.\r242400 markers complete.\r242460 markers complete.\r242520 markers complete.\r242580 markers complete.\r242640 markers complete.\r242700 markers complete.\r242760 markers complete.\r242820 markers complete.\r242880 markers complete.\r242940 markers complete.\r243000 markers complete.\r243060 markers complete.\r243120 markers complete.\r243180 markers complete.\r243240 markers complete.\r243300 markers complete.\r243360 markers complete.\r243420 markers complete.\r243480 markers complete.\r243540 markers complete.\r243600 markers complete.\r243660 markers complete.\r243720 markers complete.\r243780 markers complete.\r243840 markers complete.\r243900 markers complete.\r243960 markers complete.\r244020 markers complete.\r244080 markers complete.\r244140 markers complete.\r244200 markers complete.\r244260 markers complete.\r244320 markers complete.\r244380 markers complete.\r244440 markers complete.\r244500 markers complete.\r244560 markers complete.\r244620 markers complete.\r244680 markers complete.\r244740 markers complete.\r244800 markers complete.\r244860 markers complete.\r244920 markers complete.\r244980 markers complete.\r245040 markers complete.\r245100 markers complete.\r245160 markers complete.\r245220 markers complete.\r245280 markers complete.\r245340 markers complete.\r245400 markers complete.\r245460 markers complete.\r245520 markers complete.\r245580 markers complete.\r245640 markers complete.\r245700 markers complete.\r245760 markers complete.\r245820 markers complete.\r245880 markers complete.\r245940 markers complete.\r246000 markers complete.\r246060 markers complete.\r246120 markers complete.\r246180 markers complete.\r246240 markers complete.\r246300 markers complete.\r246360 markers complete.\r246420 markers complete.\r246480 markers complete.\r246540 markers complete.\r246600 markers complete.\r246660 markers complete.\r246720 markers complete.\r246780 markers complete.\r246840 markers complete.\r246900 markers complete.\r246960 markers complete.\r247020 markers complete.\r247080 markers complete.\r247140 markers complete.\r247200 markers complete.\r247260 markers complete.\r247320 markers complete.\r247380 markers complete.\r247440 markers complete.\r247500 markers complete.\r247560 markers complete.\r247620 markers complete.\r247680 markers complete.\r247740 markers complete.\r247800 markers complete.\r247860 markers complete.\r247920 markers complete.\r247980 markers complete.\r248040 markers complete.\r248100 markers complete.\r248160 markers complete.\r248220 markers complete.\r248280 markers complete.\r248340 markers complete.\r248400 markers complete.\r248460 markers complete.\r248520 markers complete.\r248580 markers complete.\r248640 markers complete.\r248700 markers complete.\r248760 markers complete.\r248820 markers complete.\r248880 markers complete.\r248940 markers complete.\r249000 markers complete.\r249060 markers complete.\r249120 markers complete.\r249180 markers complete.\r249240 markers complete.\r249300 markers complete.\r249360 markers complete.\r249420 markers complete.\r249480 markers complete.\r249540 markers complete.\r249600 markers complete.\r249660 markers complete.\r249720 markers complete.\r249780 markers complete.\r249840 markers complete.\r249900 markers complete.\r249960 markers complete.\r250020 markers complete.\r250080 markers complete.\r250140 markers complete.\r250200 markers complete.\r250260 markers complete.\r250320 markers complete.\r250380 markers complete.\r250440 markers complete.\r250500 markers complete.\r250560 markers complete.\r250620 markers complete.\r250680 markers complete.\r250740 markers complete.\r250800 markers complete.\r250860 markers complete.\r250920 markers complete.\r250980 markers complete.\r251040 markers complete.\r251100 markers complete.\r251160 markers complete.\r251220 markers complete.\r251280 markers complete.\r251340 markers complete.\r251400 markers complete.\r251460 markers complete.\r251520 markers complete.\r251580 markers complete.\r251640 markers complete.\r251700 markers complete.\r251760 markers complete.\r251820 markers complete.\r251880 markers complete.\r251940 markers complete.\r252000 markers complete.\r252060 markers complete.\r252120 markers complete.\r252180 markers complete.\r252240 markers complete.\r252300 markers complete.\r252360 markers complete.\r252420 markers complete.\r252480 markers complete.\r252540 markers complete.\r252600 markers complete.\r252660 markers complete.\r252720 markers complete.\r252780 markers complete.\r252840 markers complete.\r252900 markers complete.\r252960 markers complete.\r253020 markers complete.\r253080 markers complete.\r253140 markers complete.\r253200 markers complete.\r253260 markers complete.\r253320 markers complete.\r253380 markers complete.\r253440 markers complete.\r253500 markers complete.\r253560 markers complete.\r253620 markers complete.\r253680 markers complete.\r253740 markers complete.\r253800 markers complete.\r253860 markers complete.\r253920 markers complete.\r253980 markers complete.\r254040 markers complete.\r254100 markers complete.\r254160 markers complete.\r254220 markers complete.\r254280 markers complete.\r254340 markers complete.\r254400 markers complete.\r254460 markers complete.\r254520 markers complete.\r254580 markers complete.\r254640 markers complete.\r254700 markers complete.\r254760 markers complete.\r254820 markers complete.\r254880 markers complete.\r254940 markers complete.\r255000 markers complete.\r255060 markers complete.\r255120 markers complete.\r255180 markers complete.\r255240 markers complete.\r255300 markers complete.\r255360 markers complete.\r255420 markers complete.\r255480 markers complete.\r255540 markers complete.\r255600 markers complete.\r255660 markers complete.\r255720 markers complete.\r255780 markers complete.\r255840 markers complete.\r255900 markers complete.\r255960 markers complete.\r256020 markers complete.\r256080 markers complete.\r256140 markers complete.\r256200 markers complete.\r256260 markers complete.\r256320 markers complete.\r256380 markers complete.\r256440 markers complete.\r256500 markers complete.\r256560 markers complete.\r256620 markers complete.\r256680 markers complete.\r256740 markers complete.\r256800 markers complete.\r256860 markers complete.\r256920 markers complete.\r256980 markers complete.\r257040 markers complete.\r257100 markers complete.\r257160 markers complete.\r257220 markers complete.\r257280 markers complete.\r257340 markers complete.\r257400 markers complete.\r257460 markers complete.\r257520 markers complete.\r257580 markers complete.\r257640 markers complete.\r257700 markers complete.\r257760 markers complete.\r257820 markers complete.\r257880 markers complete.\r257940 markers complete.\r258000 markers complete.\r258060 markers complete.\r258120 markers complete.\r258180 markers complete.\r258240 markers complete.\r258300 markers complete.\r258360 markers complete.\r258420 markers complete.\r258480 markers complete.\r258540 markers complete.\r258600 markers complete.\r258660 markers complete.\r258720 markers complete.\r258780 markers complete.\r258840 markers complete.\r258900 markers complete.\r258960 markers complete.\r259020 markers complete.\r259080 markers complete.\r259140 markers complete.\r259200 markers complete.\r259260 markers complete.\r259320 markers complete.\r259380 markers complete.\r259440 markers complete.\r259500 markers complete.\r259560 markers complete.\r259620 markers complete.\r259680 markers complete.\r259740 markers complete.\r259800 markers complete.\r259860 markers complete.\r259920 markers complete.\r259980 markers complete.\r260040 markers complete.\r260100 markers complete.\r260160 markers complete.\r260220 markers complete.\r260280 markers complete.\r260340 markers complete.\r260400 markers complete.\r260460 markers complete.\r260520 markers complete.\r260580 markers complete.\r260640 markers complete.\r260700 markers complete.\r260760 markers complete.\r260820 markers complete.\r260880 markers complete.\r260940 markers complete.\r261000 markers complete.\r261060 markers complete.\r261120 markers complete.\r261180 markers complete.\r261240 markers complete.\r261300 markers complete.\r261360 markers complete.\r261420 markers complete.\r261480 markers complete.\r261540 markers complete.\r261600 markers complete.\r261660 markers complete.\r261720 markers complete.\r261780 markers complete.\r261840 markers complete.\r261900 markers complete.\r261960 markers complete.\r262020 markers complete.\r262080 markers complete.\r262140 markers complete.\r262200 markers complete.\r262260 markers complete.\r262320 markers complete.\r262380 markers complete.\r262440 markers complete.\r262500 markers complete.\r262560 markers complete.\r262620 markers complete.\r262680 markers complete.\r262740 markers complete.\r262800 markers complete.\r262860 markers complete.\r262920 markers complete.\r262980 markers complete.\r263040 markers complete.\r263100 markers complete.\r263160 markers complete.\r263220 markers complete.\r263228 markers complete.\rRelationship matrix calculation complete.\n",
            "0 people excluded by --rel-cutoff.\n",
            "Remaining sample IDs written to QC/target/EUR.QC.rel.id .\n"
          ]
        }
      ]
    },
    {
      "cell_type": "markdown",
      "source": [
        "## Generate final QC'ed target data file"
      ],
      "metadata": {
        "id": "Ikhrjgy5Pno5"
      }
    },
    {
      "cell_type": "code",
      "source": [
        "%%bash\n",
        "\n",
        "plink \\\n",
        "    --bfile QC/target/EUR \\\n",
        "    --make-bed \\\n",
        "    --keep QC/target/EUR.QC.rel.id \\\n",
        "    --out QC/target/EUR.QC \\\n",
        "    --extract QC/target/EUR.QC.snplist \\\n",
        "    --exclude QC/target/EUR.mismatch \\\n",
        "    --a1-allele QC/target/EUR.a1"
      ],
      "metadata": {
        "colab": {
          "base_uri": "https://localhost:8080/"
        },
        "id": "26JeLKElPsl3",
        "outputId": "a7a25240-ce88-4775-ad9c-c985ab222ceb"
      },
      "execution_count": 34,
      "outputs": [
        {
          "output_type": "stream",
          "name": "stdout",
          "text": [
            "PLINK v1.90b6.21 64-bit (19 Oct 2020)          www.cog-genomics.org/plink/1.9/\n",
            "(C) 2005-2020 Shaun Purcell, Christopher Chang   GNU General Public License v3\n",
            "Logging to QC/target/EUR.QC.log.\n",
            "Options in effect:\n",
            "  --a1-allele QC/target/EUR.a1\n",
            "  --bfile QC/target/EUR\n",
            "  --exclude QC/target/EUR.mismatch\n",
            "  --extract QC/target/EUR.QC.snplist\n",
            "  --keep QC/target/EUR.QC.rel.id\n",
            "  --make-bed\n",
            "  --out QC/target/EUR.QC\n",
            "\n",
            "12982 MB RAM detected; reserving 6491 MB for main workspace.\n",
            "551892 variants loaded from .bim file.\n",
            "503 people (240 males, 263 females) loaded from .fam.\n",
            "--extract: 540534 variants remaining.\n",
            "--exclude: 489805 variants remaining.\n",
            "--keep: 483 people remaining.\n",
            "Using 1 thread (no multithreaded calculations invoked).\n",
            "Before main variant filters, 483 founders and 0 nonfounders present.\n",
            "Calculating allele frequencies... 0%\b\b1%\b\b2%\b\b3%\b\b4%\b\b5%\b\b6%\b\b7%\b\b8%\b\b9%\b\b10%\b\b\b11%\b\b\b12%\b\b\b13%\b\b\b14%\b\b\b15%\b\b\b16%\b\b\b17%\b\b\b18%\b\b\b19%\b\b\b20%\b\b\b21%\b\b\b22%\b\b\b23%\b\b\b24%\b\b\b25%\b\b\b26%\b\b\b27%\b\b\b28%\b\b\b29%\b\b\b30%\b\b\b31%\b\b\b32%\b\b\b33%\b\b\b34%\b\b\b35%\b\b\b36%\b\b\b37%\b\b\b38%\b\b\b39%\b\b\b40%\b\b\b41%\b\b\b42%\b\b\b43%\b\b\b44%\b\b\b45%\b\b\b46%\b\b\b47%\b\b\b48%\b\b\b49%\b\b\b50%\b\b\b51%\b\b\b52%\b\b\b53%\b\b\b54%\b\b\b55%\b\b\b56%\b\b\b57%\b\b\b58%\b\b\b59%\b\b\b60%\b\b\b61%\b\b\b62%\b\b\b63%\b\b\b64%\b\b\b65%\b\b\b66%\b\b\b67%\b\b\b68%\b\b\b69%\b\b\b70%\b\b\b71%\b\b\b72%\b\b\b73%\b\b\b74%\b\b\b75%\b\b\b76%\b\b\b77%\b\b\b78%\b\b\b79%\b\b\b80%\b\b\b81%\b\b\b82%\b\b\b83%\b\b\b84%\b\b\b85%\b\b\b86%\b\b\b87%\b\b\b88%\b\b\b89%\b\b\b90%\b\b\b91%\b\b\b92%\b\b\b93%\b\b\b94%\b\b\b95%\b\b\b96%\b\b\b97%\b\b\b98%\b\b\b99%\b\b\b\b done.\n",
            "--a1-allele: 489805 assignments made.\n",
            "489805 variants and 483 people pass filters and QC.\n",
            "Note: No phenotypes present.\n",
            "--make-bed to QC/target/EUR.QC.bed + QC/target/EUR.QC.bim +\n",
            "QC/target/EUR.QC.fam ... 0%\b\b1%\b\b2%\b\b3%\b\b4%\b\b5%\b\b6%\b\b7%\b\b8%\b\b9%\b\b10%\b\b\b11%\b\b\b12%\b\b\b13%\b\b\b14%\b\b\b15%\b\b\b16%\b\b\b17%\b\b\b18%\b\b\b19%\b\b\b20%\b\b\b21%\b\b\b22%\b\b\b23%\b\b\b24%\b\b\b25%\b\b\b26%\b\b\b27%\b\b\b28%\b\b\b29%\b\b\b30%\b\b\b31%\b\b\b32%\b\b\b33%\b\b\b34%\b\b\b35%\b\b\b36%\b\b\b37%\b\b\b38%\b\b\b39%\b\b\b40%\b\b\b41%\b\b\b42%\b\b\b43%\b\b\b44%\b\b\b45%\b\b\b46%\b\b\b47%\b\b\b48%\b\b\b49%\b\b\b50%\b\b\b51%\b\b\b52%\b\b\b53%\b\b\b54%\b\b\b55%\b\b\b56%\b\b\b57%\b\b\b58%\b\b\b59%\b\b\b60%\b\b\b61%\b\b\b62%\b\b\b63%\b\b\b64%\b\b\b65%\b\b\b66%\b\b\b67%\b\b\b68%\b\b\b69%\b\b\b70%\b\b\b71%\b\b\b72%\b\b\b73%\b\b\b74%\b\b\b75%\b\b\b76%\b\b\b77%\b\b\b78%\b\b\b79%\b\b\b80%\b\b\b81%\b\b\b82%\b\b\b83%\b\b\b84%\b\b\b85%\b\b\b86%\b\b\b87%\b\b\b88%\b\b\b89%\b\b\b90%\b\b\b91%\b\b\b92%\b\b\b93%\b\b\b94%\b\b\b95%\b\b\b96%\b\b\b97%\b\b\b98%\b\b\b99%\b\b\bdone.\n"
          ]
        }
      ]
    },
    {
      "cell_type": "code",
      "source": [],
      "metadata": {
        "id": "LVB55UzNQ-JG"
      },
      "execution_count": 34,
      "outputs": []
    },
    {
      "cell_type": "markdown",
      "source": [
        "# 2. Calculating and analysing PRS using PLINK"
      ],
      "metadata": {
        "id": "f-OQG0hiRJV1"
      }
    },
    {
      "cell_type": "code",
      "source": [
        "mkdir PRS"
      ],
      "metadata": {
        "id": "QFEnjLNzR3gF"
      },
      "execution_count": 1,
      "outputs": []
    },
    {
      "cell_type": "markdown",
      "source": [
        "## Update Effect Size"
      ],
      "metadata": {
        "id": "XJzpVFM0RQkl"
      }
    },
    {
      "cell_type": "code",
      "source": [
        "%%R\n",
        "\n",
        "dat <- read.table(gzfile(\"QC/base/Height.QC.gz\"), header=T)\n",
        "dat$BETA <- log(dat$OR)\n",
        "write.table(dat, \"PRS/Height.QC.Transformed\", quote=F, row.names=F)"
      ],
      "metadata": {
        "id": "bWxQs47eRuNd"
      },
      "execution_count": 8,
      "outputs": []
    },
    {
      "cell_type": "markdown",
      "source": [
        "## Clumping"
      ],
      "metadata": {
        "id": "siWd3RhtTLhj"
      }
    },
    {
      "cell_type": "markdown",
      "source": [
        "This will generate EUR.clumped, containing the index SNPs after clumping is performed."
      ],
      "metadata": {
        "id": "tgTtyKMzVsAa"
      }
    },
    {
      "cell_type": "code",
      "source": [
        "%%bash\n",
        "\n",
        "plink \\\n",
        "    --bfile QC/target/EUR.QC \\\n",
        "    --clump-p1 1 \\\n",
        "    --clump-r2 0.1 \\\n",
        "    --clump-kb 250 \\\n",
        "    --clump PRS/Height.QC.Transformed \\\n",
        "    --clump-snp-field SNP \\\n",
        "    --clump-field P \\\n",
        "    --out PRS/EUR"
      ],
      "metadata": {
        "colab": {
          "base_uri": "https://localhost:8080/"
        },
        "id": "UKWIQvjsTOLs",
        "outputId": "d466d049-2747-4cec-e961-35ed30f4ad79"
      },
      "execution_count": 10,
      "outputs": [
        {
          "output_type": "stream",
          "name": "stdout",
          "text": [
            "PLINK v1.90b6.21 64-bit (19 Oct 2020)          www.cog-genomics.org/plink/1.9/\n",
            "(C) 2005-2020 Shaun Purcell, Christopher Chang   GNU General Public License v3\n",
            "Logging to PRS/EUR.log.\n",
            "Options in effect:\n",
            "  --bfile QC/target/EUR.QC\n",
            "  --clump PRS/Height.QC.Transformed\n",
            "  --clump-field P\n",
            "  --clump-kb 250\n",
            "  --clump-p1 1\n",
            "  --clump-r2 0.1\n",
            "  --clump-snp-field SNP\n",
            "  --out PRS/EUR\n",
            "\n",
            "12982 MB RAM detected; reserving 6491 MB for main workspace.\n",
            "489805 variants loaded from .bim file.\n",
            "483 people (232 males, 251 females) loaded from .fam.\n",
            "Using 1 thread (no multithreaded calculations invoked).\n",
            "Before main variant filters, 483 founders and 0 nonfounders present.\n",
            "Calculating allele frequencies... 0%\b\b1%\b\b2%\b\b3%\b\b4%\b\b5%\b\b6%\b\b7%\b\b8%\b\b9%\b\b10%\b\b\b11%\b\b\b12%\b\b\b13%\b\b\b14%\b\b\b15%\b\b\b16%\b\b\b17%\b\b\b18%\b\b\b19%\b\b\b20%\b\b\b21%\b\b\b22%\b\b\b23%\b\b\b24%\b\b\b25%\b\b\b26%\b\b\b27%\b\b\b28%\b\b\b29%\b\b\b30%\b\b\b31%\b\b\b32%\b\b\b33%\b\b\b34%\b\b\b35%\b\b\b36%\b\b\b37%\b\b\b38%\b\b\b39%\b\b\b40%\b\b\b41%\b\b\b42%\b\b\b43%\b\b\b44%\b\b\b45%\b\b\b46%\b\b\b47%\b\b\b48%\b\b\b49%\b\b\b50%\b\b\b51%\b\b\b52%\b\b\b53%\b\b\b54%\b\b\b55%\b\b\b56%\b\b\b57%\b\b\b58%\b\b\b59%\b\b\b60%\b\b\b61%\b\b\b62%\b\b\b63%\b\b\b64%\b\b\b65%\b\b\b66%\b\b\b67%\b\b\b68%\b\b\b69%\b\b\b70%\b\b\b71%\b\b\b72%\b\b\b73%\b\b\b74%\b\b\b75%\b\b\b76%\b\b\b77%\b\b\b78%\b\b\b79%\b\b\b80%\b\b\b81%\b\b\b82%\b\b\b83%\b\b\b84%\b\b\b85%\b\b\b86%\b\b\b87%\b\b\b88%\b\b\b89%\b\b\b90%\b\b\b91%\b\b\b92%\b\b\b93%\b\b\b94%\b\b\b95%\b\b\b96%\b\b\b97%\b\b\b98%\b\b\b99%\b\b\b\b done.\n",
            "489805 variants and 483 people pass filters and QC.\n",
            "Note: No phenotypes present.\n",
            "--clump: 193758 clumps formed from 489805 top variants.\n",
            "Results written to PRS/EUR.clumped .\n"
          ]
        },
        {
          "output_type": "stream",
          "name": "stderr",
          "text": [
            "Warning: 'rs1076829' is missing from the main dataset, and is a top variant.\n",
            "Warning: 'rs3129818' is missing from the main dataset, and is a top variant.\n",
            "Warning: 'rs3118359' is missing from the main dataset, and is a top variant.\n",
            "9809 more top variant IDs missing; see log file.\n"
          ]
        }
      ]
    },
    {
      "cell_type": "markdown",
      "source": [
        "We can extract the index SNP ID by performing the following command:"
      ],
      "metadata": {
        "id": "MSLonrgTVyLT"
      }
    },
    {
      "cell_type": "code",
      "source": [
        "%%bash\n",
        "\n",
        "awk 'NR!=1{print $3}' PRS/EUR.clumped >  PRS/EUR.valid.snp"
      ],
      "metadata": {
        "id": "3khKt1brV1k0"
      },
      "execution_count": 12,
      "outputs": []
    },
    {
      "cell_type": "code",
      "source": [
        "cat PRS/EUR.valid.snp | head"
      ],
      "metadata": {
        "id": "A6Kmca3jZdPx",
        "outputId": "f878cecc-d892-41de-ac99-4a7dbe4d6448",
        "colab": {
          "base_uri": "https://localhost:8080/"
        }
      },
      "execution_count": 14,
      "outputs": [
        {
          "output_type": "stream",
          "name": "stdout",
          "text": [
            "rs3134762\n",
            "rs417162\n",
            "rs7764934\n",
            "rs2240068\n",
            "rs3132610\n",
            "rs9257403\n",
            "rs1264350\n",
            "rs6456739\n",
            "rs3130380\n",
            "rs3131300\n"
          ]
        }
      ]
    },
    {
      "cell_type": "code",
      "source": [],
      "metadata": {
        "id": "TPMVIIU3ZlCY"
      },
      "execution_count": null,
      "outputs": []
    },
    {
      "cell_type": "markdown",
      "source": [
        "## Generate PRS"
      ],
      "metadata": {
        "id": "8upAO8weZocv"
      }
    },
    {
      "cell_type": "markdown",
      "source": [
        "plink provides a convenient function --score and --q-score-range for calculating polygenic scores."
      ],
      "metadata": {
        "id": "UeZPpZ8wZqr8"
      }
    },
    {
      "cell_type": "markdown",
      "source": [],
      "metadata": {
        "id": "altuBqWcZtCI"
      }
    }
  ]
}