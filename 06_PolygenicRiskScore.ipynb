{
  "nbformat": 4,
  "nbformat_minor": 0,
  "metadata": {
    "colab": {
      "provenance": [],
      "include_colab_link": true
    },
    "kernelspec": {
      "name": "python3",
      "display_name": "Python 3"
    },
    "language_info": {
      "name": "python"
    }
  },
  "cells": [
    {
      "cell_type": "markdown",
      "metadata": {
        "id": "view-in-github",
        "colab_type": "text"
      },
      "source": [
        "<a href=\"https://colab.research.google.com/github/luuloi/GWAS_Introduction_2023/blob/main/06_PolygenicRiskScore.ipynb\" target=\"_parent\"><img src=\"https://colab.research.google.com/assets/colab-badge.svg\" alt=\"Open In Colab\"/></a>"
      ]
    },
    {
      "cell_type": "code",
      "source": [
        "!pip install -q rpy2\n",
        "!pip install -q condacolab"
      ],
      "metadata": {
        "id": "RnUE94KmGSYG"
      },
      "execution_count": 1,
      "outputs": []
    },
    {
      "cell_type": "code",
      "source": [
        "# Ignore rpy2's warnings\n",
        "\n",
        "import warnings\n",
        "from rpy2.rinterface import RRuntimeWarning\n",
        "\n",
        "warnings.filterwarnings(\"ignore\", category=RRuntimeWarning)"
      ],
      "metadata": {
        "id": "rqsVRlvZbepp"
      },
      "execution_count": 11,
      "outputs": []
    },
    {
      "cell_type": "code",
      "source": [
        "# Initialize conda\n",
        "\n",
        "import condacolab\n",
        "condacolab.install()"
      ],
      "metadata": {
        "id": "nplSoFdMbgXY",
        "outputId": "80a6a0bc-308a-485f-cfe8-95eea89aadc2",
        "colab": {
          "base_uri": "https://localhost:8080/"
        }
      },
      "execution_count": 3,
      "outputs": [
        {
          "output_type": "stream",
          "name": "stdout",
          "text": [
            "⏬ Downloading https://github.com/conda-forge/miniforge/releases/download/23.1.0-1/Mambaforge-23.1.0-1-Linux-x86_64.sh...\n",
            "📦 Installing...\n",
            "📌 Adjusting configuration...\n",
            "🩹 Patching environment...\n",
            "⏲ Done in 0:00:14\n",
            "🔁 Restarting kernel...\n"
          ]
        }
      ]
    },
    {
      "cell_type": "code",
      "source": [
        "# Install plink\n",
        "\n",
        "!conda install -c bioconda plink"
      ],
      "metadata": {
        "id": "xW-im8EObz-R"
      },
      "execution_count": null,
      "outputs": []
    },
    {
      "cell_type": "code",
      "source": [
        "%%bash\n",
        "mkdir test"
      ],
      "metadata": {
        "id": "CZ7Du0HNcImi"
      },
      "execution_count": 7,
      "outputs": []
    },
    {
      "cell_type": "code",
      "source": [
        "%load_ext rpy2.ipython"
      ],
      "metadata": {
        "id": "ZwFsLbTocdMR"
      },
      "execution_count": 14,
      "outputs": []
    },
    {
      "cell_type": "code",
      "source": [
        "%%R\n",
        "dat <- read.table(gzfile(\"Height.QC.gz\"), header=T)\n",
        "dat$BETA <- log(dat$OR)\n",
        "write.table(dat, \"Height.QC.Transformed\", quote=F, row.names=F)"
      ],
      "metadata": {
        "id": "jauhaz31dBtX",
        "outputId": "9805d47a-3450-455b-c505-e2ca2d1a98d0",
        "colab": {
          "base_uri": "https://localhost:8080/"
        }
      },
      "execution_count": 15,
      "outputs": [
        {
          "output_type": "stream",
          "name": "stderr",
          "text": [
            "R[write to console]: Error in open.connection(file, \"rt\") : cannot open the connection\n",
            "\n",
            "R[write to console]: In addition: \n",
            "R[write to console]: Warning message:\n",
            "\n",
            "R[write to console]: In open.connection(file, \"rt\") :\n",
            "R[write to console]: \n",
            " \n",
            "R[write to console]:  cannot open compressed file 'Height.QC.gz', probable reason 'No such file or directory'\n",
            "\n"
          ]
        },
        {
          "output_type": "stream",
          "name": "stdout",
          "text": [
            "\n",
            "Error in open.connection(file, \"rt\") : cannot open the connection\n"
          ]
        }
      ]
    },
    {
      "cell_type": "code",
      "source": [
        "%%R\n",
        "getwd()"
      ],
      "metadata": {
        "id": "wrm-qTWifyXt",
        "outputId": "ec2640f8-50eb-4eab-e574-11d69dbdfbda",
        "colab": {
          "base_uri": "https://localhost:8080/"
        }
      },
      "execution_count": 16,
      "outputs": [
        {
          "output_type": "stream",
          "name": "stdout",
          "text": [
            "[1] \"/content\"\n"
          ]
        }
      ]
    },
    {
      "cell_type": "code",
      "source": [
        "%%R\n",
        "df <- read.csv(\"sample_data/california_housing_test.csv\")"
      ],
      "metadata": {
        "id": "q6oMpcPPhUPc"
      },
      "execution_count": 17,
      "outputs": []
    },
    {
      "cell_type": "code",
      "source": [
        "%%R\n",
        "head(df)"
      ],
      "metadata": {
        "id": "mahz2ooGhgh3",
        "outputId": "7115a133-fc68-44ec-ba14-5c6e1b004f0d",
        "colab": {
          "base_uri": "https://localhost:8080/"
        }
      },
      "execution_count": 18,
      "outputs": [
        {
          "output_type": "stream",
          "name": "stdout",
          "text": [
            "  longitude latitude housing_median_age total_rooms total_bedrooms population\n",
            "1   -122.05    37.37                 27        3885            661       1537\n",
            "2   -118.30    34.26                 43        1510            310        809\n",
            "3   -117.81    33.78                 27        3589            507       1484\n",
            "4   -118.36    33.82                 28          67             15         49\n",
            "5   -119.67    36.33                 19        1241            244        850\n",
            "6   -119.56    36.51                 37        1018            213        663\n",
            "  households median_income median_house_value\n",
            "1        606        6.6085             344700\n",
            "2        277        3.5990             176500\n",
            "3        495        5.7934             270500\n",
            "4         11        6.1359             330000\n",
            "5        237        2.9375              81700\n",
            "6        204        1.6635              67000\n"
          ]
        }
      ]
    }
  ]
}