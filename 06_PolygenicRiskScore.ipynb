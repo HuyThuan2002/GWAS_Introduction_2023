{
  "nbformat": 4,
  "nbformat_minor": 0,
  "metadata": {
    "colab": {
      "provenance": [],
      "include_colab_link": true
    },
    "kernelspec": {
      "name": "python3",
      "display_name": "Python 3"
    },
    "language_info": {
      "name": "python"
    }
  },
  "cells": [
    {
      "cell_type": "markdown",
      "metadata": {
        "id": "view-in-github",
        "colab_type": "text"
      },
      "source": [
        "<a href=\"https://colab.research.google.com/github/luuloi/GWAS_Introduction_2023/blob/main/06_PolygenicRiskScore.ipynb\" target=\"_parent\"><img src=\"https://colab.research.google.com/assets/colab-badge.svg\" alt=\"Open In Colab\"/></a>"
      ]
    },
    {
      "cell_type": "markdown",
      "source": [
        "# 0. SETUP WORKING ENVIRONMENT"
      ],
      "metadata": {
        "id": "mK0jGtKj_0O8"
      }
    },
    {
      "cell_type": "markdown",
      "source": [
        "## Download Necessary Pakage"
      ],
      "metadata": {
        "id": "imiGhruJmepZ"
      }
    },
    {
      "cell_type": "code",
      "source": [
        "# Install using pip\n",
        "\n",
        "!pip install rpy2==3.5.1\n",
        "!pip install -q condacolab\n",
        "!pip install gdown"
      ],
      "metadata": {
        "id": "RnUE94KmGSYG",
        "colab": {
          "base_uri": "https://localhost:8080/"
        },
        "outputId": "27e48b77-1194-41af-b148-a6f9ff2553c9"
      },
      "execution_count": 1,
      "outputs": [
        {
          "output_type": "stream",
          "name": "stdout",
          "text": [
            "Requirement already satisfied: rpy2==3.5.1 in /usr/local/lib/python3.10/site-packages (3.5.1)\n",
            "Requirement already satisfied: tzlocal in /usr/local/lib/python3.10/site-packages (from rpy2==3.5.1) (5.0.1)\n",
            "Requirement already satisfied: cffi>=1.10.0 in /usr/local/lib/python3.10/site-packages (from rpy2==3.5.1) (1.15.1)\n",
            "Requirement already satisfied: pytz in /usr/local/lib/python3.10/site-packages (from rpy2==3.5.1) (2023.3)\n",
            "Requirement already satisfied: jinja2 in /usr/local/lib/python3.10/site-packages (from rpy2==3.5.1) (3.1.2)\n",
            "Requirement already satisfied: pycparser in /usr/local/lib/python3.10/site-packages (from cffi>=1.10.0->rpy2==3.5.1) (2.21)\n",
            "Requirement already satisfied: MarkupSafe>=2.0 in /usr/local/lib/python3.10/site-packages (from jinja2->rpy2==3.5.1) (2.1.3)\n",
            "\u001b[33mWARNING: Running pip as the 'root' user can result in broken permissions and conflicting behaviour with the system package manager. It is recommended to use a virtual environment instead: https://pip.pypa.io/warnings/venv\u001b[0m\u001b[33m\n",
            "\u001b[0m\u001b[33mWARNING: Running pip as the 'root' user can result in broken permissions and conflicting behaviour with the system package manager. It is recommended to use a virtual environment instead: https://pip.pypa.io/warnings/venv\u001b[0m\u001b[33m\n",
            "\u001b[0mRequirement already satisfied: gdown in /usr/local/lib/python3.10/site-packages (4.7.1)\n",
            "Requirement already satisfied: filelock in /usr/local/lib/python3.10/site-packages (from gdown) (3.12.2)\n",
            "Requirement already satisfied: six in /usr/local/lib/python3.10/site-packages (from gdown) (1.16.0)\n",
            "Requirement already satisfied: requests[socks] in /usr/local/lib/python3.10/site-packages (from gdown) (2.28.2)\n",
            "Requirement already satisfied: tqdm in /usr/local/lib/python3.10/site-packages (from gdown) (4.65.0)\n",
            "Requirement already satisfied: beautifulsoup4 in /usr/local/lib/python3.10/site-packages (from gdown) (4.12.2)\n",
            "Requirement already satisfied: soupsieve>1.2 in /usr/local/lib/python3.10/site-packages (from beautifulsoup4->gdown) (2.4.1)\n",
            "Requirement already satisfied: urllib3<1.27,>=1.21.1 in /usr/local/lib/python3.10/site-packages (from requests[socks]->gdown) (1.26.15)\n",
            "Requirement already satisfied: certifi>=2017.4.17 in /usr/local/lib/python3.10/site-packages (from requests[socks]->gdown) (2023.7.22)\n",
            "Requirement already satisfied: charset-normalizer<4,>=2 in /usr/local/lib/python3.10/site-packages (from requests[socks]->gdown) (3.1.0)\n",
            "Requirement already satisfied: idna<4,>=2.5 in /usr/local/lib/python3.10/site-packages (from requests[socks]->gdown) (3.4)\n",
            "Requirement already satisfied: PySocks!=1.5.7,>=1.5.6 in /usr/local/lib/python3.10/site-packages (from requests[socks]->gdown) (1.7.1)\n",
            "\u001b[33mWARNING: Running pip as the 'root' user can result in broken permissions and conflicting behaviour with the system package manager. It is recommended to use a virtual environment instead: https://pip.pypa.io/warnings/venv\u001b[0m\u001b[33m\n",
            "\u001b[0m"
          ]
        }
      ]
    },
    {
      "cell_type": "code",
      "source": [
        "# Ignore rpy2's warnings\n",
        "\n",
        "import rpy2\n",
        "import warnings\n",
        "from rpy2.rinterface import RRuntimeWarning\n",
        "\n",
        "warnings.filterwarnings(\"ignore\", category=RRuntimeWarning)"
      ],
      "metadata": {
        "id": "rqsVRlvZbepp"
      },
      "execution_count": 2,
      "outputs": []
    },
    {
      "cell_type": "code",
      "source": [
        "# Initialize conda\n",
        "\n",
        "import condacolab\n",
        "condacolab.install()"
      ],
      "metadata": {
        "id": "nplSoFdMbgXY",
        "outputId": "e3c1d68c-c94a-4bda-888d-abe9e3b8b7c9",
        "colab": {
          "base_uri": "https://localhost:8080/"
        }
      },
      "execution_count": 3,
      "outputs": [
        {
          "output_type": "stream",
          "name": "stdout",
          "text": [
            "✨🍰✨ Everything looks OK!\n"
          ]
        }
      ]
    },
    {
      "cell_type": "markdown",
      "source": [
        "## Set up R environment by installing required packages"
      ],
      "metadata": {
        "id": "Ai4uzAHTFjIl"
      }
    },
    {
      "cell_type": "code",
      "source": [
        "# activate R magic\n",
        "%load_ext rpy2.ipython"
      ],
      "metadata": {
        "id": "ZwFsLbTocdMR"
      },
      "execution_count": 4,
      "outputs": []
    },
    {
      "cell_type": "code",
      "source": [
        "%%R\n",
        "install.packages(\"ggplot2\")\n",
        "library(ggplot2)"
      ],
      "metadata": {
        "id": "o8DQ5Cb1lGXz"
      },
      "execution_count": null,
      "outputs": []
    },
    {
      "cell_type": "markdown",
      "source": [
        "## Install Plink Package"
      ],
      "metadata": {
        "id": "vW6Q6afzAXal"
      }
    },
    {
      "cell_type": "code",
      "source": [
        "# Install plink\n",
        "\n",
        "!conda install -c bioconda plink"
      ],
      "metadata": {
        "id": "xW-im8EObz-R"
      },
      "execution_count": null,
      "outputs": []
    },
    {
      "cell_type": "markdown",
      "source": [
        "## Prepare Data"
      ],
      "metadata": {
        "id": "G1NqaIXpBq1D"
      }
    },
    {
      "cell_type": "code",
      "source": [
        "%%bash\n",
        "\n",
        "# Create folder to store neccesary data\n",
        "mkdir data\n",
        "mkdir -p data/base\n",
        "mkdir -p data/target"
      ],
      "metadata": {
        "colab": {
          "base_uri": "https://localhost:8080/"
        },
        "id": "pMecyXnWcKlE",
        "outputId": "a690824f-a81d-4101-9930-03a986ed07e6"
      },
      "execution_count": 6,
      "outputs": [
        {
          "output_type": "stream",
          "name": "stderr",
          "text": [
            "mkdir: cannot create directory ‘data’: File exists\n"
          ]
        }
      ]
    },
    {
      "cell_type": "code",
      "source": [
        "%%bash\n",
        "wget -O data/base/Height.gwas.txt.gz https://raw.githubusercontent.com/luuloi/GWAS_Introduction_2023/main/data/Height.gwas.txt.gz\n",
        "gdown -O data/target/EUR.zip https://drive.google.com/uc?id=1uhJR_3sn7RA8U5iYQbcmTp6vFdQiF4F2&export=download"
      ],
      "metadata": {
        "id": "CZ7Du0HNcImi"
      },
      "execution_count": null,
      "outputs": []
    },
    {
      "cell_type": "code",
      "source": [
        "!unzip data/target/EUR.zip -d data/target"
      ],
      "metadata": {
        "colab": {
          "base_uri": "https://localhost:8080/"
        },
        "id": "xtcohBHokP8i",
        "outputId": "be6c1487-402c-40a3-d6a8-b7b89bcffeed"
      },
      "execution_count": 8,
      "outputs": [
        {
          "output_type": "stream",
          "name": "stdout",
          "text": [
            "Archive:  data/target/EUR.zip\n",
            "replace data/target/EUR.bed? [y]es, [n]o, [A]ll, [N]one, [r]ename: A\n",
            "  inflating: data/target/EUR.bed     \n",
            "  inflating: data/target/EUR.bim     \n",
            "  inflating: data/target/EUR.cov     \n",
            "  inflating: data/target/EUR.fam     \n",
            "  inflating: data/target/EUR.height  \n"
          ]
        }
      ]
    },
    {
      "cell_type": "markdown",
      "source": [
        "## Have a look into our data"
      ],
      "metadata": {
        "id": "4hZVuIK0nJX-"
      }
    },
    {
      "cell_type": "markdown",
      "source": [
        "**Base data**"
      ],
      "metadata": {
        "id": "qAt1ZhzZkWzs"
      }
    },
    {
      "cell_type": "markdown",
      "source": [
        "Base data (GWAS), consisting of summary statistics of genotype-phenotype associations at genetic variants (hereafter SNPs) genome-wide, typically made available online in text format by the investigators who performed the GWAS"
      ],
      "metadata": {
        "id": "OrNkNKKmkkA2"
      }
    },
    {
      "cell_type": "code",
      "source": [
        "!zcat data/base/Height.gwas.txt.gz | head"
      ],
      "metadata": {
        "colab": {
          "base_uri": "https://localhost:8080/"
        },
        "id": "zuNUPWlJZ9Np",
        "outputId": "a345106b-b568-4353-ac6c-0490fe9242c2"
      },
      "execution_count": 9,
      "outputs": [
        {
          "output_type": "stream",
          "name": "stdout",
          "text": [
            "CHR\tBP\tSNP\tA1\tA2\tN\tSE\tP\tOR\tINFO\tMAF\n",
            "1\t756604\trs3131962\tA\tG\t388028\t0.00301666\t0.483171\t0.997886915712657\t0.890557941364774\t0.369389592764921\n",
            "1\t768448\trs12562034\tA\tG\t388028\t0.00329472\t0.834808\t1.00068731609353\t0.895893511351165\t0.336845754096289\n",
            "1\t779322\trs4040617\tG\tA\t388028\t0.00303344\t0.42897\t0.997603556067569\t0.897508290615237\t0.377368010940814\n",
            "1\t801536\trs79373928\tG\tT\t388028\t0.00841324\t0.808999\t1.00203569922793\t0.908962856432993\t0.483212245374095\n",
            "1\t808631\trs11240779\tG\tA\t388028\t0.00242821\t0.590265\t1.00130832511154\t0.893212523690488\t0.450409558999587\n",
            "1\t809876\trs57181708\tG\tA\t388028\t0.00336785\t0.71475\t1.00123165786833\t0.923557624081969\t0.499743932656759\n",
            "1\t835499\trs4422948\tG\tA\t388028\t0.0023758\t0.710884\t0.999119752645202\t0.906437735120596\t0.481016005816168\n",
            "1\t838555\trs4970383\tA\tC\t388028\t0.00235773\t0.150993\t0.996619945289758\t0.907716506801574\t0.327164029672754\n",
            "1\t840753\trs4970382\tC\tT\t388028\t0.00207377\t0.199967\t0.99734567895614\t0.914602590137255\t0.498936220426316\n"
          ]
        }
      ]
    },
    {
      "cell_type": "markdown",
      "source": [
        "**Target data**"
      ],
      "metadata": {
        "id": "I51bPFdlmShb"
      }
    },
    {
      "cell_type": "markdown",
      "source": [
        "Consisting of genotypes, and usually also phenotypes, in individuals from a sample to which the researchers performing the PRS analysis have access (often not publicly available), which should be independent of the GWAS sample."
      ],
      "metadata": {
        "id": "jtLnKocYmsEI"
      }
    },
    {
      "cell_type": "code",
      "source": [
        "!cat data/target/EUR.height | head"
      ],
      "metadata": {
        "colab": {
          "base_uri": "https://localhost:8080/"
        },
        "id": "tQZv0r4gnF0e",
        "outputId": "7b356f0b-0b58-41da-a368-0447e7169599"
      },
      "execution_count": 10,
      "outputs": [
        {
          "output_type": "stream",
          "name": "stdout",
          "text": [
            "FID\tIID\tHeight\n",
            "HG00096\tHG00096\t169.132168767547\n",
            "HG00097\tHG00097\t171.256258630279\n",
            "HG00099\tHG00099\t171.534379938588\n",
            "HG00101\tHG00101\t169.850176470551\n",
            "HG00102\tHG00102\t172.788360878389\n",
            "HG00103\tHG00103\t169.862973824923\n",
            "HG00105\tHG00105\t168.939248611414\n",
            "HG00107\tHG00107\t168.972346393861\n",
            "HG00108\tHG00108\t171.311736719186\n"
          ]
        }
      ]
    },
    {
      "cell_type": "code",
      "source": [
        "%%R\n",
        "# Import data\n",
        "pheno_height <- read.table(\"data/target/EUR.height\", header=T)\n",
        "\n",
        "p <- ggplot(pheno_height, aes(x=Height)) +\n",
        "    geom_density(color=\"darkblue\", fill=\"lightblue\")\n",
        "p\n",
        "\n",
        "# Add mean line\n",
        "p + geom_vline(aes(xintercept=mean(Height)),\n",
        "               color=\"red\", linetype=\"dashed\", size=1)"
      ],
      "metadata": {
        "colab": {
          "base_uri": "https://localhost:8080/",
          "height": 497
        },
        "id": "H2Dzy7C-lVzu",
        "outputId": "2bed5b07-4206-4c45-9d3a-eb74915debb6"
      },
      "execution_count": 16,
      "outputs": [
        {
          "output_type": "display_data",
          "data": {
            "image/png": "[encoded data removed]"
          },
          "metadata": {}
        }
      ]
    },
    {
      "cell_type": "markdown",
      "source": [
        "# 1. QUALITY CONTROL"
      ],
      "metadata": {
        "id": "67uKGcS7o-SY"
      }
    },
    {
      "cell_type": "markdown",
      "source": [
        "![image.png](data:image/png;base64,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)"
      ],
      "metadata": {
        "id": "0dhuVZkuaW78"
      }
    },
    {
      "cell_type": "markdown",
      "source": [
        "## A. QC of Base Data"
      ],
      "metadata": {
        "id": "ST8IqLYhpU51"
      }
    },
    {
      "cell_type": "markdown",
      "source": [
        "**Reading the base data file**"
      ],
      "metadata": {
        "id": "O6d0ivyUps2b"
      }
    },
    {
      "cell_type": "code",
      "source": [
        "!zcat data/base/Height.gwas.txt.gz | head"
      ],
      "metadata": {
        "colab": {
          "base_uri": "https://localhost:8080/"
        },
        "id": "jfRboyJzpCck",
        "outputId": "bad1a101-92e6-4837-bdac-60d8ad16b542"
      },
      "execution_count": 5,
      "outputs": [
        {
          "output_type": "stream",
          "name": "stdout",
          "text": [
            "CHR\tBP\tSNP\tA1\tA2\tN\tSE\tP\tOR\tINFO\tMAF\n",
            "1\t756604\trs3131962\tA\tG\t388028\t0.00301666\t0.483171\t0.997886915712657\t0.890557941364774\t0.369389592764921\n",
            "1\t768448\trs12562034\tA\tG\t388028\t0.00329472\t0.834808\t1.00068731609353\t0.895893511351165\t0.336845754096289\n",
            "1\t779322\trs4040617\tG\tA\t388028\t0.00303344\t0.42897\t0.997603556067569\t0.897508290615237\t0.377368010940814\n",
            "1\t801536\trs79373928\tG\tT\t388028\t0.00841324\t0.808999\t1.00203569922793\t0.908962856432993\t0.483212245374095\n",
            "1\t808631\trs11240779\tG\tA\t388028\t0.00242821\t0.590265\t1.00130832511154\t0.893212523690488\t0.450409558999587\n",
            "1\t809876\trs57181708\tG\tA\t388028\t0.00336785\t0.71475\t1.00123165786833\t0.923557624081969\t0.499743932656759\n",
            "1\t835499\trs4422948\tG\tA\t388028\t0.0023758\t0.710884\t0.999119752645202\t0.906437735120596\t0.481016005816168\n",
            "1\t838555\trs4970383\tA\tC\t388028\t0.00235773\t0.150993\t0.996619945289758\t0.907716506801574\t0.327164029672754\n",
            "1\t840753\trs4970382\tC\tT\t388028\t0.00207377\t0.199967\t0.99734567895614\t0.914602590137255\t0.498936220426316\n"
          ]
        }
      ]
    },
    {
      "cell_type": "markdown",
      "source": [
        "* **CHR**: The chromosome in which the SNP resides\n",
        "* **BP**: Chromosomal co-ordinate of the SNP\n",
        "* **SNP**: SNP ID, usually in the form of rs-ID\n",
        "* **A1**: The effect allele of the SNP\n",
        "* **A2**: The non-effect allele of the SNP\n",
        "* **N**: Number of samples used to obtain the effect size estimate\n",
        "* **SE**: The standard error (SE) of the effect size esimate\n",
        "* **P**: The P-value of association between the SNP genotypes and the base phenotype\n",
        "* **OR**: The effect size estimate of the SNP, if the outcome is binary/case-control. If the outcome is continuous or treated as continuous then this will usually be BETA\n",
        "* **INFO**: The imputation information score\n",
        "* **MAF**: The minor allele frequency (MAF) of the SNP\n",
        "\n"
      ],
      "metadata": {
        "id": "CsdxCbcxp1IL"
      }
    },
    {
      "cell_type": "markdown",
      "source": [
        "### QC checklist: Base data"
      ],
      "metadata": {
        "id": "wCtq67WOqaJ3"
      }
    },
    {
      "cell_type": "markdown",
      "source": [
        "**i. Heritability check**"
      ],
      "metadata": {
        "id": "njgFmE_oqdDj"
      }
    },
    {
      "cell_type": "markdown",
      "source": [
        "Recommend that PRS analyses are performed on base data with a chip-heritability estimate \th^2 SNP > 0.05\n"
      ],
      "metadata": {
        "id": "T4xiUJY2rHcG"
      }
    },
    {
      "cell_type": "markdown",
      "source": [
        "**ii. Effect allele**"
      ],
      "metadata": {
        "id": "HULkSxVCrJ1M"
      }
    },
    {
      "cell_type": "markdown",
      "source": [
        "It is important to know which allele is the effect allele and which is the non-effect allele for PRS association results to be in the correct direction."
      ],
      "metadata": {
        "id": "Ba0pOW73r1gJ"
      }
    },
    {
      "cell_type": "markdown",
      "source": [
        "**iii. Genome build**"
      ],
      "metadata": {
        "id": "eFVtBqJTsIzZ"
      }
    },
    {
      "cell_type": "markdown",
      "source": [
        "- hg19\n",
        "- hg38\n",
        "- ..."
      ],
      "metadata": {
        "id": "oQ23LPCjsQ4h"
      }
    },
    {
      "cell_type": "markdown",
      "source": [
        "**iv. Standard GWAS QC**"
      ],
      "metadata": {
        "id": "t2D58i4ys_Ex"
      }
    },
    {
      "cell_type": "code",
      "source": [
        "%%bash\n",
        "mkdir QC\n",
        "mkdir -p QC/base\n",
        "mkdir -p QC/target"
      ],
      "metadata": {
        "colab": {
          "base_uri": "https://localhost:8080/"
        },
        "id": "x1157QrTtfiZ",
        "outputId": "21543d75-5a5c-4e2b-af83-b91b4b08bca4"
      },
      "execution_count": 22,
      "outputs": [
        {
          "output_type": "stream",
          "name": "stderr",
          "text": [
            "mkdir: cannot create directory ‘QC’: File exists\n"
          ]
        }
      ]
    },
    {
      "cell_type": "code",
      "source": [
        "%%bash\n",
        "\n",
        "# Filter by MAF, INFO\n",
        "## MAF > 0.01 & INFO > 0.8\n",
        "\n",
        "zcat data/base/Height.gwas.txt.gz |\\\n",
        "awk 'NR==1 || ($11 > 0.01) && ($10 > 0.8) {print}' |\\\n",
        "gzip  > QC/base/Height.gz"
      ],
      "metadata": {
        "id": "stLBv_TFtEDQ"
      },
      "execution_count": 23,
      "outputs": []
    },
    {
      "cell_type": "markdown",
      "source": [
        "**v. Mismatching SNPs**"
      ],
      "metadata": {
        "id": "o1ZE0z94tDKg"
      }
    },
    {
      "cell_type": "markdown",
      "source": [
        "**vi. Duplicates SNPs**"
      ],
      "metadata": {
        "id": "Dr8JMdv7t7Zv"
      }
    },
    {
      "cell_type": "code",
      "source": [
        "%%bash\n",
        "# Remove duplicate SNPs\n",
        "\n",
        "zcat QC/base/Height.gz |\\\n",
        "awk '{seen[$3]++; if(seen[$3]==1){ print}}' |\\\n",
        "gzip - > QC/base/Height.nodup.gz"
      ],
      "metadata": {
        "id": "0v3SfhUnuALK"
      },
      "execution_count": 8,
      "outputs": []
    },
    {
      "cell_type": "markdown",
      "source": [
        "**vii. Ambigous SNPs**"
      ],
      "metadata": {
        "id": "V3u8aiu-uMJ5"
      }
    },
    {
      "cell_type": "code",
      "source": [
        "%%bash\n",
        "\n",
        "zcat QC/base/Height.nodup.gz |\\\n",
        "awk '!( ($4==\"A\" && $5==\"T\") || \\\n",
        "        ($4==\"T\" && $5==\"A\") || \\\n",
        "        ($4==\"G\" && $5==\"C\") || \\\n",
        "        ($4==\"C\" && $5==\"G\")) {print}' |\\\n",
        "    gzip > QC/base/Height.QC.gz"
      ],
      "metadata": {
        "id": "8Z40oXZOuQIZ"
      },
      "execution_count": 9,
      "outputs": []
    },
    {
      "cell_type": "markdown",
      "source": [
        "**vii. Sex chromosomes**"
      ],
      "metadata": {
        "id": "z6Ajs0Wy-pqa"
      }
    },
    {
      "cell_type": "markdown",
      "source": [
        "**viii. Relatedness**"
      ],
      "metadata": {
        "id": "ISFCkOCK-u2A"
      }
    },
    {
      "cell_type": "code",
      "source": [],
      "metadata": {
        "id": "K2lTfcFd-oYC"
      },
      "execution_count": 9,
      "outputs": []
    },
    {
      "cell_type": "markdown",
      "source": [
        "## B. QC of Target Data"
      ],
      "metadata": {
        "id": "dqxyIUW9-2iW"
      }
    },
    {
      "cell_type": "markdown",
      "source": [
        "### QC checklist: Target data"
      ],
      "metadata": {
        "id": "z3zhbLgA_Fxc"
      }
    },
    {
      "cell_type": "code",
      "source": [],
      "metadata": {
        "id": "rTOCGv0V_ORD"
      },
      "execution_count": 9,
      "outputs": []
    },
    {
      "cell_type": "markdown",
      "source": [
        "**i. Sample size**"
      ],
      "metadata": {
        "id": "Xgapxpj8_Opi"
      }
    },
    {
      "cell_type": "markdown",
      "source": [
        "The target data suitable to perform PRS analyses should have at least 100 individuals. The sample size of our data here is 503 individuals."
      ],
      "metadata": {
        "id": "5IoBDadnADYM"
      }
    },
    {
      "cell_type": "code",
      "source": [
        "%%bash\n",
        "# Check the sample size\n",
        "cat data/target/EUR.fam | wc -l\n"
      ],
      "metadata": {
        "colab": {
          "base_uri": "https://localhost:8080/"
        },
        "id": "Q18b88OR--mV",
        "outputId": "49f845a5-7426-4186-b81b-9818662ddad5"
      },
      "execution_count": 10,
      "outputs": [
        {
          "output_type": "stream",
          "name": "stdout",
          "text": [
            "0\n"
          ]
        },
        {
          "output_type": "stream",
          "name": "stderr",
          "text": [
            "cat: data/target/EUR.fam: No such file or directory\n"
          ]
        }
      ]
    },
    {
      "cell_type": "markdown",
      "source": [
        "**ii. Genome build**"
      ],
      "metadata": {
        "id": "DeIcvAfrAgWZ"
      }
    },
    {
      "cell_type": "markdown",
      "source": [
        "**iii. Standard GWAS QC**"
      ],
      "metadata": {
        "id": "qGNbDW1KAjbh"
      }
    },
    {
      "cell_type": "code",
      "source": [
        "%%bash\n",
        "\n",
        "plink \\\n",
        "    --bfile data/target/EUR \\\n",
        "    --maf 0.01 \\\n",
        "    --hwe 1e-6 \\\n",
        "    --geno 0.01 \\\n",
        "    --mind 0.01 \\\n",
        "    --write-snplist \\\n",
        "    --make-just-fam \\\n",
        "    --out QC/target/EUR.QC"
      ],
      "metadata": {
        "colab": {
          "base_uri": "https://localhost:8080/"
        },
        "id": "LmSa4IixBEGm",
        "outputId": "87c467b6-ad4d-46b4-ce85-0662e6ee6501"
      },
      "execution_count": 13,
      "outputs": [
        {
          "output_type": "stream",
          "name": "stdout",
          "text": [
            "PLINK v1.90b6.21 64-bit (19 Oct 2020)          www.cog-genomics.org/plink/1.9/\n",
            "(C) 2005-2020 Shaun Purcell, Christopher Chang   GNU General Public License v3\n",
            "Logging to QC/target/EUR.QC.log.\n",
            "Options in effect:\n",
            "  --bfile data/target/EUR\n",
            "  --geno 0.01\n",
            "  --hwe 1e-6\n",
            "  --maf 0.01\n",
            "  --make-just-fam\n",
            "  --mind 0.01\n",
            "  --out QC/target/EUR.QC\n",
            "  --write-snplist\n",
            "\n",
            "12982 MB RAM detected; reserving 6491 MB for main workspace.\n",
            "551892 variants loaded from .bim file.\n",
            "503 people (240 males, 263 females) loaded from .fam.\n",
            "14 people removed due to missing genotype data (--mind).\n",
            "IDs written to QC/target/EUR.QC.irem .\n",
            "Using 1 thread (no multithreaded calculations invoked).\n",
            "Before main variant filters, 489 founders and 0 nonfounders present.\n",
            "Calculating allele frequencies... 0%\b\b1%\b\b2%\b\b3%\b\b4%\b\b5%\b\b6%\b\b7%\b\b8%\b\b9%\b\b10%\b\b\b11%\b\b\b12%\b\b\b13%\b\b\b14%\b\b\b15%\b\b\b16%\b\b\b17%\b\b\b18%\b\b\b19%\b\b\b20%\b\b\b21%\b\b\b22%\b\b\b23%\b\b\b24%\b\b\b25%\b\b\b26%\b\b\b27%\b\b\b28%\b\b\b29%\b\b\b30%\b\b\b31%\b\b\b32%\b\b\b33%\b\b\b34%\b\b\b35%\b\b\b36%\b\b\b37%\b\b\b38%\b\b\b39%\b\b\b40%\b\b\b41%\b\b\b42%\b\b\b43%\b\b\b44%\b\b\b45%\b\b\b46%\b\b\b47%\b\b\b48%\b\b\b49%\b\b\b50%\b\b\b51%\b\b\b52%\b\b\b53%\b\b\b54%\b\b\b55%\b\b\b56%\b\b\b57%\b\b\b58%\b\b\b59%\b\b\b60%\b\b\b61%\b\b\b62%\b\b\b63%\b\b\b64%\b\b\b65%\b\b\b66%\b\b\b67%\b\b\b68%\b\b\b69%\b\b\b70%\b\b\b71%\b\b\b72%\b\b\b73%\b\b\b74%\b\b\b75%\b\b\b76%\b\b\b77%\b\b\b78%\b\b\b79%\b\b\b80%\b\b\b81%\b\b\b82%\b\b\b83%\b\b\b84%\b\b\b85%\b\b\b86%\b\b\b87%\b\b\b88%\b\b\b89%\b\b\b90%\b\b\b91%\b\b\b92%\b\b\b93%\b\b\b94%\b\b\b95%\b\b\b96%\b\b\b97%\b\b\b98%\b\b\b99%\b\b\b\b done.\n",
            "Total genotyping rate in remaining samples is 0.999816.\n",
            "5353 variants removed due to missing genotype data (--geno).\n",
            "--hwe: 944 variants removed due to Hardy-Weinberg exact test.\n",
            "5061 variants removed due to minor allele threshold(s)\n",
            "(--maf/--max-maf/--mac/--max-mac).\n",
            "540534 variants and 489 people pass filters and QC.\n",
            "Note: No phenotypes present.\n",
            "List of variant IDs written to QC/target/EUR.QC.snplist .\n",
            "--make-just-fam to QC/target/EUR.QC.fam ... done.\n"
          ]
        },
        {
          "output_type": "stream",
          "name": "stderr",
          "text": [
            "Warning: 1806 het. haploid genotypes present (see QC/target/EUR.QC.hh ); many\n",
            "commands treat these as missing.\n",
            "Warning: --hwe observation counts vary by more than 10%, due to the X\n",
            "chromosome.  You may want to use a less stringent --hwe p-value threshold for X\n",
            "chromosome variants.\n"
          ]
        }
      ]
    },
    {
      "cell_type": "markdown",
      "source": [
        "![Screenshot from 2023-08-16 13-26-15.png](data:image/png;base64,iVBORw0KGgoAAAANSUhEUgAAAOQAAACVCAYAAABIKVbpAAAABHNCSVQICAgIfAhkiAAAABl0RVh0U29mdHdhcmUAZ25vbWUtc2NyZWVuc2hvdO8Dvz4AAAA/aVRYdENyZWF0aW9uIFRpbWUAAAAAAFRo4bupIHTGsCwgMTYgVGjDoW5nIDggTsSDbSAyMDIzIDEzOjI2OjE1ICswN19/RngAABYTSURBVHic7d1/VFR1/sfxpwPXBLcGd6EctNHCOlIH/H4HS7JQwQpaoRw7Yccfpe5Ku1pfVsqz5o9cy0izPcZ2tO+hUtvUo+yp6dRQ0Dcxwy1skTbIxpPONx3F6RuTgNog3GH8/jH+QAHlxwVnhvfjHM/RuTP3fu7ga+69n5l50S8xMfEMQjM6nY7bbruNkJCQDt1fVVVsNhtnzsiPQUDo1R5AsPF6vXz77bdXexgiQOmu9gCEEBdIIIXwIxJIIfyIBFIIPyKBFMKPSCCF8CMSSCH8SJ9+HzI9PZ0JEyag0138ulRVVcXGjRu7uXaF+N+tZd7A7Tz1t1LUbq4t8LYvuqLPBjI+Pp4FCxa0uWzUqFEAGoRSiM7p11c/Ojd+/Hiee+65Lj3W6/VSUlLCyy+/THNzc5v3yXr1LcZce+4BNrbkvELJST3xGTMwj4/DqIf66iqK39lAsb0BdAbMzy0n4XgFdUNMjDhlZcULVtyjMpn76DhGDII6+5fsORVHqmLhqb/tQQWUwWPInGnmrpgoQk/ZqSjczMbdkcxeM7+N7Xdpd0UvkmvILtDpdNx7773Ex8e3e5+Nf36SdV81oFZtIefJPEpOQlTafOYlh7H3nRUsWrIGy5EbMWdNIfb8T0HBcPN12N/NI/eNUlyRKcydm0LEwffIW/UyWysGkjAq6sJGwuKZvmAmI6otrH1hKXmFLm6eOo/M4VVtbl/4vz57yqqF6667rt1laqMHjwfwqrgbfVdwpyo2s+bfNdh/bACg5rMKJt0xAqMebPUAKs5/FmD5ygFAVFoiI5rKWP/3EmwqcGgjobfGk6X4tqEfez+Jns/J3bYHhxeofofCUWuZdMcIthw42Gr7wv8FRCCHDBnC73//+8ve580336S6urqXRtQ1Da4G9OY5LL8zFsO1oaBTUELs0OKLIap6ITyRN0TC0TIOtMyT98JfhxmjUQbHsnh9yvnblBAFVb0OpQf3Q/ScgAhkdXU1b731Fi+++CJDhw69aNnRo0dZsmSJ34cRwPjgPLLudLLl9SWUHapHHZ7JykUjurg2BXSgHrCwZtNe3C0XNbpkVjVABcw15LngHT169LK3dVS/fv20HF4H6Blxi4G6qlJKD9X7AjNAuewr4rFjLog2Mrzl4e78T0zF6ayH66MZWOvE+ePZP7UuXLUSx0AVMIGEiwPYnTD2DpVfGk6h3BBD3PAo9Iobl8tN1H/cT6opltjRqcyfmURUiILSTirry0uxDUhk+owkYocbiZ84mymjws4vr/myiCqdiVlPpGMabsAwMolZz65m3tiwNrbfO3stuidk6NChf7nag+iMEydOUF5eTklJSbfCeNNNNzFu3LhujWXXrl0cPny43eW1dSHcevd9/HacEdc/d1P2nZOQW8aS9sB9jL1lAD98VsbPkTegfr+LfT9fS+z4Cdzw4y527T/lW8FpB/uPKNyeksFDqeOJ6X+Q72sHM7Spko//VY33dDX/3u/mxoRk0h7MIGXUDZz+93Y2Fx/BfebS7X/BD6e7tbuiF/TZ9yGTk5NZunRpt9bx/PPPs2vXLo1G1DZFUVpM9OhJWbia9J/yyHnb1qPbFVdHQEzq9Fn6JOYtSsL54XZKD7qJMGWSHlNH5UcHr/bIRA/ps4F0uVzdXsdPP/2kwUguo74My8dGMictYPn1YXiO2ynfup4t+2TSJlj12VNWgIceeoikpKRWHy6/Eq/Xy44dO/j44497aGSir+rTgRTC3wTU2x5CBDsJpBB+RAIphB+RQArhRySQQvgRCaQQfkQCKYQf6bOf1OlJer2e4cOHt7nM7XZz4MCB3h2QCBgSSI1NmDCBRYsWoSjtf98pLy+PDz74oHMr1sWQ+eJiUq9vvci+LYfcsgSeWZOOa92f2VTV4qN1w82sXJTA3lVLsThar6Oh1oFtVwGbP7RR3962rzdhfiSDpFgD4bhxfl/GhwUWKn68+CN8+pGpTJ2cTPzwKEI9NTirdlKwtRhbe30++njMv5vGxFsjOLU7j0Wb5QPzEkiN3X333e2G8ciRIxw4cIDs7GyAzocScO5cR/5O50WNAJ7j9Z36SZ5fhy4cw+1pZE7OZr66gtwiZ+s7X2si6+ksRtaWYt1QgBMDcRPTmf9MFPkvrGPP2RQrt2Sy8E/jUL98j/x/HKQufAQpD08h+ymFFausOL2tVx0zaRrp0U4KXn8DW7WjU89DsJJAauxyTQTNzc3k5uYCkJ2dTXNzM4WFhZ1Yu4p6yomjuq3gdG0dziP5NNywmmfGJmL4xNIqOMa0KYyhjFfWbsHWCGDDts+J8pdnMD8Qw55tdiCKlMkpRHy3hSVvl5490jrYdFzPsL+kkHp78cVHbQAUIiMjaLAVUPKNXSpHzpJAauxygezXrx9nzpwhNzeX5uZmcnJyADoZSq2pHDt6DHWUnqgQLg6kzkhCXCTO8vyzYTyr0UZphZOkuHiMOjuOgXHExXiwbSi7+LTXWUbRDj1RhELLyF10+j2f/x7rpPiFpRQcunJvbfwPVg4PSSHxpnA8LhtFGwpwxGeSmRSLYYAbx9dW8jeU4AzQhEsgNXbmTPuf1T+37MyZM6xevZqmpiZycnJobm6mqKiot4bYiv7XESgNDuou7XwOiSQ6EmqcrY/ITmcNJEcTGQKO30QSEVKH46dLUuB1smfbptYb9NqxPJeDa/5qpjTks3BTFZ7Gc721TVjfXsF6ZzgjM+YyPWsKjme34Lu6VDCOGknl1nXk1upJeGQO5qeXU7PfSsFrFup/k8SMWZlMv2cvr+xs94rYr0kgNXa5r3INGjSIxx9//Py/jx8/zokTJ7jzzjs7GEgFY8ZK3pp04Rb1BwvLcq3UdGm0Cvrb05kxPhLHzjJft+sly0N14Glq46FNHtCF+uomQyC0GdROHJVU1Y3qBTwePI0qKp3orS33XW86Px3NxCci2bnZSoULsFspHZ9EujEa2p+i8msSyF6k1+t57LHHurWOVpM6al0nw3hJqHUNOHdvJM/S1qSKiscLof3bWNQ/FLwe3ziaVTzAZSaWO6RDvbXNLVLf2ERT8y+4z8/iun0vCrrAbfSSQAaUy0zqeFSgP/1bHaCVcw8973yow+PJnJ+BcvR/qWljFpRmF8dckGAwABcH1nBDFNRW4moGfq6njgiiIhU41PIwGYVpcjJR+z+keH/DFfdO297awCSf1AkWjS5cp8IwGCMvullvNBDprcF1/NwtF0LtPFBMwSfHGPGAGVNbs7ReB5Xf1WEYnUTsNS1uV2JINBmos1X5JoFOVlF1KJTYMSbCWj5+8Bgy0hIxXOPpwA50vrc2GEkgA4qC8qsoDIMNF/2Juhbw2ijZ7cCQmsWs5HiMNxqJHZvJ3Mmx1H3xCWXtHKCc/2OhtNHElEkxvmPptbGkPppOvN633P6xhT0hScz9r0yS4mKIuX0M5qfmkxJWgaXQdvbAW0PJ+6XUxc1kwaO+DlljXAqz5qZhqC6hpEoF9JgyMkm5JaztgdD53tpg1Id2NTgYkrNZmXzxbc6PVrD0XQeOD14lr3kGmZOyWD4oDLXeie3LfP76rq399/lUG+9Zqlgzayopn+VSPGAkifckYNtrpbIeqN/DxpdVzI9mYH4ihXAdoCjUlX3J/hbzJur+Lax53c0Ms5nsiXporMFR9SF5W4t9k0W6aOLvGUd0cyklB9p6dVCpfG8T1kHTyPjjM4TW2yn7tJiKpHjCI4Ae7hPzF9Kpo7Hly5d3uoB5165dPP/88z00Iu3pTdP505wU9LZNvPR6advXn6JL5AgpOq2+Ygu5NQ5SovZLGDUmgRRdoh4ppfjI1R5F8JFJHY1d7pM67fF65TAjfCSQGuvKdx2///77HhiJCEQyqaMxnU7HbbfdRkhIyJXvjO83Jttsti4dWUXwkWtIjXm9Xr799turPQwRoOSUVQg/IoEUwo9IIIXwIxJIIfyIBFIIPyKzrD1AellFV0kgNSa9rB3rZVVGz+e1OZCfvY6KNr6KEjtjFdmGT/jzmpIALePoGgmkxqSXteO9rKI1CaTGpJe1o72soi0SSI1JL2sL7fWynhfKsPvmk3FvHMZwD45/bSd/Y+mFMSgGEmcvJvWOGMK9TmzWjawvCu5SZZll1VhnelkLCwvJyckhLS2tt4bXJl8vq7vzvayRvl5Wzvay1rTTy2qtaqc/5Jp4km49zIfrcsn9eznKHVOZknih4kOJuYuEUzt44+Vc8ne7iZ08lZTItlcVLOQIqTHpZe0EtRLLW1YqTgL2QsomJpI4JIpzDXfqoSLe+Mce3779Xym2CVMZNkQBV/AeIyWQvUh6WS/h9fDL6XP/aEJVIbTlSk67Of9a4GnCAxd1tAYjCWRACe5eViHXkMEj4HtZBUggA0ww97IKkFPWgBO8vawCpMJDc9LLKrpDjpCi06SXtedIIEWXSC9rz5BJHY1JL6voDgmkxqSXVXSHTOpoTHpZRXfINaTGpJdVdIecsgrhRySQQvgRCaQQfkQCKYQfkUAK4UdklrUHSC+r6CoJpMakl7VjvazEmFn5VCylq3Ip/rFzT0Uwk0BqTHpZO9jL+tN+Sj5zcbi2s89AcJNAakx6WTvYy3rSRsn7ndj1PkICqTHpZW3hcr2sMZmsWjiCnc/mUlxvwPzcchKOV1A3xMSIU1ZWvGDFNXgMmTPN3BUTRegpOxWFm9m404Gq890//gcrh4ekkHhTOB6XjaINBTjiM8lMisUwwI3jayv5G0pwBlBJnQRSY53pZW1qaiInJ4fm5uYO1kD2DF8vq6PzvazJvl5Wx9leVkc7vawdo2C4+Tr2bs2jwHEMV1g80xfMZNg377B2q4P+t2bw+NR5ZB5dxha77/7GUSOp3LqO3Fo9CY/Mwfz0cmr2Wyl4zUL9b5KYMSuT6ffs5ZWdgfPbQSSQGpNe1q5Scf6zAMtXvnY7/cT7SfR8Tu62Pb5xVb9D4ai1TLpjBNjrLty/3Hd/56ejmfhEJDs3W6lwAXYrpeOTSDdGQwD9uh4JZC+SXtbLU1skepgxGmVwLIvXp1wYeYiCql6HQp3v/s0tXgEam2hq/gX3+Rldt+8FQtfNQfUyCWRA6Su9rAroQD1gYc2mvbhbLmp0oRK8v09APqkTLIKql1XF6ayH66MZWOvE+ePZP7UuXLUBNEPTBRLIgNJ3ellrviyiSmdi1hPpmIYbMIxMYtazq5k3Nrh7XeWUNcD0mV7W2j3kvzqQ2dPuZ84SM6G/ODlYtpm3yxqAiK48dQFBKjw0Jr2sojvkCCk6TXpZe44EUnSJ9LL2DJnU0Zj0sorukEBqTHpZRXfIpI7GpJdVdIdcQ2pMellFd8gpqxB+RAIphB+RQArhRySQQvgRCaQQfkRmWXuA9LKKrpJAakx6WTvay9qi5EqqIM+TQGpMelk72Msq2iSB1Jj0snawl1W0SQKpMellbeFyvayt6InNmEFmchyGcA91h8opfGcLpdVnH6cYSZkzm/T/NBLudlC18yD6SbHYVi3FckiDp8FPSCA1Jr2sLXSil9WQ8SeyJ6oU/z2X9f83kLgHH2f6gtn8siKfipMKsY/MY3qsC+ubueytjyRh8lRMIW5sXdtlvyWB1Jj0snZlGPGkJhtwFC3DUuHbk5INWxnx0jxS7tRT8fkwxoyOwF70VyzlNYAdx9Zo4pcldHGD/ksC2Yukl7Udg4xEh9dx8ECLPWk8gM0BZuMw+JWB6PA6Dh9qsbx7rcx+SwIZUIK0l9WrAh649JRZd2F5E7ReHoTkkzrBIpB7WeudHHNHYozRX7jtmluIHQquo4fhpBOXO4Jhw1ss725Nup+SQAaUIO1lVSsp+dzJiElzMZuMRA2OJWXWNExUUFRWD96DlH7lwvjAXMymGIy3jME8LQljx74DHlDklDXABGsvq+P9V1kfMovMxxaTPsBDjb2cLWu3UHESQMX+bj4FA2eTnrWY1NNOqr6y44wxBN1prFR4aEx6WXuITkHxqudfWJTbp7P6qWEUB9lH7+QIKTrtavSyxjy8mNmRZRRYK3D2v5n7p9xFuP1DKoIojCCBFF3U272s9k8tlD1qZtazmeh19Ti/28H6t4u7+P6r/5JAakx6WXtIbSXW1yuxXu1x9DCZZdWY9LKK7pBJHY1JL6voDjll1Zj0sorukFNWIfyIBFIIPyKBFMKPSCCF8CMSSCH8iMyy9gDpZRVdJYHUmPSydrCXtQdF/XY5L9xtI3dZAY6QeGa9lIX+/SXk7W53D/2GBFJj0svqZ72s6mEqSooI+8F95ftGprJ4ZRIHVy2l4FCPj6xNEkiNSS+rv/Wy1lP5UeB8AlYCqTHpZW3hsr2sCsbk2cyYZCJGDw1OGzu2b8Kyrx6uTeGZNSm43t+LPmkisdeH4v6hlM2vb6GiFpTR81k7LYzyqv6MTIghSleP/YvtvLF1T+uvgykmstZkEVbwFHlfqDAoHvPjmUwcaSDMU4N9byEbN5fiuW85qx42AhCz7C1MO19h0ebeL5mUWVaNdaaXtbCwkJycHNLS0npreG3y9bK6O9/LGunrZeVsL2tNO72s1qo2+kNizGRNvRnXB2tYumwN2+1RpP5xBmPOHelDDCQmRbO/YC25rxZg16cw48HYc5VdhOqHE33Cyl+f/gM560ohcTZz0wxX2NMwkmZmMXHAXvJfXMrSN3bTFDed+Q8aqSnK5cnnLDjUGkrWPMmy7Ven8VWOkBqTXtYObnlQFBFeJ8Vf23GeBOe2fJqODeOEDvACzQ1UFORT/I0K2Cn6+n4W3mwkAht1AI02dnxQSY0K7LOwffcYFt6ZgOEjK+1WaukiiPx1KHX7K7EdcaIesfL2RjcmRQWvSkOjiooH9XTDVWuZlED2IullbbHmqiJ2OBYw/YWVjKmqpOqbMj7fUUqDl7PXw0380nghFarqgRDlov+wLTPjcDghMZooBdq4wvbxOtn9SQVjZizkhZurqPqukoovSim+9Mh+FUkgA0oQ9bI22rGsWsDu202Y4kaR8OhiMu63snaNFXtHnopLhHbwf3LNF/ks2mfEZEogflQq89MmUbnhJfK/8o+3ROQaMlgEWC9r1GgzmclG6vbtoXhbPrkvWjhmTCFpZMd3WWnxt+FGA/x8zHcK255rYkh51IzpGgcVOy1senUF+V/2x5SSiP4yD+tNEsiAEjy9rE39jYx7ZDbT74nBcL2B2DEjiaS+xQvHFVwTR9q0JGIGRxEzdjqZYyNw/GtP+6erAKpK5G2pzJiWTvyNURhiTMTdFI6ntgY3QKNKExEYR8ZiiGyjP7YXyClrgAmWXtb6L/JZFzGHzMkLWamHhuMOyjfnU1xNx95TVR04m8cwd+mss297bOSNT65wNe11YFm/EWWmmawlZsK89Tj3WVm3rcL3/JzcS8nuFOY8nE32r/NYtLX3Z1qlwkNj0sva85TR83ltDuRnr6PCf+ZjNCFHSNFpV6OXta+QQIou6e1e1r5CAqkx6WXteWr5Ov5QfrVH0TNkllVj0ssqukMmdTQmvayiO+SUVWPSyyq6Q05ZhfAjEkgh/IgEUgg/8v9E5QMoSTXqzwAAAABJRU5ErkJggg==)"
      ],
      "metadata": {
        "id": "EGP57SBWBgqc"
      }
    },
    {
      "cell_type": "markdown",
      "source": [
        "Some files are needed in the QC/target folder for the below processing:"
      ],
      "metadata": {
        "id": "UbYN3mwuD9uN"
      }
    },
    {
      "cell_type": "code",
      "source": [
        "%%bash\n",
        "\n",
        "cp data/target/EUR* QC/target/"
      ],
      "metadata": {
        "id": "7XSPvSEADm2z"
      },
      "execution_count": 14,
      "outputs": []
    },
    {
      "cell_type": "markdown",
      "source": [
        "Samples with extreme heterozygosity are typically removed prior to downstream analyses.\n",
        "\n",
        "This will generate two files 1) EUR.QC.prune.in and 2) EUR.QC.prune.out. All SNPs within EUR.QC.prune.in have a pairwise r2\\<0.25"
      ],
      "metadata": {
        "id": "5AZJcQA5CR9h"
      }
    },
    {
      "cell_type": "code",
      "source": [
        "%%bash\n",
        "# Perform pruning to remove highly correlated SNPs\n",
        "\n",
        "plink \\\n",
        "    --bfile QC/target/EUR \\\n",
        "    --keep QC/target/EUR.QC.fam \\\n",
        "    --extract QC/target/EUR.QC.snplist \\\n",
        "    --indep-pairwise 200 50 0.25 \\\n",
        "    --out QC/target/EUR.QC"
      ],
      "metadata": {
        "colab": {
          "base_uri": "https://localhost:8080/"
        },
        "id": "KU0qzFxtCXBL",
        "outputId": "885a53cf-d5ae-4671-9f50-ca4e17861b6a"
      },
      "execution_count": 15,
      "outputs": [
        {
          "output_type": "stream",
          "name": "stdout",
          "text": [
            "PLINK v1.90b6.21 64-bit (19 Oct 2020)          www.cog-genomics.org/plink/1.9/\n",
            "(C) 2005-2020 Shaun Purcell, Christopher Chang   GNU General Public License v3\n",
            "Logging to QC/target/EUR.QC.log.\n",
            "Options in effect:\n",
            "  --bfile QC/target/EUR\n",
            "  --extract QC/target/EUR.QC.snplist\n",
            "  --indep-pairwise 200 50 0.25\n",
            "  --keep QC/target/EUR.QC.fam\n",
            "  --out QC/target/EUR.QC\n",
            "\n",
            "12982 MB RAM detected; reserving 6491 MB for main workspace.\n",
            "551892 variants loaded from .bim file.\n",
            "503 people (240 males, 263 females) loaded from .fam.\n",
            "--extract: 540534 variants remaining.\n",
            "--keep: 489 people remaining.\n",
            "Using 1 thread (no multithreaded calculations invoked).\n",
            "Before main variant filters, 489 founders and 0 nonfounders present.\n",
            "Calculating allele frequencies... 0%\b\b1%\b\b2%\b\b3%\b\b4%\b\b5%\b\b6%\b\b7%\b\b8%\b\b9%\b\b10%\b\b\b11%\b\b\b12%\b\b\b13%\b\b\b14%\b\b\b15%\b\b\b16%\b\b\b17%\b\b\b18%\b\b\b19%\b\b\b20%\b\b\b21%\b\b\b22%\b\b\b23%\b\b\b24%\b\b\b25%\b\b\b26%\b\b\b27%\b\b\b28%\b\b\b29%\b\b\b30%\b\b\b31%\b\b\b32%\b\b\b33%\b\b\b34%\b\b\b35%\b\b\b36%\b\b\b37%\b\b\b38%\b\b\b39%\b\b\b40%\b\b\b41%\b\b\b42%\b\b\b43%\b\b\b44%\b\b\b45%\b\b\b46%\b\b\b47%\b\b\b48%\b\b\b49%\b\b\b50%\b\b\b51%\b\b\b52%\b\b\b53%\b\b\b54%\b\b\b55%\b\b\b56%\b\b\b57%\b\b\b58%\b\b\b59%\b\b\b60%\b\b\b61%\b\b\b62%\b\b\b63%\b\b\b64%\b\b\b65%\b\b\b66%\b\b\b67%\b\b\b68%\b\b\b69%\b\b\b70%\b\b\b71%\b\b\b72%\b\b\b73%\b\b\b74%\b\b\b75%\b\b\b76%\b\b\b77%\b\b\b78%\b\b\b79%\b\b\b80%\b\b\b81%\b\b\b82%\b\b\b83%\b\b\b84%\b\b\b85%\b\b\b86%\b\b\b87%\b\b\b88%\b\b\b89%\b\b\b90%\b\b\b91%\b\b\b92%\b\b\b93%\b\b\b94%\b\b\b95%\b\b\b96%\b\b\b97%\b\b\b98%\b\b\b99%\b\b\b\b done.\n",
            "Total genotyping rate in remaining samples is 0.999919.\n",
            "540534 variants and 489 people pass filters and QC.\n",
            "Note: No phenotypes present.\n",
            "\r1%\r2%\r3%\r4%\r5%\r6%\r7%\r8%\r9%\r10%\r11%\r12%\r13%\r14%\r15%\r16%\r17%\r18%\r19%\r20%\r21%\r22%\r23%\r24%\r25%\r26%\r27%\r28%\r29%\r30%\r31%\r32%\r33%\r34%\r35%\r36%\r37%\r38%\r39%\r40%\r41%\r42%\r43%\r44%\r45%\r46%\r47%\r48%\r49%\r50%\r51%\r52%\r53%\r54%\r55%\r56%\r57%\r58%\r59%\r60%\r61%\r62%\r63%\r64%\r65%\r66%\r67%\r68%\r69%\r70%\r71%\r72%\r73%\r74%\r75%\r76%\r77%\r78%\r79%\r80%\r81%\r82%\r83%\r84%\r85%\r86%\r87%\r88%\r89%\r90%\r91%\r92%\r93%\r94%\r95%\r96%\r97%\r98%\r99%\rPruned 20214 variants from chromosome 1, leaving 21127.\n",
            "\r1%\r2%\r3%\r4%\r5%\r6%\r7%\r8%\r9%\r10%\r11%\r12%\r13%\r14%\r15%\r16%\r17%\r18%\r19%\r20%\r21%\r22%\r23%\r24%\r25%\r26%\r27%\r28%\r29%\r30%\r30%\r31%\r32%\r33%\r34%\r35%\r36%\r37%\r38%\r39%\r40%\r41%\r42%\r43%\r44%\r45%\r46%\r47%\r48%\r49%\r50%\r51%\r52%\r53%\r54%\r55%\r56%\r57%\r58%\r59%\r60%\r61%\r62%\r63%\r64%\r65%\r66%\r67%\r68%\r69%\r70%\r71%\r72%\r73%\r73%\r74%\r75%\r76%\r77%\r78%\r79%\r80%\r81%\r82%\r83%\r84%\r85%\r86%\r87%\r88%\r89%\r90%\r91%\r92%\r93%\r94%\r95%\r96%\r97%\r98%\r99%\rPruned 20984 variants from chromosome 2, leaving 20879.\n",
            "\r1%\r2%\r3%\r4%\r5%\r6%\r7%\r8%\r9%\r10%\r11%\r12%\r13%\r14%\r15%\r16%\r17%\r18%\r19%\r20%\r21%\r22%\r23%\r24%\r25%\r26%\r27%\r28%\r29%\r30%\r31%\r32%\r33%\r34%\r35%\r36%\r37%\r38%\r39%\r40%\r41%\r42%\r43%\r44%\r45%\r46%\r47%\r48%\r49%\r50%\r51%\r52%\r53%\r54%\r55%\r56%\r57%\r58%\r59%\r60%\r61%\r62%\r63%\r64%\r65%\r66%\r67%\r68%\r69%\r70%\r71%\r72%\r73%\r74%\r75%\r76%\r77%\r78%\r79%\r80%\r81%\r82%\r83%\r84%\r85%\r86%\r87%\r88%\r89%\r90%\r91%\r92%\r93%\r94%\r95%\r96%\r97%\r98%\r99%\rPruned 17463 variants from chromosome 3, leaving 17812.\n",
            "\r1%\r2%\r3%\r4%\r5%\r6%\r7%\r8%\r9%\r10%\r11%\r12%\r13%\r14%\r15%\r16%\r17%\r18%\r19%\r20%\r21%\r22%\r23%\r24%\r25%\r26%\r27%\r28%\r29%\r30%\r31%\r32%\r33%\r34%\r35%\r36%\r37%\r38%\r39%\r40%\r41%\r42%\r43%\r44%\r45%\r46%\r47%\r48%\r49%\r50%\r51%\r52%\r53%\r53%\r54%\r55%\r56%\r57%\r58%\r59%\r60%\r61%\r61%\r62%\r63%\r64%\r65%\r66%\r67%\r68%\r69%\r70%\r71%\r72%\r73%\r74%\r75%\r76%\r77%\r78%\r79%\r80%\r81%\r82%\r83%\r84%\r85%\r86%\r87%\r88%\r89%\r90%\r90%\r91%\r92%\r93%\r94%\r95%\r96%\r97%\r98%\r99%\rPruned 16344 variants from chromosome 4, leaving 16690.\n",
            "\r1%\r2%\r3%\r4%\r5%\r6%\r7%\r8%\r9%\r10%\r11%\r12%\r13%\r14%\r15%\r16%\r17%\r18%\r19%\r20%\r21%\r22%\r22%\r23%\r24%\r25%\r26%\r27%\r28%\r29%\r30%\r31%\r32%\r33%\r34%\r35%\r36%\r37%\r38%\r39%\r40%\r41%\r42%\r43%\r44%\r45%\r46%\r47%\r48%\r48%\r49%\r50%\r51%\r52%\r53%\r54%\r55%\r56%\r57%\r58%\r59%\r60%\r61%\r62%\r63%\r64%\r65%\r66%\r67%\r68%\r69%\r70%\r71%\r72%\r73%\r74%\r75%\r76%\r77%\r78%\r79%\r80%\r81%\r82%\r83%\r84%\r85%\r86%\r87%\r88%\r89%\r90%\r91%\r92%\r93%\r94%\r95%\r96%\r97%\r98%\r99%\rPruned 15027 variants from chromosome 5, leaving 15981.\n",
            "\r1%\r2%\r3%\r4%\r5%\r6%\r7%\r8%\r9%\r10%\r11%\r11%\r12%\r13%\r14%\r15%\r16%\r17%\r18%\r19%\r20%\r21%\r22%\r23%\r24%\r25%\r26%\r27%\r28%\r29%\r30%\r31%\r31%\r32%\r33%\r34%\r35%\r35%\r36%\r37%\r38%\r39%\r40%\r41%\r42%\r43%\r44%\r44%\r45%\r46%\r47%\r48%\r49%\r50%\r51%\r52%\r53%\r54%\r55%\r56%\r57%\r58%\r59%\r60%\r61%\r62%\r63%\r64%\r65%\r66%\r67%\r68%\r69%\r70%\r71%\r72%\r73%\r74%\r75%\r76%\r77%\r78%\r79%\r80%\r81%\r82%\r83%\r84%\r85%\r86%\r87%\r88%\r89%\r90%\r90%\r91%\r92%\r93%\r94%\r95%\r96%\r97%\r98%\r99%\rPruned 20731 variants from chromosome 6, leaving 15475.\n",
            "\r1%\r2%\r3%\r4%\r5%\r6%\r7%\r8%\r9%\r10%\r11%\r12%\r13%\r14%\r15%\r16%\r17%\r18%\r19%\r19%\r20%\r21%\r22%\r23%\r24%\r25%\r26%\r27%\r28%\r29%\r30%\r30%\r31%\r32%\r33%\r34%\r35%\r36%\r37%\r38%\r39%\r40%\r41%\r42%\r43%\r44%\r45%\r46%\r47%\r48%\r49%\r50%\r51%\r52%\r53%\r54%\r55%\r56%\r57%\r58%\r59%\r60%\r61%\r62%\r63%\r64%\r65%\r66%\r67%\r68%\r69%\r70%\r71%\r72%\r73%\r74%\r75%\r76%\r77%\r78%\r79%\r80%\r81%\r82%\r83%\r84%\r84%\r85%\r86%\r87%\r88%\r88%\r89%\r90%\r91%\r92%\r93%\r94%\r95%\r96%\r97%\r98%\r99%\rPruned 14046 variants from chromosome 7, leaving 14606.\n",
            "\r1%\r2%\r3%\r4%\r5%\r6%\r7%\r8%\r9%\r10%\r11%\r12%\r13%\r14%\r15%\r16%\r17%\r18%\r19%\r20%\r21%\r22%\r23%\r24%\r25%\r26%\r27%\r28%\r29%\r30%\r31%\r32%\r33%\r34%\r35%\r36%\r37%\r38%\r39%\r40%\r41%\r42%\r43%\r44%\r45%\r46%\r47%\r48%\r49%\r50%\r51%\r52%\r53%\r54%\r55%\r55%\r56%\r57%\r58%\r59%\r60%\r61%\r62%\r63%\r64%\r65%\r66%\r67%\r68%\r69%\r70%\r71%\r72%\r73%\r74%\r75%\r76%\r77%\r78%\r79%\r80%\r81%\r82%\r83%\r84%\r85%\r86%\r87%\r88%\r89%\r90%\r91%\r92%\r93%\r94%\r95%\r96%\r96%\r97%\r98%\r99%\rPruned 13289 variants from chromosome 8, leaving 13667.\n",
            "\r1%\r2%\r3%\r4%\r5%\r6%\r7%\r8%\r9%\r10%\r11%\r12%\r13%\r14%\r15%\r16%\r17%\r18%\r19%\r20%\r21%\r22%\r23%\r24%\r25%\r26%\r27%\r28%\r29%\r30%\r31%\r32%\r33%\r34%\r35%\r36%\r37%\r38%\r39%\r40%\r41%\r42%\r43%\r44%\r45%\r46%\r47%\r48%\r49%\r50%\r51%\r52%\r53%\r54%\r55%\r56%\r57%\r58%\r59%\r60%\r61%\r62%\r63%\r64%\r65%\r66%\r67%\r68%\r69%\r70%\r71%\r72%\r73%\r74%\r75%\r76%\r77%\r78%\r79%\r80%\r81%\r82%\r83%\r84%\r85%\r86%\r87%\r88%\r89%\r90%\r91%\r92%\r93%\r94%\r95%\r96%\r97%\r98%\r99%\rPruned 10723 variants from chromosome 9, leaving 11951.\n",
            "\r1%\r2%\r3%\r4%\r5%\r6%\r7%\r8%\r8%\r9%\r10%\r11%\r12%\r13%\r14%\r15%\r16%\r17%\r18%\r19%\r20%\r21%\r21%\r22%\r23%\r24%\r25%\r25%\r26%\r27%\r28%\r29%\r30%\r31%\r32%\r33%\r34%\r35%\r36%\r37%\r38%\r39%\r40%\r41%\r42%\r43%\r44%\r45%\r46%\r47%\r48%\r49%\r50%\r51%\r52%\r53%\r54%\r55%\r56%\r57%\r58%\r59%\r60%\r61%\r62%\r63%\r64%\r65%\r66%\r67%\r68%\r69%\r70%\r71%\r72%\r73%\r74%\r75%\r76%\r77%\r78%\r79%\r80%\r81%\r82%\r83%\r84%\r85%\r86%\r87%\r88%\r89%\r90%\r91%\r92%\r93%\r94%\r95%\r96%\r97%\r98%\r99%\rPruned 12722 variants from chromosome 10, leaving 13383.\n",
            "\r1%\r2%\r3%\r4%\r5%\r6%\r7%\r8%\r9%\r10%\r11%\r12%\r13%\r14%\r15%\r16%\r17%\r18%\r19%\r20%\r21%\r22%\r23%\r24%\r25%\r26%\r27%\r28%\r29%\r30%\r31%\r32%\r32%\r33%\r34%\r35%\r36%\r37%\r38%\r39%\r40%\r41%\r42%\r43%\r44%\r45%\r46%\r47%\r48%\r49%\r50%\r51%\r52%\r53%\r54%\r55%\r56%\r57%\r58%\r59%\r60%\r60%\r61%\r62%\r63%\r64%\r65%\r66%\r67%\r67%\r68%\r69%\r70%\r71%\r72%\r73%\r74%\r75%\r76%\r77%\r78%\r79%\r80%\r81%\r82%\r83%\r84%\r85%\r86%\r87%\r88%\r89%\r90%\r91%\r92%\r93%\r94%\r95%\r96%\r97%\r98%\r99%\rPruned 13053 variants from chromosome 11, leaving 12666.\n",
            "\r1%\r2%\r3%\r4%\r5%\r6%\r7%\r8%\r9%\r10%\r11%\r12%\r13%\r14%\r15%\r16%\r17%\r18%\r19%\r20%\r21%\r22%\r23%\r24%\r25%\r26%\r27%\r28%\r29%\r30%\r31%\r32%\r33%\r33%\r34%\r35%\r36%\r37%\r38%\r39%\r40%\r41%\r42%\r43%\r44%\r45%\r46%\r47%\r48%\r49%\r50%\r51%\r52%\r53%\r54%\r55%\r56%\r57%\r58%\r59%\r60%\r61%\r62%\r63%\r63%\r64%\r65%\r66%\r67%\r68%\r69%\r70%\r71%\r72%\r73%\r74%\r75%\r76%\r77%\r78%\r79%\r80%\r81%\r82%\r82%\r83%\r84%\r85%\r86%\r87%\r87%\r88%\r89%\r90%\r91%\r92%\r93%\r94%\r95%\r96%\r97%\r98%\r99%\rPruned 11654 variants from chromosome 12, leaving 12500.\n",
            "\r1%\r2%\r3%\r4%\r5%\r6%\r7%\r8%\r9%\r10%\r11%\r12%\r13%\r14%\r15%\r16%\r17%\r18%\r19%\r20%\r21%\r22%\r23%\r24%\r25%\r26%\r27%\r28%\r29%\r30%\r31%\r32%\r32%\r33%\r34%\r35%\r36%\r37%\r38%\r39%\r40%\r41%\r42%\r43%\r44%\r45%\r46%\r47%\r48%\r49%\r50%\r51%\r52%\r53%\r54%\r55%\r56%\r57%\r58%\r59%\r60%\r61%\r62%\r63%\r64%\r65%\r66%\r67%\r68%\r69%\r70%\r71%\r72%\r73%\r74%\r75%\r76%\r77%\r78%\r79%\r80%\r81%\r82%\r83%\r84%\r85%\r86%\r87%\r88%\r89%\r90%\r91%\r92%\r93%\r94%\r95%\r96%\r97%\r98%\r99%\rPruned 8429 variants from chromosome 13, leaving 9609.\n",
            "\r1%\r2%\r3%\r4%\r5%\r6%\r7%\r8%\r9%\r10%\r11%\r12%\r13%\r14%\r15%\r16%\r17%\r18%\r19%\r20%\r21%\r22%\r23%\r24%\r25%\r26%\r27%\r28%\r29%\r30%\r31%\r32%\r33%\r34%\r35%\r36%\r37%\r38%\r39%\r40%\r41%\r42%\r43%\r44%\r45%\r45%\r46%\r47%\r48%\r49%\r50%\r51%\r52%\r53%\r54%\r55%\r56%\r57%\r58%\r59%\r60%\r61%\r62%\r63%\r64%\r65%\r66%\r67%\r68%\r69%\r70%\r71%\r72%\r73%\r74%\r75%\r76%\r77%\r78%\r79%\r80%\r81%\r82%\r83%\r84%\r85%\r86%\r87%\r88%\r89%\r90%\r91%\r92%\r93%\r94%\r95%\r96%\r97%\r98%\r99%\rPruned 8072 variants from chromosome 14, leaving 8791.\n",
            "\r1%\r2%\r3%\r4%\r5%\r6%\r7%\r8%\r9%\r10%\r11%\r12%\r13%\r14%\r15%\r16%\r17%\r18%\r19%\r20%\r21%\r22%\r23%\r24%\r25%\r26%\r27%\r28%\r29%\r30%\r31%\r32%\r33%\r34%\r35%\r36%\r37%\r38%\r39%\r40%\r41%\r42%\r43%\r44%\r45%\r46%\r47%\r48%\r49%\r50%\r51%\r52%\r53%\r54%\r55%\r56%\r57%\r58%\r59%\r60%\r61%\r62%\r63%\r64%\r65%\r66%\r67%\r68%\r69%\r70%\r71%\r72%\r73%\r74%\r75%\r76%\r77%\r78%\r79%\r80%\r81%\r82%\r83%\r84%\r85%\r86%\r86%\r87%\r88%\r89%\r90%\r91%\r92%\r93%\r94%\r95%\r96%\r97%\r98%\r99%\rPruned 7978 variants from chromosome 15, leaving 8470.\n",
            "\r1%\r2%\r3%\r4%\r5%\r6%\r7%\r8%\r9%\r10%\r11%\r12%\r13%\r14%\r15%\r16%\r17%\r17%\r18%\r19%\r20%\r21%\r22%\r23%\r24%\r25%\r26%\r27%\r28%\r29%\r30%\r31%\r32%\r33%\r34%\r35%\r36%\r37%\r38%\r39%\r40%\r41%\r42%\r43%\r44%\r45%\r46%\r47%\r48%\r49%\r50%\r51%\r52%\r53%\r54%\r55%\r56%\r57%\r58%\r59%\r60%\r61%\r62%\r63%\r64%\r65%\r66%\r67%\r67%\r68%\r69%\r70%\r71%\r72%\r73%\r74%\r75%\r76%\r77%\r78%\r79%\r80%\r81%\r82%\r83%\r84%\r85%\r86%\r87%\r88%\r89%\r90%\r91%\r92%\r93%\r94%\r95%\r96%\r97%\r98%\r99%\rPruned 8808 variants from chromosome 16, leaving 9500.\n",
            "\r1%\r2%\r3%\r4%\r5%\r6%\r7%\r8%\r9%\r10%\r11%\r12%\r13%\r14%\r15%\r16%\r17%\r18%\r19%\r20%\r21%\r22%\r23%\r24%\r25%\r26%\r27%\r28%\r29%\r30%\r31%\r32%\r33%\r34%\r35%\r36%\r37%\r38%\r39%\r40%\r41%\r42%\r43%\r44%\r45%\r46%\r47%\r48%\r49%\r50%\r51%\r52%\r53%\r54%\r55%\r56%\r57%\r58%\r59%\r60%\r61%\r62%\r63%\r64%\r65%\r66%\r67%\r68%\r69%\r70%\r71%\r72%\r73%\r74%\r75%\r76%\r77%\r78%\r79%\r80%\r81%\r82%\r83%\r84%\r85%\r86%\r87%\r88%\r89%\r90%\r91%\r92%\r93%\r94%\r95%\r96%\r97%\r98%\r99%\rPruned 8032 variants from chromosome 17, leaving 8724.\n",
            "\r1%\r2%\r3%\r4%\r5%\r6%\r7%\r8%\r9%\r10%\r11%\r12%\r12%\r13%\r14%\r15%\r16%\r17%\r18%\r19%\r20%\r21%\r22%\r23%\r24%\r25%\r26%\r27%\r28%\r29%\r30%\r31%\r32%\r33%\r34%\r35%\r36%\r37%\r38%\r39%\r40%\r41%\r42%\r43%\r44%\r45%\r46%\r47%\r48%\r49%\r50%\r51%\r52%\r53%\r54%\r55%\r56%\r57%\r58%\r59%\r60%\r61%\r62%\r63%\r64%\r65%\r66%\r67%\r68%\r69%\r70%\r71%\r72%\r72%\r73%\r74%\r75%\r76%\r77%\r78%\r79%\r80%\r81%\r82%\r83%\r84%\r85%\r86%\r87%\r88%\r89%\r90%\r91%\r92%\r93%\r94%\r95%\r96%\r97%\r98%\r99%\rPruned 7204 variants from chromosome 18, leaving 8560.\n",
            "\r1%\r2%\r3%\r4%\r5%\r6%\r7%\r8%\r9%\r10%\r11%\r12%\r13%\r14%\r15%\r16%\r17%\r18%\r19%\r20%\r21%\r22%\r23%\r24%\r25%\r26%\r27%\r28%\r29%\r30%\r31%\r32%\r33%\r34%\r35%\r36%\r37%\r38%\r39%\r40%\r41%\r42%\r43%\r44%\r45%\r46%\r47%\r48%\r49%\r50%\r51%\r52%\r53%\r54%\r55%\r56%\r57%\r58%\r59%\r60%\r61%\r62%\r63%\r64%\r65%\r66%\r67%\r68%\r69%\r70%\r71%\r72%\r73%\r74%\r75%\r76%\r77%\r78%\r79%\r80%\r81%\r82%\r83%\r84%\r85%\r86%\r87%\r88%\r89%\r90%\r91%\r92%\r93%\r94%\r95%\r96%\r97%\r98%\r99%\rPruned 7014 variants from chromosome 19, leaving 6726.\n",
            "\r1%\r2%\r3%\r4%\r5%\r6%\r7%\r8%\r9%\r10%\r11%\r12%\r13%\r14%\r15%\r16%\r17%\r18%\r19%\r20%\r21%\r22%\r23%\r24%\r25%\r26%\r27%\r28%\r29%\r30%\r31%\r32%\r33%\r34%\r35%\r36%\r37%\r38%\r39%\r40%\r41%\r42%\r43%\r44%\r45%\r46%\r47%\r47%\r48%\r49%\r50%\r51%\r52%\r53%\r54%\r55%\r56%\r57%\r58%\r59%\r60%\r61%\r62%\r63%\r64%\r64%\r65%\r66%\r67%\r68%\r69%\r70%\r71%\r72%\r73%\r74%\r75%\r76%\r77%\r78%\r79%\r80%\r81%\r82%\r83%\r84%\r85%\r86%\r87%\r88%\r89%\r90%\r91%\r92%\r93%\r94%\r95%\r96%\r97%\r98%\r99%\rPruned 6341 variants from chromosome 20, leaving 7508.\n",
            "\r1%\r2%\r3%\r4%\r5%\r6%\r7%\r8%\r9%\r10%\r11%\r12%\r13%\r14%\r15%\r16%\r17%\r18%\r18%\r19%\r20%\r21%\r22%\r23%\r24%\r25%\r26%\r27%\r28%\r29%\r30%\r31%\r32%\r33%\r34%\r35%\r36%\r37%\r38%\r39%\r40%\r41%\r42%\r43%\r44%\r45%\r46%\r47%\r48%\r49%\r50%\r51%\r52%\r53%\r54%\r55%\r56%\r57%\r58%\r59%\r60%\r61%\r62%\r63%\r64%\r65%\r66%\r67%\r68%\r69%\r70%\r71%\r72%\r73%\r74%\r75%\r76%\r77%\r78%\r79%\r80%\r81%\r82%\r83%\r84%\r85%\r86%\r87%\r88%\r89%\r90%\r91%\r92%\r93%\r94%\r95%\r96%\r97%\r97%\r98%\r99%\rPruned 3629 variants from chromosome 21, leaving 4280.\n",
            "\r1%\r2%\r3%\r4%\r5%\r6%\r7%\r8%\r9%\r10%\r11%\r12%\r13%\r14%\r15%\r15%\r16%\r17%\r18%\r19%\r20%\r21%\r22%\r23%\r24%\r25%\r26%\r27%\r28%\r29%\r30%\r31%\r32%\r33%\r34%\r35%\r36%\r37%\r38%\r39%\r40%\r41%\r42%\r43%\r44%\r45%\r46%\r47%\r48%\r49%\r50%\r51%\r52%\r53%\r54%\r55%\r56%\r57%\r58%\r59%\r60%\r61%\r62%\r63%\r64%\r65%\r66%\r67%\r68%\r69%\r70%\r71%\r72%\r73%\r74%\r75%\r76%\r77%\r78%\r79%\r80%\r81%\r82%\r83%\r84%\r85%\r86%\r87%\r88%\r89%\r90%\r91%\r92%\r93%\r94%\r95%\r96%\r97%\r98%\r99%\rPruned 4085 variants from chromosome 22, leaving 4323.\n",
            "\r1%\r2%\r3%\r4%\r5%\r6%\r7%\r8%\r9%\r10%\r11%\r12%\r13%\r14%\r15%\r16%\r17%\r18%\r19%\r20%\r20%\r21%\r22%\r23%\r24%\r25%\r26%\r27%\r28%\r29%\r30%\r31%\r32%\r33%\r34%\r35%\r36%\r37%\r38%\r39%\r40%\r41%\r42%\r43%\r44%\r45%\r46%\r47%\r48%\r49%\r50%\r51%\r52%\r53%\r54%\r55%\r56%\r57%\r58%\r59%\r60%\r61%\r62%\r63%\r64%\r65%\r66%\r67%\r68%\r69%\r70%\r71%\r72%\r73%\r74%\r75%\r76%\r77%\r78%\r79%\r80%\r81%\r82%\r83%\r84%\r85%\r86%\r87%\r88%\r89%\r90%\r91%\r92%\r92%\r93%\r94%\r95%\r96%\r97%\r98%\r99%\rPruned 16235 variants from chromosome 23, leaving 5229.\n",
            "Pruning complete.  272077 of 540534 variants removed.\n",
            "Writing...\rMarker lists written to QC/target/EUR.QC.prune.in and\n",
            "QC/target/EUR.QC.prune.out .\n"
          ]
        },
        {
          "output_type": "stream",
          "name": "stderr",
          "text": [
            "Warning: 1273 het. haploid genotypes present (see QC/target/EUR.QC.hh ); many\n",
            "commands treat these as missing.\n"
          ]
        }
      ]
    },
    {
      "cell_type": "markdown",
      "source": [
        "Heterozygosity rates can then be computed using plink:"
      ],
      "metadata": {
        "id": "WWtha2ruFRFw"
      }
    },
    {
      "cell_type": "code",
      "source": [
        "%%bash\n",
        "\n",
        "plink \\\n",
        "    --bfile QC/target/EUR \\\n",
        "    --extract QC/target/EUR.QC.prune.in \\\n",
        "    --keep QC/target/EUR.QC.fam \\\n",
        "    --het \\\n",
        "    --out QC/target/EUR.QC"
      ],
      "metadata": {
        "id": "ZdtERELwFRoO"
      },
      "execution_count": null,
      "outputs": []
    },
    {
      "cell_type": "markdown",
      "source": [],
      "metadata": {
        "id": "HoeCGlrWGFO3"
      }
    },
    {
      "cell_type": "code",
      "source": [
        "%%bash\n",
        "\n",
        "cat QC/target/EUR.QC.het | head"
      ],
      "metadata": {
        "id": "6RgtRsNOGKX5"
      },
      "execution_count": null,
      "outputs": []
    },
    {
      "cell_type": "code",
      "source": [
        "%%R\n",
        "# Read in the EUR.het file, specify it has header\n",
        "dat <- read.table(\"QC/target/EUR.QC.het\", header=T)\n",
        "\n",
        "# Calculate the mean\n",
        "m <- mean(dat$F)\n",
        "\n",
        "# Calculate the SD\n",
        "s <- sd(dat$F)\n",
        "\n",
        "# Get any samples with F coefficient within 3 SD of the population mean\n",
        "valid <- subset(dat, F <= m+3*s & F >= m-3*s)\n",
        "\n",
        "# print FID and IID for valid samples\n",
        "write.table(valid[,c(1,2)], \"QC/target/EUR.valid.sample\", quote=F, row.names=F)"
      ],
      "metadata": {
        "id": "Ml4fijL-GWcv"
      },
      "execution_count": null,
      "outputs": []
    },
    {
      "cell_type": "code",
      "source": [],
      "metadata": {
        "id": "SMWRN1OSHxCA"
      },
      "execution_count": null,
      "outputs": []
    },
    {
      "cell_type": "markdown",
      "source": [
        "**iv. Ambiguous SNPs**"
      ],
      "metadata": {
        "id": "Lrh8kV3wIV6Z"
      }
    },
    {
      "cell_type": "markdown",
      "source": [
        "**v. Mismatching SNPs**"
      ],
      "metadata": {
        "id": "UlTusXYFIdJ8"
      }
    },
    {
      "cell_type": "markdown",
      "source": [
        "1. Load the bim file, the summary statistic and the QC SNP list into R"
      ],
      "metadata": {
        "id": "j9vmsqzULDSX"
      }
    },
    {
      "cell_type": "code",
      "source": [
        "%%R\n",
        "# Read in bim file\n",
        "bim <- read.table(\"data/target/EUR.bim\")\n",
        "colnames(bim) <- c(\"CHR\", \"SNP\", \"CM\", \"BP\", \"B.A1\", \"B.A2\")\n",
        "\n",
        "# Read in QCed SNPs\n",
        "qc <- read.table(\"QC/target/EUR.QC.snplist\", header = F, stringsAsFactors = F)\n",
        "\n",
        "# Read in the GWAS data\n",
        "height <-\n",
        "    read.table(gzfile(\"QC/base/Height.QC.gz\"),\n",
        "            header = T,\n",
        "            stringsAsFactors = F,\n",
        "            sep=\"\\t\")\n",
        "\n",
        "# Change all alleles to upper case for easy comparison\n",
        "height$A1 <- toupper(height$A1)\n",
        "height$A2 <- toupper(height$A2)\n",
        "bim$B.A1 <- toupper(bim$B.A1)\n",
        "bim$B.A2 <- toupper(bim$B.A2)"
      ],
      "metadata": {
        "id": "GX91k6Y8Ig0D"
      },
      "execution_count": null,
      "outputs": []
    },
    {
      "cell_type": "code",
      "source": [
        "%%R\n",
        "head(bim)"
      ],
      "metadata": {
        "id": "aUeqrU8gLIt_"
      },
      "execution_count": null,
      "outputs": []
    },
    {
      "cell_type": "code",
      "source": [],
      "metadata": {
        "id": "UEPYwPVOLccb"
      },
      "execution_count": null,
      "outputs": []
    },
    {
      "cell_type": "code",
      "source": [],
      "metadata": {
        "id": "olJ3IeuXLZPv"
      },
      "execution_count": null,
      "outputs": []
    },
    {
      "cell_type": "markdown",
      "source": [
        "2. Identify SNPs that require strand flipping"
      ],
      "metadata": {
        "id": "6f9oTOv8LbUm"
      }
    },
    {
      "cell_type": "code",
      "source": [
        "%%R\n",
        "\n",
        "# Merge summary statistic with target\n",
        "info <- merge(bim, height, by = c(\"SNP\", \"CHR\", \"BP\"))\n",
        "\n",
        "# Filter QCed SNPs\n",
        "info <- info[info$SNP %in% qc$V1,]\n",
        "\n",
        "# Function for finding the complementary allele\n",
        "complement <- function(x) {\n",
        "    switch (\n",
        "        x,\n",
        "        \"A\" = \"T\",\n",
        "        \"C\" = \"G\",\n",
        "        \"T\" = \"A\",\n",
        "        \"G\" = \"C\",\n",
        "        return(NA)\n",
        "    )\n",
        "}\n",
        "\n",
        "# Get SNPs that have the same alleles across base and target\n",
        "info.match <- subset(info, A1 == B.A1 & A2 == B.A2)\n",
        "\n",
        "# Identify SNPs that are complementary between base and target\n",
        "info$C.A1 <- sapply(info$B.A1, complement)\n",
        "info$C.A2 <- sapply(info$B.A2, complement)\n",
        "info.complement <- subset(info, A1 == C.A1 & A2 == C.A2)\n",
        "\n",
        "# Update the complementary alleles in the bim file\n",
        "# This allow us to match the allele in subsequent analysis\n",
        "complement.snps <- bim$SNP %in% info.complement$SNP\n",
        "bim[complement.snps,]$B.A1 <-\n",
        "    sapply(bim[complement.snps,]$B.A1, complement)\n",
        "bim[complement.snps,]$B.A2 <-\n",
        "    sapply(bim[complement.snps,]$B.A2, complement)"
      ],
      "metadata": {
        "id": "VN7XgnKkLdh5"
      },
      "execution_count": null,
      "outputs": []
    },
    {
      "cell_type": "markdown",
      "source": [
        "3. Identify SNPs that require recoding in the target (to ensure the coding allele in the target data is the effective allele in the base summary statistic)"
      ],
      "metadata": {
        "id": "nub7L1zZMDKn"
      }
    },
    {
      "cell_type": "code",
      "source": [
        "%%R\n",
        "# identify SNPs that need recoding\n",
        "info.recode <- subset(info, A1 == B.A2 & A2 == B.A1)\n",
        "\n",
        "# Update the recode SNPs\n",
        "recode.snps <- bim$SNP %in% info.recode$SNP\n",
        "tmp <- bim[recode.snps,]$B.A1\n",
        "bim[recode.snps,]$B.A1 <- bim[recode.snps,]$B.A2\n",
        "bim[recode.snps,]$B.A2 <- tmp\n",
        "\n",
        "# identify SNPs that need recoding & complement\n",
        "info.crecode <- subset(info, A1 == C.A2 & A2 == C.A1)\n",
        "\n",
        "# Update the recode + strand flip SNPs\n",
        "com.snps <- bim$SNP %in% info.crecode$SNP\n",
        "tmp <- bim[com.snps,]$B.A1\n",
        "bim[com.snps,]$B.A1 <- as.character(sapply(bim[com.snps,]$B.A2, complement))\n",
        "bim[com.snps,]$B.A2 <- as.character(sapply(tmp, complement))\n",
        "\n",
        "# Output updated bim file\n",
        "write.table(\n",
        "    bim[,c(\"SNP\", \"B.A1\")],\n",
        "    \"QC/target/EUR.a1\",\n",
        "    quote = F,\n",
        "    row.names = F,\n",
        "    col.names = F,\n",
        "    sep=\"\\t\"\n",
        ")"
      ],
      "metadata": {
        "id": "bJMKxU7FMFNw"
      },
      "execution_count": null,
      "outputs": []
    },
    {
      "cell_type": "code",
      "source": [
        "!cat QC/target/EUR.a1 | head"
      ],
      "metadata": {
        "id": "8TZZby0RMrbA"
      },
      "execution_count": null,
      "outputs": []
    },
    {
      "cell_type": "markdown",
      "source": [
        "4. Identify SNPs that have different allele in base and target (usually due to difference in genome build or Indel)"
      ],
      "metadata": {
        "id": "D6s4IREQNl3h"
      }
    },
    {
      "cell_type": "code",
      "source": [
        "%%R\n",
        "mismatch <-\n",
        "    bim$SNP[!(bim$SNP %in% info.match$SNP |\n",
        "                bim$SNP %in% info.complement$SNP |\n",
        "                bim$SNP %in% info.recode$SNP |\n",
        "                bim$SNP %in% info.crecode$SNP)]\n",
        "write.table(\n",
        "    mismatch,\n",
        "    \"QC/target/EUR.mismatch\",\n",
        "    quote = F,\n",
        "    row.names = F,\n",
        "    col.names = F\n",
        ")"
      ],
      "metadata": {
        "id": "OYIdKytyNq-H"
      },
      "execution_count": null,
      "outputs": []
    },
    {
      "cell_type": "code",
      "source": [
        "%%R\n",
        "head(mismatch)"
      ],
      "metadata": {
        "id": "H2VFNJzEOGBw"
      },
      "execution_count": null,
      "outputs": []
    },
    {
      "cell_type": "markdown",
      "source": [
        "**vi. Duplicate SNPs**"
      ],
      "metadata": {
        "id": "lUyiAl_QOWg_"
      }
    },
    {
      "cell_type": "markdown",
      "source": [
        "**vii. Sex Chromosomes**"
      ],
      "metadata": {
        "id": "yAumx1F9Olb3"
      }
    },
    {
      "cell_type": "code",
      "source": [
        "%%bash\n",
        "\n",
        "plink \\\n",
        "    --bfile QC/target/EUR \\\n",
        "    --extract QC/target/EUR.QC.prune.in \\\n",
        "    --keep QC/target/EUR.valid.sample \\\n",
        "    --check-sex \\\n",
        "    --out QC/target/EUR.QC"
      ],
      "metadata": {
        "id": "8ZS7hvIVOdhu"
      },
      "execution_count": null,
      "outputs": []
    },
    {
      "cell_type": "markdown",
      "source": [
        "This will generate a file called EUR.QC.sexcheck containing the F-statistics for each individual. Individuals are typically called as being biologically male if the F-statistic is > 0.8 and biologically female if F < 0.2."
      ],
      "metadata": {
        "id": "tLYMp1bbO5uH"
      }
    },
    {
      "cell_type": "code",
      "source": [
        "%%R\n",
        "# Read in file\n",
        "valid <- read.table(\"QC/target/EUR.valid.sample\", header=T)\n",
        "dat <- read.table(\"QC/target/EUR.QC.sexcheck\", header=T)\n",
        "valid <- subset(dat, STATUS==\"OK\" & FID %in% valid$FID)\n",
        "write.table(valid[,c(\"FID\", \"IID\")], \"QC/target/EUR.QC.valid\", row.names=F, col.names=F, sep=\"\\t\", quote=F)"
      ],
      "metadata": {
        "id": "lAJmC6Z5O9bv"
      },
      "execution_count": null,
      "outputs": []
    },
    {
      "cell_type": "markdown",
      "source": [
        "**viii. Sample overlap**"
      ],
      "metadata": {
        "id": "f_l0Xs-0POwH"
      }
    },
    {
      "cell_type": "markdown",
      "source": [
        "**ix. Relatedness**"
      ],
      "metadata": {
        "id": "PvJVOPF6PTdH"
      }
    },
    {
      "cell_type": "code",
      "source": [
        "%%bash\n",
        "\n",
        "plink \\\n",
        "    --bfile QC/target/EUR \\\n",
        "    --extract QC/target/EUR.QC.prune.in \\\n",
        "    --keep QC/target/EUR.QC.valid \\\n",
        "    --rel-cutoff 0.125 \\\n",
        "    --out QC/target/EUR.QC"
      ],
      "metadata": {
        "id": "1ACPexeMPWXn"
      },
      "execution_count": null,
      "outputs": []
    },
    {
      "cell_type": "markdown",
      "source": [
        "## Generate final QC'ed target data file"
      ],
      "metadata": {
        "id": "Ikhrjgy5Pno5"
      }
    },
    {
      "cell_type": "code",
      "source": [
        "%%bash\n",
        "\n",
        "plink \\\n",
        "    --bfile QC/target/EUR \\\n",
        "    --make-bed \\\n",
        "    --keep QC/target/EUR.QC.rel.id \\\n",
        "    --out QC/target/EUR.QC \\\n",
        "    --extract QC/target/EUR.QC.snplist \\\n",
        "    --exclude QC/target/EUR.mismatch \\\n",
        "    --a1-allele QC/target/EUR.a1"
      ],
      "metadata": {
        "id": "26JeLKElPsl3"
      },
      "execution_count": null,
      "outputs": []
    },
    {
      "cell_type": "code",
      "source": [],
      "metadata": {
        "id": "LVB55UzNQ-JG"
      },
      "execution_count": null,
      "outputs": []
    },
    {
      "cell_type": "markdown",
      "source": [
        "# 2. Calculating and analysing PRS using PLINK"
      ],
      "metadata": {
        "id": "f-OQG0hiRJV1"
      }
    },
    {
      "cell_type": "code",
      "source": [
        "mkdir PRS"
      ],
      "metadata": {
        "id": "QFEnjLNzR3gF"
      },
      "execution_count": null,
      "outputs": []
    },
    {
      "cell_type": "markdown",
      "source": [
        "## Update Effect Size"
      ],
      "metadata": {
        "id": "XJzpVFM0RQkl"
      }
    },
    {
      "cell_type": "code",
      "source": [
        "%%R\n",
        "\n",
        "dat <- read.table(gzfile(\"QC/base/Height.QC.gz\"), header=T)\n",
        "dat$BETA <- log(dat$OR)\n",
        "write.table(dat, \"PRS/Height.QC.Transformed\", quote=F, row.names=F)"
      ],
      "metadata": {
        "id": "bWxQs47eRuNd"
      },
      "execution_count": null,
      "outputs": []
    },
    {
      "cell_type": "markdown",
      "source": [
        "## Clumping"
      ],
      "metadata": {
        "id": "siWd3RhtTLhj"
      }
    },
    {
      "cell_type": "markdown",
      "source": [
        "This will generate EUR.clumped, containing the index SNPs after clumping is performed."
      ],
      "metadata": {
        "id": "tgTtyKMzVsAa"
      }
    },
    {
      "cell_type": "code",
      "source": [
        "%%bash\n",
        "\n",
        "plink \\\n",
        "    --bfile QC/target/EUR.QC \\\n",
        "    --clump-p1 1 \\\n",
        "    --clump-r2 0.1 \\\n",
        "    --clump-kb 250 \\\n",
        "    --clump PRS/Height.QC.Transformed \\\n",
        "    --clump-snp-field SNP \\\n",
        "    --clump-field P \\\n",
        "    --out PRS/EUR"
      ],
      "metadata": {
        "id": "UKWIQvjsTOLs"
      },
      "execution_count": null,
      "outputs": []
    },
    {
      "cell_type": "markdown",
      "source": [
        "We can extract the index SNP ID by performing the following command:"
      ],
      "metadata": {
        "id": "MSLonrgTVyLT"
      }
    },
    {
      "cell_type": "code",
      "source": [
        "%%bash\n",
        "\n",
        "awk 'NR!=1{print $3}' PRS/EUR.clumped >  PRS/EUR.valid.snp"
      ],
      "metadata": {
        "id": "3khKt1brV1k0"
      },
      "execution_count": null,
      "outputs": []
    },
    {
      "cell_type": "markdown",
      "source": [
        "## Generate PRS"
      ],
      "metadata": {
        "id": "8upAO8weZocv"
      }
    },
    {
      "cell_type": "markdown",
      "source": [
        "plink provides a convenient function --score and --q-score-range for calculating polygenic scores."
      ],
      "metadata": {
        "id": "UeZPpZ8wZqr8"
      }
    },
    {
      "cell_type": "markdown",
      "source": [
        "1. The base data file: Height.QC.Transformed"
      ],
      "metadata": {
        "id": "OYyh5MTEdPEv"
      }
    },
    {
      "cell_type": "markdown",
      "source": [
        "2. A file containing SNP IDs and their corresponding P-values $3 because SNP ID is located in the third column; $8 because the P-value is located in the eighth column"
      ],
      "metadata": {
        "id": "fI3STmqZdTRX"
      }
    },
    {
      "cell_type": "code",
      "source": [
        "%%bash\n",
        "awk '{print $3,$8}' PRS/Height.QC.Transformed > PRS/SNP.pvalue"
      ],
      "metadata": {
        "id": "TPMVIIU3ZlCY"
      },
      "execution_count": null,
      "outputs": []
    },
    {
      "cell_type": "markdown",
      "source": [
        "3. A file containing the different P-value thresholds for inclusion of SNPs in the PRS. Here calculate PRS corresponding to a few thresholds for illustration purposes:"
      ],
      "metadata": {
        "id": "altuBqWcZtCI"
      }
    },
    {
      "cell_type": "code",
      "source": [
        "%%bash\n",
        "\n",
        "echo \"0.001 0 0.001\" > PRS/range_list\n",
        "echo \"0.05 0 0.05\" >> PRS/range_list\n",
        "echo \"0.1 0 0.1\" >> PRS/range_list\n",
        "echo \"0.2 0 0.2\" >> PRS/range_list\n",
        "echo \"0.3 0 0.3\" >> PRS/range_list\n",
        "echo \"0.4 0 0.4\" >> PRS/range_list\n",
        "echo \"0.5 0 0.5\" >> PRS/range_list"
      ],
      "metadata": {
        "id": "lmrwfb_Hd-Td"
      },
      "execution_count": null,
      "outputs": []
    },
    {
      "cell_type": "markdown",
      "source": [
        "We can then calculate the PRS with the following plink command:"
      ],
      "metadata": {
        "id": "eWidNd8QeMrf"
      }
    },
    {
      "cell_type": "code",
      "source": [
        "%%bash\n",
        "\n",
        "plink \\\n",
        "    --bfile QC/target/EUR.QC \\\n",
        "    --score PRS/Height.QC.Transformed 3 4 12 header \\\n",
        "    --q-score-range PRS/range_list PRS/SNP.pvalue \\\n",
        "    --extract PRS/EUR.valid.snp \\\n",
        "    --out PRS/EUR"
      ],
      "metadata": {
        "id": "v4_iu_gzeMRf"
      },
      "execution_count": null,
      "outputs": []
    },
    {
      "cell_type": "code",
      "source": [],
      "metadata": {
        "id": "WwKvDgZ2etsy"
      },
      "execution_count": null,
      "outputs": []
    },
    {
      "cell_type": "markdown",
      "source": [
        "The above command and range_list will generate 7 files:\n",
        "\n",
        "* EUR.0.5.profile\n",
        "* EUR.0.4.profile\n",
        "* EUR.0.3.profile\n",
        "* EUR.0.2.profile\n",
        "* EUR.0.1.profile\n",
        "* EUR.0.05.profile\n",
        "* EUR.0.001.profile"
      ],
      "metadata": {
        "id": "KVPsB3Wse1mr"
      }
    },
    {
      "cell_type": "markdown",
      "source": [
        "![image.png](data:image/png;base64,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)"
      ],
      "metadata": {
        "id": "NRoWlOWpfHiU"
      }
    },
    {
      "cell_type": "markdown",
      "source": [
        "## Accounting for Population Stratification\n"
      ],
      "metadata": {
        "id": "tTugSbVPfIqV"
      }
    },
    {
      "cell_type": "markdown",
      "source": [
        "Population structure is the principal source of confounding in GWAS and is usually accounted for by incorporating principal components (PCs) as covariates. We can incorporate PCs into our PRS analysis to account for population stratification."
      ],
      "metadata": {
        "id": "1CBKZs-efoqE"
      }
    },
    {
      "cell_type": "markdown",
      "source": [
        "Again, we can calculate the PCs using `plink`:"
      ],
      "metadata": {
        "id": "eNyIV4jefsav"
      }
    },
    {
      "cell_type": "code",
      "source": [
        "%%bash\n",
        "\n",
        "# First, we need to perform prunning\n",
        "plink \\\n",
        "    --bfile QC/target/EUR.QC \\\n",
        "    --indep-pairwise 200 50 0.25 \\\n",
        "    --out PRS/EUR\n",
        "\n",
        "# Then we calculate the first 6 PCs\n",
        "plink \\\n",
        "    --bfile QC/target/EUR.QC \\\n",
        "    --extract PRS/EUR.prune.in \\\n",
        "    --pca 6 \\\n",
        "    --out PRS/EUR"
      ],
      "metadata": {
        "id": "xfmuwQOkfSWI"
      },
      "execution_count": null,
      "outputs": []
    },
    {
      "cell_type": "markdown",
      "source": [
        "# Finding the \"best-fit\" PRS"
      ],
      "metadata": {
        "id": "U_J2EikZf-EI"
      }
    },
    {
      "cell_type": "code",
      "source": [
        "%%R\n",
        "\n",
        "p.threshold <- c(0.001,0.05,0.1,0.2,0.3,0.4,0.5)\n",
        "\n",
        "# Read in the phenotype file\n",
        "phenotype <- read.table(\"data/target/EUR.height\", header=T)\n",
        "\n",
        "# Read in the PCs\n",
        "pcs <- read.table(\"PRS/EUR.eigenvec\", header=F)\n",
        "\n",
        "# The default output from plink does not include a header\n",
        "# To make things simple, we will add the appropriate headers\n",
        "# (1:6 because there are 6 PCs)\n",
        "colnames(pcs) <- c(\"FID\", \"IID\", paste0(\"PC\",1:6))\n",
        "\n",
        "# Read in the covariates (here, it is sex)\n",
        "covariate <- read.table(\"data/target/EUR.cov\", header=T)\n",
        "\n",
        "# Now merge the files\n",
        "pheno <- merge(merge(phenotype, covariate, by=c(\"FID\", \"IID\")), pcs, by=c(\"FID\",\"IID\"))\n",
        "\n",
        "# We can then calculate the null model (model with PRS) using a linear regression\n",
        "# (as height is quantitative)\n",
        "null.model <- lm(Height~., data=pheno[,!colnames(pheno)%in%c(\"FID\",\"IID\")])\n",
        "\n",
        "# And the R2 of the null model is\n",
        "null.r2 <- summary(null.model)$r.squared\n",
        "prs.result <- NULL\n",
        "for(i in p.threshold){\n",
        "    # Go through each p-value threshold\n",
        "    prs <- read.table(paste0(\"PRS/EUR.\",i,\".profile\"), header=T)\n",
        "    # Merge the prs with the phenotype matrix\n",
        "    # We only want the FID, IID and PRS from the PRS file, therefore we only select the\n",
        "    # relevant columns\n",
        "    pheno.prs <- merge(pheno, prs[,c(\"FID\",\"IID\", \"SCORE\")], by=c(\"FID\", \"IID\"))\n",
        "    # Now perform a linear regression on Height with PRS and the covariates\n",
        "    # ignoring the FID and IID from our model\n",
        "    model <- lm(Height~., data=pheno.prs[,!colnames(pheno.prs)%in%c(\"FID\",\"IID\")])\n",
        "    # model R2 is obtained as\n",
        "    model.r2 <- summary(model)$r.squared\n",
        "    # R2 of PRS is simply calculated as the model R2 minus the null R2\n",
        "    prs.r2 <- model.r2-null.r2\n",
        "    # We can also obtain the coeffcient and p-value of association of PRS as follow\n",
        "    prs.coef <- summary(model)$coeff[\"SCORE\",]\n",
        "    prs.beta <- as.numeric(prs.coef[1])\n",
        "    prs.se <- as.numeric(prs.coef[2])\n",
        "    prs.p <- as.numeric(prs.coef[4])\n",
        "    # We can then store the results\n",
        "    prs.result <- rbind(prs.result, data.frame(Threshold=i, R2=prs.r2, P=prs.p, BETA=prs.beta,SE=prs.se))\n",
        "}\n",
        "# Best result is:\n",
        "prs.result[which.max(prs.result$R2),]"
      ],
      "metadata": {
        "id": "_QKKUVUuf-WT"
      },
      "execution_count": null,
      "outputs": []
    },
    {
      "cell_type": "code",
      "source": [
        "%%R\n",
        "head(data.frame(prs.result))"
      ],
      "metadata": {
        "id": "nh4bDe7FraND"
      },
      "execution_count": null,
      "outputs": []
    },
    {
      "cell_type": "markdown",
      "source": [
        "# 3. Visualizing PRS Results"
      ],
      "metadata": {
        "id": "KbPpm8SIhF7r"
      }
    },
    {
      "cell_type": "markdown",
      "source": [
        "## Plotting the Results"
      ],
      "metadata": {
        "id": "DEJpCwSohJG0"
      }
    },
    {
      "cell_type": "markdown",
      "source": [
        "We will be using prs.result variable, which was generated in the previous section"
      ],
      "metadata": {
        "id": "IQd02AYQhM8m"
      }
    },
    {
      "cell_type": "code",
      "source": [
        "%%R\n",
        "install.packages(\"ggplot2\")\n",
        "library(ggplot2)"
      ],
      "metadata": {
        "id": "LFDZjYt4hTS0"
      },
      "execution_count": null,
      "outputs": []
    },
    {
      "cell_type": "code",
      "source": [
        "%%R\n",
        "# generate a pretty format for p-value output\n",
        "prs.result$print.p <- round(prs.result$P, digits = 3)\n",
        "prs.result$print.p[!is.na(prs.result$print.p) &\n",
        "                    prs.result$print.p == 0] <-\n",
        "    format(prs.result$P[!is.na(prs.result$print.p) &\n",
        "                            prs.result$print.p == 0], digits = 2)\n",
        "prs.result$print.p <- sub(\"e\", \"*x*10^\", prs.result$print.p)\n",
        "\n",
        "# Initialize ggplot, requiring the threshold as the x-axis (use factor so that it is uniformly distributed)\n",
        "ggplot(data = prs.result, aes(x = factor(Threshold), y = R2)) +\n",
        "    # Specify that we want to print p-value on top of the bars\n",
        "    geom_text(\n",
        "        aes(label = paste(print.p)),\n",
        "        vjust = -1.5,\n",
        "        hjust = 0,\n",
        "        angle = 45,\n",
        "        cex = 4,\n",
        "        parse = T\n",
        "    )  +\n",
        "    # Specify the range of the plot, *1.25 to provide enough space for the p-values\n",
        "    scale_y_continuous(limits = c(0, max(prs.result$R2) * 1.25)) +\n",
        "    # Specify the axis labels\n",
        "    xlab(expression(italic(P) - value ~ threshold ~ (italic(P)[T]))) +\n",
        "    ylab(expression(paste(\"PRS model fit:  \", R ^ 2))) +\n",
        "    # Draw a bar plot\n",
        "    geom_bar(aes(fill = -log10(P)), stat = \"identity\") +\n",
        "    # Specify the colors\n",
        "    scale_fill_gradient2(\n",
        "        low = \"dodgerblue\",\n",
        "        high = \"firebrick\",\n",
        "        mid = \"dodgerblue\",\n",
        "        midpoint = 1e-4,\n",
        "        name = bquote(atop(-log[10] ~ model, italic(P) - value),)\n",
        "    ) +\n",
        "\n",
        "    # Some beautification of the plot\n",
        "    theme_classic() + theme(\n",
        "        axis.title = element_text(face = \"bold\", size = 18),\n",
        "        axis.text = element_text(size = 14),\n",
        "        legend.title = element_text(face = \"bold\", size =\n",
        "                                        18),\n",
        "        legend.text = element_text(size = 14),\n",
        "        axis.text.x = element_text(angle = 45, hjust =\n",
        "                                    1)\n",
        "    )"
      ],
      "metadata": {
        "id": "5lX9gjheiBmm"
      },
      "execution_count": null,
      "outputs": []
    },
    {
      "cell_type": "code",
      "source": [
        "%%R\n",
        "# Read in the files\n",
        "prs <- read.table(\"PRS/EUR.0.3.profile\", header=T)\n",
        "height <- read.table(\"data/target/EUR.height\", header=T)\n",
        "sex <- read.table(\"data/target/EUR.cov\", header=T)\n",
        "\n",
        "# Rename the sex\n",
        "sex$Sex <- as.factor(sex$Sex)\n",
        "levels(sex$Sex) <- c(\"Male\", \"Female\")\n",
        "\n",
        "# Merge the files\n",
        "dat <- merge(merge(prs, height), sex)\n",
        "\n",
        "# Start plotting\n",
        "ggplot(dat, aes(x=SCORE, y=Height, color=Sex))+\n",
        "    geom_point()+\n",
        "    theme_classic()+\n",
        "    labs(x=\"Polygenic Score\", y=\"Height\")"
      ],
      "metadata": {
        "id": "FCHALzUDipua"
      },
      "execution_count": null,
      "outputs": []
    }
  ]
}