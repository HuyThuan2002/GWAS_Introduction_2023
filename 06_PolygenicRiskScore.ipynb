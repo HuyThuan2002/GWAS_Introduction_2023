{
  "nbformat": 4,
  "nbformat_minor": 0,
  "metadata": {
    "colab": {
      "provenance": [],
      "include_colab_link": true
    },
    "kernelspec": {
      "name": "python3",
      "display_name": "Python 3"
    },
    "language_info": {
      "name": "python"
    }
  },
  "cells": [
    {
      "cell_type": "markdown",
      "metadata": {
        "id": "view-in-github",
        "colab_type": "text"
      },
      "source": [
        "<a href=\"https://colab.research.google.com/github/luuloi/GWAS_Introduction_2023/blob/main/06_PolygenicRiskScore.ipynb\" target=\"_parent\"><img src=\"https://colab.research.google.com/assets/colab-badge.svg\" alt=\"Open In Colab\"/></a>"
      ]
    },
    {
      "cell_type": "markdown",
      "source": [
        "# SETUP ENVIRONMENT"
      ],
      "metadata": {
        "id": "mK0jGtKj_0O8"
      }
    },
    {
      "cell_type": "code",
      "source": [
        "!pip install -q rpy2\n",
        "!pip install -q condacolab"
      ],
      "metadata": {
        "id": "RnUE94KmGSYG",
        "outputId": "fa291a79-41bd-4b31-9bc5-35646699932c",
        "colab": {
          "base_uri": "https://localhost:8080/"
        }
      },
      "execution_count": 1,
      "outputs": [
        {
          "output_type": "stream",
          "name": "stdout",
          "text": [
            "\u001b[?25l     \u001b[90m━━━━━━━━━━━━━━━━━━━━━━━━━━━━━━━━━━━━━━━━\u001b[0m \u001b[32m0.0/218.8 kB\u001b[0m \u001b[31m?\u001b[0m eta \u001b[36m-:--:--\u001b[0m\r\u001b[2K     \u001b[91m━━━━━━━━━━━━━━━━━━━━━━━━━━━━━━━━━━━━━━\u001b[0m\u001b[90m╺\u001b[0m \u001b[32m215.0/218.8 kB\u001b[0m \u001b[31m8.0 MB/s\u001b[0m eta \u001b[36m0:00:01\u001b[0m\r\u001b[2K     \u001b[90m━━━━━━━━━━━━━━━━━━━━━━━━━━━━━━━━━━━━━━━\u001b[0m \u001b[32m218.8/218.8 kB\u001b[0m \u001b[31m5.8 MB/s\u001b[0m eta \u001b[36m0:00:00\u001b[0m\n",
            "\u001b[?25h  Installing build dependencies ... \u001b[?25l\u001b[?25hdone\n",
            "  Getting requirements to build wheel ... \u001b[?25l\u001b[?25hdone\n",
            "  Preparing metadata (pyproject.toml) ... \u001b[?25l\u001b[?25hdone\n",
            "\u001b[2K     \u001b[90m━━━━━━━━━━━━━━━━━━━━━━━━━━━━━━━━━━━━━━\u001b[0m \u001b[32m133.1/133.1 kB\u001b[0m \u001b[31m11.8 MB/s\u001b[0m eta \u001b[36m0:00:00\u001b[0m\n",
            "\u001b[?25h  Building wheel for rpy2 (pyproject.toml) ... \u001b[?25l\u001b[?25hdone\n",
            "\u001b[33mWARNING: Running pip as the 'root' user can result in broken permissions and conflicting behaviour with the system package manager. It is recommended to use a virtual environment instead: https://pip.pypa.io/warnings/venv\u001b[0m\u001b[33m\n",
            "\u001b[0m\u001b[33mWARNING: Running pip as the 'root' user can result in broken permissions and conflicting behaviour with the system package manager. It is recommended to use a virtual environment instead: https://pip.pypa.io/warnings/venv\u001b[0m\u001b[33m\n",
            "\u001b[0m"
          ]
        }
      ]
    },
    {
      "cell_type": "code",
      "source": [
        "# Ignore rpy2's warnings\n",
        "import warnings\n",
        "from rpy2.rinterface import RRuntimeWarning\n",
        "\n",
        "warnings.filterwarnings(\"ignore\", category=RRuntimeWarning)"
      ],
      "metadata": {
        "id": "rqsVRlvZbepp"
      },
      "execution_count": 2,
      "outputs": []
    },
    {
      "cell_type": "code",
      "source": [
        "# Initialize conda\n",
        "\n",
        "import condacolab\n",
        "condacolab.install()"
      ],
      "metadata": {
        "id": "nplSoFdMbgXY",
        "outputId": "5607013f-c7e8-45ed-a129-724e4617af77",
        "colab": {
          "base_uri": "https://localhost:8080/"
        }
      },
      "execution_count": 3,
      "outputs": [
        {
          "output_type": "stream",
          "name": "stdout",
          "text": [
            "✨🍰✨ Everything looks OK!\n"
          ]
        }
      ]
    },
    {
      "cell_type": "markdown",
      "source": [
        "# INSTALL PLINK PACKAGE"
      ],
      "metadata": {
        "id": "vW6Q6afzAXal"
      }
    },
    {
      "cell_type": "code",
      "source": [
        "# Install plink\n",
        "\n",
        "!conda install -c bioconda plink"
      ],
      "metadata": {
        "id": "xW-im8EObz-R",
        "outputId": "5fde2412-2455-4831-b0c7-b78289b20109",
        "colab": {
          "base_uri": "https://localhost:8080/"
        }
      },
      "execution_count": 4,
      "outputs": [
        {
          "output_type": "stream",
          "name": "stdout",
          "text": [
            "Collecting package metadata (current_repodata.json): - \b\b\\ \b\b| \b\b/ \b\b- \b\b\\ \b\b| \b\b/ \b\b- \b\b\\ \b\b| \b\b/ \b\b- \b\b\\ \b\b| \b\b/ \b\b- \b\b\\ \b\b| \b\b/ \b\b- \b\b\\ \b\b| \b\b/ \b\b- \b\b\\ \b\b| \b\b/ \b\b- \b\b\\ \b\b| \b\b/ \b\b- \b\b\\ \b\b| \b\b/ \b\b- \b\b\\ \b\b| \b\b/ \b\b- \b\b\\ \b\b| \b\b/ \b\b- \b\b\\ \b\b| \b\b/ \b\b- \b\b\\ \b\b| \b\b/ \b\b- \b\b\\ \b\b| \b\b/ \b\b- \b\b\\ \b\b| \b\b/ \b\b- \b\b\\ \b\b| \b\b/ \b\b- \b\b\\ \b\b| \b\b/ \b\b- \b\b\\ \b\b| \b\b/ \b\b- \b\b\\ \b\b| \b\b/ \b\b- \b\b\\ \b\b| \b\b/ \b\b- \b\b\\ \b\b| \b\b/ \b\b- \b\b\\ \b\b| \b\b/ \b\b- \b\b\\ \b\b| \b\b/ \b\b- \b\b\\ \b\b| \b\b/ \b\b- \b\b\\ \b\b| \b\b/ \b\b- \b\b\\ \b\b| \b\b/ \b\b- \b\b\\ \b\b| \b\b/ \b\b- \b\b\\ \b\b| \b\b/ \b\b- \b\b\\ \b\b| \b\b/ \b\b- \b\b\\ \b\b| \b\b/ \b\b- \b\b\\ \b\b| \b\b/ \b\b- \b\b\\ \b\b| \b\b/ \b\b- \b\b\\ \b\b| \b\b/ \b\b- \b\b\\ \b\b| \b\b/ \b\b- \b\b\\ \b\b| \b\b/ \b\b- \b\b\\ \b\b| \b\b/ \b\b- \b\b\\ \b\b| \b\b/ \b\b- \b\b\\ \b\b| \b\b/ \b\b- \b\b\\ \b\b| \b\b/ \b\b- \b\b\\ \b\b| \b\b/ \b\b- \b\b\\ \b\b| \b\b/ \b\b- \b\b\\ \b\bdone\n",
            "Solving environment: / \b\b- \b\b\\ \b\b| \b\b/ \b\b- \b\b\\ \b\b| \b\bdone\n",
            "\n",
            "\n",
            "==> WARNING: A newer version of conda exists. <==\n",
            "  current version: 23.1.0\n",
            "  latest version: 23.7.2\n",
            "\n",
            "Please update conda by running\n",
            "\n",
            "    $ conda update -n base -c conda-forge conda\n",
            "\n",
            "Or to minimize the number of packages updated during conda update use\n",
            "\n",
            "     conda install conda=23.7.2\n",
            "\n",
            "\n",
            "\n",
            "## Package Plan ##\n",
            "\n",
            "  environment location: /usr/local\n",
            "\n",
            "  added / updated specs:\n",
            "    - plink\n",
            "\n",
            "\n",
            "The following packages will be downloaded:\n",
            "\n",
            "    package                    |            build\n",
            "    ---------------------------|-----------------\n",
            "    ca-certificates-2023.7.22  |       hbcca054_0         146 KB  conda-forge\n",
            "    certifi-2023.7.22          |     pyhd8ed1ab_0         150 KB  conda-forge\n",
            "    openssl-3.1.2              |       hd590300_0         2.5 MB  conda-forge\n",
            "    plink-1.90b6.21            |       h031d066_5         6.8 MB  bioconda\n",
            "    ------------------------------------------------------------\n",
            "                                           Total:         9.7 MB\n",
            "\n",
            "The following NEW packages will be INSTALLED:\n",
            "\n",
            "  plink              bioconda/linux-64::plink-1.90b6.21-h031d066_5 \n",
            "\n",
            "The following packages will be UPDATED:\n",
            "\n",
            "  ca-certificates                      2022.12.7-ha878542_0 --> 2023.7.22-hbcca054_0 \n",
            "  certifi                            2022.12.7-pyhd8ed1ab_0 --> 2023.7.22-pyhd8ed1ab_0 \n",
            "  openssl                                  3.1.0-h0b41bf4_0 --> 3.1.2-hd590300_0 \n",
            "\n",
            "\n",
            "\n",
            "Downloading and Extracting Packages\n",
            "openssl-3.1.2        | 2.5 MB    | :   0% 0/1 [00:00<?, ?it/s]\n",
            "plink-1.90b6.21      | 6.8 MB    | :   0% 0/1 [00:00<?, ?it/s]\u001b[A\n",
            "\n",
            "certifi-2023.7.22    | 150 KB    | :   0% 0/1 [00:00<?, ?it/s]\u001b[A\u001b[A\n",
            "\n",
            "\n",
            "ca-certificates-2023 | 146 KB    | :   0% 0/1 [00:00<?, ?it/s]\u001b[A\u001b[A\u001b[A\n",
            "\n",
            "certifi-2023.7.22    | 150 KB    | :  11% 0.10653419250801412/1 [00:00<00:00,  1.07s/it]\u001b[A\u001b[A\n",
            "\n",
            "\n",
            "openssl-3.1.2        | 2.5 MB    | :   1% 0.006190710458083858/1 [00:00<00:23, 23.21s/it]\n",
            "plink-1.90b6.21      | 6.8 MB    | :   0% 0.002284472932188773/1 [00:00<01:11, 71.64s/it]\u001b[A\n",
            "\n",
            "\n",
            "ca-certificates-2023 | 146 KB    | : 100% 1.0/1 [00:00<00:00,  1.08s/it]                \u001b[A\u001b[A\u001b[A\n",
            "\n",
            "certifi-2023.7.22    | 150 KB    | : 100% 1.0/1 [00:00<00:00,  1.07s/it]                \u001b[A\u001b[A\n",
            "openssl-3.1.2        | 2.5 MB    | : 100% 1.0/1 [00:00<00:00,  3.25it/s]\n",
            "plink-1.90b6.21      | 6.8 MB    | : 100% 1.0/1 [00:01<00:00,  1.77s/it]               \u001b[A\n",
            "                                                                        \n",
            "                                                                        \u001b[A\n",
            "\n",
            "                                                                        \u001b[A\u001b[A\n",
            "\n",
            "\n",
            "                                                                        \u001b[A\u001b[A\u001b[A\n",
            "Preparing transaction: - \b\bdone\n",
            "Verifying transaction: | \b\bdone\n",
            "Executing transaction: - \b\b\\ \b\b| \b\b/ \b\b- \b\b\\ \b\b| \b\b/ \b\b- \b\bdone\n"
          ]
        }
      ]
    },
    {
      "cell_type": "code",
      "source": [
        "%%bash\n",
        "mkdir data\n",
        "mkdir -p data/base\n",
        "mkdir -p data/target"
      ],
      "metadata": {
        "id": "CZ7Du0HNcImi"
      },
      "execution_count": 7,
      "outputs": []
    },
    {
      "cell_type": "markdown",
      "source": [
        "# PREPARE DATA"
      ],
      "metadata": {
        "id": "G1NqaIXpBq1D"
      }
    },
    {
      "cell_type": "code",
      "source": [
        "%load_ext rpy2.ipython"
      ],
      "metadata": {
        "id": "ZwFsLbTocdMR"
      },
      "execution_count": 6,
      "outputs": []
    },
    {
      "cell_type": "code",
      "source": [
        "%%R\n",
        "dat <- read.table(gzfile(\"Height.QC.gz\"), header=T)\n",
        "dat$BETA <- log(dat$OR)\n",
        "write.table(dat, \"Height.QC.Transformed\", quote=F, row.names=F)"
      ],
      "metadata": {
        "id": "jauhaz31dBtX",
        "outputId": "9805d47a-3450-455b-c505-e2ca2d1a98d0",
        "colab": {
          "base_uri": "https://localhost:8080/"
        }
      },
      "execution_count": null,
      "outputs": [
        {
          "output_type": "stream",
          "name": "stderr",
          "text": [
            "R[write to console]: Error in open.connection(file, \"rt\") : cannot open the connection\n",
            "\n",
            "R[write to console]: In addition: \n",
            "R[write to console]: Warning message:\n",
            "\n",
            "R[write to console]: In open.connection(file, \"rt\") :\n",
            "R[write to console]: \n",
            " \n",
            "R[write to console]:  cannot open compressed file 'Height.QC.gz', probable reason 'No such file or directory'\n",
            "\n"
          ]
        },
        {
          "output_type": "stream",
          "name": "stdout",
          "text": [
            "\n",
            "Error in open.connection(file, \"rt\") : cannot open the connection\n"
          ]
        }
      ]
    },
    {
      "cell_type": "code",
      "source": [
        "%%R\n",
        "getwd()"
      ],
      "metadata": {
        "id": "wrm-qTWifyXt",
        "outputId": "ec2640f8-50eb-4eab-e574-11d69dbdfbda",
        "colab": {
          "base_uri": "https://localhost:8080/"
        }
      },
      "execution_count": null,
      "outputs": [
        {
          "output_type": "stream",
          "name": "stdout",
          "text": [
            "[1] \"/content\"\n"
          ]
        }
      ]
    },
    {
      "cell_type": "code",
      "source": [
        "%%R\n",
        "df <- read.csv(\"sample_data/california_housing_test.csv\")"
      ],
      "metadata": {
        "id": "q6oMpcPPhUPc"
      },
      "execution_count": null,
      "outputs": []
    },
    {
      "cell_type": "code",
      "source": [
        "%%R\n",
        "head(df)"
      ],
      "metadata": {
        "id": "mahz2ooGhgh3",
        "outputId": "7115a133-fc68-44ec-ba14-5c6e1b004f0d",
        "colab": {
          "base_uri": "https://localhost:8080/"
        }
      },
      "execution_count": null,
      "outputs": [
        {
          "output_type": "stream",
          "name": "stdout",
          "text": [
            "  longitude latitude housing_median_age total_rooms total_bedrooms population\n",
            "1   -122.05    37.37                 27        3885            661       1537\n",
            "2   -118.30    34.26                 43        1510            310        809\n",
            "3   -117.81    33.78                 27        3589            507       1484\n",
            "4   -118.36    33.82                 28          67             15         49\n",
            "5   -119.67    36.33                 19        1241            244        850\n",
            "6   -119.56    36.51                 37        1018            213        663\n",
            "  households median_income median_house_value\n",
            "1        606        6.6085             344700\n",
            "2        277        3.5990             176500\n",
            "3        495        5.7934             270500\n",
            "4         11        6.1359             330000\n",
            "5        237        2.9375              81700\n",
            "6        204        1.6635              67000\n"
          ]
        }
      ]
    }
  ]
}