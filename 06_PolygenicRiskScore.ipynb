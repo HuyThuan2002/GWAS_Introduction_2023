{
  "nbformat": 4,
  "nbformat_minor": 0,
  "metadata": {
    "colab": {
      "provenance": [],
      "include_colab_link": true
    },
    "kernelspec": {
      "name": "python3",
      "display_name": "Python 3"
    },
    "language_info": {
      "name": "python"
    }
  },
  "cells": [
    {
      "cell_type": "markdown",
      "metadata": {
        "id": "view-in-github",
        "colab_type": "text"
      },
      "source": [
        "<a href=\"https://colab.research.google.com/github/luuloi/GWAS_Introduction_2023/blob/main/06_PolygenicRiskScore.ipynb\" target=\"_parent\"><img src=\"https://colab.research.google.com/assets/colab-badge.svg\" alt=\"Open In Colab\"/></a>"
      ]
    },
    {
      "cell_type": "markdown",
      "source": [
        "# 0. SETUP WORKING ENVIRONMENT"
      ],
      "metadata": {
        "id": "mK0jGtKj_0O8"
      }
    },
    {
      "cell_type": "markdown",
      "source": [
        "## Download Necessary Pakage"
      ],
      "metadata": {
        "id": "imiGhruJmepZ"
      }
    },
    {
      "cell_type": "code",
      "source": [
        "# Install using pip\n",
        "\n",
        "!pip install rpy2==3.5.1\n",
        "!pip install -q condacolab\n",
        "!pip install gdown"
      ],
      "metadata": {
        "id": "RnUE94KmGSYG"
      },
      "execution_count": null,
      "outputs": []
    },
    {
      "cell_type": "code",
      "source": [
        "# Ignore rpy2's warnings\n",
        "\n",
        "import rpy2\n",
        "import warnings\n",
        "from rpy2.rinterface import RRuntimeWarning\n",
        "\n",
        "warnings.filterwarnings(\"ignore\", category=RRuntimeWarning)"
      ],
      "metadata": {
        "id": "rqsVRlvZbepp"
      },
      "execution_count": 13,
      "outputs": []
    },
    {
      "cell_type": "code",
      "source": [
        "# Initialize conda\n",
        "\n",
        "import condacolab\n",
        "condacolab.install()"
      ],
      "metadata": {
        "id": "nplSoFdMbgXY",
        "outputId": "7d3eb834-04b4-4a44-885f-df20d1768084",
        "colab": {
          "base_uri": "https://localhost:8080/"
        }
      },
      "execution_count": 14,
      "outputs": [
        {
          "output_type": "stream",
          "name": "stdout",
          "text": [
            "✨🍰✨ Everything looks OK!\n"
          ]
        }
      ]
    },
    {
      "cell_type": "markdown",
      "source": [
        "## Set up R environment by installing required packages"
      ],
      "metadata": {
        "id": "Ai4uzAHTFjIl"
      }
    },
    {
      "cell_type": "code",
      "source": [
        "# activate R magic\n",
        "%load_ext rpy2.ipython"
      ],
      "metadata": {
        "id": "ZwFsLbTocdMR",
        "colab": {
          "base_uri": "https://localhost:8080/"
        },
        "outputId": "6ec9528d-0165-4a47-e0e2-75293130c6d2"
      },
      "execution_count": 15,
      "outputs": [
        {
          "output_type": "stream",
          "name": "stdout",
          "text": [
            "The rpy2.ipython extension is already loaded. To reload it, use:\n",
            "  %reload_ext rpy2.ipython\n"
          ]
        }
      ]
    },
    {
      "cell_type": "markdown",
      "source": [
        "## Install Plink Package"
      ],
      "metadata": {
        "id": "vW6Q6afzAXal"
      }
    },
    {
      "cell_type": "code",
      "source": [
        "# Install plink\n",
        "\n",
        "!conda install -c bioconda plink"
      ],
      "metadata": {
        "id": "xW-im8EObz-R"
      },
      "execution_count": null,
      "outputs": []
    },
    {
      "cell_type": "markdown",
      "source": [
        "## Prepare Data"
      ],
      "metadata": {
        "id": "G1NqaIXpBq1D"
      }
    },
    {
      "cell_type": "code",
      "source": [
        "%%bash\n",
        "\n",
        "# Create folder to store neccesary data\n",
        "mkdir data\n",
        "mkdir -p data/base\n",
        "mkdir -p data/target"
      ],
      "metadata": {
        "colab": {
          "base_uri": "https://localhost:8080/"
        },
        "id": "pMecyXnWcKlE",
        "outputId": "051ef028-8c05-4258-8ce3-92ca3829ff9e"
      },
      "execution_count": 17,
      "outputs": [
        {
          "output_type": "stream",
          "name": "stderr",
          "text": [
            "mkdir: cannot create directory ‘data’: File exists\n"
          ]
        }
      ]
    },
    {
      "cell_type": "code",
      "source": [
        "%%bash\n",
        "wget -O data/base/Height.gwas.txt.gz https://raw.githubusercontent.com/luuloi/GWAS_Introduction_2023/main/data/Height.gwas.txt.gz\n",
        "gdown -O data/target/EUR.zip https://drive.google.com/uc?id=1uhJR_3sn7RA8U5iYQbcmTp6vFdQiF4F2&export=download"
      ],
      "metadata": {
        "id": "CZ7Du0HNcImi"
      },
      "execution_count": null,
      "outputs": []
    },
    {
      "cell_type": "code",
      "source": [
        "!unzip data/target/EUR.zip -d data/target"
      ],
      "metadata": {
        "colab": {
          "base_uri": "https://localhost:8080/"
        },
        "id": "xtcohBHokP8i",
        "outputId": "56cab837-6c6b-4371-fae7-02a073d2aa93"
      },
      "execution_count": 24,
      "outputs": [
        {
          "output_type": "stream",
          "name": "stdout",
          "text": [
            "Archive:  data/target/EUR.zip\n",
            "  inflating: data/target/EUR.bed     \n",
            "  inflating: data/target/EUR.bim     \n",
            "  inflating: data/target/EUR.cov     \n",
            "  inflating: data/target/EUR.fam     \n",
            "  inflating: data/target/EUR.height  \n"
          ]
        }
      ]
    },
    {
      "cell_type": "markdown",
      "source": [
        "## Have a look into our data"
      ],
      "metadata": {
        "id": "4hZVuIK0nJX-"
      }
    },
    {
      "cell_type": "code",
      "source": [
        "!zcat data/base/Height.gwas.txt.gz | head"
      ],
      "metadata": {
        "colab": {
          "base_uri": "https://localhost:8080/"
        },
        "id": "zuNUPWlJZ9Np",
        "outputId": "2f224aea-411b-43d5-e8d7-04d51dd3b46a"
      },
      "execution_count": 19,
      "outputs": [
        {
          "output_type": "stream",
          "name": "stdout",
          "text": [
            "CHR\tBP\tSNP\tA1\tA2\tN\tSE\tP\tOR\tINFO\tMAF\n",
            "1\t756604\trs3131962\tA\tG\t388028\t0.00301666\t0.483171\t0.997886915712657\t0.890557941364774\t0.369389592764921\n",
            "1\t768448\trs12562034\tA\tG\t388028\t0.00329472\t0.834808\t1.00068731609353\t0.895893511351165\t0.336845754096289\n",
            "1\t779322\trs4040617\tG\tA\t388028\t0.00303344\t0.42897\t0.997603556067569\t0.897508290615237\t0.377368010940814\n",
            "1\t801536\trs79373928\tG\tT\t388028\t0.00841324\t0.808999\t1.00203569922793\t0.908962856432993\t0.483212245374095\n",
            "1\t808631\trs11240779\tG\tA\t388028\t0.00242821\t0.590265\t1.00130832511154\t0.893212523690488\t0.450409558999587\n",
            "1\t809876\trs57181708\tG\tA\t388028\t0.00336785\t0.71475\t1.00123165786833\t0.923557624081969\t0.499743932656759\n",
            "1\t835499\trs4422948\tG\tA\t388028\t0.0023758\t0.710884\t0.999119752645202\t0.906437735120596\t0.481016005816168\n",
            "1\t838555\trs4970383\tA\tC\t388028\t0.00235773\t0.150993\t0.996619945289758\t0.907716506801574\t0.327164029672754\n",
            "1\t840753\trs4970382\tC\tT\t388028\t0.00207377\t0.199967\t0.99734567895614\t0.914602590137255\t0.498936220426316\n"
          ]
        }
      ]
    },
    {
      "cell_type": "code",
      "source": [
        "!cat data/target/EUR.height | head"
      ],
      "metadata": {
        "id": "tQZv0r4gnF0e",
        "outputId": "76c51df6-58f7-4185-81f2-de3540b4cb63",
        "colab": {
          "base_uri": "https://localhost:8080/"
        }
      },
      "execution_count": 26,
      "outputs": [
        {
          "output_type": "stream",
          "name": "stdout",
          "text": [
            "FID\tIID\tHeight\n",
            "HG00096\tHG00096\t169.132168767547\n",
            "HG00097\tHG00097\t171.256258630279\n",
            "HG00099\tHG00099\t171.534379938588\n",
            "HG00101\tHG00101\t169.850176470551\n",
            "HG00102\tHG00102\t172.788360878389\n",
            "HG00103\tHG00103\t169.862973824923\n",
            "HG00105\tHG00105\t168.939248611414\n",
            "HG00107\tHG00107\t168.972346393861\n",
            "HG00108\tHG00108\t171.311736719186\n"
          ]
        }
      ]
    },
    {
      "cell_type": "markdown",
      "source": [
        "# 1. QUALITY CONTROL"
      ],
      "metadata": {
        "id": "67uKGcS7o-SY"
      }
    },
    {
      "cell_type": "markdown",
      "source": [
        "## A. QC of Base Data"
      ],
      "metadata": {
        "id": "ST8IqLYhpU51"
      }
    },
    {
      "cell_type": "markdown",
      "source": [
        "**Reading the base data file**"
      ],
      "metadata": {
        "id": "O6d0ivyUps2b"
      }
    },
    {
      "cell_type": "code",
      "source": [
        "!zcat data/base/Height.gwas.txt.gz | head"
      ],
      "metadata": {
        "id": "jfRboyJzpCck",
        "outputId": "d70f7c0f-dfad-4605-e0c6-233662aeaa98",
        "colab": {
          "base_uri": "https://localhost:8080/"
        }
      },
      "execution_count": 28,
      "outputs": [
        {
          "output_type": "stream",
          "name": "stdout",
          "text": [
            "CHR\tBP\tSNP\tA1\tA2\tN\tSE\tP\tOR\tINFO\tMAF\n",
            "1\t756604\trs3131962\tA\tG\t388028\t0.00301666\t0.483171\t0.997886915712657\t0.890557941364774\t0.369389592764921\n",
            "1\t768448\trs12562034\tA\tG\t388028\t0.00329472\t0.834808\t1.00068731609353\t0.895893511351165\t0.336845754096289\n",
            "1\t779322\trs4040617\tG\tA\t388028\t0.00303344\t0.42897\t0.997603556067569\t0.897508290615237\t0.377368010940814\n",
            "1\t801536\trs79373928\tG\tT\t388028\t0.00841324\t0.808999\t1.00203569922793\t0.908962856432993\t0.483212245374095\n",
            "1\t808631\trs11240779\tG\tA\t388028\t0.00242821\t0.590265\t1.00130832511154\t0.893212523690488\t0.450409558999587\n",
            "1\t809876\trs57181708\tG\tA\t388028\t0.00336785\t0.71475\t1.00123165786833\t0.923557624081969\t0.499743932656759\n",
            "1\t835499\trs4422948\tG\tA\t388028\t0.0023758\t0.710884\t0.999119752645202\t0.906437735120596\t0.481016005816168\n",
            "1\t838555\trs4970383\tA\tC\t388028\t0.00235773\t0.150993\t0.996619945289758\t0.907716506801574\t0.327164029672754\n",
            "1\t840753\trs4970382\tC\tT\t388028\t0.00207377\t0.199967\t0.99734567895614\t0.914602590137255\t0.498936220426316\n"
          ]
        }
      ]
    },
    {
      "cell_type": "markdown",
      "source": [
        "* **CHR**: The chromosome in which the SNP resides\n",
        "* **BP**: Chromosomal co-ordinate of the SNP\n",
        "* **SNP**: SNP ID, usually in the form of rs-ID\n",
        "* **A1**: The effect allele of the SNP\n",
        "* **A2**: The non-effect allele of the SNP\n",
        "* **N**: Number of samples used to obtain the effect size estimate\n",
        "* **SE**: The standard error (SE) of the effect size esimate\n",
        "* **P**: The P-value of association between the SNP genotypes and the base phenotype\n",
        "* **OR**: The effect size estimate of the SNP, if the outcome is binary/case-control. If the outcome is continuous or treated as continuous then this will usually be BETA\n",
        "* **INFO**: The imputation information score\n",
        "* **MAF**: The minor allele frequency (MAF) of the SNP\n",
        "\n"
      ],
      "metadata": {
        "id": "CsdxCbcxp1IL"
      }
    },
    {
      "cell_type": "markdown",
      "source": [
        "### QC checklist: Base data"
      ],
      "metadata": {
        "id": "wCtq67WOqaJ3"
      }
    },
    {
      "cell_type": "markdown",
      "source": [
        "**i. Heritability check**"
      ],
      "metadata": {
        "id": "njgFmE_oqdDj"
      }
    },
    {
      "cell_type": "markdown",
      "source": [
        "Recommend that PRS analyses are performed on base data with a chip-heritability estimate \t\\frac{1}{2}\\ 2snp > 0.05\\"
      ],
      "metadata": {
        "id": "T4xiUJY2rHcG"
      }
    },
    {
      "cell_type": "markdown",
      "source": [
        "**ii. Effect allele**"
      ],
      "metadata": {
        "id": "HULkSxVCrJ1M"
      }
    },
    {
      "cell_type": "code",
      "source": [],
      "metadata": {
        "id": "w0oTeDcysIEw"
      },
      "execution_count": null,
      "outputs": []
    },
    {
      "cell_type": "markdown",
      "source": [
        "**iii. Genome build**"
      ],
      "metadata": {
        "id": "eFVtBqJTsIzZ"
      }
    },
    {
      "cell_type": "markdown",
      "source": [],
      "metadata": {
        "id": "oQ23LPCjsQ4h"
      }
    }
  ]
}