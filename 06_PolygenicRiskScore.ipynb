{
  "nbformat": 4,
  "nbformat_minor": 0,
  "metadata": {
    "colab": {
      "provenance": [],
      "include_colab_link": true
    },
    "kernelspec": {
      "name": "python3",
      "display_name": "Python 3"
    },
    "language_info": {
      "name": "python"
    }
  },
  "cells": [
    {
      "cell_type": "markdown",
      "metadata": {
        "id": "view-in-github",
        "colab_type": "text"
      },
      "source": [
        "<a href=\"https://colab.research.google.com/github/luuloi/GWAS_Introduction_2023/blob/main/06_PolygenicRiskScore.ipynb\" target=\"_parent\"><img src=\"https://colab.research.google.com/assets/colab-badge.svg\" alt=\"Open In Colab\"/></a>"
      ]
    },
    {
      "cell_type": "markdown",
      "source": [
        "# SETUP ENVIRONMENT"
      ],
      "metadata": {
        "id": "mK0jGtKj_0O8"
      }
    },
    {
      "cell_type": "code",
      "source": [
        "!pip install rpy2==3.5.1\n",
        "!pip install -q condacolab\n",
        "!pip install gdown"
      ],
      "metadata": {
        "id": "RnUE94KmGSYG"
      },
      "execution_count": null,
      "outputs": []
    },
    {
      "cell_type": "code",
      "source": [
        "# Ignore rpy2's warnings\n",
        "import rpy2\n",
        "import warnings\n",
        "from rpy2.rinterface import RRuntimeWarning\n",
        "\n",
        "warnings.filterwarnings(\"ignore\", category=RRuntimeWarning)"
      ],
      "metadata": {
        "id": "rqsVRlvZbepp"
      },
      "execution_count": 3,
      "outputs": []
    },
    {
      "cell_type": "code",
      "source": [
        "# Initialize conda\n",
        "\n",
        "import condacolab\n",
        "condacolab.install()"
      ],
      "metadata": {
        "id": "nplSoFdMbgXY",
        "outputId": "e1a44474-c5c2-410f-b8d9-cc4ce6b3ee00",
        "colab": {
          "base_uri": "https://localhost:8080/"
        }
      },
      "execution_count": 4,
      "outputs": [
        {
          "output_type": "stream",
          "name": "stdout",
          "text": [
            "✨🍰✨ Everything looks OK!\n"
          ]
        }
      ]
    },
    {
      "cell_type": "markdown",
      "source": [
        "## Set up R environment by installing required packages"
      ],
      "metadata": {
        "id": "Ai4uzAHTFjIl"
      }
    },
    {
      "cell_type": "code",
      "source": [
        "# activate R magic\n",
        "%load_ext rpy2.ipython"
      ],
      "metadata": {
        "id": "ZwFsLbTocdMR"
      },
      "execution_count": 5,
      "outputs": []
    },
    {
      "cell_type": "markdown",
      "source": [
        "# INSTALL PLINK PACKAGE"
      ],
      "metadata": {
        "id": "vW6Q6afzAXal"
      }
    },
    {
      "cell_type": "code",
      "source": [
        "# Install plink\n",
        "\n",
        "!conda install -c bioconda plink"
      ],
      "metadata": {
        "id": "xW-im8EObz-R"
      },
      "execution_count": null,
      "outputs": []
    },
    {
      "cell_type": "markdown",
      "source": [
        "# PREPARE DATA"
      ],
      "metadata": {
        "id": "G1NqaIXpBq1D"
      }
    },
    {
      "cell_type": "code",
      "source": [
        "%%bash\n",
        "\n",
        "# Create folder to store neccesary data\n",
        "mkdir data\n",
        "mkdir -p data/base\n",
        "mkdir -p data/target"
      ],
      "metadata": {
        "id": "pMecyXnWcKlE"
      },
      "execution_count": 26,
      "outputs": []
    },
    {
      "cell_type": "code",
      "source": [
        "%%bash\n",
        "wget -O data/base/Height.gwas.txt.gz https://raw.githubusercontent.com/luuloi/GWAS_Introduction_2023/main/data/Height.gwas.txt.gz\n",
        "gdown -O data/target/EUR.zip https://drive.google.com/uc?id=1uhJR_3sn7RA8U5iYQbcmTp6vFdQiF4F2&export=download"
      ],
      "metadata": {
        "id": "CZ7Du0HNcImi"
      },
      "execution_count": null,
      "outputs": []
    },
    {
      "cell_type": "code",
      "source": [
        "!zcat data/base/Height.gwas.txt.gz | head"
      ],
      "metadata": {
        "id": "zuNUPWlJZ9Np",
        "outputId": "d8d7b139-0810-436e-afbd-d4e56cec76a3",
        "colab": {
          "base_uri": "https://localhost:8080/"
        }
      },
      "execution_count": 28,
      "outputs": [
        {
          "output_type": "stream",
          "name": "stdout",
          "text": [
            "CHR\tBP\tSNP\tA1\tA2\tN\tSE\tP\tOR\tINFO\tMAF\n",
            "1\t756604\trs3131962\tA\tG\t388028\t0.00301666\t0.483171\t0.997886915712657\t0.890557941364774\t0.369389592764921\n",
            "1\t768448\trs12562034\tA\tG\t388028\t0.00329472\t0.834808\t1.00068731609353\t0.895893511351165\t0.336845754096289\n",
            "1\t779322\trs4040617\tG\tA\t388028\t0.00303344\t0.42897\t0.997603556067569\t0.897508290615237\t0.377368010940814\n",
            "1\t801536\trs79373928\tG\tT\t388028\t0.00841324\t0.808999\t1.00203569922793\t0.908962856432993\t0.483212245374095\n",
            "1\t808631\trs11240779\tG\tA\t388028\t0.00242821\t0.590265\t1.00130832511154\t0.893212523690488\t0.450409558999587\n",
            "1\t809876\trs57181708\tG\tA\t388028\t0.00336785\t0.71475\t1.00123165786833\t0.923557624081969\t0.499743932656759\n",
            "1\t835499\trs4422948\tG\tA\t388028\t0.0023758\t0.710884\t0.999119752645202\t0.906437735120596\t0.481016005816168\n",
            "1\t838555\trs4970383\tA\tC\t388028\t0.00235773\t0.150993\t0.996619945289758\t0.907716506801574\t0.327164029672754\n",
            "1\t840753\trs4970382\tC\tT\t388028\t0.00207377\t0.199967\t0.99734567895614\t0.914602590137255\t0.498936220426316\n"
          ]
        }
      ]
    },
    {
      "cell_type": "code",
      "source": [
        "!unzip data/target/EUR.zip"
      ],
      "metadata": {
        "id": "xtcohBHokP8i",
        "outputId": "fe6d6c3d-b728-4d4a-beed-e4906d9a110b",
        "colab": {
          "base_uri": "https://localhost:8080/"
        }
      },
      "execution_count": 31,
      "outputs": [
        {
          "output_type": "stream",
          "name": "stdout",
          "text": [
            "Archive:  data/target/EUR.zip\n",
            "  inflating: EUR.bed                 \n",
            "  inflating: EUR.bim                 \n",
            "  inflating: EUR.cov                 \n",
            "  inflating: EUR.fam                 \n",
            "  inflating: EUR.height              \n"
          ]
        }
      ]
    },
    {
      "cell_type": "markdown",
      "source": [
        "Check the data:"
      ],
      "metadata": {
        "id": "VjBbozTYFDBi"
      }
    },
    {
      "cell_type": "code",
      "source": [
        "%%R\n",
        "# Function to read and display data\n",
        "read_and_display <- function(file_path, col_names=NULL, sep=\" \", header=FALSE) {\n",
        "  data <- read.table(file=file_path, sep=sep, header=header, na.strings=\"NA\")\n",
        "  if (!is.null(col_names)) {\n",
        "    names(data) <- col_names\n",
        "  }\n",
        "\n",
        "  cat(\"\\n--- Head of the Data ---\\n\")\n",
        "  print(head(data))\n",
        "  cat(\"\\n--- Dimensions of the Data ---\\n\")\n",
        "  print(dim(data))\n",
        "\n",
        "  return(data)\n",
        "}"
      ],
      "metadata": {
        "id": "jauhaz31dBtX"
      },
      "execution_count": 13,
      "outputs": []
    },
    {
      "cell_type": "code",
      "source": [
        "%%R\n",
        "# Read and display Transferrin individuals' info\n",
        "fam_info <- read_and_display(\"https://raw.githubusercontent.com/luuloi/GWAS_Introduction_2023/main/data/Height.gwas.txt.gz\")"
      ],
      "metadata": {
        "id": "OtJYWx6OXl9l",
        "outputId": "c6404056-272c-4cf0-c63c-fba048be59b4",
        "colab": {
          "base_uri": "https://localhost:8080/"
        }
      },
      "execution_count": 17,
      "outputs": [
        {
          "output_type": "stream",
          "name": "stdout",
          "text": [
            "\n",
            "--- Head of the Data ---\n",
            "                                                                                                                                                                                                                                                                                                                                                                                                                                                                                                                                                                                                                                                                                                                                                                                                                                                                                                                                                                                                                                                                                                                                                                                                                                       V1\n",
            "1                                                                                                                                                                                                                                                                                                                                                                                                                                                                                                                                                                                                                                                                                                                                                                                                                                                                                                                                                                                                                                                                                                                                                                                                                              \\037\\x8b\\b\n",
            "2                                                                                                                                                                                                                                                                                                                                                                                                                                                                                                                                                                                                                                                                                                                                                                                                                                                                                                                                                                                                                                                                                                                                            \\xe0\\f\\xf6\\v\\xe0t4\\xe4t4\\xe2\\xf4\\xe3\\fv\\xe5\\f\\xe0\\xf4\\017\\xe2\\xf4\\xf4s\\xf3\\xe7\\xf4ut\\xe3\\002\n",
            "3 \\x90\\xfb\\027\\xa1}\\xaa\\xe6y\\xea\\004B.\\xefe\\xd6_\\x99\\x81p\\xb8\\xc1`\\017U\\xb5\\xf2YcΧ\\177\\xfe\\xf7\\xffi\\xa5\\x953\\xeb\\xe7\\177|\\xfe\\xe7\\xa7\\xed\\xfd\\xd4\\xfdy\\xfe\\xf3<\\xed)s\\xce\\xf8\\xb1\\xefVV\\x89\\037\\xceY{\\xcfS\\xc6*u\\x8e\\025\\xff\\xb2\\xcf3\\xc6:\\xbd\\xb4\\xd9\\xd7\\xea\\xf1/m\\x9e\\xb6\\xcf8u\\xcd~j\\xf9\\177\\xcag\\xcd\\xdd\\xfb\\x8euJ\\035\\xb3>\\xad_\\v\\xd5\\xd3W\\xe5\\xd3Z\\xdf\\xcf\\xfe\\x94\\xf8\\xb7g\\xee\\xd5\\xca|N\\033M\\xeb\\x8c\\035?\\x96\\xc2\\xff\\xce\\xc1:->v\\xacџ\\xf8\\xea\\xfb\\xb0\\xce:\\xad\\xd6X\\xa7?\\xfd\\x99e\\xc5\\xff\\xe3\\xdf\\xcf\\xd3Z\\xe7+\\xf6\\xf8\\xfd\\xe5ǙO\\033c>3\\xf6\\xe2h\\x995\\x9e]O\\xfc\\xf9\\xa8\\x8d\\xdfik\\xc5BOyN\\177v\\xe9\\xb1L\\xfc\\x87\\xd1f,\\023˭v\\xe2\\xc3\\xff\\xe7\\xe7\\xff\\xff\\xefuv\\xecFe\\x9dx\\x96s\\x8e\\036'\\036;V8\\xb5\\xc6\\037\\xb1r\\xfc7\\xf1\\xad\\xc7\\xec\\xf1\\xec\\xfa\\x97\\xd8\\xe3Zj\\xed\\xa3\\xadx\\xa2\\xa1u\\xf6l\\x85m+\\xb5?\\xf1p\\xdf\\xcfS\\xe39*\\xafe\\x9c'^\\x87\\xd6)\\xed\\x89\\017\\x8a=*C\\xdf\\xe0\\xf0\\xa9\\xf1(\\xf3<}\\xf3g}<|\\xfe\\xe0\\x9b\\x8d\\xbd\\xb4\\xceً牷\\xba\\xcbz\\xf6\\xb5om\\xae͖\\xaf\\xd2W.S\\xe3\\u074c\\xb5\\xe7nz\\x9c\\032\\xbb\\xb8fe\\x8b\\x8e6\\xb2\\xc7\\xde\\xf6\\026\\xab\\xcf\\021{\\xcb\\xdb\\xd9m\\xc4?\\xf2vz\\x8d\\xf7}\\xad\\022\\xdb=\\xb6\\026y\\xf6\\xeez;\\xa7\\x94x\\037u\\xf6Q\\x9f\\xaa]\\x8b\\xfd\\x8a\\xf71J}Ʊe\\x960\\xd2\\xe7\\031\\xbb\\xcc2\\xb7\\x96\\xd9c\\f\\x969\\xebi\\xbb\\xc5\n",
            "4                                                                                                                                                                                                                                                                                                                                                                                                                                                                                                                                                                                                                                                                                                                                                                                                                                                                                                                                                                                                                                                                                                                          ߿\\x97\\031\\xf1\\t\\xf1c\\031\\x8fw\\xfe\\x9c9\\xcb9\\xb1\\bo\\177k\\x9d\\xb5\\xe2\\xf1\\036\\xde\\xfb\\xb0Q\\xd7\\xf8\\x87\\xfe\\xd43W\n",
            "5                                                                                                                                                                                                                                                                                                                                                                                                                                                                                                                                                                                                                                                                                                                                                                                                                                                                                                                                        \\x93c\\x9dx%a\\x99\\xef:5V\\xf9\\x97\\021\\xd4g\\xc5We\\x9dx\\x8e\\x99\\xd6\\xd6z\\xecF\\x98\\xf2,z\\xc0\\xd2\\xe7S\\xe3啶\\xea\\030ڵxa\\xb3֧\\xd7x\\xf5S\\xcb\\xcc=9\\xa3gĦ\\xb3ʿNN\\xfc\\xd9\\xd3\\xf4\\xfdb׆\\027\\x89\\xa3\\xb40\\xbc\\xe7\\024\\x9bڈg\\x8b\\xf3Xw\\xd8\\006\\xdb\\xd8\\xe2\\xbd\\xc7I\\xeb\\xe3\\x8cڷ\\037&\\xbe\\xa4Nh\\x8bCR\\xeb\\xe5\n",
            "6                                                                                                                                                                                                                                                                                                                                                                                                                                                                                                                                                                                                                                                                                                                                                                                                                                                                                                                                                                                                                                                                                                                                                                                    \\xe2\\035\\xc4i\\x8e\\037k\\x98S\\034\\xe0\\xa2S\\xdb\\xeb\\xd8\n",
            "\n",
            "--- Dimensions of the Data ---\n",
            "[1] 106475      1\n"
          ]
        }
      ]
    },
    {
      "cell_type": "code",
      "source": [
        "fam_info"
      ],
      "metadata": {
        "id": "2PSYJfYRZlwb",
        "outputId": "36ad9d01-8b2f-43e6-991f-488caba2acce",
        "colab": {
          "base_uri": "https://localhost:8080/",
          "height": 210
        }
      },
      "execution_count": 18,
      "outputs": [
        {
          "output_type": "error",
          "ename": "NameError",
          "evalue": "ignored",
          "traceback": [
            "\u001b[0;31m---------------------------------------------------------------------------\u001b[0m",
            "\u001b[0;31mNameError\u001b[0m                                 Traceback (most recent call last)",
            "\u001b[0;32m<ipython-input-18-924f8136bd41>\u001b[0m in \u001b[0;36m<cell line: 1>\u001b[0;34m()\u001b[0m\n\u001b[0;32m----> 1\u001b[0;31m \u001b[0mfam_info\u001b[0m\u001b[0;34m\u001b[0m\u001b[0;34m\u001b[0m\u001b[0m\n\u001b[0m",
            "\u001b[0;31mNameError\u001b[0m: name 'fam_info' is not defined"
          ]
        }
      ]
    }
  ]
}