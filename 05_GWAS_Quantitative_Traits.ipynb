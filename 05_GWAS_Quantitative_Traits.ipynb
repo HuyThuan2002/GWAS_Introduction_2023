{
  "nbformat": 4,
  "nbformat_minor": 0,
  "metadata": {
    "colab": {
      "provenance": [],
      "authorship_tag": "ABX9TyPf7OsLsaA34PWTg1qDIykU",
      "include_colab_link": true
    },
    "kernelspec": {
      "name": "python3",
      "display_name": "Python 3"
    },
    "language_info": {
      "name": "python"
    }
  },
  "cells": [
    {
      "cell_type": "markdown",
      "metadata": {
        "id": "view-in-github",
        "colab_type": "text"
      },
      "source": [
        "<a href=\"https://colab.research.google.com/github/luuloi/GWAS_Introduction_2023/blob/main/gwas_quantitative_traits.ipynb\" target=\"_parent\"><img src=\"https://colab.research.google.com/assets/colab-badge.svg\" alt=\"Open In Colab\"/></a>"
      ]
    },
    {
      "cell_type": "markdown",
      "source": [
        "# Prepare session by install necessary packages"
      ],
      "metadata": {
        "id": "7SKgzQhF06FY"
      }
    },
    {
      "cell_type": "code",
      "source": [
        "!pip install -q rpy2\n",
        "!pip install -q condacolab"
      ],
      "metadata": {
        "id": "A5HGA8Fb0ylO",
        "colab": {
          "base_uri": "https://localhost:8080/"
        },
        "outputId": "29d429a4-b8a1-4596-960b-20f1d2a2f521"
      },
      "execution_count": null,
      "outputs": [
        {
          "output_type": "stream",
          "name": "stdout",
          "text": [
            "\u001b[?25l     \u001b[90m━━━━━━━━━━━━━━━━━━━━━━━━━━━━━━━━━━━━━━━━\u001b[0m \u001b[32m0.0/218.8 kB\u001b[0m \u001b[31m?\u001b[0m eta \u001b[36m-:--:--\u001b[0m\r\u001b[2K     \u001b[91m━━━━━━━━━━━━━━━━━━━━━━━━━━━━━━━━━━━━━━\u001b[0m\u001b[90m╺\u001b[0m \u001b[32m215.0/218.8 kB\u001b[0m \u001b[31m7.0 MB/s\u001b[0m eta \u001b[36m0:00:01\u001b[0m\r\u001b[2K     \u001b[90m━━━━━━━━━━━━━━━━━━━━━━━━━━━━━━━━━━━━━━━\u001b[0m \u001b[32m218.8/218.8 kB\u001b[0m \u001b[31m4.8 MB/s\u001b[0m eta \u001b[36m0:00:00\u001b[0m\n",
            "\u001b[?25h  Installing build dependencies ... \u001b[?25l\u001b[?25hdone\n",
            "  Getting requirements to build wheel ... \u001b[?25l\u001b[?25hdone\n",
            "  Preparing metadata (pyproject.toml) ... \u001b[?25l\u001b[?25hdone\n",
            "\u001b[2K     \u001b[90m━━━━━━━━━━━━━━━━━━━━━━━━━━━━━━━━━━━━━━\u001b[0m \u001b[32m133.1/133.1 kB\u001b[0m \u001b[31m12.7 MB/s\u001b[0m eta \u001b[36m0:00:00\u001b[0m\n",
            "\u001b[?25h  Building wheel for rpy2 (pyproject.toml) ... \u001b[?25l\u001b[?25hdone\n",
            "\u001b[33mWARNING: Running pip as the 'root' user can result in broken permissions and conflicting behaviour with the system package manager. It is recommended to use a virtual environment instead: https://pip.pypa.io/warnings/venv\u001b[0m\u001b[33m\n",
            "\u001b[0m\u001b[33mWARNING: Running pip as the 'root' user can result in broken permissions and conflicting behaviour with the system package manager. It is recommended to use a virtual environment instead: https://pip.pypa.io/warnings/venv\u001b[0m\u001b[33m\n",
            "\u001b[0m"
          ]
        }
      ]
    },
    {
      "cell_type": "code",
      "source": [
        "# Ignore rpy2's warnings\n",
        "\n",
        "import warnings\n",
        "from rpy2.rinterface import RRuntimeWarning\n",
        "\n",
        "warnings.filterwarnings(\"ignore\", category=RRuntimeWarning)"
      ],
      "metadata": {
        "id": "scD2EeD9_fme"
      },
      "execution_count": null,
      "outputs": []
    },
    {
      "cell_type": "code",
      "source": [
        "# Initialize conda\n",
        "\n",
        "import condacolab\n",
        "condacolab.install()"
      ],
      "metadata": {
        "id": "a3kXfJv70-5r",
        "colab": {
          "base_uri": "https://localhost:8080/"
        },
        "outputId": "4caaff46-c975-48ce-8c47-a97b948ed28d"
      },
      "execution_count": null,
      "outputs": [
        {
          "output_type": "stream",
          "name": "stdout",
          "text": [
            "✨🍰✨ Everything looks OK!\n"
          ]
        }
      ]
    },
    {
      "cell_type": "code",
      "source": [
        "# Install plink\n",
        "\n",
        "!conda install -c bioconda plink"
      ],
      "metadata": {
        "colab": {
          "base_uri": "https://localhost:8080/"
        },
        "id": "s3IDHAqL3QaM",
        "outputId": "5dfe38cb-3018-4b0d-ba85-c5c0a2894ea0"
      },
      "execution_count": null,
      "outputs": [
        {
          "output_type": "stream",
          "name": "stdout",
          "text": [
            "Collecting package metadata (current_repodata.json): - \b\b\\ \b\b| \b\b/ \b\b- \b\b\\ \b\b| \b\b/ \b\b- \b\b\\ \b\b| \b\b/ \b\b- \b\b\\ \b\b| \b\b/ \b\b- \b\b\\ \b\b| \b\b/ \b\b- \b\b\\ \b\b| \b\b/ \b\b- \b\b\\ \b\b| \b\b/ \b\b- \b\b\\ \b\b| \b\b/ \b\b- \b\b\\ \b\b| \b\b/ \b\b- \b\b\\ \b\b| \b\b/ \b\b- \b\b\\ \b\b| \b\b/ \b\b- \b\b\\ \b\b| \b\b/ \b\b- \b\b\\ \b\b| \b\b/ \b\b- \b\b\\ \b\b| \b\b/ \b\b- \b\b\\ \b\b| \b\b/ \b\b- \b\b\\ \b\b| \b\b/ \b\b- \b\b\\ \b\b| \b\b/ \b\b- \b\b\\ \b\b| \b\b/ \b\b- \b\b\\ \b\b| \b\b/ \b\b- \b\b\\ \b\b| \b\b/ \b\b- \b\b\\ \b\b| \b\b/ \b\b- \b\b\\ \b\b| \b\b/ \b\b- \b\b\\ \b\b| \b\b/ \b\b- \b\b\\ \b\b| \b\b/ \b\b- \b\b\\ \b\b| \b\b/ \b\b- \b\b\\ \b\b| \b\b/ \b\b- \b\b\\ \b\b| \b\b/ \b\b- \b\b\\ \b\b| \b\b/ \b\b- \b\b\\ \b\b| \b\b/ \b\b- \b\b\\ \b\b| \b\b/ \b\b- \b\b\\ \b\b| \b\b/ \b\b- \b\b\\ \b\b| \b\b/ \b\b- \b\b\\ \b\b| \b\b/ \b\b- \b\b\\ \b\b| \b\b/ \b\b- \b\b\\ \b\b| \b\b/ \b\b- \b\b\\ \b\b| \b\b/ \b\b- \b\b\\ \b\b| \b\b/ \b\b- \b\b\\ \b\b| \b\b/ \b\b- \b\b\\ \b\b| \b\b/ \b\b- \b\b\\ \b\b| \b\b/ \b\b- \b\b\\ \b\b| \b\b/ \b\b- \b\b\\ \b\b| \b\b/ \b\b- \b\b\\ \b\b| \b\b/ \b\b- \b\b\\ \b\b| \b\b/ \b\b- \b\b\\ \b\b| \b\b/ \b\b- \b\b\\ \b\b| \b\b/ \b\b- \b\b\\ \b\b| \b\b/ \b\b- \b\b\\ \b\b| \b\b/ \b\b- \b\b\\ \b\b| \b\b/ \b\b- \b\b\\ \b\b| \b\b/ \b\b- \b\b\\ \b\b| \b\b/ \b\b- \b\b\\ \b\b| \b\b/ \b\b- \b\b\\ \b\b| \b\bdone\n",
            "Solving environment: - \b\b\\ \b\b| \b\b/ \b\b- \b\b\\ \b\b| \b\b/ \b\b- \b\b\\ \b\b| \b\b/ \b\b- \b\bdone\n",
            "\n",
            "\n",
            "==> WARNING: A newer version of conda exists. <==\n",
            "  current version: 23.1.0\n",
            "  latest version: 23.7.2\n",
            "\n",
            "Please update conda by running\n",
            "\n",
            "    $ conda update -n base -c conda-forge conda\n",
            "\n",
            "Or to minimize the number of packages updated during conda update use\n",
            "\n",
            "     conda install conda=23.7.2\n",
            "\n",
            "\n",
            "\n",
            "# All requested packages already installed.\n",
            "\n"
          ]
        }
      ]
    },
    {
      "cell_type": "markdown",
      "source": [
        "# Set up R environment by installing required packages."
      ],
      "metadata": {
        "id": "WiOPlMmtFe_w"
      }
    },
    {
      "cell_type": "markdown",
      "source": [
        "Load `rpy2`."
      ],
      "metadata": {
        "id": "U-QQIimc1IYS"
      }
    },
    {
      "cell_type": "code",
      "source": [
        "%load_ext rpy2.ipython"
      ],
      "metadata": {
        "id": "9Bj1-Nl11GCP"
      },
      "execution_count": null,
      "outputs": []
    },
    {
      "cell_type": "markdown",
      "source": [
        "`pacman` will make it easier to install R packages and `BiocManager` is for installing packages from the `Bioconductor` repo."
      ],
      "metadata": {
        "id": "aRwL8PiRFlp0"
      }
    },
    {
      "cell_type": "code",
      "execution_count": null,
      "metadata": {
        "id": "HDe1tVAzrtTK",
        "colab": {
          "base_uri": "https://localhost:8080/",
          "height": 496
        },
        "outputId": "d023a889-758f-4c62-f983-81a93706c981"
      },
      "outputs": [
        {
          "output_type": "error",
          "ename": "NotImplementedError",
          "evalue": "ignored",
          "traceback": [
            "\u001b[0;31m---------------------------------------------------------------------------\u001b[0m",
            "\u001b[0;31mNotImplementedError\u001b[0m                       Traceback (most recent call last)",
            "\u001b[0;32m<ipython-input-6-2a8fd03ebbcb>\u001b[0m in \u001b[0;36m<cell line: 1>\u001b[0;34m()\u001b[0m\n\u001b[0;32m----> 1\u001b[0;31m \u001b[0mget_ipython\u001b[0m\u001b[0;34m(\u001b[0m\u001b[0;34m)\u001b[0m\u001b[0;34m.\u001b[0m\u001b[0mrun_cell_magic\u001b[0m\u001b[0;34m(\u001b[0m\u001b[0;34m'R'\u001b[0m\u001b[0;34m,\u001b[0m \u001b[0;34m''\u001b[0m\u001b[0;34m,\u001b[0m \u001b[0;34m'if (!require(\"pacman\")) install.packages(\"pacman\")\\nlibrary(\"pacman\")\\nif (!requireNamespace(\"BiocManager\", quietly = TRUE))\\n    install.packages(\"BiocManager\")\\n\\n# Function to check and install missing packages\\ncheck_and_install_packages <- function(packages) {\\n    for (package in packages) {\\n        if (!require(package, character.only = TRUE)) {\\n            if (package %in% rownames(available.packages(repos = BiocManager::repositories())))\\n                BiocManager::install(package, character.only = TRUE)\\n        else\\n            install.packages(package, character.only = TRUE)\\n        require(package, character.only = TRUE)\\n        }\\n    }\\n}\\n'\u001b[0m\u001b[0;34m)\u001b[0m\u001b[0;34m\u001b[0m\u001b[0;34m\u001b[0m\u001b[0m\n\u001b[0m",
            "\u001b[0;32m/usr/local/lib/python3.10/dist-packages/google/colab/_shell.py\u001b[0m in \u001b[0;36mrun_cell_magic\u001b[0;34m(self, magic_name, line, cell)\u001b[0m\n\u001b[1;32m    332\u001b[0m     \u001b[0;32mif\u001b[0m \u001b[0mline\u001b[0m \u001b[0;32mand\u001b[0m \u001b[0;32mnot\u001b[0m \u001b[0mcell\u001b[0m\u001b[0;34m:\u001b[0m\u001b[0;34m\u001b[0m\u001b[0;34m\u001b[0m\u001b[0m\n\u001b[1;32m    333\u001b[0m       \u001b[0mcell\u001b[0m \u001b[0;34m=\u001b[0m \u001b[0;34m' '\u001b[0m\u001b[0;34m\u001b[0m\u001b[0;34m\u001b[0m\u001b[0m\n\u001b[0;32m--> 334\u001b[0;31m     \u001b[0;32mreturn\u001b[0m \u001b[0msuper\u001b[0m\u001b[0;34m(\u001b[0m\u001b[0;34m)\u001b[0m\u001b[0;34m.\u001b[0m\u001b[0mrun_cell_magic\u001b[0m\u001b[0;34m(\u001b[0m\u001b[0mmagic_name\u001b[0m\u001b[0;34m,\u001b[0m \u001b[0mline\u001b[0m\u001b[0;34m,\u001b[0m \u001b[0mcell\u001b[0m\u001b[0;34m)\u001b[0m\u001b[0;34m\u001b[0m\u001b[0;34m\u001b[0m\u001b[0m\n\u001b[0m\u001b[1;32m    335\u001b[0m \u001b[0;34m\u001b[0m\u001b[0m\n\u001b[1;32m    336\u001b[0m \u001b[0;34m\u001b[0m\u001b[0m\n",
            "\u001b[0;32m/usr/local/lib/python3.10/dist-packages/IPython/core/interactiveshell.py\u001b[0m in \u001b[0;36mrun_cell_magic\u001b[0;34m(self, magic_name, line, cell)\u001b[0m\n\u001b[1;32m   2471\u001b[0m             \u001b[0;32mwith\u001b[0m \u001b[0mself\u001b[0m\u001b[0;34m.\u001b[0m\u001b[0mbuiltin_trap\u001b[0m\u001b[0;34m:\u001b[0m\u001b[0;34m\u001b[0m\u001b[0;34m\u001b[0m\u001b[0m\n\u001b[1;32m   2472\u001b[0m                 \u001b[0margs\u001b[0m \u001b[0;34m=\u001b[0m \u001b[0;34m(\u001b[0m\u001b[0mmagic_arg_s\u001b[0m\u001b[0;34m,\u001b[0m \u001b[0mcell\u001b[0m\u001b[0;34m)\u001b[0m\u001b[0;34m\u001b[0m\u001b[0;34m\u001b[0m\u001b[0m\n\u001b[0;32m-> 2473\u001b[0;31m                 \u001b[0mresult\u001b[0m \u001b[0;34m=\u001b[0m \u001b[0mfn\u001b[0m\u001b[0;34m(\u001b[0m\u001b[0;34m*\u001b[0m\u001b[0margs\u001b[0m\u001b[0;34m,\u001b[0m \u001b[0;34m**\u001b[0m\u001b[0mkwargs\u001b[0m\u001b[0;34m)\u001b[0m\u001b[0;34m\u001b[0m\u001b[0;34m\u001b[0m\u001b[0m\n\u001b[0m\u001b[1;32m   2474\u001b[0m             \u001b[0;32mreturn\u001b[0m \u001b[0mresult\u001b[0m\u001b[0;34m\u001b[0m\u001b[0;34m\u001b[0m\u001b[0m\n\u001b[1;32m   2475\u001b[0m \u001b[0;34m\u001b[0m\u001b[0m\n",
            "\u001b[0;32m<decorator-gen-122>\u001b[0m in \u001b[0;36mR\u001b[0;34m(self, line, cell, local_ns)\u001b[0m\n",
            "\u001b[0;32m/usr/local/lib/python3.10/dist-packages/IPython/core/magic.py\u001b[0m in \u001b[0;36m<lambda>\u001b[0;34m(f, *a, **k)\u001b[0m\n\u001b[1;32m    185\u001b[0m     \u001b[0;31m# but it's overkill for just that one bit of state.\u001b[0m\u001b[0;34m\u001b[0m\u001b[0;34m\u001b[0m\u001b[0m\n\u001b[1;32m    186\u001b[0m     \u001b[0;32mdef\u001b[0m \u001b[0mmagic_deco\u001b[0m\u001b[0;34m(\u001b[0m\u001b[0marg\u001b[0m\u001b[0;34m)\u001b[0m\u001b[0;34m:\u001b[0m\u001b[0;34m\u001b[0m\u001b[0;34m\u001b[0m\u001b[0m\n\u001b[0;32m--> 187\u001b[0;31m         \u001b[0mcall\u001b[0m \u001b[0;34m=\u001b[0m \u001b[0;32mlambda\u001b[0m \u001b[0mf\u001b[0m\u001b[0;34m,\u001b[0m \u001b[0;34m*\u001b[0m\u001b[0ma\u001b[0m\u001b[0;34m,\u001b[0m \u001b[0;34m**\u001b[0m\u001b[0mk\u001b[0m\u001b[0;34m:\u001b[0m \u001b[0mf\u001b[0m\u001b[0;34m(\u001b[0m\u001b[0;34m*\u001b[0m\u001b[0ma\u001b[0m\u001b[0;34m,\u001b[0m \u001b[0;34m**\u001b[0m\u001b[0mk\u001b[0m\u001b[0;34m)\u001b[0m\u001b[0;34m\u001b[0m\u001b[0;34m\u001b[0m\u001b[0m\n\u001b[0m\u001b[1;32m    188\u001b[0m \u001b[0;34m\u001b[0m\u001b[0m\n\u001b[1;32m    189\u001b[0m         \u001b[0;32mif\u001b[0m \u001b[0mcallable\u001b[0m\u001b[0;34m(\u001b[0m\u001b[0marg\u001b[0m\u001b[0;34m)\u001b[0m\u001b[0;34m:\u001b[0m\u001b[0;34m\u001b[0m\u001b[0;34m\u001b[0m\u001b[0m\n",
            "\u001b[0;32m/usr/local/lib/python3.10/site-packages/rpy2/ipython/rmagic.py\u001b[0m in \u001b[0;36mR\u001b[0;34m(self, line, cell, local_ns)\u001b[0m\n\u001b[1;32m    927\u001b[0m             \u001b[0mcell_display\u001b[0m \u001b[0;34m=\u001b[0m \u001b[0mCELL_DISPLAY_DEFAULT\u001b[0m\u001b[0;34m\u001b[0m\u001b[0;34m\u001b[0m\u001b[0m\n\u001b[1;32m    928\u001b[0m \u001b[0;34m\u001b[0m\u001b[0m\n\u001b[0;32m--> 929\u001b[0;31m         \u001b[0mtmpd\u001b[0m \u001b[0;34m=\u001b[0m \u001b[0mself\u001b[0m\u001b[0;34m.\u001b[0m\u001b[0msetup_graphics\u001b[0m\u001b[0;34m(\u001b[0m\u001b[0margs\u001b[0m\u001b[0;34m)\u001b[0m\u001b[0;34m\u001b[0m\u001b[0;34m\u001b[0m\u001b[0m\n\u001b[0m\u001b[1;32m    930\u001b[0m \u001b[0;34m\u001b[0m\u001b[0m\n\u001b[1;32m    931\u001b[0m         \u001b[0mtext_output\u001b[0m \u001b[0;34m=\u001b[0m \u001b[0;34m''\u001b[0m\u001b[0;34m\u001b[0m\u001b[0;34m\u001b[0m\u001b[0m\n",
            "\u001b[0;32m/usr/local/lib/python3.10/site-packages/rpy2/ipython/rmagic.py\u001b[0m in \u001b[0;36msetup_graphics\u001b[0;34m(self, args)\u001b[0m\n\u001b[1;32m    629\u001b[0m                 \u001b[0;31m# Note: that %% is to pass into R for interpolation there.\u001b[0m\u001b[0;34m\u001b[0m\u001b[0;34m\u001b[0m\u001b[0m\n\u001b[1;32m    630\u001b[0m                 \u001b[0mrfunc\u001b[0m \u001b[0;34m=\u001b[0m \u001b[0mgetattr\u001b[0m\u001b[0;34m(\u001b[0m\u001b[0mgrdevices\u001b[0m\u001b[0;34m,\u001b[0m \u001b[0mself\u001b[0m\u001b[0;34m.\u001b[0m\u001b[0mdevice\u001b[0m\u001b[0;34m)\u001b[0m\u001b[0;34m\u001b[0m\u001b[0;34m\u001b[0m\u001b[0m\n\u001b[0;32m--> 631\u001b[0;31m                 rfunc(f'{tmpd_fix_slashes}/Rplots%%03d.{self.device}',\n\u001b[0m\u001b[1;32m    632\u001b[0m                       **argdict)\n\u001b[1;32m    633\u001b[0m             \u001b[0;32melif\u001b[0m \u001b[0mself\u001b[0m\u001b[0;34m.\u001b[0m\u001b[0mdevice\u001b[0m \u001b[0;34m==\u001b[0m \u001b[0;34m'svg'\u001b[0m\u001b[0;34m:\u001b[0m\u001b[0;34m\u001b[0m\u001b[0;34m\u001b[0m\u001b[0m\n",
            "\u001b[0;32m/usr/local/lib/python3.10/site-packages/rpy2/robjects/functions.py\u001b[0m in \u001b[0;36m__call__\u001b[0;34m(self, *args, **kwargs)\u001b[0m\n\u001b[1;32m    206\u001b[0m                 \u001b[0mv\u001b[0m \u001b[0;34m=\u001b[0m \u001b[0mkwargs\u001b[0m\u001b[0;34m.\u001b[0m\u001b[0mpop\u001b[0m\u001b[0;34m(\u001b[0m\u001b[0mk\u001b[0m\u001b[0;34m)\u001b[0m\u001b[0;34m\u001b[0m\u001b[0;34m\u001b[0m\u001b[0m\n\u001b[1;32m    207\u001b[0m                 \u001b[0mkwargs\u001b[0m\u001b[0;34m[\u001b[0m\u001b[0mr_k\u001b[0m\u001b[0;34m]\u001b[0m \u001b[0;34m=\u001b[0m \u001b[0mv\u001b[0m\u001b[0;34m\u001b[0m\u001b[0;34m\u001b[0m\u001b[0m\n\u001b[0;32m--> 208\u001b[0;31m         return (super(SignatureTranslatedFunction, self)\n\u001b[0m\u001b[1;32m    209\u001b[0m                 .__call__(*args, **kwargs))\n\u001b[1;32m    210\u001b[0m \u001b[0;34m\u001b[0m\u001b[0m\n",
            "\u001b[0;32m/usr/local/lib/python3.10/site-packages/rpy2/robjects/functions.py\u001b[0m in \u001b[0;36m__call__\u001b[0;34m(self, *args, **kwargs)\u001b[0m\n\u001b[1;32m    121\u001b[0m     \u001b[0;32mdef\u001b[0m \u001b[0m__call__\u001b[0m\u001b[0;34m(\u001b[0m\u001b[0mself\u001b[0m\u001b[0;34m,\u001b[0m \u001b[0;34m*\u001b[0m\u001b[0margs\u001b[0m\u001b[0;34m,\u001b[0m \u001b[0;34m**\u001b[0m\u001b[0mkwargs\u001b[0m\u001b[0;34m)\u001b[0m\u001b[0;34m:\u001b[0m\u001b[0;34m\u001b[0m\u001b[0;34m\u001b[0m\u001b[0m\n\u001b[1;32m    122\u001b[0m         \u001b[0mcv\u001b[0m \u001b[0;34m=\u001b[0m \u001b[0mconversion\u001b[0m\u001b[0;34m.\u001b[0m\u001b[0mget_conversion\u001b[0m\u001b[0;34m(\u001b[0m\u001b[0;34m)\u001b[0m\u001b[0;34m\u001b[0m\u001b[0;34m\u001b[0m\u001b[0m\n\u001b[0;32m--> 123\u001b[0;31m         \u001b[0mnew_args\u001b[0m \u001b[0;34m=\u001b[0m \u001b[0;34m[\u001b[0m\u001b[0mcv\u001b[0m\u001b[0;34m.\u001b[0m\u001b[0mpy2rpy\u001b[0m\u001b[0;34m(\u001b[0m\u001b[0ma\u001b[0m\u001b[0;34m)\u001b[0m \u001b[0;32mfor\u001b[0m \u001b[0ma\u001b[0m \u001b[0;32min\u001b[0m \u001b[0margs\u001b[0m\u001b[0;34m]\u001b[0m\u001b[0;34m\u001b[0m\u001b[0;34m\u001b[0m\u001b[0m\n\u001b[0m\u001b[1;32m    124\u001b[0m         \u001b[0mnew_kwargs\u001b[0m \u001b[0;34m=\u001b[0m \u001b[0;34m{\u001b[0m\u001b[0;34m}\u001b[0m\u001b[0;34m\u001b[0m\u001b[0;34m\u001b[0m\u001b[0m\n\u001b[1;32m    125\u001b[0m         \u001b[0;32mfor\u001b[0m \u001b[0mk\u001b[0m\u001b[0;34m,\u001b[0m \u001b[0mv\u001b[0m \u001b[0;32min\u001b[0m \u001b[0mkwargs\u001b[0m\u001b[0;34m.\u001b[0m\u001b[0mitems\u001b[0m\u001b[0;34m(\u001b[0m\u001b[0;34m)\u001b[0m\u001b[0;34m:\u001b[0m\u001b[0;34m\u001b[0m\u001b[0;34m\u001b[0m\u001b[0m\n",
            "\u001b[0;32m/usr/local/lib/python3.10/site-packages/rpy2/robjects/functions.py\u001b[0m in \u001b[0;36m<listcomp>\u001b[0;34m(.0)\u001b[0m\n\u001b[1;32m    121\u001b[0m     \u001b[0;32mdef\u001b[0m \u001b[0m__call__\u001b[0m\u001b[0;34m(\u001b[0m\u001b[0mself\u001b[0m\u001b[0;34m,\u001b[0m \u001b[0;34m*\u001b[0m\u001b[0margs\u001b[0m\u001b[0;34m,\u001b[0m \u001b[0;34m**\u001b[0m\u001b[0mkwargs\u001b[0m\u001b[0;34m)\u001b[0m\u001b[0;34m:\u001b[0m\u001b[0;34m\u001b[0m\u001b[0;34m\u001b[0m\u001b[0m\n\u001b[1;32m    122\u001b[0m         \u001b[0mcv\u001b[0m \u001b[0;34m=\u001b[0m \u001b[0mconversion\u001b[0m\u001b[0;34m.\u001b[0m\u001b[0mget_conversion\u001b[0m\u001b[0;34m(\u001b[0m\u001b[0;34m)\u001b[0m\u001b[0;34m\u001b[0m\u001b[0;34m\u001b[0m\u001b[0m\n\u001b[0;32m--> 123\u001b[0;31m         \u001b[0mnew_args\u001b[0m \u001b[0;34m=\u001b[0m \u001b[0;34m[\u001b[0m\u001b[0mcv\u001b[0m\u001b[0;34m.\u001b[0m\u001b[0mpy2rpy\u001b[0m\u001b[0;34m(\u001b[0m\u001b[0ma\u001b[0m\u001b[0;34m)\u001b[0m \u001b[0;32mfor\u001b[0m \u001b[0ma\u001b[0m \u001b[0;32min\u001b[0m \u001b[0margs\u001b[0m\u001b[0;34m]\u001b[0m\u001b[0;34m\u001b[0m\u001b[0;34m\u001b[0m\u001b[0m\n\u001b[0m\u001b[1;32m    124\u001b[0m         \u001b[0mnew_kwargs\u001b[0m \u001b[0;34m=\u001b[0m \u001b[0;34m{\u001b[0m\u001b[0;34m}\u001b[0m\u001b[0;34m\u001b[0m\u001b[0;34m\u001b[0m\u001b[0m\n\u001b[1;32m    125\u001b[0m         \u001b[0;32mfor\u001b[0m \u001b[0mk\u001b[0m\u001b[0;34m,\u001b[0m \u001b[0mv\u001b[0m \u001b[0;32min\u001b[0m \u001b[0mkwargs\u001b[0m\u001b[0;34m.\u001b[0m\u001b[0mitems\u001b[0m\u001b[0;34m(\u001b[0m\u001b[0;34m)\u001b[0m\u001b[0;34m:\u001b[0m\u001b[0;34m\u001b[0m\u001b[0;34m\u001b[0m\u001b[0m\n",
            "\u001b[0;32m/usr/lib/python3.10/functools.py\u001b[0m in \u001b[0;36mwrapper\u001b[0;34m(*args, **kw)\u001b[0m\n\u001b[1;32m    887\u001b[0m                             '1 positional argument')\n\u001b[1;32m    888\u001b[0m \u001b[0;34m\u001b[0m\u001b[0m\n\u001b[0;32m--> 889\u001b[0;31m         \u001b[0;32mreturn\u001b[0m \u001b[0mdispatch\u001b[0m\u001b[0;34m(\u001b[0m\u001b[0margs\u001b[0m\u001b[0;34m[\u001b[0m\u001b[0;36m0\u001b[0m\u001b[0;34m]\u001b[0m\u001b[0;34m.\u001b[0m\u001b[0m__class__\u001b[0m\u001b[0;34m)\u001b[0m\u001b[0;34m(\u001b[0m\u001b[0;34m*\u001b[0m\u001b[0margs\u001b[0m\u001b[0;34m,\u001b[0m \u001b[0;34m**\u001b[0m\u001b[0mkw\u001b[0m\u001b[0;34m)\u001b[0m\u001b[0;34m\u001b[0m\u001b[0;34m\u001b[0m\u001b[0m\n\u001b[0m\u001b[1;32m    890\u001b[0m \u001b[0;34m\u001b[0m\u001b[0m\n\u001b[1;32m    891\u001b[0m     \u001b[0mfuncname\u001b[0m \u001b[0;34m=\u001b[0m \u001b[0mgetattr\u001b[0m\u001b[0;34m(\u001b[0m\u001b[0mfunc\u001b[0m\u001b[0;34m,\u001b[0m \u001b[0;34m'__name__'\u001b[0m\u001b[0;34m,\u001b[0m \u001b[0;34m'singledispatch function'\u001b[0m\u001b[0;34m)\u001b[0m\u001b[0;34m\u001b[0m\u001b[0;34m\u001b[0m\u001b[0m\n",
            "\u001b[0;32m/usr/local/lib/python3.10/site-packages/rpy2/robjects/conversion.py\u001b[0m in \u001b[0;36m_raise_missingconverter\u001b[0;34m(obj)\u001b[0m\n\u001b[1;32m    381\u001b[0m     \u001b[0mby\u001b[0m \u001b[0mmultithreading\u001b[0m \u001b[0mcode\u001b[0m \u001b[0;32mnot\u001b[0m \u001b[0mpassing\u001b[0m \u001b[0mcontext\u001b[0m \u001b[0mto\u001b[0m \u001b[0mthe\u001b[0m \u001b[0mthread\u001b[0m\u001b[0;34m.\u001b[0m\u001b[0;34m\u001b[0m\u001b[0;34m\u001b[0m\u001b[0m\n\u001b[1;32m    382\u001b[0m     \"\"\"\n\u001b[0;32m--> 383\u001b[0;31m     \u001b[0;32mraise\u001b[0m \u001b[0mNotImplementedError\u001b[0m\u001b[0;34m(\u001b[0m\u001b[0m_missingconverter_msg\u001b[0m\u001b[0;34m)\u001b[0m\u001b[0;34m\u001b[0m\u001b[0;34m\u001b[0m\u001b[0m\n\u001b[0m\u001b[1;32m    384\u001b[0m \u001b[0;34m\u001b[0m\u001b[0m\n\u001b[1;32m    385\u001b[0m \u001b[0;34m\u001b[0m\u001b[0m\n",
            "\u001b[0;31mNotImplementedError\u001b[0m: \n    Conversion rules for `rpy2.robjects` appear to be missing. Those\n    rules are in a Python contextvars.ContextVar. This could be caused\n    by multithreading code not passing context to the thread.\n    "
          ]
        }
      ],
      "source": [
        "%%R\n",
        "if (!require(\"pacman\")) install.packages(\"pacman\")\n",
        "library(\"pacman\")\n",
        "if (!requireNamespace(\"BiocManager\", quietly = TRUE))\n",
        "    install.packages(\"BiocManager\")\n",
        "\n",
        "# Function to check and install missing packages\n",
        "check_and_install_packages <- function(packages) {\n",
        "    for (package in packages) {\n",
        "        if (!require(package, character.only = TRUE)) {\n",
        "            if (package %in% rownames(available.packages(repos = BiocManager::repositories())))\n",
        "                BiocManager::install(package, character.only = TRUE)\n",
        "        else\n",
        "            install.packages(package, character.only = TRUE)\n",
        "        require(package, character.only = TRUE)\n",
        "        }\n",
        "    }\n",
        "}"
      ]
    },
    {
      "cell_type": "markdown",
      "source": [
        "We will use the following R packages for today session.\n",
        "\n",
        "* [qqman](https://cran.r-project.org/web/packages/qqman/vignettes/qqman.html)\n",
        "* [SKAT](https://cran.r-project.org/web/packages/SKAT/index.html)\n",
        "* [GWASTools](https://bioconductor.org/packages/release/bioc/manuals/GWASTools/man/GWASTools.pdf)\n",
        "* [gdsfmt](https://bioconductor.org/packages/release/bioc/manuals/gdsfmt/man/gdsfmt.pdf)\n",
        "* [SNPRelate](https://www.bioconductor.org/packages/release/bioc/manuals/SNPRelate/man/SNPRelate.pdf)\n",
        "* [GENESIS](https://bioconductor.org/packages/release/bioc/manuals/GENESIS/man/GENESIS.pdf)"
      ],
      "metadata": {
        "id": "E3_1ARqvF706"
      }
    },
    {
      "cell_type": "code",
      "source": [
        "%%R\n",
        "check_and_install_packages(c(\"qqman\", \"SKAT\", \"GWASTools\",\n",
        "                             \"SNPRelate\", \"GENESIS\", \"plotly\",\n",
        "                             \"htmlwidgets\"))"
      ],
      "metadata": {
        "id": "g5b_SFymr4eQ"
      },
      "execution_count": null,
      "outputs": []
    },
    {
      "cell_type": "markdown",
      "source": [
        "# Load data"
      ],
      "metadata": {
        "id": "ytv3R8Ofr8yS"
      }
    },
    {
      "cell_type": "markdown",
      "source": [
        "Read directly from URL"
      ],
      "metadata": {
        "id": "8m-nQCJrWnrn"
      }
    },
    {
      "cell_type": "code",
      "source": [
        "%%R\n",
        "# Function to read and display data\n",
        "read_and_display <- function(file_path, col_names=NULL, sep=\" \", header=FALSE) {\n",
        "  data <- read.table(file=file_path, sep=sep, header=header, na.strings=\"NA\")\n",
        "  if (!is.null(col_names)) {\n",
        "    names(data) <- col_names\n",
        "  }\n",
        "\n",
        "  cat(\"\\n--- Head of the Data ---\\n\")\n",
        "  print(head(data))\n",
        "  cat(\"\\n--- Dimensions of the Data ---\\n\")\n",
        "  print(dim(data))\n",
        "\n",
        "  return(data)\n",
        "}"
      ],
      "metadata": {
        "id": "9rs3NlpQ6mpP"
      },
      "execution_count": null,
      "outputs": []
    },
    {
      "cell_type": "code",
      "source": [
        "%%R\n",
        "# Read and display Transferrin individuals' info\n",
        "fam_info <- read_and_display(\"https://faculty.washington.edu/tathornt/sisg/Transferrin.fam\")"
      ],
      "metadata": {
        "id": "IVpj2s5A9GlK"
      },
      "execution_count": null,
      "outputs": []
    },
    {
      "cell_type": "code",
      "source": [
        "%%R\n",
        "# Read and display SNPs info\n",
        "snp_info <- read_and_display(\"https://faculty.washington.edu/tathornt/sisg/Transferrin.bim\", sep=\"\\t\")"
      ],
      "metadata": {
        "id": "4kWmhh5a9HRJ"
      },
      "execution_count": null,
      "outputs": []
    },
    {
      "cell_type": "code",
      "source": [
        "%%R\n",
        "# Read and display Transferrin phenotype info\n",
        "tpheno_info <- read_and_display(\"https://faculty.washington.edu/tathornt/sisg/Tr.pheno\", col_names=c(\"FAMID\", \"ID\", \"Transferrin\"))\n",
        "cat(\"\\n--- Summary of Transferrin ---\\n\")\n",
        "print(summary(tpheno_info[[\"Transferrin\"]]))\n",
        "cat(\"\\n--- NA counts in Transferrin ---\\n\")\n",
        "print(table(is.na(tpheno_info[[\"Transferrin\"]])))\n",
        "hist(tpheno_info[[\"Transferrin\"]], xlab=\"Transferrin\", main=\"Histogram of Transferrin\")"
      ],
      "metadata": {
        "id": "gMwtRHo09IoS"
      },
      "execution_count": null,
      "outputs": []
    },
    {
      "cell_type": "code",
      "source": [
        "%%R\n",
        "# Read and display Height phenotype info\n",
        "hpheno_info <- read_and_display(\"https://faculty.washington.edu/tathornt/sisg/Ht.pheno\", col_names=c(\"FAMID\", \"ID\", \"Height\"))\n",
        "cat(\"\\n--- Summary of Height ---\\n\")\n",
        "print(summary(hpheno_info[[\"Height\"]]))\n",
        "cat(\"\\n--- NA counts in Height ---\\n\")\n",
        "print(table(is.na(hpheno_info[[\"Height\"]])))\n",
        "hist(hpheno_info[[\"Height\"]], xlab=\"Height\", main=\"Histogram of Height\")"
      ],
      "metadata": {
        "id": "PU7Dtars9KQR"
      },
      "execution_count": null,
      "outputs": []
    },
    {
      "cell_type": "code",
      "source": [
        "%%bash\n",
        "\n",
        "## Download required data files\n",
        "# Check and download Transferrin.bim if not present\n",
        "[ ! -f Transferrin.bim ] && wget https://faculty.washington.edu/tathornt/sisg/Transferrin.bim -O Transferrin.bim\n",
        "\n",
        "# Check and download Transferrin.fam if not present\n",
        "[ ! -f Transferrin.fam ] && wget https://faculty.washington.edu/tathornt/sisg/Transferrin.fam -O Transferrin.fam\n",
        "\n",
        "# Check and download Transferrin.bed if not present\n",
        "[ ! -f Transferrin.bed ] && wget https://dl.dropboxusercontent.com/s/1ub8yc7jwpggm4s/Transferrin.bed\n",
        "\n",
        "# Check and download Tr.pheno if not present\n",
        "[ ! -f Tr.pheno ] && wget https://faculty.washington.edu/tathornt/sisg/Tr.pheno -O Tr.pheno\n",
        "\n",
        "# Check and download Ht.pheno if not present\n",
        "[ ! -f Ht.pheno ] && wget https://faculty.washington.edu/tathornt/sisg/Ht.pheno -O Ht.pheno\n",
        "\n",
        "## Association analysis with Transferrin phenotype\n",
        "plink --bfile Transferrin --pheno Tr.pheno --maf 0.05 --geno 0.01 --hwe 0.001 --assoc --out GWAS_T_add\n",
        "\n",
        "## Association analysis with Height phenotype ###\n",
        "plink --bfile Transferrin --pheno Ht.pheno --maf 0.05 --geno 0.01 --hwe 0.001 --assoc --out GWAS_H_add"
      ],
      "metadata": {
        "id": "yAr3dSrf-LKB"
      },
      "execution_count": null,
      "outputs": []
    },
    {
      "cell_type": "markdown",
      "source": [
        "The warnings received are indicative of common challenges when conducting quantitative trait (QT) association tests with PLINK.\n",
        "\n",
        "* **Quantitative Trait** with `--assoc`:\n",
        "The default `--assoc` in PLINK is for case/control phenotypes. When the phenotype is quantitative (like height, weight, etc.), we should use `--linear` for linear regression-based association.\n",
        "\n",
        "* **X Chromosome** and `--hwe`:\n",
        "The Hardy-Weinberg equilibrium (HWE) testing in PLINK can produce slightly misleading results for the X chromosome due to its nature (males have only one copy, females have two). As the warning suggests, we might consider using a less stringent HWE threshold for the X chromosome or exclude X chromosome variants from HWE testing using `--not-chr X`."
      ],
      "metadata": {
        "id": "I9HDTaaxATpH"
      }
    },
    {
      "cell_type": "code",
      "source": [
        "%%bash\n",
        "\n",
        "## Association analysis using adjusted params with Transferrin phenotype\n",
        "plink --bfile Transferrin --pheno Tr.pheno --maf 0.05 --geno 0.01 --hwe 0.001 --linear --out GWAS_T_add --not-chr X\n",
        "\n",
        "## Association analysis using adjusted params with Height phenotype ###\n",
        "plink --bfile Transferrin --pheno Ht.pheno --maf 0.05 --geno 0.01 --hwe 0.001 --linear --out GWAS_H_add --not-chr X"
      ],
      "metadata": {
        "id": "CLSTEypLKQ2t"
      },
      "execution_count": null,
      "outputs": []
    },
    {
      "cell_type": "code",
      "source": [
        "%%R\n",
        "# Load the GWASTools package so that we can use the plotting functions for this package\n",
        "library(GWASTools)\n",
        "\n",
        "# Read in the Association Results from PLINK for Height\n",
        "Height.Assoc = read.table(\"GWAS_H_add.qassoc\", header=TRUE)\n",
        "head(Height.Assoc)\n",
        "\n",
        "# Obtain a Manhattan plot for Height\n",
        "manhattanPlot(p=Height.Assoc[[\"P\"]],\n",
        "              chromosome=Height.Assoc[[\"CHR\"]],\n",
        "              thinThreshold=1e-4,\n",
        "              main=\"Association Results for Height\")\n",
        "\n",
        "# Obtain a Q-Q plot for Height\n",
        "qqPlot(pval=Height.Assoc[[\"P\"]], thinThreshold=1e-4, main=\"Association Results for Height\")\n",
        "\n",
        "# Obtain Manhattan plot for just the Height-related autosomes\n",
        "AHeight.Assoc <- subset(Height.Assoc, CHR <= 22)\n",
        "manhattanPlot(p=AHeight.Assoc[[\"P\"]],\n",
        "              chromosome=AHeight.Assoc[[\"CHR\"]],\n",
        "              thinThreshold=1e-4,\n",
        "              main=\"Association Results for Autosomes for Height\")\n",
        "\n",
        "# Obtain a Q-Q plot for Height-related autosomes\n",
        "qqPlot(pval=AHeight.Assoc[[\"P\"]],\n",
        "       thinThreshold=1e-4,\n",
        "       main=\"Association Results of Autosomes for Height\")"
      ],
      "metadata": {
        "id": "FYoBAxYnKdlF"
      },
      "execution_count": null,
      "outputs": []
    },
    {
      "cell_type": "code",
      "source": [
        "%%R\n",
        "# Alternatively, we can use the qqman package to obtain a Manhattan plot\n",
        "library(\"qqman\")\n",
        "\n",
        "manhattan(Height.Assoc)\n",
        "qq(Height.Assoc[[\"P\"]])\n",
        "\n",
        "# Identify top 10 SNPs for Height\n",
        "head(Height.Assoc)\n",
        "dim(Height.Assoc) # number of SNPs analyzed\n",
        "\n",
        "TOP <- Height.Assoc[order(Height.Assoc[[\"P\"]]),]\n",
        "head(TOP, 10, )"
      ],
      "metadata": {
        "id": "XpoFROwlM7o_"
      },
      "execution_count": null,
      "outputs": []
    },
    {
      "cell_type": "code",
      "source": [
        "%%R\n",
        "\n",
        "install.packages(\"plotly\")"
      ],
      "metadata": {
        "id": "P2hWlvBEO_Si"
      },
      "execution_count": null,
      "outputs": []
    },
    {
      "cell_type": "code",
      "source": [
        "%%R\n",
        "\n",
        "## Interactive Manhattan plot\n",
        "# Load plotly\n",
        "library(plotly)\n",
        "library(htmlwidgets)\n",
        "\n",
        "# Sample data (replace this with your data)\n",
        "Height.Assoc <- read.table(\"GWAS_H_add.qassoc\", header=TRUE)\n",
        "\n",
        "# Create a color factor based on chromosomes\n",
        "Height.Assoc$color <- as.factor(Height.Assoc$CHR)\n",
        "\n",
        "# Create interactive plot\n",
        "p <- plot_ly(Height.Assoc, x = ~BP, y = ~-log10(P), text = ~SNP,\n",
        "             color = ~color, colors = \"Set1\",\n",
        "             type = 'scatter', mode = 'markers',\n",
        "             marker = list(size = 5, opacity = 0.5)) %>%\n",
        "    layout(title = \"Manhattan Plot\",\n",
        "           xaxis = list(title = \"Position\"),\n",
        "           yaxis = list(title = \"-log10(p)\"),\n",
        "           hovermode = \"closest\")\n",
        "\n",
        "# Save the plot as an HTML file\n",
        "saveWidget(p, \"plotly.html\", selfcontained = F)"
      ],
      "metadata": {
        "id": "Cy1mcBhpNang"
      },
      "execution_count": null,
      "outputs": []
    },
    {
      "cell_type": "code",
      "source": [
        "from IPython.display import display, HTML\n",
        "\n",
        "with open('plotly.html', 'r') as f:\n",
        "    display(HTML(f.read()))"
      ],
      "metadata": {
        "id": "RdH1ERGmqRHX"
      },
      "execution_count": null,
      "outputs": []
    },
    {
      "cell_type": "code",
      "source": [
        "## Interactive Manhattan plot\n",
        "import pandas as pd\n",
        "import plotly.express as px\n",
        "import numpy as np\n",
        "\n",
        "# Sample data (replace this with your data)\n",
        "data = pd.read_csv(\"GWAS_H_add.qassoc\", sep=\"\\s+\", header=0)\n",
        "\n",
        "# Create a new column for color\n",
        "data['color'] = data['CHR'].astype(str)\n",
        "\n",
        "# Separate the points in 'bins' on the x-axis by adjusting their positions\n",
        "spacing = 5e6  # Space between chromosomes\n",
        "previous_max = 0\n",
        "\n",
        "chromosome_midpoints = []\n",
        "\n",
        "for chr_num in sorted(df['CHR'].unique()):\n",
        "    max_chr_position = df[df['CHR'] == chr_num]['BP'].max()\n",
        "    midpoint = previous_max + (max_chr_position / 2)\n",
        "    chromosome_midpoints.append(midpoint)\n",
        "\n",
        "    df.loc[df['CHR'] == chr_num, 'adjusted_BP'] = df['BP'] + previous_max\n",
        "    previous_max += max_chr_position + spacing\n",
        "\n",
        "# Define the color scale\n",
        "color_scale = px.colors.qualitative.Set1\n",
        "\n",
        "# Create the Manhattan plot\n",
        "fig = px.scatter(data, x='BP', y=-np.log10(data['P']), color='color',\n",
        "                 color_discrete_sequence=color_scale,\n",
        "                 hover_data=[\"SNP\"], title=\"Manhattan Plot\")\n",
        "\n",
        "# Set threshold at a p-value of 5e−8\n",
        "fig.add_shape(\n",
        "    type=\"line\", line=dict(dash='dash'),\n",
        "    x0=0, x1=df['BP'].max(), y0=7.3, y1=7.3\n",
        ")\n",
        "\n",
        "# Update y-axis label\n",
        "fig.update_layout(yaxis_title=\"-log10(p)\")\n",
        "\n",
        "# Show plot\n",
        "fig.show()"
      ],
      "metadata": {
        "id": "Lf1ZsveyO5dh"
      },
      "execution_count": null,
      "outputs": []
    },
    {
      "cell_type": "code",
      "source": [],
      "metadata": {
        "id": "rx8I5Cs5P4N2"
      },
      "execution_count": null,
      "outputs": []
    }
  ]
}
