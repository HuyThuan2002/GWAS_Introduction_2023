{
  "nbformat": 4,
  "nbformat_minor": 0,
  "metadata": {
    "colab": {
      "provenance": [],
      "authorship_tag": "ABX9TyPihZr+0x8F6i50SZKFEZq3",
      "include_colab_link": true
    },
    "kernelspec": {
      "name": "ir",
      "display_name": "R"
    },
    "language_info": {
      "name": "R"
    }
  },
  "cells": [
    {
      "cell_type": "markdown",
      "metadata": {
        "id": "view-in-github",
        "colab_type": "text"
      },
      "source": [
        "<a href=\"https://colab.research.google.com/github/luuloi/GWAS_Introduction_2023/blob/main/barplot_mahattanplot.ipynb\" target=\"_parent\"><img src=\"https://colab.research.google.com/assets/colab-badge.svg\" alt=\"Open In Colab\"/></a>"
      ]
    },
    {
      "cell_type": "code",
      "execution_count": 5,
      "metadata": {
        "colab": {
          "base_uri": "https://localhost:8080/"
        },
        "id": "py_kFedC5EKb",
        "outputId": "cf321d6d-2905-4ec4-a80f-5f8461907a78"
      },
      "outputs": [
        {
          "output_type": "stream",
          "name": "stderr",
          "text": [
            "Installing package into ‘/usr/local/lib/R/site-library’\n",
            "(as ‘lib’ is unspecified)\n",
            "\n"
          ]
        }
      ],
      "source": [
        "install.packages(\"qqman\")\n"
      ]
    },
    {
      "cell_type": "code",
      "source": [
        "library(ggplot2)\n",
        "library(qqman)"
      ],
      "metadata": {
        "id": "zYKX3Y8s5y_4"
      },
      "execution_count": null,
      "outputs": []
    },
    {
      "cell_type": "code",
      "source": [
        "# 1. Import data\n",
        "data <- read.csv(\"https://raw.githubusercontent.com/luuloi/GWAS_Introduction_2023/main/data/StudentsPerformance.csv\")"
      ],
      "metadata": {
        "id": "k9d3nSpV56ZD"
      },
      "execution_count": 7,
      "outputs": []
    },
    {
      "cell_type": "code",
      "source": [
        "head(data)"
      ],
      "metadata": {
        "colab": {
          "base_uri": "https://localhost:8080/",
          "height": 286
        },
        "id": "1Ri4c7yZ6Gdu",
        "outputId": "d0c2ac87-bcc6-43e3-cebd-66bc77111495"
      },
      "execution_count": 8,
      "outputs": [
        {
          "output_type": "display_data",
          "data": {
            "text/html": [
              "<table class=\"dataframe\">\n",
              "<caption>A data.frame: 6 × 8</caption>\n",
              "<thead>\n",
              "\t<tr><th></th><th scope=col>gender</th><th scope=col>race.ethnicity</th><th scope=col>parental.level.of.education</th><th scope=col>lunch</th><th scope=col>test.preparation.course</th><th scope=col>math.score</th><th scope=col>reading.score</th><th scope=col>writing.score</th></tr>\n",
              "\t<tr><th></th><th scope=col>&lt;chr&gt;</th><th scope=col>&lt;chr&gt;</th><th scope=col>&lt;chr&gt;</th><th scope=col>&lt;chr&gt;</th><th scope=col>&lt;chr&gt;</th><th scope=col>&lt;int&gt;</th><th scope=col>&lt;int&gt;</th><th scope=col>&lt;int&gt;</th></tr>\n",
              "</thead>\n",
              "<tbody>\n",
              "\t<tr><th scope=row>1</th><td>female</td><td>group B</td><td>bachelor's degree </td><td>standard    </td><td>none     </td><td>72</td><td>72</td><td>74</td></tr>\n",
              "\t<tr><th scope=row>2</th><td>female</td><td>group C</td><td>some college      </td><td>standard    </td><td>completed</td><td>69</td><td>90</td><td>88</td></tr>\n",
              "\t<tr><th scope=row>3</th><td>female</td><td>group B</td><td>master's degree   </td><td>standard    </td><td>none     </td><td>90</td><td>95</td><td>93</td></tr>\n",
              "\t<tr><th scope=row>4</th><td>male  </td><td>group A</td><td>associate's degree</td><td>free/reduced</td><td>none     </td><td>47</td><td>57</td><td>44</td></tr>\n",
              "\t<tr><th scope=row>5</th><td>male  </td><td>group C</td><td>some college      </td><td>standard    </td><td>none     </td><td>76</td><td>78</td><td>75</td></tr>\n",
              "\t<tr><th scope=row>6</th><td>female</td><td>group B</td><td>associate's degree</td><td>standard    </td><td>none     </td><td>71</td><td>83</td><td>78</td></tr>\n",
              "</tbody>\n",
              "</table>\n"
            ],
            "text/markdown": "\nA data.frame: 6 × 8\n\n| <!--/--> | gender &lt;chr&gt; | race.ethnicity &lt;chr&gt; | parental.level.of.education &lt;chr&gt; | lunch &lt;chr&gt; | test.preparation.course &lt;chr&gt; | math.score &lt;int&gt; | reading.score &lt;int&gt; | writing.score &lt;int&gt; |\n|---|---|---|---|---|---|---|---|---|\n| 1 | female | group B | bachelor's degree  | standard     | none      | 72 | 72 | 74 |\n| 2 | female | group C | some college       | standard     | completed | 69 | 90 | 88 |\n| 3 | female | group B | master's degree    | standard     | none      | 90 | 95 | 93 |\n| 4 | male   | group A | associate's degree | free/reduced | none      | 47 | 57 | 44 |\n| 5 | male   | group C | some college       | standard     | none      | 76 | 78 | 75 |\n| 6 | female | group B | associate's degree | standard     | none      | 71 | 83 | 78 |\n\n",
            "text/latex": "A data.frame: 6 × 8\n\\begin{tabular}{r|llllllll}\n  & gender & race.ethnicity & parental.level.of.education & lunch & test.preparation.course & math.score & reading.score & writing.score\\\\\n  & <chr> & <chr> & <chr> & <chr> & <chr> & <int> & <int> & <int>\\\\\n\\hline\n\t1 & female & group B & bachelor's degree  & standard     & none      & 72 & 72 & 74\\\\\n\t2 & female & group C & some college       & standard     & completed & 69 & 90 & 88\\\\\n\t3 & female & group B & master's degree    & standard     & none      & 90 & 95 & 93\\\\\n\t4 & male   & group A & associate's degree & free/reduced & none      & 47 & 57 & 44\\\\\n\t5 & male   & group C & some college       & standard     & none      & 76 & 78 & 75\\\\\n\t6 & female & group B & associate's degree & standard     & none      & 71 & 83 & 78\\\\\n\\end{tabular}\n",
            "text/plain": [
              "  gender race.ethnicity parental.level.of.education lunch       \n",
              "1 female group B        bachelor's degree           standard    \n",
              "2 female group C        some college                standard    \n",
              "3 female group B        master's degree             standard    \n",
              "4 male   group A        associate's degree          free/reduced\n",
              "5 male   group C        some college                standard    \n",
              "6 female group B        associate's degree          standard    \n",
              "  test.preparation.course math.score reading.score writing.score\n",
              "1 none                    72         72            74           \n",
              "2 completed               69         90            88           \n",
              "3 none                    90         95            93           \n",
              "4 none                    47         57            44           \n",
              "5 none                    76         78            75           \n",
              "6 none                    71         83            78           "
            ]
          },
          "metadata": {}
        }
      ]
    },
    {
      "cell_type": "code",
      "source": [
        "## Examine the structure of the data\n",
        "str(data)"
      ],
      "metadata": {
        "colab": {
          "base_uri": "https://localhost:8080/"
        },
        "id": "KDSw0bBJ6PER",
        "outputId": "814d25a7-9afd-4ca5-f7b2-99c873cff971"
      },
      "execution_count": 9,
      "outputs": [
        {
          "output_type": "stream",
          "name": "stdout",
          "text": [
            "'data.frame':\t1000 obs. of  8 variables:\n",
            " $ gender                     : chr  \"female\" \"female\" \"female\" \"male\" ...\n",
            " $ race.ethnicity             : chr  \"group B\" \"group C\" \"group B\" \"group A\" ...\n",
            " $ parental.level.of.education: chr  \"bachelor's degree\" \"some college\" \"master's degree\" \"associate's degree\" ...\n",
            " $ lunch                      : chr  \"standard\" \"standard\" \"standard\" \"free/reduced\" ...\n",
            " $ test.preparation.course    : chr  \"none\" \"completed\" \"none\" \"none\" ...\n",
            " $ math.score                 : int  72 69 90 47 76 71 88 40 64 38 ...\n",
            " $ reading.score              : int  72 90 95 57 78 83 95 43 64 60 ...\n",
            " $ writing.score              : int  74 88 93 44 75 78 92 39 67 50 ...\n"
          ]
        }
      ]
    },
    {
      "cell_type": "code",
      "source": [
        "## Check the number of columns and rows\n",
        "dim(data)"
      ],
      "metadata": {
        "colab": {
          "base_uri": "https://localhost:8080/",
          "height": 34
        },
        "id": "pqJJQomP7mr1",
        "outputId": "43d01de1-ba74-4da7-d352-31d054a11e35"
      },
      "execution_count": 10,
      "outputs": [
        {
          "output_type": "display_data",
          "data": {
            "text/html": [
              "<style>\n",
              ".list-inline {list-style: none; margin:0; padding: 0}\n",
              ".list-inline>li {display: inline-block}\n",
              ".list-inline>li:not(:last-child)::after {content: \"\\00b7\"; padding: 0 .5ex}\n",
              "</style>\n",
              "<ol class=list-inline><li>1000</li><li>8</li></ol>\n"
            ],
            "text/markdown": "1. 1000\n2. 8\n\n\n",
            "text/latex": "\\begin{enumerate*}\n\\item 1000\n\\item 8\n\\end{enumerate*}\n",
            "text/plain": [
              "[1] 1000    8"
            ]
          },
          "metadata": {}
        }
      ]
    },
    {
      "cell_type": "code",
      "source": [
        "## Show the first 6 rows of the dataset\n",
        "head(data)"
      ],
      "metadata": {
        "colab": {
          "base_uri": "https://localhost:8080/",
          "height": 286
        },
        "id": "BftMKCld7rPS",
        "outputId": "fb5ec642-8bdc-4696-ce53-0f88d73d5438"
      },
      "execution_count": 11,
      "outputs": [
        {
          "output_type": "display_data",
          "data": {
            "text/html": [
              "<table class=\"dataframe\">\n",
              "<caption>A data.frame: 6 × 8</caption>\n",
              "<thead>\n",
              "\t<tr><th></th><th scope=col>gender</th><th scope=col>race.ethnicity</th><th scope=col>parental.level.of.education</th><th scope=col>lunch</th><th scope=col>test.preparation.course</th><th scope=col>math.score</th><th scope=col>reading.score</th><th scope=col>writing.score</th></tr>\n",
              "\t<tr><th></th><th scope=col>&lt;chr&gt;</th><th scope=col>&lt;chr&gt;</th><th scope=col>&lt;chr&gt;</th><th scope=col>&lt;chr&gt;</th><th scope=col>&lt;chr&gt;</th><th scope=col>&lt;int&gt;</th><th scope=col>&lt;int&gt;</th><th scope=col>&lt;int&gt;</th></tr>\n",
              "</thead>\n",
              "<tbody>\n",
              "\t<tr><th scope=row>1</th><td>female</td><td>group B</td><td>bachelor's degree </td><td>standard    </td><td>none     </td><td>72</td><td>72</td><td>74</td></tr>\n",
              "\t<tr><th scope=row>2</th><td>female</td><td>group C</td><td>some college      </td><td>standard    </td><td>completed</td><td>69</td><td>90</td><td>88</td></tr>\n",
              "\t<tr><th scope=row>3</th><td>female</td><td>group B</td><td>master's degree   </td><td>standard    </td><td>none     </td><td>90</td><td>95</td><td>93</td></tr>\n",
              "\t<tr><th scope=row>4</th><td>male  </td><td>group A</td><td>associate's degree</td><td>free/reduced</td><td>none     </td><td>47</td><td>57</td><td>44</td></tr>\n",
              "\t<tr><th scope=row>5</th><td>male  </td><td>group C</td><td>some college      </td><td>standard    </td><td>none     </td><td>76</td><td>78</td><td>75</td></tr>\n",
              "\t<tr><th scope=row>6</th><td>female</td><td>group B</td><td>associate's degree</td><td>standard    </td><td>none     </td><td>71</td><td>83</td><td>78</td></tr>\n",
              "</tbody>\n",
              "</table>\n"
            ],
            "text/markdown": "\nA data.frame: 6 × 8\n\n| <!--/--> | gender &lt;chr&gt; | race.ethnicity &lt;chr&gt; | parental.level.of.education &lt;chr&gt; | lunch &lt;chr&gt; | test.preparation.course &lt;chr&gt; | math.score &lt;int&gt; | reading.score &lt;int&gt; | writing.score &lt;int&gt; |\n|---|---|---|---|---|---|---|---|---|\n| 1 | female | group B | bachelor's degree  | standard     | none      | 72 | 72 | 74 |\n| 2 | female | group C | some college       | standard     | completed | 69 | 90 | 88 |\n| 3 | female | group B | master's degree    | standard     | none      | 90 | 95 | 93 |\n| 4 | male   | group A | associate's degree | free/reduced | none      | 47 | 57 | 44 |\n| 5 | male   | group C | some college       | standard     | none      | 76 | 78 | 75 |\n| 6 | female | group B | associate's degree | standard     | none      | 71 | 83 | 78 |\n\n",
            "text/latex": "A data.frame: 6 × 8\n\\begin{tabular}{r|llllllll}\n  & gender & race.ethnicity & parental.level.of.education & lunch & test.preparation.course & math.score & reading.score & writing.score\\\\\n  & <chr> & <chr> & <chr> & <chr> & <chr> & <int> & <int> & <int>\\\\\n\\hline\n\t1 & female & group B & bachelor's degree  & standard     & none      & 72 & 72 & 74\\\\\n\t2 & female & group C & some college       & standard     & completed & 69 & 90 & 88\\\\\n\t3 & female & group B & master's degree    & standard     & none      & 90 & 95 & 93\\\\\n\t4 & male   & group A & associate's degree & free/reduced & none      & 47 & 57 & 44\\\\\n\t5 & male   & group C & some college       & standard     & none      & 76 & 78 & 75\\\\\n\t6 & female & group B & associate's degree & standard     & none      & 71 & 83 & 78\\\\\n\\end{tabular}\n",
            "text/plain": [
              "  gender race.ethnicity parental.level.of.education lunch       \n",
              "1 female group B        bachelor's degree           standard    \n",
              "2 female group C        some college                standard    \n",
              "3 female group B        master's degree             standard    \n",
              "4 male   group A        associate's degree          free/reduced\n",
              "5 male   group C        some college                standard    \n",
              "6 female group B        associate's degree          standard    \n",
              "  test.preparation.course math.score reading.score writing.score\n",
              "1 none                    72         72            74           \n",
              "2 completed               69         90            88           \n",
              "3 none                    90         95            93           \n",
              "4 none                    47         57            44           \n",
              "5 none                    76         78            75           \n",
              "6 none                    71         83            78           "
            ]
          },
          "metadata": {}
        }
      ]
    },
    {
      "cell_type": "code",
      "source": [
        "## Check for NA values\n",
        "table(is.na(data))"
      ],
      "metadata": {
        "colab": {
          "base_uri": "https://localhost:8080/",
          "height": 69
        },
        "id": "XikZpEUd7vO6",
        "outputId": "bb5fcbe3-8919-44c6-cfea-7220963182d1"
      },
      "execution_count": 12,
      "outputs": [
        {
          "output_type": "display_data",
          "data": {
            "text/plain": [
              "\n",
              "FALSE \n",
              " 8000 "
            ]
          },
          "metadata": {}
        }
      ]
    },
    {
      "cell_type": "code",
      "source": [
        "## Remove rows with NA values, if any exist\n",
        "data <- data[rowSums(is.na(data)) == 0, ]\n",
        "\n",
        "## Remove columns with NA values, if any exist (This can be potentially dangerous, I commented it out. Uncomment only if necessary.)\n",
        "# data <- data[, colSums(is.na(data)) == 0]"
      ],
      "metadata": {
        "id": "ROX-JdfG7yHJ"
      },
      "execution_count": 13,
      "outputs": []
    }
  ]
}
